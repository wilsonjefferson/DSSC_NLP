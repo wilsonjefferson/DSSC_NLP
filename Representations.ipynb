{
  "nbformat": 4,
  "nbformat_minor": 0,
  "metadata": {
    "anaconda-cloud": {},
    "celltoolbar": "Slideshow",
    "kernelspec": {
      "display_name": "Python 3",
      "language": "python",
      "name": "python3"
    },
    "language_info": {
      "codemirror_mode": {
        "name": "ipython",
        "version": 3
      },
      "file_extension": ".py",
      "mimetype": "text/x-python",
      "name": "python",
      "nbconvert_exporter": "python",
      "pygments_lexer": "ipython3",
      "version": "3.6.8"
    },
    "livereveal": {
      "scroll": true,
      "start_slideshow_at": "selected",
      "transition": "none"
    },
    "colab": {
      "name": "Representations.ipynb",
      "provenance": [],
      "collapsed_sections": [],
      "toc_visible": true
    }
  },
  "cells": [
    {
      "cell_type": "markdown",
      "metadata": {
        "id": "S8qEgXsSq0p4"
      },
      "source": [
        "# Word Representations\n",
        "\n",
        "## *\"I know words. I have the best words!\"*\n",
        "    - Noam Chomsky"
      ]
    },
    {
      "cell_type": "markdown",
      "metadata": {
        "id": "pz0lqC4Fq0p5"
      },
      "source": [
        "## Discrete Sparse Representations"
      ]
    },
    {
      "cell_type": "code",
      "metadata": {
        "id": "ZE92W7EprB7j",
        "colab": {
          "base_uri": "https://localhost:8080/"
        },
        "outputId": "5f9ca6d7-272f-4be4-d47a-dd7d971f41d8"
      },
      "source": [
        "! pip install wget"
      ],
      "execution_count": 1,
      "outputs": [
        {
          "output_type": "stream",
          "text": [
            "Collecting wget\n",
            "  Downloading https://files.pythonhosted.org/packages/47/6a/62e288da7bcda82b935ff0c6cfe542970f04e29c756b0e147251b2fb251f/wget-3.2.zip\n",
            "Building wheels for collected packages: wget\n",
            "  Building wheel for wget (setup.py) ... \u001b[?25l\u001b[?25hdone\n",
            "  Created wheel for wget: filename=wget-3.2-cp37-none-any.whl size=9681 sha256=3c28a39813480d99e24cd7de97987951bcde0ff92aacef747128c26b10f25aeb\n",
            "  Stored in directory: /root/.cache/pip/wheels/40/15/30/7d8f7cea2902b4db79e3fea550d7d7b85ecb27ef992b618f3f\n",
            "Successfully built wget\n",
            "Installing collected packages: wget\n",
            "Successfully installed wget-3.2\n"
          ],
          "name": "stdout"
        }
      ]
    },
    {
      "cell_type": "code",
      "metadata": {
        "id": "JOJIlxitrFQ1",
        "colab": {
          "base_uri": "https://localhost:8080/",
          "height": 35
        },
        "outputId": "1f6854e4-e478-4c03-e68f-1b0402a89358"
      },
      "source": [
        "import wget\n",
        "url = 'https://raw.githubusercontent.com/dirkhovy/NLPclass/master/data/reviews.full.tsv.zip'\n",
        "wget.download(url, 'reviews.full.tsv.zip')"
      ],
      "execution_count": 2,
      "outputs": [
        {
          "output_type": "execute_result",
          "data": {
            "application/vnd.google.colaboratory.intrinsic+json": {
              "type": "string"
            },
            "text/plain": [
              "'reviews.full.tsv.zip'"
            ]
          },
          "metadata": {
            "tags": []
          },
          "execution_count": 2
        }
      ]
    },
    {
      "cell_type": "code",
      "metadata": {
        "id": "KVcu0cGprgZr"
      },
      "source": [
        "from zipfile import ZipFile\n",
        "with ZipFile('reviews.full.tsv.zip', 'r') as zf:\n",
        "    zf.extractall()"
      ],
      "execution_count": 3,
      "outputs": []
    },
    {
      "cell_type": "code",
      "metadata": {
        "id": "QBmRyBAIq0p5",
        "colab": {
          "base_uri": "https://localhost:8080/"
        },
        "outputId": "088217d2-f669-4978-fbd6-64ad53200f54"
      },
      "source": [
        "import pandas as pd\n",
        "df = pd.read_csv('reviews.full.tsv', sep='\\t', nrows=100000)\n",
        "documents = df.text.tolist()\n",
        "print(documents[:4])"
      ],
      "execution_count": 4,
      "outputs": [
        {
          "output_type": "stream",
          "text": [
            "[\"Prices change daily and if you want to really research the price continually at many different sites , I have found cheaper cars elsewhere . However , if you don ' t have a lot of time to research the price , this site has always been among the top three ( e . g ., cheapest ) of the ten sites I use to reserve a car .\", 'and the fact that they will match other companies is awesome !!', \"Used Paypal for my buying and selling for the past 0 years and never had an issue they didn ' t resolve to my satisfaction .\", \"I ' ve made two purchases on CJ ' s for Fallout : New Vegas and The Elder Scrolls V : Skyrim . I have been satisfied by both , being extremely cheaper than the Steam versions . The Autokey system that CJ ' s uses is genius . I recommend this site to anyone who is a PC gamer !\"]\n"
          ],
          "name": "stdout"
        }
      ]
    },
    {
      "cell_type": "code",
      "metadata": {
        "colab": {
          "base_uri": "https://localhost:8080/",
          "height": 348
        },
        "id": "L6AYZih9aCZ6",
        "outputId": "cf79904a-7718-4b01-a5c0-1ddbf476754f"
      },
      "source": [
        "df.head(10)"
      ],
      "execution_count": 16,
      "outputs": [
        {
          "output_type": "execute_result",
          "data": {
            "text/html": [
              "<div>\n",
              "<style scoped>\n",
              "    .dataframe tbody tr th:only-of-type {\n",
              "        vertical-align: middle;\n",
              "    }\n",
              "\n",
              "    .dataframe tbody tr th {\n",
              "        vertical-align: top;\n",
              "    }\n",
              "\n",
              "    .dataframe thead th {\n",
              "        text-align: right;\n",
              "    }\n",
              "</style>\n",
              "<table border=\"1\" class=\"dataframe\">\n",
              "  <thead>\n",
              "    <tr style=\"text-align: right;\">\n",
              "      <th></th>\n",
              "      <th>score</th>\n",
              "      <th>category</th>\n",
              "      <th>uid</th>\n",
              "      <th>gender</th>\n",
              "      <th>age</th>\n",
              "      <th>text</th>\n",
              "    </tr>\n",
              "  </thead>\n",
              "  <tbody>\n",
              "    <tr>\n",
              "      <th>0</th>\n",
              "      <td>5</td>\n",
              "      <td>Car Rental</td>\n",
              "      <td>899881</td>\n",
              "      <td>F</td>\n",
              "      <td>50</td>\n",
              "      <td>Prices change daily and if you want to really ...</td>\n",
              "    </tr>\n",
              "    <tr>\n",
              "      <th>1</th>\n",
              "      <td>5</td>\n",
              "      <td>Fitness &amp; Nutrition</td>\n",
              "      <td>828184</td>\n",
              "      <td>M</td>\n",
              "      <td>32</td>\n",
              "      <td>and the fact that they will match other compan...</td>\n",
              "    </tr>\n",
              "    <tr>\n",
              "      <th>2</th>\n",
              "      <td>5</td>\n",
              "      <td>Electronic Payment</td>\n",
              "      <td>1698375</td>\n",
              "      <td>M</td>\n",
              "      <td>48</td>\n",
              "      <td>Used Paypal for my buying and selling for the ...</td>\n",
              "    </tr>\n",
              "    <tr>\n",
              "      <th>3</th>\n",
              "      <td>5</td>\n",
              "      <td>Gaming</td>\n",
              "      <td>3324079</td>\n",
              "      <td>M</td>\n",
              "      <td>29</td>\n",
              "      <td>I ' ve made two purchases on CJ ' s for Fallou...</td>\n",
              "    </tr>\n",
              "    <tr>\n",
              "      <th>4</th>\n",
              "      <td>4</td>\n",
              "      <td>Jewelry</td>\n",
              "      <td>719816</td>\n",
              "      <td>F</td>\n",
              "      <td>29</td>\n",
              "      <td>I was very happy with the diamond that I order...</td>\n",
              "    </tr>\n",
              "    <tr>\n",
              "      <th>5</th>\n",
              "      <td>5</td>\n",
              "      <td>Security Equipment</td>\n",
              "      <td>5630105</td>\n",
              "      <td>F</td>\n",
              "      <td>66</td>\n",
              "      <td>I signed up with front point security 0 months...</td>\n",
              "    </tr>\n",
              "    <tr>\n",
              "      <th>6</th>\n",
              "      <td>5</td>\n",
              "      <td>Electronics</td>\n",
              "      <td>6929926</td>\n",
              "      <td>M</td>\n",
              "      <td>69</td>\n",
              "      <td>First off I usually never get extended warrant...</td>\n",
              "    </tr>\n",
              "    <tr>\n",
              "      <th>7</th>\n",
              "      <td>5</td>\n",
              "      <td>Gaming</td>\n",
              "      <td>2364273</td>\n",
              "      <td>M</td>\n",
              "      <td>20</td>\n",
              "      <td>The games come , no worries , they are reputab...</td>\n",
              "    </tr>\n",
              "    <tr>\n",
              "      <th>8</th>\n",
              "      <td>1</td>\n",
              "      <td>Media &amp; Marketing</td>\n",
              "      <td>2561769</td>\n",
              "      <td>F</td>\n",
              "      <td>32</td>\n",
              "      <td>We worked hard to send out email invitations f...</td>\n",
              "    </tr>\n",
              "    <tr>\n",
              "      <th>9</th>\n",
              "      <td>4</td>\n",
              "      <td>Shoes</td>\n",
              "      <td>2561769</td>\n",
              "      <td>F</td>\n",
              "      <td>32</td>\n",
              "      <td>I am in love with all the free movies and show...</td>\n",
              "    </tr>\n",
              "  </tbody>\n",
              "</table>\n",
              "</div>"
            ],
            "text/plain": [
              "   score  ...                                               text\n",
              "0      5  ...  Prices change daily and if you want to really ...\n",
              "1      5  ...  and the fact that they will match other compan...\n",
              "2      5  ...  Used Paypal for my buying and selling for the ...\n",
              "3      5  ...  I ' ve made two purchases on CJ ' s for Fallou...\n",
              "4      4  ...  I was very happy with the diamond that I order...\n",
              "5      5  ...  I signed up with front point security 0 months...\n",
              "6      5  ...  First off I usually never get extended warrant...\n",
              "7      5  ...  The games come , no worries , they are reputab...\n",
              "8      1  ...  We worked hard to send out email invitations f...\n",
              "9      4  ...  I am in love with all the free movies and show...\n",
              "\n",
              "[10 rows x 6 columns]"
            ]
          },
          "metadata": {
            "tags": []
          },
          "execution_count": 16
        }
      ]
    },
    {
      "cell_type": "code",
      "metadata": {
        "colab": {
          "base_uri": "https://localhost:8080/"
        },
        "id": "wMZN5ujHaGJW",
        "outputId": "dd75c3f4-69a6-4178-e4db-aa6a7edc4d8e"
      },
      "source": [
        "df.score # we have an array, type is pandas.series"
      ],
      "execution_count": 17,
      "outputs": [
        {
          "output_type": "execute_result",
          "data": {
            "text/plain": [
              "0        5\n",
              "1        5\n",
              "2        5\n",
              "3        5\n",
              "4        4\n",
              "        ..\n",
              "99995    1\n",
              "99996    5\n",
              "99997    3\n",
              "99998    1\n",
              "99999    5\n",
              "Name: score, Length: 100000, dtype: int64"
            ]
          },
          "metadata": {
            "tags": []
          },
          "execution_count": 17
        }
      ]
    },
    {
      "cell_type": "code",
      "metadata": {
        "colab": {
          "base_uri": "https://localhost:8080/"
        },
        "id": "MmrEMm2yaPTz",
        "outputId": "5e59b9b6-ae5c-49e7-c5db-78ebd70f8c7c"
      },
      "source": [
        "df.score.value_counts() # amount of time the value appear"
      ],
      "execution_count": 18,
      "outputs": [
        {
          "output_type": "execute_result",
          "data": {
            "text/plain": [
              "5    78827\n",
              "4     9164\n",
              "1     7316\n",
              "3     2496\n",
              "2     2197\n",
              "Name: score, dtype: int64"
            ]
          },
          "metadata": {
            "tags": []
          },
          "execution_count": 18
        }
      ]
    },
    {
      "cell_type": "code",
      "metadata": {
        "colab": {
          "base_uri": "https://localhost:8080/"
        },
        "id": "RdAguvqsafHo",
        "outputId": "8a52d912-6849-4d7e-85d1-9f8c5870f962"
      },
      "source": [
        "df.gender.value_counts() # or df['gender'].value_counts()"
      ],
      "execution_count": 19,
      "outputs": [
        {
          "output_type": "execute_result",
          "data": {
            "text/plain": [
              "M    59708\n",
              "F    40292\n",
              "Name: gender, dtype: int64"
            ]
          },
          "metadata": {
            "tags": []
          },
          "execution_count": 19
        }
      ]
    },
    {
      "cell_type": "code",
      "metadata": {
        "colab": {
          "base_uri": "https://localhost:8080/",
          "height": 288
        },
        "id": "MtTt6wQpZ380",
        "outputId": "d9d91c2b-a89a-4239-9638-601e88aeeeca"
      },
      "source": [
        "df.describe()"
      ],
      "execution_count": 15,
      "outputs": [
        {
          "output_type": "execute_result",
          "data": {
            "text/html": [
              "<div>\n",
              "<style scoped>\n",
              "    .dataframe tbody tr th:only-of-type {\n",
              "        vertical-align: middle;\n",
              "    }\n",
              "\n",
              "    .dataframe tbody tr th {\n",
              "        vertical-align: top;\n",
              "    }\n",
              "\n",
              "    .dataframe thead th {\n",
              "        text-align: right;\n",
              "    }\n",
              "</style>\n",
              "<table border=\"1\" class=\"dataframe\">\n",
              "  <thead>\n",
              "    <tr style=\"text-align: right;\">\n",
              "      <th></th>\n",
              "      <th>score</th>\n",
              "      <th>uid</th>\n",
              "      <th>age</th>\n",
              "    </tr>\n",
              "  </thead>\n",
              "  <tbody>\n",
              "    <tr>\n",
              "      <th>count</th>\n",
              "      <td>100000.000000</td>\n",
              "      <td>1.000000e+05</td>\n",
              "      <td>100000.000000</td>\n",
              "    </tr>\n",
              "    <tr>\n",
              "      <th>mean</th>\n",
              "      <td>4.499890</td>\n",
              "      <td>2.697134e+06</td>\n",
              "      <td>41.317740</td>\n",
              "    </tr>\n",
              "    <tr>\n",
              "      <th>std</th>\n",
              "      <td>1.144409</td>\n",
              "      <td>2.068414e+06</td>\n",
              "      <td>13.841225</td>\n",
              "    </tr>\n",
              "    <tr>\n",
              "      <th>min</th>\n",
              "      <td>1.000000</td>\n",
              "      <td>1.038600e+04</td>\n",
              "      <td>16.000000</td>\n",
              "    </tr>\n",
              "    <tr>\n",
              "      <th>25%</th>\n",
              "      <td>5.000000</td>\n",
              "      <td>1.037387e+06</td>\n",
              "      <td>30.000000</td>\n",
              "    </tr>\n",
              "    <tr>\n",
              "      <th>50%</th>\n",
              "      <td>5.000000</td>\n",
              "      <td>2.088027e+06</td>\n",
              "      <td>41.000000</td>\n",
              "    </tr>\n",
              "    <tr>\n",
              "      <th>75%</th>\n",
              "      <td>5.000000</td>\n",
              "      <td>3.877405e+06</td>\n",
              "      <td>52.000000</td>\n",
              "    </tr>\n",
              "    <tr>\n",
              "      <th>max</th>\n",
              "      <td>5.000000</td>\n",
              "      <td>8.363749e+06</td>\n",
              "      <td>70.000000</td>\n",
              "    </tr>\n",
              "  </tbody>\n",
              "</table>\n",
              "</div>"
            ],
            "text/plain": [
              "               score           uid            age\n",
              "count  100000.000000  1.000000e+05  100000.000000\n",
              "mean        4.499890  2.697134e+06      41.317740\n",
              "std         1.144409  2.068414e+06      13.841225\n",
              "min         1.000000  1.038600e+04      16.000000\n",
              "25%         5.000000  1.037387e+06      30.000000\n",
              "50%         5.000000  2.088027e+06      41.000000\n",
              "75%         5.000000  3.877405e+06      52.000000\n",
              "max         5.000000  8.363749e+06      70.000000"
            ]
          },
          "metadata": {
            "tags": []
          },
          "execution_count": 15
        }
      ]
    },
    {
      "cell_type": "code",
      "metadata": {
        "id": "Lw___PhUq0p-"
      },
      "source": [
        "from sklearn.feature_extraction.text import CountVectorizer\n",
        "small_vectorizer = CountVectorizer()\n",
        "\n",
        "sentences_2 = documents[:1]\n",
        "\n",
        "X1 = small_vectorizer.fit_transform(sentences_2)"
      ],
      "execution_count": 5,
      "outputs": []
    },
    {
      "cell_type": "code",
      "metadata": {
        "id": "bcJRNG9_stYG",
        "colab": {
          "base_uri": "https://localhost:8080/"
        },
        "outputId": "6303ba74-44b0-4a59-cf96-6d240e555372"
      },
      "source": [
        "small_vectorizer\n",
        "# binary = we can count\n",
        "# lowercase = before creting vocabolary make all in lower case\n",
        "# max_features = set number of columns\n",
        "# max/min df = frequency of words, we can set them to avoid stopwords to \n",
        "#   be included in the vocabolary\n",
        "# ngram_range = by default is uni-grams\n",
        "# preprocessor = automatically preprocess, it takes the function to be apply\n",
        "# tokenizer = add different tokenizers, ex. there're specific tokenizers for twitter\n",
        "# vocabulary = ??"
      ],
      "execution_count": 6,
      "outputs": [
        {
          "output_type": "execute_result",
          "data": {
            "text/plain": [
              "CountVectorizer(analyzer='word', binary=False, decode_error='strict',\n",
              "                dtype=<class 'numpy.int64'>, encoding='utf-8', input='content',\n",
              "                lowercase=True, max_df=1.0, max_features=None, min_df=1,\n",
              "                ngram_range=(1, 1), preprocessor=None, stop_words=None,\n",
              "                strip_accents=None, token_pattern='(?u)\\\\b\\\\w\\\\w+\\\\b',\n",
              "                tokenizer=None, vocabulary=None)"
            ]
          },
          "metadata": {
            "tags": []
          },
          "execution_count": 6
        }
      ]
    },
    {
      "cell_type": "markdown",
      "metadata": {
        "id": "9iH56Q-cq0qA"
      },
      "source": [
        "Let's implement this ourselves:"
      ]
    },
    {
      "cell_type": "code",
      "metadata": {
        "id": "CComYPqHq0qB"
      },
      "source": [
        "import numpy as np\n",
        "num_docs = 10\n",
        "\n",
        "# collect all word types (= vocabulary)\n",
        "vocabulary = set()\n",
        "for document in documents[:num_docs]:\n",
        "    tokens = document.lower().split() # collect tokens (using the most easier tokenizer)\n",
        "    vocabulary = vocabulary.union(set(tokens))\n",
        "vocabulary = sorted(vocabulary) # sort in alphabetic way\n",
        "# we don't want vocabulary item composed by multiple items, like '.,' for example\n",
        "\n",
        "# create the DATA MATRIX with #docs-by-#features dimensions\n",
        "X = np.zeros((num_docs, len(vocabulary))) #filled with zeros at the beginning\n",
        "\n",
        "# fill that matrix with sweet counts\n",
        "# enumerate: provide document and also the index position\n",
        "# we are augmenting the data matrix row  by column\n",
        "for d, document in enumerate(documents[:num_docs]):\n",
        "    tokens = document.lower().split()\n",
        "    for i, feature in enumerate(vocabulary):\n",
        "        X[d, i] = tokens.count(feature)\n",
        "\n",
        "# show the result as a DataFrame\n",
        "pd.DataFrame(data=X, columns=vocabulary, dtype=int)\n",
        "\n",
        "# the vocabolary, with 10 docs, is increased\n",
        "# we have a sparse matrix (a lot of zeros)"
      ],
      "execution_count": null,
      "outputs": []
    },
    {
      "cell_type": "code",
      "metadata": {
        "id": "ZTAJ3jpBq0qF"
      },
      "source": [
        "vocabulary_ = {word: position for position, word in enumerate(vocabulary)}\n",
        "vocabulary_\n",
        "# vocabulary word and position in the vocabulary"
      ],
      "execution_count": null,
      "outputs": []
    },
    {
      "cell_type": "markdown",
      "metadata": {
        "id": "5H5_vUwWq0qI"
      },
      "source": [
        "The result is a *sparse count matrix*:"
      ]
    },
    {
      "cell_type": "code",
      "metadata": {
        "id": "gG81bVvdq0qJ",
        "colab": {
          "base_uri": "https://localhost:8080/"
        },
        "outputId": "ec0d3e79-c446-4719-85dd-eca982eaa13c"
      },
      "source": [
        "# indexed representation\n",
        "import numpy as np\n",
        "# print(X1)\n",
        "\n",
        "# dense representation\n",
        "print(X1.todense())"
      ],
      "execution_count": 9,
      "outputs": [
        {
          "output_type": "stream",
          "text": [
            "[[1 1 1 1 1 1 1 1 1 1 1 1 1 1 1 1 1 2 1 2 1 1 2 2 1 1 2 1 1 2 1 4 1 1 1 3\n",
            "  1 1 1 2]]\n"
          ],
          "name": "stdout"
        }
      ]
    },
    {
      "cell_type": "markdown",
      "metadata": {
        "id": "FrdF2czAq0qN"
      },
      "source": [
        "We can access the mapping from vector position to feature names via `get_feature_names()`:"
      ]
    },
    {
      "cell_type": "code",
      "metadata": {
        "id": "YrsaRKnyq0qO",
        "colab": {
          "base_uri": "https://localhost:8080/"
        },
        "outputId": "5bdf68e9-3db4-412e-950a-04b125f2c815"
      },
      "source": [
        "print(small_vectorizer.get_feature_names())"
      ],
      "execution_count": 10,
      "outputs": [
        {
          "output_type": "stream",
          "text": [
            "['always', 'among', 'and', 'at', 'been', 'car', 'cars', 'change', 'cheaper', 'cheapest', 'continually', 'daily', 'different', 'don', 'elsewhere', 'found', 'has', 'have', 'however', 'if', 'lot', 'many', 'of', 'price', 'prices', 'really', 'research', 'reserve', 'site', 'sites', 'ten', 'the', 'this', 'three', 'time', 'to', 'top', 'use', 'want', 'you']\n"
          ],
          "name": "stdout"
        }
      ]
    },
    {
      "cell_type": "markdown",
      "metadata": {
        "id": "aVdgUWsIq0qR"
      },
      "source": [
        "The inverse (the mapping from feature names to vector positions) is encoded as a list in `vocabulary_`:"
      ]
    },
    {
      "cell_type": "code",
      "metadata": {
        "id": "k8njLadhq0qS",
        "colab": {
          "base_uri": "https://localhost:8080/"
        },
        "outputId": "7ca992bd-9376-4da4-ec39-bfdc2d8ee9ae"
      },
      "source": [
        "print(small_vectorizer.vocabulary_)\n",
        "# main difference is that vocabulary provide name and position of the column\n",
        "# while get_feature_name provide column name in sorted order"
      ],
      "execution_count": 11,
      "outputs": [
        {
          "output_type": "stream",
          "text": [
            "{'prices': 24, 'change': 7, 'daily': 11, 'and': 2, 'if': 19, 'you': 39, 'want': 38, 'to': 35, 'really': 25, 'research': 26, 'the': 31, 'price': 23, 'continually': 10, 'at': 3, 'many': 21, 'different': 12, 'sites': 29, 'have': 17, 'found': 15, 'cheaper': 8, 'cars': 6, 'elsewhere': 14, 'however': 18, 'don': 13, 'lot': 20, 'of': 22, 'time': 34, 'this': 32, 'site': 28, 'has': 16, 'always': 0, 'been': 4, 'among': 1, 'top': 36, 'three': 33, 'cheapest': 9, 'ten': 30, 'use': 37, 'reserve': 27, 'car': 5}\n"
          ],
          "name": "stdout"
        }
      ]
    },
    {
      "cell_type": "markdown",
      "metadata": {
        "id": "GcGFh3TAq0qV"
      },
      "source": [
        "## Terminology \n",
        "\n",
        "![](matrix.pdf)"
      ]
    },
    {
      "cell_type": "markdown",
      "metadata": {
        "id": "v0UaB0J2q0qV"
      },
      "source": [
        "Let's redo this for the entire corpus:"
      ]
    },
    {
      "cell_type": "code",
      "metadata": {
        "scrolled": true,
        "id": "kt-LgZ3Jq0qW",
        "colab": {
          "base_uri": "https://localhost:8080/"
        },
        "outputId": "11608667-169a-4e2d-b1be-a270b87bd788"
      },
      "source": [
        "vectorizer = CountVectorizer(analyzer='word', \n",
        "                             ngram_range=(1, 2), \n",
        "                             min_df=0.001, # minimum ratio frequency\n",
        "                             max_df=0.75, \n",
        "                             stop_words='english')\n",
        "\n",
        "# check list of stop_words because if are doing sentiment analysis it may \n",
        "# delete some words that are key-words -> use a customize list of stop-words\n",
        "# by using nltk package functions\n",
        "\n",
        "X = vectorizer.fit_transform(documents[:10000])\n",
        "\n",
        "# fit_transform :. obtaining vocabolary (fit) and count (transform)\n",
        "# we should not use anymore fit_transfor and fit, but just transform\n",
        "\n",
        "print(\"shape: \", X.shape)"
      ],
      "execution_count": 42,
      "outputs": [
        {
          "output_type": "stream",
          "text": [
            "shape:  (10000, 3869)\n"
          ],
          "name": "stdout"
        }
      ]
    },
    {
      "cell_type": "markdown",
      "metadata": {
        "id": "HSUMqFwDixqO"
      },
      "source": [
        "\n",
        "```\n",
        "x1 = vectorizer.fit_transform(documents[:10000])\n",
        "x2 = vectorizer.fit_transform(documents[10000:2000])\n",
        "\n",
        "x1 = vectorizer.fit_transform(documents[:10000])\n",
        "x2 = vectorizer.transform(documents[10000:2000])\n",
        "```\n",
        "\n",
        "What are the difference?\n",
        "\n",
        "In the first case x1 and x2 are two not comparable matrix (this is wrong),\n",
        "while in the second case the two matrix are comparable (this is okay).\n",
        "\n",
        "Basically in the first case we are fitting in a data matrix but testing in another one (?)"
      ]
    },
    {
      "cell_type": "markdown",
      "metadata": {
        "id": "i7T1-uUWq0qb"
      },
      "source": [
        "Calling `transform()` on a new document will apply the vocabulary we collected previously to this new data point. Any words we have not seen before are ignored.\n"
      ]
    },
    {
      "cell_type": "code",
      "metadata": {
        "id": "NTlBV_boq0qb",
        "colab": {
          "base_uri": "https://localhost:8080/"
        },
        "outputId": "2b82ff61-91b2-4f0a-81bc-1636e8bcb90e"
      },
      "source": [
        "vectorizer.transform([documents[-1]])"
      ],
      "execution_count": 44,
      "outputs": [
        {
          "output_type": "execute_result",
          "data": {
            "text/plain": [
              "<1x3869 sparse matrix of type '<class 'numpy.int64'>'\n",
              "\twith 8 stored elements in Compressed Sparse Row format>"
            ]
          },
          "metadata": {
            "tags": []
          },
          "execution_count": 44
        }
      ]
    },
    {
      "cell_type": "code",
      "metadata": {
        "id": "6RHwg27fq0qe",
        "colab": {
          "base_uri": "https://localhost:8080/",
          "height": 35
        },
        "outputId": "26ce3692-ef58-423c-f643-665e0a61de78"
      },
      "source": [
        "documents[-1]"
      ],
      "execution_count": 45,
      "outputs": [
        {
          "output_type": "execute_result",
          "data": {
            "application/vnd.google.colaboratory.intrinsic+json": {
              "type": "string"
            },
            "text/plain": [
              "'Never had any issues , easy to use and great prices .'"
            ]
          },
          "metadata": {
            "tags": []
          },
          "execution_count": 45
        }
      ]
    },
    {
      "cell_type": "markdown",
      "metadata": {
        "id": "hiDyZpFjq0qh"
      },
      "source": [
        "## Exercise\n",
        "\n",
        "Use vector operations to find out \n",
        "- what the 5 most frequent words are in `X`\n",
        "- in how many different documents the word `delivery` occurs\n",
        "- what percentage of the overall corpus that number corresponds to"
      ]
    },
    {
      "cell_type": "code",
      "metadata": {
        "id": "pPdQ8CTCq0qi"
      },
      "source": [
        "# your code here\n",
        "print(vectorizer.get_feature_names()) # feature names (mean the columns)\n",
        "print(vectorizer.get_feature_names()[3008]) # feature name with index 3008\n",
        "print(X) # (row column) frequency of feature (column name)\n",
        "\n",
        "import numpy as np\n",
        "from collections import Counter\n",
        "\n",
        "# counts = np.asarray(X.sum(axis = 0))[0]\n",
        "# count_ids = counts.argsort()[::-1] # from the most frequent word (by index) to the less\n",
        "# feature_names = vectorizer.get_feature_names()\n",
        "# for idx in count_ids[:5]:\n",
        "#   print(feature_names[idx])\n",
        "# np.count_nonzero(X[:,vectorizer.vocabulary_['delivery']].toarray()) / X.shape[0]\n",
        "# we have a certain percent of docs that contain the word 'delivery'\n",
        "\n",
        "sum = X.sum(axis = 0)\n",
        "Counter(vectorizer.get_feature_names(), sum)"
      ],
      "execution_count": null,
      "outputs": []
    },
    {
      "cell_type": "markdown",
      "metadata": {
        "id": "D7HxcwCmq0ql"
      },
      "source": [
        "## Character $n$-grams\n",
        "\n",
        "We can also use characters to analyze text:"
      ]
    },
    {
      "cell_type": "code",
      "metadata": {
        "id": "Rlq4fIv1q0ql",
        "colab": {
          "base_uri": "https://localhost:8080/"
        },
        "outputId": "f5a17b9b-42a6-4f60-ddb4-a802d300ee28"
      },
      "source": [
        "char_vectorizer = CountVectorizer(analyzer='char', \n",
        "                                  ngram_range=(2, 6), \n",
        "                                  min_df=0.001, \n",
        "                                  max_df=0.75)\n",
        "\n",
        "C = char_vectorizer.fit_transform(documents[:10])\n",
        "C"
      ],
      "execution_count": 55,
      "outputs": [
        {
          "output_type": "execute_result",
          "data": {
            "text/plain": [
              "<10x8054 sparse matrix of type '<class 'numpy.int64'>'\n",
              "\twith 10806 stored elements in Compressed Sparse Row format>"
            ]
          },
          "metadata": {
            "tags": []
          },
          "execution_count": 55
        }
      ]
    },
    {
      "cell_type": "code",
      "metadata": {
        "id": "7_cuDmd_q0qn",
        "colab": {
          "base_uri": "https://localhost:8080/"
        },
        "outputId": "8f371636-b42f-4e41-efbf-9120c54df377"
      },
      "source": [
        "print(char_vectorizer.vocabulary_)"
      ],
      "execution_count": 56,
      "outputs": [
        {
          "output_type": "stream",
          "text": [
            "{'pr': 5953, 'ic': 4050, 'ce': 2121, 'ch': 2155, 'ng': 5194, 'ge': 3612, ' d': 382, 'da': 2407, 'ai': 1609, 'il': 4153, 'ly': 4732, 'if': 4118, 'f ': 3378, ' y': 1264, 'yo': 8014, 'ou': 5723, 'u ': 7367, 'wa': 7716, 'nt': 5298, 'ea': 2786, 'ar': 1819, 'rc': 6141, 'ti': 7183, 'nu': 5338, 'ua': 7387, 'at': 1904, 'ny': 5348, 'di': 2471, 'ff': 3452, 'fe': 3434, 'en': 3045, 'si': 6696, 'it': 4361, 'te': 7022, ' ,': 51, ', ': 1337, 'i ': 3975, 'av': 1959, 'fo': 3495, 'un': 7438, 'ap': 1805, 'pe': 5880, 'ca': 2106, 'rs': 6380, ' e': 430, 'el': 2985, 'ls': 4709, 'ew': 3324, 'wh': 7773, '. ': 1395, 'ho': 3918, 'ow': 5794, 'we': 7736, 'ev': 3306, 'do': 2505, \" '\": 17, \"' \": 1295, 'a ': 1501, ' l': 690, 'lo': 4679, 'ot': 5699, ' o': 785, 'of': 5474, 'im': 4177, 'hi': 3896, 'as': 1867, 'lw': 4727, 'ay': 1987, 'ys': 8040, ' b': 296, 'be': 2021, 'ee': 2919, 'am': 1680, 'mo': 4891, 'g ': 3554, 'op': 5653, 'p ': 5817, 'hr': 3943, ' (': 34, '( ': 1318, ' g': 524, '.,': 1449, ' )': 42, ') ': 1327, ' u': 1154, 'rv': 6423, 'pri': 5958, 'ric': 6265, 'ice': 4051, 'ces': 2148, 'es ': 3227, 's c': 6490, ' ch': 352, 'cha': 2166, 'han': 3738, 'ang': 1763, 'nge': 5225, 'ge ': 3613, 'e d': 2596, ' da': 383, 'dai': 2408, 'ail': 1616, 'ily': 4173, 'ly ': 4733, 'y a': 7889, 'd i': 2293, ' if': 633, 'if ': 4119, 'f y': 3415, ' yo': 1269, 'you': 8019, 'ou ': 5724, 'u w': 7380, ' wa': 1203, 'wan': 7717, 'ant': 1783, 'nt ': 5299, 't t': 6965, ' to': 1087, 'to ': 7224, 'o r': 5431, 'rea': 6194, 'eal': 2791, 'all': 1650, 'lly': 4671, 'y r': 7966, 'res': 6246, 'ese': 3254, 'sea': 6610, 'ear': 2805, 'arc': 1825, 'rch': 6142, 'ch ': 2156, 'h t': 3715, 'e p': 2692, ' pr': 866, 'ce ': 2122, 'e c': 2588, 'con': 2204, 'ont': 5632, 'nti': 5321, 'tin': 7198, 'inu': 4251, 'nua': 5339, 'ual': 7388, ' at': 279, 'at ': 1905, 't m': 6925, ' ma': 710, 'man': 4812, 'any': 1794, 'ny ': 5349, 'y d': 7921, ' di': 401, 'dif': 2483, 'iff': 4126, 'ffe': 3468, 'fer': 3435, 'ere': 3171, 'ren': 6235, 'ent': 3101, 't s': 6949, ' si': 972, 'sit': 6711, 'ite': 4380, 'tes': 7066, 's ,': 6446, ' , ': 52, ', i': 1358, ' i ': 596, 'i h': 3998, ' ha': 553, 'hav': 3773, 'ave': 1960, 've ': 7602, 'e f': 2619, ' fo': 494, 'fou': 3512, 'oun': 5749, 'und': 7439, 'd c': 2283, 'che': 2174, 'hea': 3847, 'eap': 2799, 'ape': 1806, 'per': 5881, 'r c': 6034, ' ca': 343, 'car': 2111, 'ars': 1852, 'rs ': 6381, 's e': 6498, ' el': 439, 'els': 3009, 'lse': 4714, 'sew': 6663, 'ewh': 3332, 'whe': 7774, 'her': 3876, 're ': 6162, 'e .': 2555, ' . ': 90, '. h': 1419, ' ho': 587, 'how': 3936, 'owe': 5802, 'wev': 7769, 'eve': 3307, 'ver': 7650, 'r ,': 6011, 'u d': 7372, ' do': 416, 'don': 2506, \"n '\": 4943, \" ' \": 18, \"' t\": 1306, ' t ': 1024, 't h': 6911, 'e a': 2561, ' a ': 164, 'a l': 1523, ' lo': 699, 'lot': 4680, 'ot ': 5700, 't o': 6932, ' of': 786, 'of ': 5475, 'f t': 3402, ' ti': 1080, 'tim': 7192, 'ime': 4182, 'me ': 4831, 'e t': 2729, 'e ,': 2549, ', t': 1384, 'thi': 7163, 'his': 3909, 'is ': 4321, 's s': 6533, 'te ': 7023, 'e h': 2644, 'has': 3756, 'as ': 1868, ' al': 216, 'alw': 1676, 'lwa': 4728, 'way': 7729, 'ays': 2007, 'ys ': 8041, 's b': 6481, ' be': 301, 'bee': 2033, 'een': 2939, 'en ': 3046, 'n a': 4955, ' am': 229, 'amo': 1699, 'mon': 4892, 'ong': 5618, 'ng ': 5195, 'g t': 3586, 'top': 7293, 'op ': 5654, 'p t': 5830, 'thr': 7175, 'hre': 3944, 'ree': 6225, 'ee ': 2920, 'e (': 2545, ' ( ': 35, '( e': 1319, ' e ': 431, '. g': 1415, ' g ': 525, 'g .': 3555, ' .,': 127, '., ': 1450, ', c': 1346, 'pes': 5890, 'est': 3277, 'st ': 6773, 't )': 6846, ' ) ': 43, ') o': 1328, ' te': 1038, 'ten': 7050, 'n s': 5024, 's i': 6517, 'i u': 4023, ' us': 1168, 'use': 7513, 'se ': 6593, 'ser': 6644, 'erv': 3210, 'rve': 6424, 'a c': 1502, 'ar ': 1820, 'r .': 6019, 'pric': 5959, 'rice': 6266, 'ices': 4063, 'ces ': 2149, 'es c': 3238, 's ch': 6491, ' cha': 353, 'chan': 2167, 'hang': 3745, 'ange': 1764, 'nge ': 5226, 'ge d': 3614, 'e da': 2597, ' dai': 384, 'dail': 2409, 'aily': 1620, 'ily ': 4174, 'ly a': 4734, 'y an': 7896, 'nd i': 5081, 'd if': 2299, ' if ': 634, 'if y': 4123, 'f yo': 3416, ' you': 1270, 'you ': 8020, 'ou w': 5734, 'u wa': 7381, ' wan': 1204, 'want': 7718, 'ant ': 1784, 'nt t': 5311, 't to': 6974, ' to ': 1088, 'to r': 7261, 'o re': 5432, ' rea': 888, 'real': 6198, 'eall': 2792, 'ally': 1667, 'lly ': 4672, 'ly r': 4745, 'y re': 7967, ' res': 903, 'rese': 6247, 'esea': 3255, 'sear': 6611, 'earc': 2806, 'arch': 1826, 'rch ': 6143, 'ch t': 2163, 'h th': 3716, 'he p': 3819, 'e pr': 2698, ' pri': 870, 'ice ': 4052, 'ce c': 2135, 'e co': 2589, ' con': 368, 'cont': 2208, 'onti': 5641, 'ntin': 5325, 'tinu': 7203, 'inua': 4252, 'nual': 5340, 'uall': 7389, 'y at': 7903, ' at ': 280, 'at m': 1919, 't ma': 6926, ' man': 719, 'many': 4820, 'any ': 1795, 'ny d': 5353, 'y di': 7922, ' dif': 410, 'diff': 2484, 'iffe': 4127, 'ffer': 3469, 'fere': 3445, 'eren': 3186, 'rent': 6236, 'ent ': 3102, 'nt s': 5306, 't si': 6956, ' sit': 977, 'site': 6712, 'ites': 4391, 'tes ': 7067, 'es ,': 3228, 's , ': 6447, ' , i': 65, ', i ': 1359, ' i h': 609, 'i ha': 3999, ' hav': 571, 'have': 3774, 'ave ': 1961, 've f': 7613, 'e fo': 2626, ' fou': 505, 'foun': 3513, 'ound': 5750, 'und ': 7440, 'nd c': 5078, 'd ch': 2284, ' che': 356, 'chea': 2175, 'heap': 3848, 'eape': 2800, 'aper': 1807, 'per ': 5882, 'er c': 3135, 'r ca': 6035, ' car': 347, 'cars': 2114, 'ars ': 1853, 'rs e': 6388, 's el': 6499, ' els': 443, 'else': 3010, 'lsew': 4715, 'sewh': 6664, 'ewhe': 3333, 'wher': 7778, 'here': 3882, 'ere ': 3172, 're .': 6163, 'e . ': 2556, ' . h': 108, '. ho': 1420, ' how': 593, 'howe': 3937, 'owev': 5803, 'weve': 7770, 'ever': 3314, 'ver ': 7651, 'er ,': 3125, 'r , ': 6012, ', if': 1366, 'ou d': 5728, 'u do': 7373, ' don': 417, 'don ': 2507, \"on '\": 5562, \"n ' \": 4944, \" ' t\": 26, \"' t \": 1307, ' t h': 1028, 't ha': 6912, 've a': 7603, 'e a ': 2562, ' a l': 178, 'a lo': 1524, ' lot': 700, 'lot ': 4681, 'ot o': 5707, 't of': 6933, ' of ': 787, 'of t': 5479, 'f ti': 3406, ' tim': 1084, 'time': 7193, 'ime ': 4183, 'me t': 4846, 'e to': 2742, 'ce ,': 2124, 'e , ': 2550, ' , t': 83, ', th': 1385, ' thi': 1071, 'this': 7167, 'his ': 3910, 'is s': 4338, 's si': 6534, 'ite ': 4381, 'te h': 7027, 'e ha': 2645, ' has': 568, 'has ': 3757, 'as a': 1869, 's al': 6470, ' alw': 226, 'alwa': 1677, 'lway': 4729, 'ways': 7733, 'ays ': 2008, 'ys b': 8042, 's be': 6482, ' bee': 310, 'been': 2034, 'een ': 2940, 'en a': 3047, 'n am': 4965, ' amo': 236, 'amon': 1700, 'mong': 4899, 'ong ': 5619, 'ng t': 5217, 'g th': 3587, 'he t': 3835, ' top': 1126, 'top ': 7294, 'op t': 5655, 'p th': 5831, ' thr': 1077, 'thre': 7176, 'hree': 3945, 'ree ': 6226, 'ee (': 2921, 'e ( ': 2546, ' ( e': 36, '( e ': 1320, ' e .': 432, ' . g': 105, '. g ': 1416, ' g .': 526, 'g .,': 3559, ' ., ': 128, '., c': 1451, ', ch': 1347, 'apes': 1811, 'pest': 5891, 'est ': 3278, 'st )': 6774, 't ) ': 6847, ' ) o': 44, ') of': 1329, 'f th': 3403, 'e te': 2730, ' ten': 1039, 'ten ': 7051, 'en s': 3059, 'n si': 5028, 'es i': 3243, 's i ': 6518, ' i u': 624, 'i us': 4024, ' use': 1174, 'use ': 7514, 'se t': 6600, 'eser': 3261, 'serv': 6645, 'erve': 3211, 'rve ': 6425, ' a c': 165, 'a ca': 1503, 'car ': 2112, 'ar .': 1821, 'price': 5960, 'rices': 6270, 'ices ': 4064, 'ces c': 2150, 'es ch': 3239, 's cha': 6492, ' chan': 354, 'chang': 2168, 'hange': 3746, 'ange ': 1765, 'nge d': 5227, 'ge da': 3615, 'e dai': 2598, ' dail': 385, 'daily': 2410, 'aily ': 1621, 'ily a': 4175, 'ly an': 4735, 'y and': 7897, 'and i': 1734, 'nd if': 5085, 'd if ': 2300, ' if y': 637, 'if yo': 4124, 'f you': 3417, ' you ': 1271, 'you w': 8027, 'ou wa': 5735, 'u wan': 7382, ' want': 1205, 'want ': 7719, 'ant t': 1785, 'nt to': 5312, 't to ': 6975, ' to r': 1111, 'to re': 7262, 'o rea': 5433, ' real': 889, 'reall': 6199, 'eally': 2793, 'ally ': 1668, 'lly r': 4677, 'ly re': 4746, 'y res': 7968, ' rese': 904, 'resea': 6248, 'esear': 3256, 'searc': 6612, 'earch': 2807, 'arch ': 1827, 'rch t': 6144, 'ch th': 2164, 'h the': 3717, 'the p': 7128, 'he pr': 3823, 'e pri': 2701, ' pric': 871, 'rice ': 6267, 'ice c': 4059, 'ce co': 2136, 'e con': 2590, ' cont': 371, 'conti': 2209, 'ontin': 5642, 'ntinu': 5326, 'tinua': 7204, 'inual': 4253, 'nuall': 5341, 'ually': 7390, 'lly a': 4673, 'ly at': 4737, 'y at ': 7904, ' at m': 281, 'at ma': 1920, 't man': 6927, ' many': 723, 'many ': 4821, 'any d': 1798, 'ny di': 5354, 'y dif': 7925, ' diff': 411, 'diffe': 2485, 'iffer': 4128, 'ffere': 3470, 'feren': 3446, 'erent': 3187, 'rent ': 6237, 'ent s': 3105, 'nt si': 5309, 't sit': 6957, ' site': 978, 'sites': 6717, 'ites ': 4392, 'tes ,': 7068, 'es , ': 3229, 's , i': 6450, ' , i ': 66, ', i h': 1362, ' i ha': 610, 'i hav': 4000, ' have': 572, 'have ': 3775, 'ave f': 1968, 've fo': 7614, 'e fou': 2627, ' foun': 506, 'found': 3514, 'ound ': 5751, 'und c': 7441, 'nd ch': 5079, 'd che': 2285, ' chea': 357, 'cheap': 2176, 'heape': 3849, 'eaper': 2801, 'aper ': 1808, 'per c': 5883, 'er ca': 3136, 'r car': 6036, ' cars': 350, 'cars ': 2115, 'ars e': 1858, 'rs el': 6389, 's els': 6500, ' else': 444, 'elsew': 3011, 'lsewh': 4716, 'sewhe': 6665, 'ewher': 3334, 'where': 7779, 'here ': 3883, 'ere .': 3173, 're . ': 6164, 'e . h': 2559, ' . ho': 109, '. how': 1421, ' howe': 594, 'howev': 3938, 'oweve': 5804, 'wever': 7771, 'ever ': 3315, 'ver ,': 7652, 'er , ': 3126, 'r , i': 6013, ' , if': 70, ', if ': 1367, 'you d': 8023, 'ou do': 5729, 'u don': 7374, ' don ': 418, \"don '\": 2508, \"on ' \": 5563, \"n ' t\": 4945, \" ' t \": 27, \"' t h\": 1310, ' t ha': 1029, 't hav': 6913, 'ave a': 1962, 've a ': 7604, 'e a l': 2565, ' a lo': 179, 'a lot': 1525, ' lot ': 701, 'lot o': 4682, 'ot of': 5708, 't of ': 6934, ' of t': 790, 'of ti': 5482, 'f tim': 3407, ' time': 1085, 'time ': 7194, 'ime t': 4190, 'me to': 4847, 'e to ': 2743, 'o res': 5435, 'ice ,': 4053, 'ce , ': 2125, 'e , t': 2553, ' , th': 84, ', thi': 1389, ' this': 1072, 'this ': 7168, 'his s': 3913, 'is si': 4339, 's sit': 6535, 'site ': 6713, 'ite h': 4384, 'te ha': 7028, 'e has': 2650, ' has ': 569, 'has a': 3758, 'as al': 1870, 's alw': 6471, ' alwa': 227, 'alway': 1678, 'lways': 4730, 'ways ': 7734, 'ays b': 2009, 'ys be': 8043, 's bee': 6485, ' been': 311, 'been ': 2035, 'een a': 2941, 'en am': 3048, 'n amo': 4968, ' amon': 237, 'among': 1703, 'mong ': 4900, 'ong t': 5620, 'ng th': 5218, 'g the': 3588, 'the t': 7136, 'he to': 3838, 'e top': 2751, ' top ': 1127, 'top t': 7295, 'op th': 5656, 'p thr': 5832, ' thre': 1078, 'three': 7177, 'hree ': 3946, 'ree (': 6227, 'ee ( ': 2922, 'e ( e': 2547, ' ( e ': 37, '( e .': 1321, ' e . ': 433, 'e . g': 2557, ' . g ': 106, '. g .': 1417, ' g .,': 527, 'g ., ': 3560, ' ., c': 129, '., ch': 1452, ', che': 1348, 'eapes': 2803, 'apest': 1812, 'pest ': 5892, 'est )': 3279, 'st ) ': 6775, 't ) o': 6848, ' ) of': 45, ') of ': 1330, 'of th': 5480, 'f the': 3404, 'he te': 3836, 'e ten': 2731, ' ten ': 1040, 'ten s': 7052, 'en si': 3062, 'n sit': 5029, 'tes i': 7070, 'es i ': 3244, 's i u': 6519, ' i us': 625, 'i use': 4025, ' use ': 1175, 'use t': 7519, 'se to': 6601, 'reser': 6252, 'eserv': 3262, 'serve': 6646, 'erve ': 3212, 'rve a': 6426, 'e a c': 2563, ' a ca': 166, 'a car': 1504, ' car ': 348, 'car .': 2113, 'prices': 5962, 'rices ': 6271, 'ices c': 4065, 'ces ch': 2151, 'es cha': 3240, 's chan': 6493, ' chang': 355, 'change': 2169, 'hange ': 3747, 'ange d': 1766, 'nge da': 5228, 'ge dai': 3616, 'e dail': 2599, ' daily': 386, 'daily ': 2411, 'aily a': 1622, 'ily an': 4176, 'ly and': 4736, 'y and ': 7898, ' and i': 248, 'and if': 1736, 'nd if ': 5086, 'd if y': 2301, ' if yo': 638, 'if you': 4125, 'f you ': 3418, ' you w': 1275, 'you wa': 8028, 'ou wan': 5736, 'u want': 7383, ' want ': 1206, 'want t': 7720, 'ant to': 1786, 'nt to ': 5313, 't to r': 6977, ' to re': 1112, 'to rea': 7263, 'o real': 5434, ' reall': 890, 'really': 6200, 'eally ': 2794, 'ally r': 1671, 'lly re': 4678, 'ly res': 4747, 'y rese': 7969, ' resea': 905, 'resear': 6249, 'esearc': 3257, 'search': 6613, 'earch ': 2808, 'arch t': 1828, 'rch th': 6145, 'ch the': 2165, 'h the ': 3718, ' the p': 1058, 'the pr': 7130, 'he pri': 3825, 'e pric': 2702, ' price': 872, 'price ': 5961, 'rice c': 6269, 'ice co': 4060, 'ce con': 2137, 'e cont': 2592, ' conti': 372, 'contin': 2210, 'ontinu': 5643, 'ntinua': 5327, 'tinual': 7205, 'inuall': 4254, 'nually': 5342, 'ually ': 7391, 'ally a': 1669, 'lly at': 4674, 'ly at ': 4738, 'y at m': 7905, ' at ma': 282, 'at man': 1921, 't many': 6928, ' many ': 724, 'many d': 4822, 'any di': 1799, 'ny dif': 5355, 'y diff': 7926, ' diffe': 412, 'differ': 2486, 'iffere': 4129, 'fferen': 3471, 'ferent': 3447, 'erent ': 3188, 'rent s': 6238, 'ent si': 3106, 'nt sit': 5310, 't site': 6958, ' sites': 980, 'sites ': 6718, 'ites ,': 4393, 'tes , ': 7069, 'es , i': 3230, 's , i ': 6451, ' , i h': 68, ', i ha': 1363, ' i hav': 611, 'i have': 4001, ' have ': 573, 'have f': 3779, 'ave fo': 1969, 've fou': 7615, 'e foun': 2628, ' found': 507, 'found ': 3515, 'ound c': 5752, 'und ch': 7442, 'nd che': 5080, 'd chea': 2286, ' cheap': 358, 'cheape': 2177, 'heaper': 3850, 'eaper ': 2802, 'aper c': 1809, 'per ca': 5884, 'er car': 3137, 'r cars': 6037, ' cars ': 351, 'cars e': 2116, 'ars el': 1859, 'rs els': 6390, 's else': 6501, ' elsew': 445, 'elsewh': 3012, 'lsewhe': 4717, 'sewher': 6666, 'ewhere': 3335, 'where ': 7780, 'here .': 3884, 'ere . ': 3174, 're . h': 6165, 'e . ho': 2560, ' . how': 110, '. howe': 1422, ' howev': 595, 'howeve': 3939, 'owever': 5805, 'wever ': 7772, 'ever ,': 3316, 'ver , ': 7653, 'er , i': 3127, 'r , if': 6014, ' , if ': 71, ', if y': 1368, ' you d': 1273, 'you do': 8024, 'ou don': 5730, 'u don ': 7375, \" don '\": 419, \"don ' \": 2509, \"on ' t\": 5564, \"n ' t \": 4946, \" ' t h\": 29, \"' t ha\": 1311, ' t hav': 1030, 't have': 6914, 'have a': 3776, 'ave a ': 1963, 've a l': 7606, 'e a lo': 2566, ' a lot': 180, 'a lot ': 1526, ' lot o': 702, 'lot of': 4683, 'ot of ': 5709, 't of t': 6935, ' of ti': 792, 'of tim': 5483, 'f time': 3408, ' time ': 1086, 'time t': 7197, 'ime to': 4191, 'me to ': 4848, 'e to r': 2748, 'to res': 7264, 'o rese': 5436, 'rice ,': 6268, 'ice , ': 4054, 'ce , t': 2126, 'e , th': 2554, ' , thi': 86, ', this': 1390, ' this ': 1073, 'this s': 7170, 'his si': 3914, 'is sit': 4340, 's site': 6536, ' site ': 979, 'site h': 6715, 'ite ha': 4385, 'te has': 7029, 'e has ': 2651, ' has a': 570, 'has al': 3759, 'as alw': 1871, 's alwa': 6472, ' alway': 228, 'always': 1679, 'lways ': 4731, 'ways b': 7735, 'ays be': 2010, 'ys bee': 8044, 's been': 6486, ' been ': 312, 'been a': 2036, 'een am': 2942, 'en amo': 3049, 'n amon': 4969, ' among': 238, 'among ': 1704, 'mong t': 4901, 'ong th': 5621, 'ng the': 5219, 'g the ': 3589, ' the t': 1061, 'the to': 7138, 'he top': 3839, 'e top ': 2752, ' top t': 1128, 'top th': 7296, 'op thr': 5657, 'p thre': 5833, ' three': 1079, 'three ': 7178, 'hree (': 3947, 'ree ( ': 6228, 'ee ( e': 2923, 'e ( e ': 2548, ' ( e .': 38, '( e . ': 1322, ' e . g': 434, 'e . g ': 2558, ' . g .': 107, '. g .,': 1418, ' g ., ': 528, 'g ., c': 3561, ' ., ch': 130, '., che': 1453, ', chea': 1349, 'heapes': 3851, 'eapest': 2804, 'apest ': 1813, 'pest )': 5893, 'est ) ': 3280, 'st ) o': 6776, 't ) of': 6849, ' ) of ': 46, ') of t': 1331, ' of th': 791, 'of the': 5481, 'f the ': 3405, 'the te': 7137, 'he ten': 3837, 'e ten ': 2732, ' ten s': 1041, 'ten si': 7053, 'en sit': 3063, 'n site': 5030, 'ites i': 4394, 'tes i ': 7071, 'es i u': 3245, 's i us': 6520, ' i use': 626, 'i use ': 4026, ' use t': 1176, 'use to': 7520, 'se to ': 6602, ' reser': 906, 'reserv': 6253, 'eserve': 3263, 'serve ': 6647, 'erve a': 3213, 'rve a ': 6427, 've a c': 7605, 'e a ca': 2564, ' a car': 167, 'a car ': 1505, ' car .': 349, 'fa': 3419, 'ac': 1552, 'ct': 2223, 'ey': 3359, 'wi': 7795, 'l ': 4500, 'tc': 7017, 'mp': 4910, 'pa': 5838, 'ni': 5233, 'aw': 1978, 'so': 6724, ' !': 0, '!!': 1289, 'd t': 2366, ' fa': 477, 'fac': 3420, 'act': 1553, 'ct ': 2224, 'tha': 7098, 'hat': 3765, 'hey': 3885, 'ey ': 3360, 'y w': 7988, ' wi': 1244, 'wil': 7796, 'ill': 4158, 'll ': 4626, 'l m': 4528, 'mat': 4823, 'atc': 1928, 'tch': 7018, 'h o': 3711, ' ot': 820, 'oth': 5716, 'com': 2193, 'omp': 5557, 'mpa': 4911, 'pan': 5851, 'ani': 1767, 'nie': 5234, 'ies': 4096, ' is': 654, ' aw': 289, 'awe': 1983, 'wes': 7765, 'eso': 3264, 'som': 6736, 'ome': 5536, 'e !': 2538, ' !!': 11, 'nd t': 5114, 'd th': 2367, 'he f': 3797, 'e fa': 2620, ' fac': 478, 'fact': 3421, 'act ': 1554, 'ct t': 2231, 't th': 6966, ' tha': 1045, 'that': 7102, 'hat ': 3766, 'at t': 1925, 'they': 7157, 'hey ': 3886, 'ey w': 3373, 'y wi': 7992, ' wil': 1245, 'will': 7797, 'ill ': 4159, 'll m': 4635, 'l ma': 4529, ' mat': 725, 'matc': 4824, 'atch': 1929, 'tch ': 7019, 'ch o': 2160, 'h ot': 3712, ' oth': 821, 'othe': 5720, 'ther': 7153, 'her ': 3877, 'r co': 6038, ' com': 363, 'comp': 2201, 'ompa': 5558, 'mpan': 4912, 'pani': 5852, 'anie': 1768, 'nies': 5235, 'ies ': 4097, 's is': 6521, ' is ': 655, 'is a': 4322, 's aw': 6478, ' awe': 293, 'awes': 1984, 'weso': 7766, 'esom': 3268, 'some': 6737, 'ome ': 5537, 'me !': 4832, 'e !!': 2544, 'and t': 1752, 'nd th': 5115, 'd the': 2370, 'the f': 7116, 'he fa': 3798, 'e fac': 2621, ' fact': 479, 'fact ': 3422, 'act t': 1555, 'ct th': 2232, 't tha': 6967, ' that': 1048, 'that ': 7103, 'hat t': 3771, 'at th': 1926, 't the': 6969, ' they': 1069, 'they ': 7158, 'hey w': 3893, 'ey wi': 3376, 'y wil': 7993, ' will': 1246, 'will ': 7798, 'ill m': 4163, 'll ma': 4636, 'l mat': 4530, ' matc': 726, 'match': 4825, 'atch ': 1930, 'tch o': 7020, 'ch ot': 2161, 'h oth': 3713, ' othe': 822, 'other': 5721, 'ther ': 7154, 'her c': 3878, 'er co': 3138, 'r com': 6039, ' comp': 366, 'compa': 2202, 'ompan': 5559, 'mpani': 4913, 'panie': 5853, 'anies': 1769, 'nies ': 5236, 'ies i': 4104, 'es is': 3246, 's is ': 6522, ' is a': 656, 'is aw': 4325, 's awe': 6479, ' awes': 294, 'aweso': 1985, 'wesom': 7767, 'esome': 3269, 'some ': 6738, 'ome !': 5538, 'me !!': 4833, 'and th': 1753, 'nd the': 5117, 'd the ': 2371, ' the f': 1054, 'the fa': 7117, 'he fac': 3799, 'e fact': 2622, ' fact ': 480, 'fact t': 3423, 'act th': 1556, 'ct tha': 2233, 't that': 6968, ' that ': 1049, 'that t': 7106, 'hat th': 3772, 'at the': 1927, 't they': 6973, ' they ': 1070, 'they w': 7162, 'hey wi': 3895, 'ey wil': 3377, 'y will': 7994, ' will ': 1247, 'will m': 7800, 'ill ma': 4164, 'll mat': 4637, 'l matc': 4531, ' match': 727, 'match ': 4826, 'atch o': 1931, 'tch ot': 7021, 'ch oth': 2162, 'h othe': 3714, ' other': 823, 'other ': 5722, 'ther c': 7155, 'her co': 3879, 'er com': 3139, 'r comp': 6040, ' compa': 367, 'compan': 2203, 'ompani': 5560, 'mpanie': 4914, 'panies': 5854, 'anies ': 1770, 'nies i': 5237, 'ies is': 4105, 'es is ': 3247, 's is a': 6523, ' is aw': 658, 'is awe': 4326, 's awes': 6480, ' aweso': 295, 'awesom': 1986, 'wesome': 7768, 'esome ': 3270, 'some !': 6739, 'ome !!': 5539, 'ed': 2864, 'yp': 8030, 'or': 5658, 'my': 4917, 'bu': 2079, 'uy': 7576, 'yi': 8008, 'li': 4604, ' 0': 138, '0 ': 1466, 'ye': 7999, ' n': 762, 'ne': 5151, 'ad': 1562, 'ss': 6760, 'su': 6816, 'ue': 7401, 'id': 4070, 'dn': 2500, 'ol': 5513, 'lv': 4722, 'sa': 6571, 'sf': 6667, 'io': 4259, 'sed': 6618, 'ed ': 2865, 'd p': 2331, ' pa': 836, 'pay': 5868, 'ayp': 2003, 'ypa': 8031, 'pal': 5847, 'al ': 1643, 'l f': 4520, 'for': 3500, 'or ': 5659, 'r m': 6074, ' my': 744, 'my ': 4918, 'y b': 7907, ' bu': 327, 'buy': 2086, 'uyi': 7581, 'yin': 8009, 'ing': 4223, 'g a': 3562, 'd s': 2346, ' se': 943, 'sel': 6629, 'ell': 3001, 'lli': 4651, 'lin': 4613, 'g f': 3570, 'r t': 6107, 'pas': 5863, 'ast': 1898, 't 0': 6862, ' 0 ': 139, '0 y': 1483, ' ye': 1265, 'yea': 8000, 'd n': 2319, ' ne': 763, 'nev': 5180, 'r h': 6063, 'had': 3729, 'ad ': 1563, 'd a': 2262, 'an ': 1705, 'n i': 4996, 'iss': 4356, 'ssu': 6767, 'sue': 6821, 'ue ': 7402, 'did': 2476, 'idn': 4081, 'dn ': 2501, 't r': 6945, 'sol': 6732, 'olv': 5525, 'lve': 4723, 'o m': 5419, 'y s': 7970, ' sa': 927, 'sat': 6572, 'ati': 1936, 'tis': 7213, 'isf': 4345, 'sfa': 6668, 'cti': 2237, 'tio': 7206, 'ion': 4260, 'n .': 4951, 'used': 7523, 'sed ': 6619, 'ed p': 2894, 'd pa': 2332, ' pay': 846, 'payp': 5872, 'aypa': 2004, 'ypal': 8032, 'pal ': 5848, 'al f': 1647, 'l fo': 4521, ' for': 498, 'for ': 3501, 'or m': 5666, 'r my': 6078, ' my ': 745, 'my b': 4922, 'y bu': 7911, ' buy': 332, 'buyi': 2090, 'uyin': 7582, 'ying': 8010, 'ing ': 4224, 'ng a': 5199, 'g an': 3563, 'nd s': 5104, 'd se': 2347, ' sel': 950, 'sell': 6630, 'elli': 3002, 'llin': 4655, 'ling': 4619, 'ng f': 5205, 'g fo': 3571, 'or t': 5675, 'r th': 6108, 'e pa': 2693, ' pas': 843, 'past': 5864, 'ast ': 1899, 'st 0': 6777, 't 0 ': 6863, ' 0 y': 149, '0 ye': 1484, ' yea': 1266, 'year': 8001, 'ears': 2812, 'rs a': 6385, 's an': 6473, 'nd n': 5090, 'd ne': 2320, ' nev': 767, 'neve': 5181, 'er h': 3146, 'r ha': 6064, ' had': 554, 'had ': 3730, 'ad a': 1564, 'd an': 2268, ' an ': 239, 'an i': 1718, 'n is': 5003, ' iss': 664, 'issu': 4357, 'ssue': 6768, 'sue ': 6822, 'ue t': 7403, 'e th': 2735, 'ey d': 3367, ' did': 405, 'didn': 2480, 'idn ': 4082, \"dn '\": 2502, ' t r': 1031, 't re': 6946, 'reso': 6254, 'esol': 3265, 'solv': 6733, 'olve': 5526, 'lve ': 4724, 've t': 7628, 'to m': 7256, 'o my': 5423, 'my s': 4937, 'y sa': 7971, ' sat': 928, 'sati': 6578, 'atis': 1940, 'tisf': 7214, 'isfa': 4346, 'sfac': 6669, 'acti': 1559, 'ctio': 2238, 'tion': 7207, 'ion ': 4261, 'on .': 5568, 'used ': 7524, 'sed p': 6623, 'ed pa': 2895, 'd pay': 2333, ' payp': 849, 'paypa': 5873, 'aypal': 2005, 'ypal ': 8033, 'pal f': 5849, 'al fo': 1648, 'l for': 4522, ' for ': 499, 'for m': 3504, 'or my': 5667, 'r my ': 6079, ' my b': 748, 'my bu': 4923, 'y buy': 7912, ' buyi': 335, 'buyin': 2091, 'uying': 7583, 'ying ': 8011, 'ing a': 4227, 'ng an': 5200, 'g and': 3564, 'and s': 1747, 'nd se': 5105, 'd sel': 2348, ' sell': 951, 'selli': 6631, 'ellin': 3003, 'lling': 4656, 'ling ': 4620, 'ing f': 4231, 'ng fo': 5206, 'g for': 3572, 'for t': 3510, 'or th': 5676, 'r the': 6111, 'he pa': 3820, 'e pas': 2696, ' past': 844, 'past ': 5865, 'ast 0': 1900, 'st 0 ': 6778, 't 0 y': 6864, ' 0 ye': 150, '0 yea': 1485, ' year': 1267, 'years': 8002, 'ears ': 2813, 'ars a': 1856, 'rs an': 6386, 's and': 6476, 'and n': 1739, 'nd ne': 5091, 'd nev': 2321, ' neve': 768, 'never': 5182, 'ver h': 7656, 'er ha': 3147, 'r had': 6065, ' had ': 555, 'had a': 3731, 'ad an': 1567, 'd an ': 2269, ' an i': 246, 'an is': 1721, 'n iss': 5004, ' issu': 665, 'issue': 4358, 'ssue ': 6769, 'sue t': 6823, 'ue th': 7404, 'e the': 2738, 'hey d': 3891, 'ey di': 3368, 'y did': 7923, ' didn': 408, 'didn ': 2481, \"idn '\": 4083, \"dn ' \": 2503, \"' t r\": 1312, ' t re': 1032, 't res': 6947, ' reso': 907, 'resol': 6255, 'esolv': 3266, 'solve': 6734, 'olve ': 5527, 'lve t': 4725, 've to': 7631, ' to m': 1108, 'to my': 7259, 'o my ': 5424, ' my s': 758, 'my sa': 4938, 'y sat': 7972, ' sati': 932, 'satis': 6579, 'atisf': 1941, 'tisfa': 7215, 'isfac': 4347, 'sfact': 6670, 'facti': 3424, 'actio': 1560, 'ction': 2239, 'tion ': 7208, 'ion .': 4262, 'used p': 7526, 'sed pa': 6624, 'ed pay': 2896, 'd payp': 2334, ' paypa': 850, 'paypal': 5874, 'aypal ': 2006, 'ypal f': 8034, 'pal fo': 5850, 'al for': 1649, 'l for ': 4523, ' for m': 501, 'for my': 3505, 'or my ': 5668, 'r my b': 6080, ' my bu': 749, 'my buy': 4924, 'y buyi': 7913, ' buyin': 336, 'buying': 2092, 'uying ': 7584, 'ying a': 8012, 'ing an': 4228, 'ng and': 5201, 'g and ': 3565, ' and s': 254, 'and se': 1748, 'nd sel': 5106, 'd sell': 2349, ' selli': 952, 'sellin': 6632, 'elling': 3004, 'lling ': 4657, 'ling f': 4621, 'ing fo': 4232, 'ng for': 5207, 'g for ': 3573, ' for t': 504, 'for th': 3511, 'or the': 5677, 'r the ': 6112, 'the pa': 7129, 'he pas': 3822, 'e past': 2697, ' past ': 845, 'past 0': 5866, 'ast 0 ': 1901, 'st 0 y': 6779, 't 0 ye': 6865, ' 0 yea': 151, '0 year': 1486, ' years': 1268, 'years ': 8003, 'ears a': 2814, 'ars an': 1857, 'rs and': 6387, 's and ': 6477, ' and n': 250, 'and ne': 1740, 'nd nev': 5092, 'd neve': 2322, ' never': 769, 'never ': 5183, 'ever h': 3318, 'ver ha': 7657, 'er had': 3148, 'r had ': 6066, ' had a': 556, 'had an': 3733, 'ad an ': 1568, 'd an i': 2271, ' an is': 247, 'an iss': 1722, 'n issu': 5005, ' issue': 666, 'issue ': 4359, 'ssue t': 6770, 'sue th': 6824, 'ue the': 7405, 'e they': 2741, 'they d': 7161, 'hey di': 3892, 'ey did': 3369, 'y didn': 7924, ' didn ': 409, \"didn '\": 2482, \"idn ' \": 4084, \"dn ' t\": 2504, \" ' t r\": 30, \"' t re\": 1313, ' t res': 1033, 't reso': 6948, ' resol': 908, 'resolv': 6256, 'esolve': 3267, 'solve ': 6735, 'olve t': 5528, 'lve to': 4726, 've to ': 7632, 'e to m': 2747, ' to my': 1110, 'to my ': 7260, 'o my s': 5426, ' my sa': 759, 'my sat': 4939, 'y sati': 7973, ' satis': 933, 'satisf': 6580, 'atisfa': 1942, 'tisfac': 7216, 'isfact': 4348, 'sfacti': 6671, 'factio': 3425, 'action': 1561, 'ction ': 2240, 'tion .': 7209, ' v': 1184, 'de': 2423, 'tw': 7351, 'wo': 7823, 'pu': 5984, 'ur': 7475, 'cj': 2183, 'j ': 4440, 'ut': 7544, ' :': 156, ': ': 1492, 'w ': 7699, 'eg': 2954, 'ga': 3597, 'ld': 4556, 'sc': 6588, 'cr': 2218, 'ro': 6328, 'v ': 7585, 'sk': 6719, 'ky': 4495, 'yr': 8035, 'm ': 4754, 'fi': 3472, 'by': 2093, 'bo': 2059, 'ei': 2959, 'ex': 3342, 'xt': 7865, 'tr': 7302, 'em': 3017, 'ns': 5278, 'au': 1948, 'ok': 5501, 'ke': 4463, 'sy': 6837, 'iu': 4418, 'ec': 2835, 'mm': 4886, 'pc': 5875, 'c ': 2101, \"i '\": 3976, \"' v\": 1314, ' ve': 1189, 'e m': 2664, 'mad': 4796, 'ade': 1579, 'de ': 2424, ' tw': 1150, 'two': 7352, 'wo ': 7824, 'o p': 5427, ' pu': 884, 'pur': 5985, 'urc': 7483, 'ase': 1884, 'ses': 6650, 's o': 6525, ' on': 798, 'n c': 4973, ' cj': 359, 'cj ': 2184, \"j '\": 4441, \"' s\": 1300, ' s ': 920, 's f': 6502, 'r f': 6055, 'fal': 3426, 'llo': 4658, 'lou': 4688, 'out': 5768, 'ut ': 7545, 't :': 6866, ' : ': 157, ': n': 1493, 'new': 5184, 'ew ': 3325, 'w v': 7712, 'veg': 7642, 'ega': 2955, 'gas': 3608, 'e e': 2612, 'eld': 2990, 'lde': 4570, 'der': 2459, 'r s': 6097, ' sc': 939, 'scr': 6589, 'cro': 2219, 'rol': 6345, 'oll': 5518, 'lls': 4667, 'ls ': 4710, 's v': 6551, ' v ': 1185, 'v :': 7586, ': s': 1497, ' sk': 981, 'sky': 6720, 'kyr': 4496, 'yri': 8036, 'rim': 6293, 'im ': 4178, 'm .': 4755, '. i': 1423, 'e b': 2576, 'sfi': 6679, 'fie': 3473, 'ied': 4085, 'd b': 2276, ' by': 337, 'by ': 2094, ' bo': 319, 'bot': 2060, 'th ': 7072, 'h ,': 3681, ', b': 1342, 'bei': 2038, 'ein': 2960, 'g e': 3566, ' ex': 465, 'ext': 3350, 'xtr': 7870, 'tre': 7313, 'rem': 6231, 'eme': 3038, 'mel': 4859, 'ely': 3013, 'y c': 7914, 'n t': 5031, 'e s': 2717, ' st': 1003, 'ste': 6798, 'tea': 7033, 'eam': 2795, 'am ': 1681, 'm v': 4792, 'ers': 3203, 'rsi': 6394, 'sio': 6703, 'ons': 5626, 'ns ': 5279, 's .': 6454, '. t': 1442, ' au': 285, 'aut': 1955, 'uto': 7572, 'tok': 7276, 'oke': 5506, 'key': 4481, ' sy': 1020, 'sys': 6838, 'yst': 8045, 'tem': 7044, 'em ': 3018, 'm t': 4783, 't c': 6885, 's u': 6547, 's g': 6506, ' ge': 534, 'gen': 3617, 'eni': 3086, 'niu': 5242, 'ius': 4419, 'us ': 7505, 'i r': 4014, 'rec': 6207, 'eco': 2852, 'omm': 5553, 'mme': 4887, 'men': 4863, 'end': 3072, 'o a': 5369, 'nyo': 5359, 'yon': 8015, 'one': 5608, 'ne ': 5152, 'e w': 2768, ' wh': 1230, 'who': 7785, 'ho ': 3919, 'o i': 5407, 'a p': 1527, ' pc': 851, 'pc ': 5876, 'c g': 2102, ' ga': 529, 'gam': 3602, 'ame': 1692, 'mer': 4868, 'r !': 6006, \"i ' \": 3977, \" ' v\": 31, \"' ve\": 1315, ' ve ': 1190, 've m': 7619, 'e ma': 2665, ' mad': 711, 'made': 4797, 'ade ': 1580, 'de t': 2434, 'e tw': 2761, ' two': 1151, 'two ': 7353, 'wo p': 7825, 'o pu': 5428, ' pur': 885, 'purc': 5986, 'urch': 7484, 'rcha': 6146, 'chas': 2170, 'hase': 3760, 'ases': 1891, 'ses ': 6651, 'es o': 3248, 's on': 6526, ' on ': 799, 'on c': 5572, 'n cj': 4977, ' cj ': 360, \"cj '\": 2185, \"j ' \": 4442, \" ' s\": 22, \"' s \": 1301, ' s f': 921, 's fo': 6503, 'or f': 5663, 'r fa': 6056, ' fal': 481, 'fall': 3427, 'allo': 1662, 'llou': 4659, 'lout': 4689, 'out ': 5769, 'ut :': 7546, 't : ': 6867, ' : n': 158, ': ne': 1494, ' new': 770, 'new ': 5185, 'ew v': 3329, 'w ve': 7713, ' veg': 1193, 'vega': 7643, 'egas': 2956, 'gas ': 3609, 'he e': 3794, 'e el': 2616, ' eld': 440, 'elde': 2991, 'lder': 4571, 'der ': 2460, 'er s': 3158, 'r sc': 6101, ' scr': 940, 'scro': 6590, 'crol': 2220, 'roll': 6346, 'olls': 5522, 'lls ': 4668, 'ls v': 4711, 's v ': 6552, ' v :': 1186, 'v : ': 7587, ' : s': 161, ': sk': 1498, ' sky': 982, 'skyr': 6721, 'kyri': 4497, 'yrim': 8037, 'rim ': 6294, 'im .': 4179, 'm . ': 4756, ' . i': 111, '. i ': 1424, 've b': 7607, 'e be': 2577, 'n sa': 5025, 'isfi': 4349, 'sfie': 6680, 'fied': 3474, 'ied ': 4086, 'ed b': 2877, 'd by': 2280, ' by ': 338, 'by b': 2098, 'y bo': 7908, ' bot': 320, 'both': 2061, 'oth ': 5717, 'th ,': 7073, 'h , ': 3682, ' , b': 56, ', be': 1343, ' bei': 313, 'bein': 2039, 'eing': 2961, 'ng e': 5202, 'g ex': 3567, ' ext': 471, 'extr': 3354, 'xtre': 7874, 'trem': 7314, 'reme': 6232, 'emel': 3042, 'mely': 4860, 'ely ': 3014, 'ly c': 4739, 'y ch': 7915, 'er t': 3163, 'than': 7099, 'han ': 3739, 'an t': 1723, 'n th': 5032, 'he s': 3830, 'e st': 2721, ' ste': 1010, 'stea': 6799, 'team': 7034, 'eam ': 2796, 'am v': 1685, 'm ve': 4793, ' ver': 1196, 'vers': 7666, 'ersi': 3207, 'rsio': 6395, 'sion': 6704, 'ions': 4270, 'ons ': 5627, 'ns .': 5280, 's . ': 6455, ' . t': 122, '. th': 1443, 'he a': 3781, 'e au': 2573, ' aut': 286, 'auto': 1956, 'utok': 7573, 'toke': 7277, 'okey': 5510, 'key ': 4482, 'ey s': 3370, 'y sy': 7977, ' sys': 1021, 'syst': 6839, 'yste': 8046, 'stem': 6805, 'tem ': 7045, 'em t': 3028, 'm th': 4784, 'at c': 1909, 't cj': 6886, ' s u': 924, 's us': 6548, 'uses': 7527, 'is g': 4333, 's ge': 6507, ' gen': 535, 'geni': 3618, 'eniu': 3087, 'nius': 5243, 'ius ': 4420, 'us .': 7506, ' i r': 621, 'i re': 4015, ' rec': 893, 'reco': 6211, 'ecom': 2853, 'comm': 2198, 'omme': 5554, 'mmen': 4888, 'mend': 4864, 'end ': 3073, 'te t': 7030, 'to a': 7225, 'o an': 5376, ' any': 261, 'anyo': 1802, 'nyon': 5360, 'yone': 8016, 'one ': 5609, 'ne w': 5165, 'e wh': 2775, ' who': 1237, 'who ': 7786, 'ho i': 3920, 'o is': 5408, 's a ': 6461, ' a p': 181, 'a pc': 1528, ' pc ': 852, 'pc g': 5877, 'c ga': 2103, ' gam': 530, 'game': 3603, 'amer': 1693, 'mer ': 4869, 'er !': 3121, \"i ' v\": 3980, \" ' ve\": 32, \"' ve \": 1316, ' ve m': 1191, 've ma': 7620, 'e mad': 2666, ' made': 712, 'made ': 4798, 'ade t': 1587, 'de tw': 2435, 'e two': 2762, ' two ': 1152, 'two p': 7354, 'wo pu': 7826, 'o pur': 5429, ' purc': 886, 'purch': 5987, 'urcha': 7485, 'rchas': 6147, 'chase': 2171, 'hases': 3763, 'ases ': 1892, 'ses o': 6654, 'es on': 3249, 's on ': 6527, ' on c': 802, 'on cj': 5573, 'n cj ': 4978, \" cj '\": 361, \"cj ' \": 2186, \"j ' s\": 4443, \" ' s \": 23, \"' s f\": 1302, ' s fo': 922, 's for': 6504, 'for f': 3502, 'or fa': 5664, 'r fal': 6057, ' fall': 482, 'fallo': 3428, 'allou': 1663, 'llout': 4660, 'lout ': 4690, 'out :': 5770, 'ut : ': 7547, 't : n': 6868, ' : ne': 159, ': new': 1495, ' new ': 771, 'new v': 5186, 'ew ve': 3330, 'w veg': 7714, ' vega': 1194, 'vegas': 7644, 'egas ': 2957, 'gas a': 3610, 'as an': 1872, 'the e': 7114, 'he el': 3795, 'e eld': 2617, ' elde': 441, 'elder': 2992, 'lder ': 4572, 'der s': 2461, 'er sc': 3159, 'r scr': 6102, ' scro': 941, 'scrol': 6591, 'croll': 2221, 'rolls': 6347, 'olls ': 5523, 'lls v': 4669, 'ls v ': 4712, 's v :': 6553, ' v : ': 1187, 'v : s': 7588, ' : sk': 162, ': sky': 1499, ' skyr': 983, 'skyri': 6722, 'kyrim': 4498, 'yrim ': 8038, 'rim .': 6295, 'im . ': 4180, 'm . i': 4757, ' . i ': 112, '. i h': 1425, 'ave b': 1964, 've be': 7608, 'e bee': 2580, 'een s': 2943, 'en sa': 3060, 'n sat': 5026, 'tisfi': 7217, 'isfie': 4350, 'sfied': 6681, 'fied ': 3475, 'ied b': 4087, 'ed by': 2880, 'd by ': 2281, ' by b': 341, 'by bo': 2099, 'y bot': 7909, ' both': 321, 'both ': 2062, 'oth ,': 5718, 'th , ': 7074, 'h , b': 3683, ' , be': 57, ', bei': 1344, ' bein': 314, 'being': 2040, 'eing ': 2962, 'ing e': 4229, 'ng ex': 5203, 'g ext': 3568, ' extr': 474, 'extre': 3357, 'xtrem': 7875, 'treme': 7315, 'remel': 6233, 'emely': 3043, 'mely ': 4861, 'ely c': 3015, 'ly ch': 4740, 'y che': 7916, 'per t': 5885, 'er th': 3164, 'r tha': 6109, ' than': 1046, 'than ': 7100, 'han t': 3740, 'an th': 1724, 'n the': 5033, 'the s': 7133, 'he st': 3833, 'e ste': 2722, ' stea': 1011, 'steam': 6800, 'team ': 7035, 'eam v': 2797, 'am ve': 1686, 'm ver': 4794, ' vers': 1199, 'versi': 7667, 'ersio': 3208, 'rsion': 6396, 'sions': 6709, 'ions ': 4271, 'ons .': 5628, 'ns . ': 5281, 's . t': 6458, ' . th': 123, '. the': 1444, 'the a': 7107, 'he au': 3782, 'e aut': 2574, ' auto': 287, 'autok': 1957, 'utoke': 7574, 'tokey': 7278, 'okey ': 5511, 'key s': 4483, 'ey sy': 3371, 'y sys': 7978, ' syst': 1022, 'syste': 6840, 'ystem': 8047, 'stem ': 6806, 'tem t': 7048, 'em th': 3029, 'm tha': 4785, 'hat c': 3767, 'at cj': 1910, 't cj ': 6887, \"' s u\": 1304, ' s us': 925, 's use': 6549, ' uses': 1179, 'uses ': 7528, 'ses i': 6652, ' is g': 661, 'is ge': 4334, 's gen': 6508, ' geni': 536, 'geniu': 3619, 'enius': 3088, 'nius ': 5244, 'ius .': 4421, 'us . ': 7507, 's . i': 6456, '. i r': 1427, ' i re': 622, 'i rec': 4016, ' reco': 896, 'recom': 6212, 'ecomm': 2854, 'comme': 2199, 'ommen': 5555, 'mmend': 4889, 'mend ': 4865, 'end t': 3078, 'd thi': 2372, 'ite t': 4386, 'te to': 7031, ' to a': 1089, 'to an': 7230, 'o any': 5377, ' anyo': 262, 'anyon': 1803, 'nyone': 5361, 'yone ': 8017, 'one w': 5612, 'ne wh': 5166, 'e who': 2776, ' who ': 1238, 'who i': 7787, 'ho is': 3921, 'o is ': 5409, 'is a ': 4323, 's a p': 6462, ' a pc': 182, 'a pc ': 1529, ' pc g': 853, 'pc ga': 5878, 'c gam': 2104, ' game': 531, 'gamer': 3604, 'amer ': 1694, 'mer !': 4870, \"i ' ve\": 3981, \" ' ve \": 33, \"' ve m\": 1317, ' ve ma': 1192, 've mad': 7621, 'e made': 2667, ' made ': 713, 'made t': 4800, 'ade tw': 1588, 'de two': 2436, 'e two ': 2763, ' two p': 1153, 'two pu': 7355, 'wo pur': 7827, 'o purc': 5430, ' purch': 887, 'purcha': 5988, 'urchas': 7486, 'rchase': 6148, 'chases': 2173, 'hases ': 3764, 'ases o': 1893, 'ses on': 6655, 'es on ': 3250, 's on c': 6528, ' on cj': 803, 'on cj ': 5574, \"n cj '\": 4979, \" cj ' \": 362, \"cj ' s\": 2187, \"j ' s \": 4444, \" ' s f\": 24, \"' s fo\": 1303, ' s for': 923, 's for ': 6505, ' for f': 500, 'for fa': 3503, 'or fal': 5665, 'r fall': 6058, ' fallo': 483, 'fallou': 3429, 'allout': 1664, 'llout ': 4661, 'lout :': 4691, 'out : ': 5771, 'ut : n': 7548, 't : ne': 6869, ' : new': 160, ': new ': 1496, ' new v': 772, 'new ve': 5187, 'ew veg': 3331, 'w vega': 7715, ' vegas': 1195, 'vegas ': 7645, 'egas a': 2958, 'gas an': 3611, 'as and': 1874, ' and t': 255, ' the e': 1053, 'the el': 7115, 'he eld': 3796, 'e elde': 2618, ' elder': 442, 'elder ': 2993, 'lder s': 4573, 'der sc': 2462, 'er scr': 3160, 'r scro': 6103, ' scrol': 942, 'scroll': 6592, 'crolls': 2222, 'rolls ': 6348, 'olls v': 5524, 'lls v ': 4670, 'ls v :': 4713, 's v : ': 6554, ' v : s': 1188, 'v : sk': 7589, ' : sky': 163, ': skyr': 1500, ' skyri': 984, 'skyrim': 6723, 'kyrim ': 4499, 'yrim .': 8039, 'rim . ': 6296, 'im . i': 4181, 'm . i ': 4758, ' . i h': 113, '. i ha': 1426, 'have b': 3777, 'ave be': 1965, 've bee': 7609, 'e been': 2581, 'been s': 2037, 'een sa': 2944, 'en sat': 3061, 'n sati': 5027, 'atisfi': 1943, 'tisfie': 7218, 'isfied': 4351, 'sfied ': 6682, 'fied b': 3476, 'ied by': 4088, 'ed by ': 2881, 'd by b': 2282, ' by bo': 342, 'by bot': 2100, 'y both': 7910, ' both ': 322, 'both ,': 2063, 'oth , ': 5719, 'th , b': 7075, 'h , be': 3684, ' , bei': 58, ', bein': 1345, ' being': 315, 'being ': 2041, 'eing e': 2963, 'ing ex': 4230, 'ng ext': 5204, 'g extr': 3569, ' extre': 476, 'extrem': 3358, 'xtreme': 7876, 'tremel': 7316, 'remely': 6234, 'emely ': 3044, 'mely c': 4862, 'ely ch': 3016, 'ly che': 4741, 'y chea': 7917, 'aper t': 1810, 'per th': 5886, 'er tha': 3165, 'r than': 6110, ' than ': 1047, 'than t': 7101, 'han th': 3741, 'an the': 1725, 'n the ': 5034, ' the s': 1060, 'the st': 7135, 'he ste': 3834, 'e stea': 2723, ' steam': 1012, 'steam ': 6801, 'team v': 7036, 'eam ve': 2798, 'am ver': 1687, 'm vers': 4795, ' versi': 1200, 'versio': 7668, 'ersion': 3209, 'rsions': 6397, 'sions ': 6710, 'ions .': 4272, 'ons . ': 5629, 'ns . t': 5282, 's . th': 6459, ' . the': 124, '. the ': 1445, ' the a': 1050, 'the au': 7108, 'he aut': 3783, 'e auto': 2575, ' autok': 288, 'autoke': 1958, 'utokey': 7575, 'tokey ': 7279, 'okey s': 5512, 'key sy': 4484, 'ey sys': 3372, 'y syst': 7979, ' syste': 1023, 'system': 6841, 'ystem ': 8048, 'stem t': 6807, 'tem th': 7049, 'em tha': 3030, 'm that': 4786, 'that c': 7104, 'hat cj': 3768, 'at cj ': 1911, \"t cj '\": 6888, \" ' s u\": 25, \"' s us\": 1305, ' s use': 926, 's uses': 6550, ' uses ': 1180, 'uses i': 7529, 'ses is': 6653, 's is g': 6524, ' is ge': 662, 'is gen': 4335, 's geni': 6509, ' geniu': 537, 'genius': 3620, 'enius ': 3089, 'nius .': 5245, 'ius . ': 4422, 'us . i': 7508, 's . i ': 6457, ' . i r': 114, '. i re': 1428, ' i rec': 623, 'i reco': 4018, ' recom': 897, 'recomm': 6213, 'ecomme': 2855, 'commen': 2200, 'ommend': 5556, 'mmend ': 4890, 'mend t': 4867, 'end th': 3079, 'nd thi': 5118, 'd this': 2373, 'site t': 6716, 'ite to': 4387, 'te to ': 7032, 'e to a': 2744, ' to an': 1092, 'to any': 7231, 'o anyo': 5378, ' anyon': 263, 'anyone': 1804, 'nyone ': 5362, 'yone w': 8018, 'one wh': 5613, 'ne who': 5167, 'e who ': 2777, ' who i': 1239, 'who is': 7788, 'ho is ': 3922, 'o is a': 5410, ' is a ': 657, 'is a p': 4324, 's a pc': 6463, ' a pc ': 183, 'a pc g': 1530, ' pc ga': 854, 'pc gam': 5879, 'c game': 2105, ' gamer': 532, 'gamer ': 3605, 'amer !': 1695, 'ry': 6432, 'pp': 5938, 'py': 5993, 'ia': 4036, 'rd': 6149, 'oo': 5644, 'fu': 3538, 'ds': 2514, 'nf': 5188, 'ir': 4279, 'rm': 6314, 'ra': 6118, '),': 1332, 'fr': 3516, 'dl': 2495, 'ta': 6992, 'af': 1589, 'rk': 6308, 'et': 3281, 'iv': 4423, 'od': 5469, 'du': 2525, 'uc': 7396, 'sh': 6683, 'ip': 4274, 'pi': 5899, 'hy': 3970, 'gi': 3652, 'ug': 7414, 'gh': 3636, 'ul': 7420, 'rn': 6323, 'la': 4547, 'k ': 4450, '..': 1454, 'ak': 1631, 'up': 7449, 'br': 2069, 'nc': 5065, 'rr': 6363, 'ba': 2016, 'nk': 5246, 'po': 5921, 'os': 5694, 'tu': 7331, 'no': 5256, 'ab': 1542, 'bl': 2046, 'le': 4574, 'fy': 3549, ' $': 12, '$ ': 1290, '00': 1487, ' j': 680, 'ju': 4445, 'ig': 4134, 'ht': 3953, '! ': 1276, 'ov': 5778, 'pl': 5913, 'xp': 7856, 'eb': 2830, 'bs': 2074, 'ef': 2949, 'ag': 1600, 'i w': 4029, 'was': 7725, 'ery': 3217, 'ry ': 6433, 'y h': 7932, 'hap': 3748, 'app': 1814, 'ppy': 5947, 'py ': 5994, 'wit': 7811, 'ith': 4395, 'dia': 2472, 'iam': 4037, 'ond': 5599, 't i': 6915, 'i o': 4006, ' or': 816, 'ord': 5678, 'rde': 6158, 'red': 6217, 'd .': 2258, '. a': 1404, ' as': 271, ' so': 985, 'soo': 6746, 'oon': 5649, 's t': 6540, ' fu': 520, 'fun': 3545, 'nds': 5145, 'ds ': 2515, 's w': 6558, ' we': 1213, 'wer': 7758, 'onf': 5614, 'nfi': 5189, 'fir': 3482, 'irm': 4310, 'rme': 6319, 'med': 4849, 'd (': 2254, '( w': 1323, 'wir': 7805, 'ire': 4299, ' tr': 1129, 'tra': 7303, 'ran': 6132, 'ans': 1779, 'nsf': 5290, 'sfe': 6672, 'r )': 6007, ' ),': 47, '), ': 1333, ' fr': 508, 'fri': 3521, 'rie': 6272, 'ien': 4089, 'ndl': 5141, 'dly': 2496, 'sta': 6789, 'taf': 6997, 'aff': 1590, 'ff ': 3453, 'f w': 3409, ' wo': 1255, 'wor': 7828, 'ork': 5682, 'rke': 6309, 'ked': 4471, ' me': 728, 'mee': 4855, 'eet': 2945, 'et ': 3282, 'y n': 7953, 'nee': 5176, 'eed': 2927, 'eds': 2915, 'd m': 2309, ' su': 1013, 'sur': 6832, 'ure': 7491, 'ece': 2840, 'cei': 2144, 'eiv': 2976, 'ive': 4424, 'ved': 7636, 'y p': 7959, 'pro': 5966, 'rod': 6337, 'odu': 5470, 'duc': 2526, 'uct': 7397, ' in': 639, 'in ': 4192, 'low': 4697, 'owi': 5806, 'win': 7801, ' sh': 962, 'shi': 6684, 'hip': 3905, 'ipp': 4275, 'ppi': 5939, 'pin': 5904, 'e r': 2706, 'eas': 2815, 'aso': 1894, 'son': 6742, 'n w': 5054, 'why': 7791, 'hy ': 3971, 'y i': 7939, 'i d': 3990, 't g': 6907, ' gi': 545, 'giv': 3653, 'hem': 3864, 'm 0': 4759, '0 s': 1475, 'tar': 7006, ', e': 1350, ' ev': 461, 'ven': 7646, 'tho': 7171, 'hou': 3926, 'oug': 5739, 'ugh': 7415, 'gh ': 3637, 'cou': 2211, 'oul': 5743, 'uld': 7428, 'ld ': 4557, 'd h': 2287, ' ea': 435, 'arn': 1844, 'rne': 6324, 'ned': 5168, ' it': 667, 'it ': 4362, 't ,': 6850, 'bec': 2029, 'eca': 2836, 'cau': 2117, 'aus': 1949, 'e o': 2680, ' de': 387, 'del': 2452, 'ela': 2986, 'lay': 4552, 'aye': 1995, 'yed': 8004, 'e i': 2655, 'too': 7289, 'ook': 5645, 'ok ': 5502, 'k t': 4459, 'o c': 5383, 'rm ': 6315, '. .': 1396, ' ..': 131, '...': 1462, '.. ': 1455, 'f p': 3394, 'ayi': 1999, 'g w': 3593, 'h a': 3685, 'a w': 1538, ', m': 1372, 'mak': 4805, 'ake': 1632, 'ke ': 4464, 'o f': 5393, 'fol': 3496, 'ow ': 5795, 'w u': 7708, ' up': 1155, 'up ': 7450, 'p w': 5834, 'h b': 3695, ' br': 323, 'bri': 2070, 'ril': 6289, 'lia': 4605, 'ian': 4041, 'anc': 1729, 'nce': 5066, 'n e': 4984, ' er': 457, 'err': 3196, 'rro': 6376, 'ror': 6359, 'r d': 6044, ' du': 423, 'due': 2530, 'o t': 5446, 'hei': 3852, 'eir': 2964, 'ir ': 4280, 'r b': 6030, ' ba': 297, 'ban': 2017, 'ank': 1771, 'nk ': 5247, 'k .': 4451, '. e': 1411, 's h': 6513, ' po': 859, 'pos': 5934, 'ost': 5695, 'ted': 7037, 'd o': 2323, ' tu': 1138, 'tue': 7332, 'ues': 7408, 'e n': 2676, ' no': 777, 'not': 5261, 't a': 6870, ' ab': 190, 'abl': 1543, 'ble': 2047, 'le ': 4575, 'o v': 5451, 'eri': 3189, 'rif': 6281, 'ify': 4130, 'fy ': 3550, 't .': 6856, 'n m': 5010, ' mo': 735, 'nda': 5129, 'day': 2412, 'ay ': 1988, 'd r': 2341, 'm s': 4779, 'atu': 1944, 'tur': 7336, 'urd': 7487, 'rda': 6154, 'y ,': 7877, ', p': 1380, 'pai': 5839, 'aid': 1610, 'id ': 4071, 'd $': 2250, ' $ ': 13, '$ 0': 1291, ' 00': 152, '00 ': 1488, '0 e': 1467, 'ra ': 6119, 'a f': 1509, 't d': 6889, 'eli': 2994, 'liv': 4622, 'y t': 7980, 'o e': 5389, ' en': 450, 'ens': 3094, 'nsu': 5294, 'y .': 7881, '. j': 1434, ' ju': 681, 'jus': 4446, 'ust': 7530, 't f': 6903, 'm r': 4775, ' ri': 912, 'rig': 6285, 'igh': 4139, 'ght': 3643, 'ht ': 3954, 'awa': 1979, 'd y': 2403, 'l b': 4509, 'be ': 2022, ' fi': 487, 'fin': 3477, 'ine': 4212, ' ! ': 1, '! o': 1285, ' ov': 831, 'ove': 5779, 'era': 3167, 'ral': 6128, 'l ,': 4501, ' pl': 855, 'ple': 5914, 'lea': 4583, 'h m': 3707, 'y e': 7927, 'exp': 3343, 'xpe': 7857, 'enc': 3067, 'i l': 4002, 'lov': 4692, 'i f': 3994, 'r w': 6114, 'web': 7750, 'ebs': 2831, 'bsi': 2075, '! d': 1277, 'def': 2448, 'ef ': 2950, 'wou': 7835, 'd w': 2390, 'uy ': 7577, ' ag': 209, 'aga': 1601, 'gai': 3598, 'ain': 1623, 'n f': 4988, 'fro': 3525, 'rom': 6349, 'om ': 5529, 'm b': 4767, 'i wa': 4030, ' was': 1210, 'was ': 7726, 'as v': 1881, 's ve': 6555, 'very': 7669, 'ery ': 3218, 'ry h': 6437, 'y ha': 7933, ' hap': 562, 'happ': 3749, 'appy': 1815, 'ppy ': 5948, 'py w': 5998, ' wit': 1252, 'with': 7812, 'ith ': 4396, 'th t': 7092, 'he d': 3787, 'e di': 2607, ' dia': 402, 'diam': 2473, 'iamo': 4038, 'mond': 4893, 'ond ': 5600, 'at i': 1915, 't i ': 6916, ' i o': 615, 'i or': 4007, ' ord': 817, 'orde': 5679, 'rder': 6159, 'dere': 2463, 'ered': 3183, 'red ': 6218, 'ed .': 2869, 'd . ': 2259, ' . a': 97, '. as': 1408, ' as ': 272, 'as s': 1875, 's so': 6537, ' soo': 992, 'soon': 6747, 'oon ': 5650, 'on a': 5569, 'n as': 4970, 'as t': 1878, 's th': 6541, 'e fu': 2634, ' fun': 521, 'fund': 3546, 'unds': 7445, 'nds ': 5146, 'ds w': 2522, 's we': 6559, ' wer': 1227, 'were': 7759, 're c': 6169, 'conf': 2205, 'onfi': 5615, 'nfir': 5190, 'firm': 3483, 'irme': 4314, 'rmed': 6320, 'med ': 4850, 'ed (': 2866, 'd ( ': 2255, ' ( w': 39, '( wi': 1324, ' wir': 1248, 'wire': 7806, 'ire ': 4300, 're t': 6187, 'e tr': 2753, ' tra': 1130, 'tran': 7310, 'rans': 6133, 'ansf': 1780, 'nsfe': 5291, 'sfer': 6673, 'fer ': 3436, 'er )': 3122, 'r ),': 6008, ' ), ': 48, '), t': 1334, 'e fr': 2629, ' fri': 512, 'frie': 3522, 'rien': 6273, 'iend': 4093, 'endl': 3083, 'ndly': 5142, 'dly ': 2497, 'ly s': 4748, 'y st': 7974, ' sta': 1004, 'staf': 6790, 'taff': 6998, 'aff ': 1591, 'ff w': 3465, 'f wo': 3410, ' wor': 1256, 'work': 7829, 'orke': 5683, 'rked': 6310, 'ked ': 4472, 'ed t': 2900, 'd to': 2377, 'o me': 5420, ' mee': 732, 'meet': 4856, 'eet ': 2946, 'et m': 3289, 't my': 6929, 'my n': 4931, 'y ne': 7954, ' nee': 764, 'need': 5177, 'eeds': 2928, 'eds ': 2916, 'ds a': 2516, 'nd m': 5087, 'd ma': 2310, 'de s': 2431, 'e su': 2724, ' sur': 1017, 'sure': 6833, 'ure ': 7492, 'rece': 6208, 'ecei': 2841, 'ceiv': 2145, 'eive': 2977, 'ived': 4428, 'ved ': 7637, 'ed m': 2888, 'd my': 2316, 'my p': 4934, 'y pr': 7963, ' pro': 875, 'prod': 5973, 'rodu': 6338, 'oduc': 5471, 'duct': 2527, 'uct ': 7398, 'ct i': 2225, 't in': 6921, ' in ': 640, 'in t': 4209, 'n ti': 5038, 'me b': 4837, 'e by': 2585, 'by a': 2095, 'y al': 7893, ' all': 217, 'llow': 4662, 'lowi': 4701, 'owin': 5807, 'wing': 7802, 'or s': 5672, 'r sa': 6098, 'sat ': 6573, 'at s': 1922, 't sh': 6953, ' shi': 963, 'ship': 6685, 'hipp': 3906, 'ippi': 4276, 'ppin': 5940, 'ping': 5905, 'ng .': 5196, 'g . ': 3556, 'he r': 3827, 'e re': 2707, 'reas': 6201, 'easo': 2819, 'ason': 1895, 'son ': 6743, 'on w': 5592, 'n wh': 5055, ' why': 1241, 'why ': 7792, 'hy i': 3972, 'y i ': 7940, ' i d': 603, 'i di': 3991, ' t g': 1025, 't gi': 6908, ' giv': 546, 'give': 3654, 'ive ': 4425, 'them': 7146, 'hem ': 3865, 'em 0': 3019, 'm 0 ': 4760, ' 0 s': 143, '0 st': 1476, 'star': 6793, 'tars': 7007, 'rs ,': 6382, ' , e': 59, ', ev': 1351, ' eve': 462, 'even': 3311, 'ven ': 7647, 'en t': 3064, ' tho': 1074, 'thou': 7172, 'houg': 3927, 'ough': 5740, 'ugh ': 7416, 'gh t': 3638, 'ey c': 3364, 'y co': 7918, ' cou': 373, 'coul': 2212, 'ould': 5744, 'uld ': 7429, 'ld h': 4558, 'd ha': 2288, 've e': 7610, 'e ea': 2613, ' ear': 436, 'earn': 2809, 'arne': 1845, 'rned': 6325, 'ned ': 5169, 'ed i': 2885, 'd it': 2305, ' it ': 668, 'it ,': 4363, 't , ': 6851, ', is': 1369, 'is b': 4327, ' bec': 307, 'beca': 2030, 'ecau': 2837, 'caus': 2118, 'ause': 1950, 'se o': 6597, 'e of': 2681, 'e de': 2600, ' del': 396, 'dela': 2453, 'elay': 2987, 'laye': 4553, 'ayed': 1996, 'yed ': 8005, 'd ti': 2374, 'me i': 4843, 'e it': 2659, 'it t': 4373, ' too': 1123, 'took': 7290, 'ook ': 5646, 'ok t': 5503, 'k to': 4460, 'to c': 7235, 'o co': 5384, 'irm ': 4311, 'rm t': 6316, 'he w': 3842, 'e wi': 2778, 'er .': 3130, 'r . ': 6020, ' . .': 91, '. ..': 1397, ' ...': 135, '... ': 1463, '.. i': 1456, '. if': 1431, 'if p': 4120, 'f pa': 3395, 'payi': 5869, 'ayin': 2000, 'ng w': 5222, 'g wi': 3594, 'th a': 7076, 'h a ': 3686, ' a w': 187, 'a wi': 1539, ' , m': 74, ', ma': 1373, ' mak': 714, 'make': 4806, 'ake ': 1633, 'ke s': 4465, 'to f': 7242, 'o fo': 5400, ' fol': 495, 'foll': 3497, 'ollo': 5519, 'low ': 4698, 'ow u': 5799, 'w up': 7709, ' up ': 1156, 'up w': 7460, 'p wi': 5835, 'th b': 7083, 'h br': 3696, ' bri': 324, 'bril': 2071, 'rill': 6290, 'illi': 4165, 'llia': 4652, 'lian': 4606, 'ianc': 4042, 'ance': 1730, 'nce ': 5067, 'ce b': 2130, 'se m': 6594, 'e my': 2673, 'my w': 4940, 'an e': 1712, 'n er': 4985, ' err': 458, 'erro': 3200, 'rror': 6377, 'ror ': 6360, 'or d': 5660, 'r du': 6048, ' due': 424, 'due ': 2531, 'to t': 7270, 'o th': 5447, 'thei': 7143, 'heir': 3853, 'eir ': 2965, 'ir b': 4281, 'r ba': 6031, ' ban': 298, 'bank': 2018, 'ank ': 1772, 'nk .': 5248, 'k . ': 4452, ' . e': 102, '. ev': 1412, 'ds h': 2519, 's ha': 6514, 'ad p': 1572, 'd po': 2335, ' pos': 863, 'post': 5935, 'oste': 5696, 'sted': 6802, 'ted ': 7038, 'ed o': 2891, 'd on': 2324, 'on t': 5583, 'n tu': 5047, ' tue': 1139, 'tues': 7333, 'ues ': 7409, 'y we': 7989, 're n': 6178, 'e no': 2677, ' not': 781, 'not ': 5262, 'ot a': 5701, 't ab': 6871, ' abl': 191, 'able': 1544, 'ble ': 2048, 'le t': 4580, 'to v': 7273, 'o ve': 5452, 'veri': 7663, 'erif': 3193, 'rify': 6282, 'ify ': 4131, 'fy i': 3551, 'y it': 7946, 'it .': 4367, 't . ': 6857, ' i w': 628, 'i wi': 4033, 'ired': 4306, 'it o': 4370, 't on': 6938, 'on m': 5575, 'n mo': 5014, ' mon': 736, 'onda': 5605, 'nday': 5130, 'day ': 2413, 'ay a': 1992, 'nd r': 5101, 'd re': 2342, 'he i': 3811, ' ite': 677, 'item': 4388, 'em s': 3025, 'm sa': 4780, 'satu': 6581, 'atur': 1945, 'turd': 7337, 'urda': 7488, 'rday': 6155, 'ay ,': 1989, 'y , ': 7878, ' , p': 80, ', pa': 1381, ' pai': 837, 'paid': 5840, 'aid ': 1611, 'id $': 4072, 'd $ ': 2251, ' $ 0': 14, '$ 00': 1292, ' 00 ': 153, '00 e': 1489, '0 ex': 1468, 'xtra': 7871, 'tra ': 7304, 'ra f': 6120, 'a fo': 1513, 'at d': 1912, 't de': 6890, 'deli': 2456, 'eliv': 2998, 'live': 4623, 'iver': 4432, 'ry t': 6443, 'y to': 7981, 'to e': 7239, 'o en': 5390, ' ens': 454, 'ensu': 3098, 'nsur': 5295, 're d': 6172, 'ry .': 6434, 'y . ': 7882, ' . j': 116, '. ju': 1435, ' jus': 682, 'just': 4447, 'ust ': 7531, 'st f': 6783, 't fo': 6904, 'em r': 3022, 'm ri': 4776, ' rig': 913, 'righ': 6286, 'ight': 4140, 'ght ': 3644, 'ht a': 3955, 't aw': 6882, ' awa': 290, 'away': 1980, 'way ': 7730, 'nd y': 5126, 'd yo': 2404, 'u wi': 7384, 'll b': 4630, 'l be': 4510, ' be ': 302, 'be f': 2023, 'e fi': 2623, ' fin': 488, 'fine': 3478, 'ine ': 4213, 'ne !': 5153, 'e ! ': 2539, ' ! o': 8, '! ov': 1286, ' ove': 832, 'over': 5785, 'vera': 7660, 'eral': 3168, 'rall': 6129, 'all ': 1651, 'll ,': 4627, 'l , ': 4502, 'ry p': 6440, 'y pl': 7960, ' ple': 856, 'plea': 5918, 'leas': 4584, 'ease': 2816, 'ase ': 1885, 'se w': 6605, 'th m': 7089, 'h my': 3708, 'my e': 4925, 'y ex': 7928, ' exp': 466, 'expe': 3344, 'xper': 7858, 'peri': 5887, 'erie': 3190, 'ienc': 4090, 'ence': 3068, 'ce a': 2127, 'e an': 2570, 'd i ': 2294, ' i l': 612, 'i lo': 4003, ' lov': 703, 'love': 4693, 'ove ': 5780, ' i f': 606, 'i fo': 3995, 'nd o': 5093, 'ir w': 4296, 'r we': 6115, ' web': 1221, 'webs': 7751, 'ebsi': 2832, 'bsit': 2076, 'te !': 7024, ' ! d': 2, '! de': 1278, ' def': 393, 'def ': 2449, 'ef w': 2951, ' wou': 1261, 'woul': 7836, 'ld r': 4564, 'nd a': 5075, 'nd w': 5119, 'd wi': 2397, 'l bu': 4513, 'buy ': 2087, 'uy a': 7578, 'y ag': 7890, ' aga': 210, 'agai': 1602, 'gain': 3599, 'ain ': 1624, 'in f': 4200, 'n fr': 4989, ' fro': 515, 'from': 3526, 'rom ': 6350, 'om b': 5530, 'm br': 4768, 'ce !': 2123, 'i was': 4031, ' was ': 1211, 'was v': 7727, 'as ve': 1882, 's ver': 6556, ' very': 1201, 'very ': 7670, 'ery h': 3221, 'ry ha': 6438, 'y hap': 7934, ' happ': 563, 'happy': 3750, 'appy ': 1816, 'ppy w': 5951, 'py wi': 5999, 'y wit': 7997, ' with': 1253, 'with ': 7813, 'ith t': 4406, 'th th': 7093, 'the d': 7111, 'he di': 3791, 'e dia': 2608, ' diam': 403, 'diamo': 2474, 'iamon': 4039, 'amond': 1701, 'mond ': 4894, 'ond t': 5603, 'd tha': 2368, 'hat i': 3769, 'at i ': 1916, 't i o': 6917, ' i or': 616, 'i ord': 4008, ' orde': 818, 'order': 5680, 'rdere': 6160, 'dered': 2464, 'ered ': 3184, 'red .': 6219, 'ed . ': 2870, 'd . a': 2260, ' . as': 100, '. as ': 1409, ' as s': 275, 'as so': 1876, 's soo': 6538, ' soon': 993, 'soon ': 6748, 'oon a': 5651, 'on as': 5570, 'n as ': 4971, ' as t': 277, 'as th': 1879, 's the': 6542, 'he fu': 3803, 'e fun': 2635, ' fund': 522, 'funds': 3547, 'unds ': 7446, 'nds w': 5149, 'ds we': 2523, 's wer': 6562, ' were': 1228, 'were ': 7760, 'ere c': 3177, 're co': 6170, ' conf': 369, 'confi': 2206, 'onfir': 5616, 'nfirm': 5191, 'firme': 3486, 'irmed': 4315, 'rmed ': 6321, 'med (': 4851, 'ed ( ': 2867, 'd ( w': 2256, ' ( wi': 40, '( wir': 1325, ' wire': 1249, 'wire ': 7807, 'ire t': 4301, 're tr': 6192, 'e tra': 2754, ' tran': 1133, 'trans': 7311, 'ransf': 6134, 'ansfe': 1781, 'nsfer': 5292, 'sfer ': 6674, 'fer )': 3437, 'er ),': 3123, 'r ), ': 6009, ' ), t': 49, '), th': 1335, ', the': 1386, 'he fr': 3800, 'e fri': 2632, ' frie': 513, 'frien': 3523, 'riend': 6276, 'iendl': 4094, 'endly': 3084, 'ndly ': 5143, 'dly s': 2498, 'ly st': 4749, 'y sta': 7975, ' staf': 1005, 'staff': 6791, 'taff ': 6999, 'aff w': 1594, 'ff wo': 3466, 'f wor': 3411, ' work': 1257, 'worke': 7830, 'orked': 5684, 'rked ': 6311, 'ked t': 4475, 'ed to': 2905, 'd to ': 2378, 'to me': 7257, 'o mee': 5421, ' meet': 733, 'meet ': 4857, 'eet m': 2947, 'et my': 3290, 't my ': 6930, ' my n': 754, 'my ne': 4932, 'y nee': 7955, ' need': 765, 'needs': 5178, 'eeds ': 2929, 'eds a': 2917, 'ds an': 2517, 'and m': 1737, 'nd ma': 5088, 'd mad': 2311, 'ade s': 1585, 'de su': 2432, 'e sur': 2727, ' sure': 1018, 'sure ': 6834, 'ure t': 7495, 're th': 6188, 'e tha': 2736, 't i r': 6919, ' rece': 894, 'recei': 6209, 'eceiv': 2842, 'ceive': 2146, 'eived': 2978, 'ived ': 4429, 'ved m': 7638, 'ed my': 2889, 'd my ': 2317, ' my p': 756, 'my pr': 4935, 'y pro': 7964, ' prod': 880, 'produ': 5974, 'roduc': 6339, 'oduct': 5472, 'duct ': 2528, 'uct i': 7399, 'ct in': 2226, 't in ': 6922, ' in t': 649, 'in ti': 4210, 'n tim': 5039, 'ime b': 4184, 'me by': 4838, 'e by ': 2586, ' by a': 339, 'by al': 2096, 'y all': 7894, ' allo': 221, 'allow': 1665, 'llowi': 4665, 'lowin': 4702, 'owing': 5808, 'wing ': 7803, 'for s': 3508, 'or sa': 5673, 'r sat': 6099, ' sat ': 929, 'sat s': 6576, 'at sh': 1923, 't shi': 6954, ' ship': 964, 'shipp': 6686, 'hippi': 3907, 'ippin': 4277, 'pping': 5941, 'ping ': 5906, 'ing .': 4225, 'ng . ': 5197, 'g . t': 3557, 'the r': 7131, 'he re': 3828, 'e rea': 2708, ' reas': 891, 'reaso': 6202, 'eason': 2820, 'ason ': 1896, 'son w': 6744, 'on wh': 5593, 'n why': 5058, ' why ': 1242, 'why i': 7793, 'hy i ': 3973, 'y i d': 7941, ' i di': 604, 'i did': 3992, \"' t g\": 1308, ' t gi': 1026, 't giv': 6909, ' give': 547, 'give ': 3655, 'ive t': 4426, 've th': 7629, ' them': 1065, 'them ': 7147, 'hem 0': 3866, 'em 0 ': 3020, 'm 0 s': 4761, ' 0 st': 144, '0 sta': 1477, ' star': 1007, 'stars': 6794, 'tars ': 7008, 'ars ,': 1854, 'rs , ': 6383, 's , e': 6448, ' , ev': 60, ', eve': 1352, ' even': 463, 'even ': 3312, 'ven t': 7648, 'en th': 3065, 'n tho': 5036, ' thou': 1075, 'thoug': 7173, 'hough': 3928, 'ough ': 5741, 'ugh t': 7417, 'gh th': 3639, 'hey c': 3889, 'ey co': 3365, 'y cou': 7919, ' coul': 374, 'could': 2213, 'ould ': 5745, 'uld h': 7430, 'ld ha': 4559, 'd hav': 2291, 'ave e': 1966, 've ea': 7611, 'e ear': 2614, ' earn': 437, 'earne': 2810, 'arned': 1846, 'rned ': 6326, 'ned i': 5172, 'ed it': 2886, 'd it ': 2306, ' it ,': 669, 'it , ': 4364, 't , i': 6852, ' , is': 72, ', is ': 1370, ' is b': 659, 'is be': 4328, 's bec': 6483, ' beca': 308, 'becau': 2031, 'ecaus': 2838, 'cause': 2119, 'ause ': 1951, 'use o': 7517, 'se of': 6598, 'e of ': 2682, 'he de': 3788, 'e del': 2604, ' dela': 397, 'delay': 2454, 'elaye': 2988, 'layed': 4554, 'ayed ': 1997, 'yed t': 8006, 'ed ti': 2903, 'd tim': 2375, 'ime i': 4188, 'me it': 4844, 'e it ': 2660, ' it t': 675, 'it to': 4374, 't too': 6978, ' took': 1124, 'took ': 7291, 'ook t': 5647, 'ok to': 5504, 'k to ': 4461, ' to c': 1095, 'to co': 7236, 'o con': 5387, 'firm ': 3484, 'irm t': 4312, 'rm th': 6317, 'm the': 4787, 'the w': 7140, 'he wi': 3845, 'e wir': 2779, 'fer .': 3441, 'er . ': 3131, 'r . .': 6021, ' . ..': 92, '. ...': 1398, ' ... ': 136, '... i': 1464, '.. if': 1457, '. if ': 1432, ' if p': 635, 'if pa': 4121, 'f pay': 3396, ' payi': 847, 'payin': 5870, 'aying': 2001, 'ing w': 4242, 'ng wi': 5223, 'g wit': 3595, 'ith a': 4397, 'th a ': 7077, 'h a w': 3687, ' a wi': 188, 'a wir': 1540, 'fer ,': 3439, 'r , m': 6015, ' , ma': 75, ', mak': 1374, ' make': 715, 'make ': 4807, 'ake s': 1634, 'ke su': 4466, 're to': 6190, ' to f': 1099, 'to fo': 7245, 'o fol': 5401, ' foll': 496, 'follo': 3498, 'ollow': 5520, 'llow ': 4663, 'low u': 4699, 'ow up': 5800, 'w up ': 7710, ' up w': 1163, 'up wi': 7461, 'p wit': 5836, 'ith b': 4400, 'th br': 7084, 'h bri': 3697, ' bril': 325, 'brill': 2072, 'rilli': 6291, 'illia': 4166, 'llian': 4653, 'lianc': 4607, 'iance': 4043, 'ance ': 1731, 'nce b': 5071, 'ce be': 2131, 'e bec': 2578, 'use m': 7515, 'se my': 6595, 'e my ': 2674, ' my w': 760, 'my wi': 4941, 'y wir': 7995, 'fer h': 3443, ' an e': 242, 'an er': 1713, 'n err': 4986, ' erro': 459, 'error': 3201, 'rror ': 6378, 'ror d': 6361, 'or du': 5661, 'r due': 6049, ' due ': 425, 'due t': 2532, 'ue to': 7406, ' to t': 1116, 'to th': 7271, 'o the': 5448, ' thei': 1063, 'their': 7144, 'heir ': 3854, 'eir b': 2966, 'ir ba': 4282, 'r ban': 6032, ' bank': 299, 'bank ': 2019, 'ank .': 1773, 'nk . ': 5249, 'k . e': 4453, ' . ev': 103, '. eve': 1413, 'nds h': 5147, 'ds ha': 2520, 's had': 6515, 'had p': 3736, 'ad po': 1573, 'd pos': 2336, ' post': 864, 'poste': 5936, 'osted': 5697, 'sted ': 6803, 'ted o': 7039, 'ed on': 2892, 'd on ': 2325, ' on t': 806, 'on tu': 5590, 'n tue': 5048, ' tues': 1140, 'tues ': 7334, 'ues ,': 7410, 's , t': 6452, 'ey we': 3374, 'y wer': 7990, 'ere n': 3181, 're no': 6179, 'e not': 2678, ' not ': 782, 'not a': 5263, 'ot ab': 5702, 't abl': 6872, ' able': 192, 'able ': 1545, 'ble t': 2050, 'le to': 4581, ' to v': 1118, 'to ve': 7274, 'o ver': 5453, ' veri': 1197, 'verif': 7664, 'erify': 3194, 'rify ': 6283, 'ify i': 4132, 'fy it': 3552, 'y it ': 7947, ' it .': 671, 'it . ': 4368, 't . i': 6860, '. i w': 1429, ' i wi': 631, 'i wir': 4034, 'wired': 7809, 'ired ': 4307, 'red i': 6221, ' it o': 673, 'it on': 4371, 't on ': 6939, ' on m': 804, 'on mo': 5578, 'n mon': 5015, ' mond': 737, 'monda': 4897, 'onday': 5606, 'nday ': 5131, 'day a': 2416, 'ay an': 1993, 'and r': 1745, 'nd re': 5102, 'd rec': 2343, 'ved t': 7640, 'ed th': 2901, 'the i': 7124, 'he it': 3812, 'e ite': 2662, ' item': 678, 'item ': 4389, 'tem s': 7046, 'em sa': 3026, 'm sat': 4781, ' satu': 934, 'satur': 6582, 'aturd': 1946, 'turda': 7338, 'urday': 7489, 'rday ': 6156, 'day ,': 2414, 'ay , ': 1990, 'y , p': 7879, ' , pa': 81, ', pai': 1382, ' paid': 838, 'paid ': 5841, 'aid $': 1612, 'id $ ': 4073, 'd $ 0': 2252, ' $ 00': 15, '$ 00 ': 1293, ' 00 e': 154, '00 ex': 1490, '0 ext': 1469, 'extra': 3355, 'xtra ': 7872, 'tra f': 7305, 'ra fo': 6121, 'a for': 1514, 'sat d': 6574, 'at de': 1913, 't del': 6891, ' deli': 399, 'deliv': 2457, 'elive': 2999, 'liver': 4624, 'ivery': 4433, 'ery t': 3225, 'ry to': 6444, 'y to ': 7982, ' to e': 1097, 'to en': 7240, 'o ens': 5391, ' ensu': 455, 'ensur': 3099, 'nsure': 5296, 'ure d': 7493, 're de': 6173, 'ery .': 3219, 'ry . ': 6435, 'y . j': 7883, ' . ju': 117, '. jus': 1436, ' just': 683, 'just ': 4448, 'ust f': 7532, 'st fo': 6784, 't fol': 6905, 'hem r': 3868, 'em ri': 3023, 'm rig': 4777, ' righ': 914, 'right': 6287, 'ight ': 4141, 'ght a': 3645, 'ht aw': 3956, 't awa': 6883, ' away': 291, 'away ': 1981, 'way a': 7731, 'and y': 1758, 'nd yo': 5127, 'd you': 2405, 'ou wi': 5737, 'u wil': 7385, 'ill b': 4160, 'll be': 4631, 'l be ': 4511, ' be f': 303, 'be fi': 2024, 'e fin': 2624, ' fine': 489, 'fine ': 3479, 'ine !': 4214, 'ne ! ': 5154, 'e ! o': 2542, ' ! ov': 9, '! ove': 1287, ' over': 833, 'overa': 5788, 'veral': 7661, 'erall': 3169, 'rall ': 6130, 'all ,': 1652, 'll , ': 4628, 'l , i': 4503, ', i w': 1364, ' i wa': 629, 'ery p': 3223, 'ry pl': 6441, 'y ple': 7961, ' plea': 857, 'pleas': 5919, 'lease': 4585, 'ease ': 2817, 'ase w': 1886, 'se wi': 6608, 'e wit': 2781, 'ith m': 4404, 'th my': 7090, 'h my ': 3709, ' my e': 750, 'my ex': 4926, 'y exp': 7929, ' expe': 467, 'exper': 3345, 'xperi': 7859, 'perie': 5888, 'erien': 3191, 'rienc': 6274, 'ience': 4091, 'ence ': 3069, 'nce a': 5069, 'ce an': 2128, 'e and': 2571, 'nd i ': 5082, 'd i l': 2297, ' i lo': 613, 'i lov': 4004, ' love': 704, 'love ': 4694, 'ove t': 5781, 'ond i': 5601, 'd i f': 2295, ' i fo': 607, 'i fou': 3996, 'und o': 7443, 'nd on': 5094, 'on th': 5584, 'eir w': 2974, 'ir we': 4297, 'r web': 6116, ' webs': 1222, 'websi': 7752, 'ebsit': 2833, 'bsite': 2077, 'ite !': 4382, 'te ! ': 7025, 'e ! d': 2540, ' ! de': 3, '! def': 1279, ' def ': 394, 'def w': 2450, 'ef wo': 2952, 'f wou': 3413, ' woul': 1262, 'would': 7837, 'uld r': 7432, 'ld re': 4565, 'end a': 3074, 'nd an': 5076, 'd and': 2272, 'and w': 1754, 'nd wi': 5122, 'd wil': 2398, 'll bu': 4633, 'l buy': 4514, ' buy ': 333, 'buy a': 2088, 'uy ag': 7579, 'y aga': 7891, ' agai': 211, 'again': 1603, 'gain ': 3600, 'ain f': 1625, 'in fr': 4201, 'n fro': 4990, ' from': 516, 'from ': 3527, 'rom b': 6351, 'om br': 5531, 'm bri': 4769, 'nce !': 5068, 'i was ': 4032, ' was v': 1212, 'was ve': 7728, 'as ver': 1883, 's very': 6557, ' very ': 1202, 'very h': 7672, 'ery ha': 3222, 'ry hap': 6439, 'y happ': 7935, ' happy': 564, 'happy ': 3751, 'appy w': 1818, 'ppy wi': 5952, 'py wit': 6000, 'y with': 7998, ' with ': 1254, 'with t': 7818, 'ith th': 4407, 'th the': 7094, ' the d': 1052, 'the di': 7113, 'he dia': 3792, 'e diam': 2609, ' diamo': 404, 'diamon': 2475, 'iamond': 4040, 'amond ': 1702, 'mond t': 4896, 'ond th': 5604, 'nd tha': 5116, 'd that': 2369, 'that i': 7105, 'hat i ': 3770, 'at i o': 1917, 't i or': 6918, ' i ord': 617, 'i orde': 4009, ' order': 819, 'ordere': 5681, 'rdered': 6161, 'dered ': 2465, 'ered .': 3185, 'red . ': 6220, 'ed . a': 2871, 'd . as': 2261, ' . as ': 101, '. as s': 1410, ' as so': 276, 'as soo': 1877, 's soon': 6539, ' soon ': 994, 'soon a': 6749, 'oon as': 5652, 'on as ': 5571, 'n as t': 4972, ' as th': 278, 'as the': 1880, 's the ': 6543, 'the fu': 7119, 'he fun': 3804, 'e fund': 2636, ' funds': 523, 'funds ': 3548, 'unds w': 7448, 'nds we': 5150, 'ds wer': 2524, 's were': 6563, ' were ': 1229, 'were c': 7762, 'ere co': 3178, 're con': 6171, 'e conf': 2591, ' confi': 370, 'confir': 2207, 'onfirm': 5617, 'nfirme': 5193, 'firmed': 3487, 'irmed ': 4316, 'rmed (': 6322, 'med ( ': 4852, 'ed ( w': 2868, 'd ( wi': 2257, ' ( wir': 41, '( wire': 1326, ' wire ': 1250, 'wire t': 7808, 'ire tr': 4302, 're tra': 6193, 'e tran': 2756, ' trans': 1134, 'transf': 7312, 'ransfe': 6135, 'ansfer': 1782, 'nsfer ': 5293, 'sfer )': 6675, 'fer ),': 3438, 'er ), ': 3124, 'r ), t': 6010, ' ), th': 50, '), the': 1336, ', the ': 1387, 'the fr': 7118, 'he fri': 3802, 'e frie': 2633, ' frien': 514, 'friend': 3524, 'riendl': 6277, 'iendly': 4095, 'endly ': 3085, 'ndly s': 5144, 'dly st': 2499, 'ly sta': 4750, 'y staf': 7976, ' staff': 1006, 'staff ': 6792, 'taff w': 7001, 'aff wo': 1595, 'ff wor': 3467, 'f work': 3412, ' worke': 1258, 'worked': 7831, 'orked ': 5685, 'rked t': 6313, 'ked to': 4476, 'ed to ': 2906, 'd to m': 2381, ' to me': 1109, 'to mee': 7258, 'o meet': 5422, ' meet ': 734, 'meet m': 4858, 'eet my': 2948, 'et my ': 3291, 't my n': 6931, ' my ne': 755, 'my nee': 4933, 'y need': 7956, ' needs': 766, 'needs ': 5179, 'eeds a': 2930, 'eds an': 2918, 'ds and': 2518, ' and m': 249, 'and ma': 1738, 'nd mad': 5089, 'd made': 2312, 'made s': 4799, 'ade su': 1586, 'de sur': 2433, 'e sure': 2728, ' sure ': 1019, 'sure t': 6836, 'ure th': 7496, 're tha': 6189, 'e that': 2737, 'at i r': 1918, 't i re': 6920, 'i rece': 4017, ' recei': 895, 'receiv': 6210, 'eceive': 2843, 'ceived': 2147, 'eived ': 2979, 'ived m': 4430, 'ved my': 7639, 'ed my ': 2890, 'd my p': 2318, ' my pr': 757, 'my pro': 4936, 'y prod': 7965, ' produ': 881, 'produc': 5975, 'roduct': 6340, 'oduct ': 5473, 'duct i': 2529, 'uct in': 7400, 'ct in ': 2227, 't in t': 6924, ' in ti': 650, 'in tim': 4211, 'n time': 5040, 'time b': 7195, 'ime by': 4185, 'me by ': 4839, 'e by a': 2587, ' by al': 340, 'by all': 2097, 'y allo': 7895, ' allow': 222, 'allowi': 1666, 'llowin': 4666, 'lowing': 4703, 'owing ': 5809, 'wing f': 7804, ' for s': 503, 'for sa': 3509, 'or sat': 5674, 'r sat ': 6100, ' sat s': 931, 'sat sh': 6577, 'at shi': 1924, 't ship': 6955, ' shipp': 965, 'shippi': 6687, 'hippin': 3908, 'ipping': 4278, 'pping ': 5942, 'ping .': 5907, 'ing . ': 4226, 'ng . t': 5198, 'g . th': 3558, ' the r': 1059, 'the re': 7132, 'he rea': 3829, 'e reas': 2709, ' reaso': 892, 'reason': 6203, 'eason ': 2821, 'ason w': 1897, 'son wh': 6745, 'on why': 5594, 'n why ': 5059, ' why i': 1243, 'why i ': 7794, 'hy i d': 3974, 'y i di': 7942, ' i did': 605, 'i didn': 3993, \" ' t g\": 28, \"' t gi\": 1309, ' t giv': 1027, 't give': 6910, ' give ': 548, 'give t': 3656, 'ive th': 4427, 've the': 7630, 'e them': 2740, ' them ': 1066, 'them 0': 7148, 'hem 0 ': 3867, 'em 0 s': 3021, 'm 0 st': 4762, ' 0 sta': 145, '0 star': 1478, ' stars': 1008, 'stars ': 6795, 'tars ,': 7009, 'ars , ': 1855, 'rs , e': 6384, 's , ev': 6449, ' , eve': 61, ', even': 1353, ' even ': 464, 'even t': 3313, 'ven th': 7649, 'en tho': 3066, 'n thou': 5037, ' thoug': 1076, 'though': 7174, 'hough ': 3929, 'ough t': 5742, 'ugh th': 7418, 'gh the': 3640, 'h they': 3721, 'they c': 7160, 'hey co': 3890, 'ey cou': 3366, 'y coul': 7920, ' could': 375, 'could ': 2214, 'ould h': 5746, 'uld ha': 7431, 'ld hav': 4560, 'd have': 2292, 'have e': 3778, 'ave ea': 1967, 've ear': 7612, 'e earn': 2615, ' earne': 438, 'earned': 2811, 'arned ': 1847, 'rned i': 6327, 'ned it': 5173, 'ed it ': 2887, 'd it ,': 2307, ' it , ': 670, 'it , i': 4365, 't , is': 6853, ' , is ': 73, ', is b': 1371, ' is be': 660, 'is bec': 4329, 's beca': 6484, ' becau': 309, 'becaus': 2032, 'ecause': 2839, 'cause ': 2120, 'ause o': 1953, 'use of': 7518, 'se of ': 6599, 'e of t': 2683, 'the de': 7112, 'he del': 3790, 'e dela': 2605, ' delay': 398, 'delaye': 2455, 'elayed': 2989, 'layed ': 4555, 'ayed t': 1998, 'yed ti': 8007, 'ed tim': 2904, 'd time': 2376, 'time i': 7196, 'ime it': 4189, 'me it ': 4845, 'e it t': 2661, ' it to': 676, 'it too': 4375, 't took': 6979, ' took ': 1125, 'took t': 7292, 'ook to': 5648, 'ok to ': 5505, 'k to c': 4462, ' to co': 1096, 'to con': 7238, 'o conf': 5388, 'nfirm ': 5192, 'firm t': 3485, 'irm th': 4313, 'rm the': 6318, 'm the ': 4788, ' the w': 1062, 'the wi': 7142, 'he wir': 3846, 'e wire': 2780, 'sfer .': 6677, 'fer . ': 3442, 'er . .': 3132, 'r . ..': 6022, ' . ...': 93, '. ... ': 1399, ' ... i': 137, '... if': 1465, '.. if ': 1458, '. if p': 1433, ' if pa': 636, 'if pay': 4122, 'f payi': 3397, ' payin': 848, 'paying': 5871, 'aying ': 2002, 'ying w': 8013, 'ing wi': 4243, 'ng wit': 5224, 'g with': 3596, 'with a': 7814, 'ith a ': 4398, 'th a w': 7078, 'h a wi': 3688, ' a wir': 189, 'a wire': 1541, 'sfer ,': 6676, 'fer , ': 3440, 'er , m': 3128, 'r , ma': 6016, ' , mak': 76, ', make': 1375, ' make ': 716, 'make s': 4808, 'ake su': 1635, 'ke sur': 4467, 'ure to': 7497, 're to ': 6191, 'e to f': 2745, ' to fo': 1101, 'to fol': 7246, 'o foll': 5402, ' follo': 497, 'follow': 3499, 'ollow ': 5521, 'llow u': 4664, 'low up': 4700, 'ow up ': 5801, 'w up w': 7711, ' up wi': 1164, 'up wit': 7462, 'p with': 5837, 'with b': 7815, 'ith br': 4401, 'th bri': 7085, 'h bril': 3698, ' brill': 326, 'brilli': 2073, 'rillia': 6292, 'illian': 4167, 'llianc': 4654, 'liance': 4608, 'iance ': 4044, 'ance b': 1733, 'nce be': 5072, 'ce bec': 2132, 'e beca': 2579, 'ause m': 1952, 'use my': 7516, 'se my ': 6596, 'e my w': 2675, ' my wi': 761, 'my wir': 4942, 'y wire': 7996, 'sfer h': 6678, 'fer ha': 3444, 'd an e': 2270, ' an er': 243, 'an err': 1714, 'n erro': 4987, ' error': 460, 'error ': 3202, 'rror d': 6379, 'ror du': 6362, 'or due': 5662, 'r due ': 6050, ' due t': 426, 'due to': 2533, 'ue to ': 7407, 'e to t': 2749, ' to th': 1117, 'to the': 7272, 'o thei': 5450, ' their': 1064, 'their ': 7145, 'heir b': 3855, 'eir ba': 2967, 'ir ban': 4283, 'r bank': 6033, ' bank ': 300, 'bank .': 2020, 'ank . ': 1774, 'nk . e': 5250, 'k . ev': 4454, ' . eve': 104, '. even': 1414, 'unds h': 7447, 'nds ha': 5148, 'ds had': 2521, 's had ': 6516, ' had p': 558, 'had po': 3737, 'ad pos': 1574, 'd post': 2337, ' poste': 865, 'posted': 5937, 'osted ': 5698, 'sted o': 6804, 'ted on': 7040, 'ed on ': 2893, 'd on t': 2327, ' on tu': 809, 'on tue': 5591, 'n tues': 5049, ' tues ': 1141, 'tues ,': 7335, 'ues , ': 7411, 'es , t': 3231, 's , th': 6453, ' , the': 85, ', they': 1388, 'hey we': 3894, 'ey wer': 3375, 'y were': 7991, 'were n': 7764, 'ere no': 3182, 're not': 6180, 'e not ': 2679, ' not a': 783, 'not ab': 5264, 'ot abl': 5703, 't able': 6873, ' able ': 193, 'able t': 1547, 'ble to': 2051, 'le to ': 4582, 'e to v': 2750, ' to ve': 1119, 'to ver': 7275, 'o veri': 5454, ' verif': 1198, 'verify': 7665, 'erify ': 3195, 'rify i': 6284, 'ify it': 4133, 'fy it ': 3553, 'y it .': 7948, ' it . ': 672, 'it . i': 4369, 't . i ': 6861, ' . i w': 115, '. i wi': 1430, ' i wir': 632, 'i wire': 4035, ' wired': 1251, 'wired ': 7810, 'ired i': 4308, 'red it': 6222, 'd it o': 2308, ' it on': 674, 'it on ': 4372, 't on m': 6940, ' on mo': 805, 'on mon': 5579, 'n mond': 5016, ' monda': 738, 'monday': 4898, 'onday ': 5607, 'nday a': 5132, 'day an': 2417, 'ay and': 1994, ' and r': 253, 'and re': 1746, 'nd rec': 5103, 'd rece': 2344, 'ived t': 4431, 'ved th': 7641, 'ed the': 2902, ' the i': 1056, 'the it': 7125, 'he ite': 3813, 'e item': 2663, ' item ': 679, 'item s': 4390, 'tem sa': 7047, 'em sat': 3027, 'm satu': 4782, ' satur': 935, 'saturd': 6583, 'aturda': 1947, 'turday': 7339, 'urday ': 7490, 'rday ,': 6157, 'day , ': 2415, 'ay , p': 1991, 'y , pa': 7880, ' , pai': 82, ', paid': 1383, ' paid ': 839, 'paid $': 5842, 'aid $ ': 1613, 'id $ 0': 4074, 'd $ 00': 2253, ' $ 00 ': 16, '$ 00 e': 1294, ' 00 ex': 155, '00 ext': 1491, '0 extr': 1470, ' extra': 475, 'extra ': 3356, 'xtra f': 7873, 'tra fo': 7306, 'ra for': 6122, 'a for ': 1515, ' sat d': 930, 'sat de': 6575, 'at del': 1914, 't deli': 6892, ' deliv': 400, 'delive': 2458, 'eliver': 3000, 'livery': 4625, 'ivery ': 4434, 'very t': 7674, 'ery to': 3226, 'ry to ': 6445, 'y to e': 7983, ' to en': 1098, 'to ens': 7241, 'o ensu': 5392, ' ensur': 456, 'ensure': 3100, 'nsure ': 5297, 'sure d': 6835, 'ure de': 7494, 're del': 6174, 'e deli': 2606, 'very .': 7671, 'ery . ': 3220, 'ry . j': 6436, 'y . ju': 7884, ' . jus': 118, '. just': 1437, ' just ': 684, 'just f': 4449, 'ust fo': 7533, 'st fol': 6785, 't foll': 6906, 'h them': 3720, 'them r': 7149, 'hem ri': 3869, 'em rig': 3024, 'm righ': 4778, ' right': 915, 'right ': 6288, 'ight a': 4142, 'ght aw': 3646, 'ht awa': 3957, 't away': 6884, ' away ': 292, 'away a': 1982, 'way an': 7732, ' and y': 257, 'and yo': 1759, 'nd you': 5128, 'd you ': 2406, 'you wi': 8029, 'ou wil': 5738, 'u will': 7386, 'will b': 7799, 'ill be': 4161, 'll be ': 4632, 'l be f': 4512, ' be fi': 304, 'be fin': 2025, 'e fine': 2625, ' fine ': 490, 'fine !': 3480, 'ine ! ': 4215, 'ne ! o': 5155, 'e ! ov': 2543, ' ! ove': 10, '! over': 1288, ' overa': 835, 'overal': 5789, 'verall': 7662, 'erall ': 3170, 'rall ,': 6131, 'all , ': 1653, 'll , i': 4629, 'l , i ': 4504, ' , i w': 69, ', i wa': 1365, ' i was': 630, 'very p': 7673, 'ery pl': 3224, 'ry ple': 6442, 'y plea': 7962, ' pleas': 858, 'please': 5920, 'lease ': 4586, 'ease w': 2818, 'ase wi': 1887, 'se wit': 6609, 'e with': 2782, 'with m': 7817, 'ith my': 4405, 'th my ': 7091, 'h my e': 3710, ' my ex': 751, 'my exp': 4927, 'y expe': 7930, ' exper': 468, 'experi': 3346, 'xperie': 7860, 'perien': 5889, 'erienc': 3192, 'rience': 6275, 'ience ': 4092, 'ence a': 3070, 'nce an': 5070, 'ce and': 2129, 'e and ': 2572, 'and i ': 1735, 'nd i l': 5084, 'd i lo': 2298, ' i lov': 614, 'i love': 4005, ' love ': 705, 'love t': 4695, 'ove th': 5782, 'e the ': 2739, 'mond i': 4895, 'ond i ': 5602, 'nd i f': 5083, 'd i fo': 2296, ' i fou': 608, 'i foun': 3997, 'ound o': 5753, 'und on': 7444, 'nd on ': 5095, ' on th': 807, 'on the': 5585, 'n thei': 5035, 'heir w': 3859, 'eir we': 2975, 'ir web': 4298, 'r webs': 6117, ' websi': 1223, 'websit': 7753, 'ebsite': 2834, 'bsite ': 2078, 'site !': 6714, 'ite ! ': 4383, 'te ! d': 7026, 'e ! de': 2541, ' ! def': 4, '! def ': 1280, ' def w': 395, 'def wo': 2451, 'ef wou': 2953, 'f woul': 3414, ' would': 1263, 'would ': 7838, 'ould r': 5747, 'uld re': 7433, 'ld rec': 4566, 'd reco': 2345, 'mend a': 4866, 'end an': 3075, 'nd and': 5077, 'd and ': 2273, ' and w': 256, 'and wi': 1756, 'nd wil': 5123, 'd will': 2399, 'ill bu': 4162, 'll buy': 4634, 'l buy ': 4515, ' buy a': 334, 'buy ag': 2089, 'uy aga': 7580, 'y agai': 7892, ' again': 212, 'again ': 1604, 'gain f': 3601, 'ain fr': 1626, 'in fro': 4202, 'n from': 4991, ' from ': 517, 'from b': 3528, 'rom br': 6352, 'om bri': 5532, 'm bril': 4770, 'ance !': 1732, 'gn': 3657, 'oi': 5496, 'cu': 2241, 'ty': 7356, 'hs': 3948, 'go': 3666, 'gr': 3671, 'vi': 7675, 'rt': 6402, 'na': 5060, 'nl': 5251, 'ws': 7839, 'lp': 4704, 'pf': 5894, 'ci': 2178, 'ki': 4485, 'oc': 5464, 'i s': 4019, 'sig': 6697, 'ign': 4146, 'gne': 3662, 'd u': 2383, 'h f': 3699, 'ron': 6355, 't p': 6941, 'poi': 5922, 'oin': 5497, 'int': 4247, 'sec': 6614, 'ecu': 2860, 'cur': 2242, 'uri': 7498, 'rit': 6304, 'ity': 4414, 'ty ': 7357, 'y 0': 7885, '0 m': 1471, 'nth': 5314, 'ths': 7179, 'hs ': 3949, 'ago': 1605, 'go ': 3667, 'o ,': 5363, ', a': 1338, ' gr': 549, 'gre': 3672, 'eat': 2822, 't !': 6842, '! h': 1281, ' cu': 378, 'cus': 2246, 'sto': 6808, 'tom': 7284, 'rvi': 6428, 'vic': 7676, 'sup': 6828, 'upp': 7467, 'ppo': 5943, 'por': 5930, 'ort': 5690, 'rt ': 6403, 'f a': 3383, ' ar': 264, 'are': 1833, 'rof': 6341, 'ofe': 5484, 'fes': 3448, 'ess': 3271, 'ssi': 6763, 'ona': 5595, 'nal': 5061, 'l .': 4505, 'als': 1672, 'lso': 4718, 'so ': 6725, 'onl': 5622, 'nli': 5252, 'rev': 6257, 'evi': 3319, 'vie': 7682, 'iew': 4110, 'ews': 3336, 'ws ': 7840, ' he': 574, 'hel': 3860, 'elp': 3005, 'lpf': 4705, 'pfu': 5895, 'ful': 3539, 'ul ': 7421, 'l d': 4516, 'dur': 2534, 'rin': 6300, 'dec': 2437, 'eci': 2844, 'cis': 2179, 'isi': 4352, 'aki': 1639, 'kin': 4486, 'g p': 3578, 'roc': 6333, 'oce': 5465, 'ss ': 6761, 'i si': 4020, ' sig': 973, 'sign': 6698, 'igne': 4150, 'gned': 3663, 'ed u': 2907, 'd up': 2384, 'th f': 7086, 'h fr': 3700, 'fron': 3530, 'ront': 6356, 'ont ': 5633, 'nt p': 5303, 't po': 6942, ' poi': 860, 'poin': 5923, 'oint': 5498, 'int ': 4248, 't se': 6950, ' sec': 944, 'secu': 6615, 'ecur': 2861, 'curi': 2243, 'urit': 7502, 'rity': 6305, 'ity ': 4415, 'ty 0': 7358, 'y 0 ': 7886, ' 0 m': 140, '0 mo': 1472, 'mont': 4902, 'onth': 5636, 'nths': 5318, 'ths ': 7180, 'hs a': 3950, 's ag': 6467, ' ago': 213, 'ago ': 1606, 'go ,': 3668, 'o , ': 5364, ' , a': 53, ', an': 1339, 'is c': 4330, 's co': 6494, 'pany': 5855, 'ny i': 5356, 'y is': 7943, 's gr': 6510, ' gre': 550, 'grea': 3673, 'reat': 6204, 'eat ': 2823, 'at !': 1906, 't ! ': 6843, ' ! h': 5, '! ho': 1282, 'he c': 3784, 'e cu': 2593, ' cus': 379, 'cust': 2247, 'usto': 7534, 'stom': 6809, 'tome': 7285, 'omer': 5544, 'r se': 6104, ' ser': 956, 'ervi': 3214, 'rvic': 6429, 'vice': 7677, 'ce s': 2138, ' sup': 1014, 'supp': 6829, 'uppo': 7468, 'ppor': 5944, 'port': 5931, 'ort ': 5691, 'rt s': 6404, 't st': 6962, 'ff a': 3457, 'f ar': 3387, ' are': 265, 'are ': 1834, 're p': 6181, 'prof': 5976, 'rofe': 6342, 'ofes': 5485, 'fess': 3449, 'essi': 3274, 'ssio': 6764, 'iona': 4267, 'onal': 5596, 'nal ': 5062, 'al .': 1644, 'l . ': 4506, '. al': 1405, ' als': 223, 'also': 1673, 'lso ': 4719, 'so ,': 6726, 'he o': 3814, 'e on': 2684, ' onl': 813, 'onli': 5623, 'nlin': 5253, 'line': 4614, 'ne r': 5162, ' rev': 909, 'revi': 6258, 'evie': 3320, 'view': 7686, 'iews': 4114, 'ews ': 3337, 'ws w': 7844, 're h': 6175, 'e he': 2652, ' hel': 580, 'help': 3861, 'elpf': 3006, 'lpfu': 4706, 'pful': 5896, 'ful ': 3540, 'ul d': 7422, 'l du': 4517, ' dur': 427, 'duri': 2535, 'urin': 7499, 'ring': 6301, ' dec': 388, 'deci': 2438, 'ecis': 2845, 'cisi': 2180, 'isio': 4353, 'n ma': 5011, 'maki': 4809, 'akin': 1640, 'king': 4487, 'ng p': 5211, 'g pr': 3579, 'proc': 5970, 'roce': 6334, 'oces': 5466, 'cess': 2152, 'ess ': 3272, 'ss .': 6762, 'i sig': 4021, ' sign': 974, 'signe': 6701, 'igned': 4151, 'gned ': 3664, 'ned u': 5174, 'ed up': 2908, 'd up ': 2385, 'ith f': 4402, 'th fr': 7087, 'h fro': 3701, ' fron': 518, 'front': 3531, 'ront ': 6357, 'ont p': 5634, 'nt po': 5304, 't poi': 6943, ' poin': 861, 'point': 5924, 'oint ': 5499, 'int s': 4249, 'nt se': 5307, 't sec': 6951, ' secu': 945, 'secur': 6616, 'ecuri': 2862, 'curit': 2244, 'urity': 7503, 'rity ': 6306, 'ity 0': 4416, 'ty 0 ': 7359, 'y 0 m': 7887, ' 0 mo': 141, '0 mon': 1473, ' mont': 739, 'month': 4903, 'onths': 5639, 'nths ': 5319, 'ths a': 7181, 'hs ag': 3951, 's ago': 6468, ' ago ': 214, 'ago ,': 1607, 'go , ': 3669, 'o , a': 5365, ' , an': 54, ', and': 1340, 'his c': 3911, 'is co': 4331, 's com': 6495, 'mpany': 4915, 'pany ': 5856, 'any i': 1800, 'ny is': 5357, 'y is ': 7944, 'is gr': 4336, 's gre': 6511, ' grea': 551, 'great': 3674, 'reat ': 6205, 'eat !': 2824, 'at ! ': 1907, 't ! h': 6844, ' ! ho': 6, '! how': 1283, 'r , t': 6017, 'the c': 7109, 'he cu': 3785, 'e cus': 2594, ' cust': 380, 'custo': 2248, 'ustom': 7535, 'stome': 6810, 'tomer': 7286, 'omer ': 5545, 'mer s': 4873, 'er se': 3161, 'r ser': 6105, ' serv': 957, 'servi': 6648, 'ervic': 3215, 'rvice': 6430, 'vice ': 7678, 'ice s': 4061, 'ce su': 2139, 'e sup': 2725, ' supp': 1015, 'suppo': 6830, 'uppor': 7469, 'pport': 5945, 'port ': 5932, 'ort s': 5692, 'rt st': 6405, 't sta': 6963, 'aff a': 1592, 'ff ar': 3460, 'f are': 3388, ' are ': 266, 'are p': 1835, 're pr': 6182, 'e pro': 2703, ' prof': 882, 'profe': 5977, 'rofes': 6343, 'ofess': 5486, 'fessi': 3450, 'essio': 3275, 'ssion': 6765, 'siona': 6707, 'ional': 4268, 'onal ': 5597, 'nal .': 5063, 'al . ': 1645, 'l . a': 4507, ' . al': 98, '. als': 1406, ' also': 224, 'also ': 1674, 'lso ,': 4720, 'so , ': 6727, 'o , t': 5367, 'the o': 7126, 'he on': 3815, 'e onl': 2687, ' onli': 814, 'onlin': 5624, 'nline': 5254, 'line ': 4615, 'ine r': 4218, 'ne re': 5163, 'e rev': 2712, ' revi': 910, 'revie': 6259, 'eview': 3321, 'views': 7689, 'iews ': 4115, 'ews w': 3340, 'ws we': 7845, 'ere h': 3179, 're he': 6176, 'e hel': 2653, ' help': 581, 'helpf': 3862, 'elpfu': 3007, 'lpful': 4707, 'pful ': 5897, 'ful d': 3541, 'ul du': 7423, 'l dur': 4518, ' duri': 428, 'durin': 2536, 'uring': 7500, 'ring ': 6302, 'ing t': 4239, 'e dec': 2601, ' deci': 389, 'decis': 2439, 'ecisi': 2846, 'cisio': 2181, 'ision': 4354, 'sion ': 6705, 'ion m': 4263, 'on ma': 5576, 'n mak': 5012, ' maki': 717, 'makin': 4810, 'aking': 1641, 'king ': 4488, 'ing p': 4235, 'ng pr': 5212, 'g pro': 3580, ' proc': 878, 'proce': 5971, 'roces': 6335, 'ocess': 5467, 'cess ': 2153, 'ess .': 3273, 'i sign': 4022, ' signe': 976, 'signed': 6702, 'igned ': 4152, 'gned u': 3665, 'ned up': 5175, 'ed up ': 2909, 'd up w': 2386, 'with f': 7816, 'ith fr': 4403, 'th fro': 7088, 'h fron': 3702, ' front': 519, 'front ': 3532, 'ront p': 6358, 'ont po': 5635, 'nt poi': 5305, 't poin': 6944, ' point': 862, 'point ': 5925, 'oint s': 5500, 'int se': 4250, 'nt sec': 5308, 't secu': 6952, ' secur': 946, 'securi': 6617, 'ecurit': 2863, 'curity': 2245, 'urity ': 7504, 'rity 0': 6307, 'ity 0 ': 4417, 'ty 0 m': 7360, 'y 0 mo': 7888, ' 0 mon': 142, '0 mont': 1474, ' month': 740, 'months': 4905, 'onths ': 5640, 'nths a': 5320, 'ths ag': 7182, 'hs ago': 3952, 's ago ': 6469, ' ago ,': 215, 'ago , ': 1608, 'go , a': 3670, 'o , an': 5366, ' , and': 55, ', and ': 1341, 'this c': 7169, 'his co': 3912, 'is com': 4332, 's comp': 6497, 'ompany': 5561, 'mpany ': 4916, 'pany i': 5858, 'any is': 1801, 'ny is ': 5358, 'y is g': 7945, ' is gr': 663, 'is gre': 4337, 's grea': 6512, ' great': 552, 'great ': 3675, 'reat !': 6206, 'eat ! ': 2825, 'at ! h': 1908, 't ! ho': 6845, ' ! how': 7, '! howe': 1284, 'er , t': 3129, 'r , th': 6018, ' the c': 1051, 'the cu': 7110, 'he cus': 3786, 'e cust': 2595, ' custo': 381, 'custom': 2249, 'ustome': 7536, 'stomer': 6811, 'tomer ': 7287, 'omer s': 5547, 'mer se': 4874, 'er ser': 3162, 'r serv': 6106, ' servi': 958, 'servic': 6649, 'ervice': 3216, 'rvice ': 6431, 'vice s': 7681, 'ice su': 4062, 'ce sup': 2140, 'e supp': 2726, ' suppo': 1016, 'suppor': 6831, 'upport': 7470, 'pport ': 5946, 'port s': 5933, 'ort st': 5693, 'rt sta': 6406, 't staf': 6964, 'taff a': 7000, 'aff ar': 1593, 'ff are': 3461, 'f are ': 3389, ' are p': 267, 'are pr': 1836, 're pro': 6183, 'e prof': 2705, ' profe': 883, 'profes': 5978, 'rofess': 6344, 'ofessi': 5487, 'fessio': 3451, 'ession': 3276, 'ssiona': 6766, 'sional': 6708, 'ional ': 4269, 'onal .': 5598, 'nal . ': 5064, 'al . a': 1646, 'l . al': 4508, ' . als': 99, '. also': 1407, ' also ': 225, 'also ,': 1675, 'lso , ': 4721, 'so , t': 6728, 'o , th': 5368, ' the o': 1057, 'the on': 7127, 'he onl': 3816, 'e onli': 2688, ' onlin': 815, 'online': 5625, 'nline ': 5255, 'line r': 4616, 'ine re': 4219, 'ne rev': 5164, 'e revi': 2713, ' revie': 911, 'review': 6260, 'eviews': 3323, 'views ': 7690, 'iews w': 4117, 'ews we': 3341, 'ws wer': 7847, 'were h': 7763, 'ere he': 3180, 're hel': 6177, 'e help': 2654, ' helpf': 582, 'helpfu': 3863, 'elpful': 3008, 'lpful ': 4708, 'pful d': 5898, 'ful du': 3542, 'ul dur': 7424, 'l duri': 4519, ' durin': 429, 'during': 2537, 'uring ': 7501, 'ring t': 6303, 'ing th': 4240, 'he dec': 3789, 'e deci': 2602, ' decis': 390, 'decisi': 2440, 'ecisio': 2847, 'cision': 2182, 'ision ': 4355, 'sion m': 6706, 'ion ma': 4264, 'on mak': 5577, 'n maki': 5013, ' makin': 718, 'making': 4811, 'aking ': 1642, 'king p': 4489, 'ing pr': 4236, 'ng pro': 5213, 'g proc': 3581, ' proce': 879, 'proces': 5972, 'rocess': 6336, 'ocess ': 5468, 'cess .': 2154, 'tv': 7340, 'ft': 3533, 'hu': 3965, 'sq': 6755, 'qu': 6001, 'sp': 6750, 'tl': 7219, ' k': 685, 'kn': 4490, 'ob': 5459, 'ts': 7321, 'ep': 3112, 'ix': 4435, 'x ': 7851, 'ru': 6415, 'irs': 4317, 'rst': 6398, 'off': 5488, 'f i': 3390, 'usu': 7540, 'sua': 6817, 'r g': 6059, 'get': 3628, 't e': 6893, 'xte': 7866, 'nde': 5133, 'ded': 2444, 'war': 7721, 'arr': 1848, 'rra': 6364, 'tie': 7184, 'but': 2080, 't w': 6985, 'hen': 3870, 'i p': 4010, 'a h': 1516, ' hi': 583, 'ise': 4341, 'sen': 6633, 'nse': 5286, ' tv': 1142, 'tv ': 7341, 'v f': 7590, 'tig': 7188, 'ige': 4135, 'ger': 3624, 'dir': 2487, 'ect': 2856, 'met': 4882, 'eth': 3298, 'hin': 3901, 'tol': 7280, 'old': 5514, 'o g': 5403, 'nty': 5332, 'u b': 7368, 'bel': 2042, 'lie': 4609, 'iev': 4106, ' af': 205, 'aft': 1596, 'fte': 3534, 'ter': 7057, 'xpi': 7861, 'pir': 5909, 'v s': 7598, 'art': 1860, 'rte': 6407, ' ac': 197, 't u': 6980, 'p s': 5826, 'shu': 6692, 'hut': 3966, 'uti': 7568, 'g o': 3574, 'n ,': 4947, 'i c': 3986, 'cal': 2107, 'lle': 4646, 'led': 4590, ' sq': 999, 'squ': 6756, 'qua': 6002, 'uar': 7392, 'rad': 6123, ' sp': 995, 'spo': 6751, 'pok': 5926, 'e g': 2637, 'ntl': 5328, 'tle': 7220, 'lem': 4596, 'ema': 3031, 'o s': 5437, 'see': 6625, 'eem': 2935, 'o k': 5411, ' kn': 686, 'kno': 4491, 'now': 5274, 'w t': 7704, 'rob': 6329, 'obl': 5460, 'f ,': 3379, ', h': 1354, 'r n': 6081, ' ni': 773, 'nig': 5238, 'hte': 3961, 'par': 5859, 'rts': 6411, 'ts ': 7322, 'set': 6656, 'p a': 5818, 'a t': 1531, 'v r': 7594, 'rep': 6239, 'epa': 3113, 'air': 1627, 'ea ': 2787, 'ous': 5764, 'fix': 3491, 'ix ': 4436, 'x i': 7852, ', w': 1391, 'whi': 7781, 'hic': 3897, 'ich': 4066, 'h h': 3703, 'abo': 1548, 'bou': 2064, 'n h': 4992, 'our': 5758, 'ur ': 7476, 'r a': 6026, 'far': 3430, 'r i': 6067, \"' m\": 1296, ' m ': 706, 'm a': 4763, 'y m': 7949, '. s': 1438, ' ru': 916, 'rul': 6416, 'ule': 7436, 'les': 4603, 'firs': 3488, 'irst': 4318, 'rst ': 6399, 'st o': 6786, ' off': 793, 'off ': 5489, 'ff i': 3462, 'f i ': 3391, ' usu': 1181, 'usua': 7541, 'sual': 6818, 'ly n': 4742, 'er g': 3143, 'r ge': 6060, ' get': 540, 'get ': 3629, 'et e': 3286, 't ex': 6900, 'exte': 3351, 'xten': 7867, 'tend': 7054, 'ende': 3080, 'nded': 5134, 'ded ': 2445, 'ed w': 2912, 'd wa': 2391, ' war': 1207, 'warr': 7722, 'arra': 1849, 'rran': 6365, 'rant': 6136, 'anti': 1787, 'ntie': 5322, 'ties': 7185, 'es b': 3235, 's bu': 6487, ' but': 328, 'but ': 2081, 'ut w': 7561, 't wh': 6989, ' whe': 1231, 'when': 7775, 'hen ': 3871, 'en i': 3056, 'n i ': 4997, ' i p': 618, 'i pu': 4011, 'ased': 1888, 'ed a': 2872, 'd a ': 2263, ' a h': 173, 'a hi': 1520, ' his': 584, 'hise': 3915, 'isen': 4342, 'sens': 6637, 'ense': 3095, 'nse ': 5287, 'e tv': 2757, ' tv ': 1143, 'tv f': 7342, 'v fr': 7591, 'om t': 5533, 'm ti': 4789, ' tig': 1081, 'tige': 7189, 'iger': 4136, 'ger ': 3625, 'er d': 3140, 'r di': 6045, ' dir': 413, 'dire': 2488, 'irec': 4303, 'rect': 6214, 'ect ': 2857, 'ct s': 2228, 't so': 6959, ' som': 989, 'omet': 5550, 'meth': 4883, 'ethi': 3299, 'thin': 7164, 'hing': 3902, 'g to': 3590, ' tol': 1120, 'told': 7281, 'old ': 5515, 'ld m': 4561, 'd me': 2313, ' me ': 729, 'to g': 7247, 'o ge': 5404, 'et t': 3292, 'e wa': 2769, 'anty': 1790, 'nty ': 5333, 'ty a': 7361, 'd wo': 2400, 'ld y': 4567, 'ou b': 5725, 'u be': 7369, ' bel': 316, 'beli': 2043, 'elie': 2995, 'liev': 4610, 'ieve': 4107, 'eve ': 3308, 've o': 7622, ' one': 810, 'ne m': 5159, 'e mo': 2668, 'nth ': 5315, 'h af': 3689, ' aft': 206, 'afte': 1597, 'fter': 3535, 'ter ': 7058, 'ty e': 7364, 'expi': 3347, 'xpir': 7862, 'pire': 5910, 'tv s': 7348, 'v st': 7599, 'tart': 7010, 'arte': 1861, 'rted': 6408, 'o ac': 5373, ' act': 198, 'ct u': 2234, 't up': 6981, 'up s': 7457, 'p sh': 5827, ' shu': 969, 'shut': 6693, 'huti': 3967, 'utin': 7569, 'ting': 7199, 'ng o': 5208, 'g of': 3575, 'f an': 3384, 'on ,': 5565, 'n , ': 4948, ' i c': 600, 'i ca': 3987, ' cal': 344, 'call': 2108, 'alle': 1659, 'lled': 4647, 'led ': 4591, 'ed s': 2897, 'd sq': 2363, ' squ': 1000, 'squa': 6757, 'quar': 6003, 'uare': 7393, 'trad': 7307, 'rade': 6124, 'de a': 2425, 'd sp': 2360, ' spo': 996, 'spok': 6752, 'poke': 5927, 'oke ': 5507, 'ke t': 4468, 'o a ': 5370, ' a f': 170, 'a fi': 1510, 'ne g': 5156, 'e ge': 2641, 'gent': 3621, 'entl': 3109, 'ntle': 5329, 'tlem': 7221, 'lema': 4600, 'eman': 3035, 'man ': 4813, 'an w': 1726, 'ho s': 3923, 'o se': 5438, ' see': 947, 'seem': 6626, 'eeme': 2936, 'emed': 3039, 'to k': 7250, 'o kn': 5412, ' kno': 687, 'know': 4492, 'now ': 5275, 'ow t': 5796, 'w th': 7705, 'prob': 5967, 'robl': 6330, 'oble': 5461, 'blem': 2052, 'lem ': 4597, 'ht o': 3958, 'ff ,': 3454, 'f , ': 3380, ' , h': 62, ', he': 1355, ' he ': 575, 'e ov': 2689, 'er n': 3152, 'r ni': 6082, ' nig': 774, 'nigh': 5239, 'ghte': 3649, 'hted': 3962, ' par': 840, 'part': 5860, 'arts': 1864, 'rts ': 6412, 'ts a': 7323, ' set': 959, 'set ': 6657, 'et u': 3295, 'up a': 7451, 'p a ': 5819, ' a t': 184, 'a tv': 1535, 'tv r': 7345, 'v re': 7595, ' rep': 898, 'repa': 6240, 'epai': 3114, 'pair': 5844, 'air ': 1628, 'ir m': 4290, 'r ma': 6075, 'n in': 5000, 'in m': 4206, 'n my': 5017, 'my a': 4919, 'y ar': 7899, 'area': 1841, 'rea ': 6195, 'ea t': 2788, 'a to': 1532, 'come': 2194, 'my h': 4928, 'y ho': 7936, ' hou': 588, 'hous': 3933, 'ouse': 5765, 'o fi': 5397, ' fix': 491, 'fix ': 3492, 'ix i': 4437, 'x it': 7853, ' , w': 87, ', wh': 1392, ' whi': 1234, 'whic': 7782, 'hich': 3898, 'ich ': 4067, 'ch h': 2157, 'h he': 3704, 'did ': 2477, 'id i': 4075, 'd in': 2302, 'in a': 4193, 'n ab': 4956, ' abo': 194, 'abou': 1549, 'bout': 2065, 'ut a': 7549, 't an': 6874, 'an h': 1715, 'n ho': 4993, 'hour': 3930, 'our ': 5759, 'ur a': 7477, 'r an': 6027, 'd so': 2357, ' so ': 986, 'so f': 6729, 'o fa': 5394, ' far': 484, 'far ': 3431, 'ar i': 1822, 'r i ': 6068, \" i '\": 597, \" ' m\": 19, \"' m \": 1297, ' m a': 707, 'm a ': 4764, 'a ha': 1517, 'py m': 5995, 'y ma': 7950, 'an .': 1706, 'n . ': 4952, ' . s': 119, '. sq': 1439, 'de r': 2428, 'e ru': 2714, ' rul': 917, 'rule': 6417, 'ules': 7437, 'first': 3489, 'irst ': 4319, 'rst o': 6400, 'st of': 6787, 't off': 6936, ' off ': 794, 'off i': 5494, 'ff i ': 3463, 'f i u': 3392, 'i usu': 4027, ' usua': 1182, 'usual': 7542, 'suall': 6819, 'lly n': 4675, 'ly ne': 4743, 'y nev': 7957, 'ver g': 7654, 'er ge': 3144, 'r get': 6061, ' get ': 541, 'get e': 3632, 'et ex': 3287, 't ext': 6901, ' exte': 472, 'exten': 3352, 'xtend': 7868, 'tende': 7055, 'ended': 3081, 'nded ': 5135, 'ded w': 2446, 'ed wa': 2913, 'd war': 2392, ' warr': 1208, 'warra': 7723, 'arran': 1850, 'rrant': 6366, 'ranti': 6137, 'antie': 1788, 'nties': 5323, 'ties ': 7186, 'ies b': 4102, 'es bu': 3236, 's but': 6488, ' but ': 329, 'but w': 2084, 'ut wh': 7562, 't whe': 6990, ' when': 1232, 'when ': 7776, 'hen i': 3874, 'en i ': 3057, 'n i p': 4998, ' i pu': 619, 'i pur': 4012, 'hased': 3761, 'ased ': 1889, 'sed a': 6620, 'ed a ': 2873, 'd a h': 2266, ' a hi': 176, 'a his': 1521, ' hise': 585, 'hisen': 3916, 'isens': 4343, 'sense': 6638, 'ense ': 3096, 'nse t': 5288, 'se tv': 6603, 'e tv ': 2758, ' tv f': 1144, 'tv fr': 7343, 'v fro': 7592, 'rom t': 6353, 'om ti': 5534, 'm tig': 4790, ' tige': 1082, 'tiger': 7190, 'iger ': 4137, 'ger d': 3626, 'er di': 3141, 'r dir': 6046, ' dire': 414, 'direc': 2489, 'irect': 4304, 'rect ': 6215, 'ect s': 2858, 'ct so': 2229, 't som': 6960, ' some': 990, 'somet': 6740, 'ometh': 5551, 'methi': 4884, 'ethin': 3300, 'thing': 7165, 'hing ': 3903, 'ng to': 5220, 'g tol': 3591, ' told': 1121, 'told ': 7282, 'old m': 5516, 'ld me': 4562, 'd me ': 2314, ' me t': 730, ' to g': 1102, 'to ge': 7248, 'o get': 5405, 'get t': 3634, 'et th': 3293, 'he wa': 3843, 'e war': 2770, 'ranty': 6139, 'anty ': 1791, 'nty a': 5334, 'ty an': 7362, 'nd wo': 5124, 'd wou': 2401, 'uld y': 7434, 'ld yo': 4568, 'you b': 8021, 'ou be': 5726, 'u bel': 7370, ' beli': 317, 'belie': 2044, 'eliev': 2996, 'lieve': 4611, 'ieve ': 4108, 'eve o': 3309, 've on': 7623, 'e one': 2685, ' one ': 811, 'one m': 5610, 'ne mo': 5160, 'e mon': 2669, 'onth ': 5637, 'nth a': 5316, 'th af': 7079, 'h aft': 3690, ' afte': 207, 'after': 1598, 'fter ': 3536, 'ter t': 7061, 'nty e': 5336, 'ty ex': 7365, ' expi': 469, 'expir': 3348, 'xpire': 7863, 'pired': 5911, 'red t': 6223, 'he tv': 3840, ' tv s': 1148, 'tv st': 7349, 'v sta': 7600, 'start': 6796, 'tarte': 7011, 'arted': 1862, 'rted ': 6409, 'ted t': 7041, 'to ac': 7228, 'o act': 5374, ' act ': 199, 'act u': 1557, 'ct up': 2235, 't up ': 6982, ' up s': 1161, 'up sh': 7458, 'p shu': 5828, ' shut': 970, 'shuti': 6694, 'hutin': 3968, 'uting': 7570, 'ting ': 7200, 'ing o': 4233, 'ng of': 5209, 'g off': 3576, 'off a': 5492, 'ff an': 3458, 'f and': 3385, 'and o': 1741, ' on ,': 800, 'on , ': 5566, 'n , i': 4949, ', i c': 1360, ' i ca': 601, 'i cal': 3988, ' call': 345, 'calle': 2109, 'alled': 1660, 'lled ': 4648, 'led s': 4592, 'ed sq': 2898, 'd squ': 2364, ' squa': 1001, 'squar': 6758, 'quare': 6004, 'uare ': 7394, 'are t': 1839, ' trad': 1131, 'trade': 7308, 'rade ': 6125, 'ade a': 1581, 'de an': 2426, 'nd sp': 5112, 'd spo': 2361, ' spok': 997, 'spoke': 6753, 'poke ': 5928, 'oke t': 5508, 'ke to': 4469, 'to a ': 7226, 'o a f': 5371, ' a fi': 171, 'a fin': 1511, 'ine g': 4216, 'ne ge': 5157, 'e gen': 2642, ' gent': 538, 'gentl': 3622, 'entle': 3110, 'ntlem': 5330, 'tlema': 7222, 'leman': 4601, 'eman ': 3036, 'man w': 4818, 'an wh': 1727, 'n who': 5056, 'who s': 7789, 'ho se': 3924, 'o see': 5439, ' seem': 948, 'seeme': 6627, 'eemed': 2937, 'emed ': 3040, 'med t': 4853, ' to k': 1104, 'to kn': 7251, 'o kno': 5413, ' know': 688, 'know ': 4493, 'now t': 5276, 'ow th': 5797, 'w the': 7706, ' prob': 876, 'probl': 5968, 'roble': 6331, 'oblem': 5462, 'blem ': 2053, 'lem r': 4598, 'ght o': 3647, 'ht of': 3959, 'off ,': 5490, 'ff , ': 3455, 'f , h': 3381, ' , he': 63, ', he ': 1356, ' he o': 578, 'he ov': 3817, 'e ove': 2690, 'over ': 5786, 'ver n': 7658, 'er ni': 3153, 'r nig': 6083, ' nigh': 775, 'night': 5240, 'ighte': 4144, 'ghted': 3650, 'hted ': 3963, 'e par': 2694, ' part': 841, 'parts': 5861, 'arts ': 1865, 'rts a': 6413, 'ts an': 7324, 'd set': 2352, ' set ': 960, 'set u': 6658, 'et up': 3296, ' up a': 1157, 'up a ': 7452, 'p a t': 5820, ' a tv': 185, 'a tv ': 1536, ' tv r': 1146, 'tv re': 7346, 'v rep': 7596, ' repa': 899, 'repai': 6241, 'epair': 3115, 'pair ': 5845, 'air m': 1629, 'ir ma': 4291, 'r man': 6076, ' man ': 720, 'man i': 4816, 'an in': 1719, 'n in ': 5001, ' in m': 647, 'in my': 4207, 'n my ': 5018, ' my a': 746, 'my ar': 4920, 'y are': 7900, ' area': 269, 'area ': 1842, 'rea t': 6196, 'ea to': 2789, 'a to ': 1533, 'o com': 5385, ' come': 364, 'come ': 2195, 'ome t': 5542, ' my h': 752, 'my ho': 4929, 'y hou': 7937, ' hous': 591, 'house': 3934, 'ouse ': 5766, 'to fi': 7243, 'o fix': 5398, ' fix ': 492, 'fix i': 3493, 'ix it': 4438, 'x it ': 7854, 't , w': 6854, ' , wh': 88, ', whi': 1393, ' whic': 1235, 'which': 7783, 'hich ': 3899, 'ich h': 4068, 'ch he': 2158, 'h he ': 3705, ' he d': 576, 'e did': 2610, ' did ': 406, 'did i': 2478, 'id in': 4076, 'd in ': 2303, ' in a': 641, 'in ab': 4194, 'n abo': 4957, ' abou': 195, 'about': 1550, 'bout ': 2066, 'out a': 5772, 'ut an': 7550, 't an ': 6875, ' an h': 244, 'an ho': 1716, 'n hou': 4994, ' hour': 589, 'hour ': 3931, 'our a': 5760, 'ur an': 7478, 'r and': 6028, 'nd so': 5110, 'd so ': 2358, ' so f': 987, 'so fa': 6730, 'o far': 5395, ' far ': 485, 'far i': 3432, 'ar i ': 1823, \"r i '\": 6069, \" i ' \": 598, \"i ' m\": 3978, \" ' m \": 20, \"' m a\": 1298, ' m a ': 708, 'm a h': 4765, ' a ha': 174, 'a hap': 1518, 'ppy m': 5949, 'py ma': 5996, 'y man': 7951, 'man .': 4814, 'an . ': 1707, 'n . s': 4953, ' . sq': 120, '. squ': 1440, 'ade r': 1583, 'de ru': 2429, 'e rul': 2715, ' rule': 918, 'rules': 6418, 'first ': 3490, 'irst o': 4320, 'rst of': 6401, 'st off': 6788, 't off ': 6937, ' off i': 797, 'off i ': 5495, 'ff i u': 3464, 'f i us': 3393, ' i usu': 627, 'i usua': 4028, ' usual': 1183, 'usuall': 7543, 'sually': 6820, 'ally n': 1670, 'lly ne': 4676, 'ly nev': 4744, 'y neve': 7958, 'ever g': 3317, 'ver ge': 7655, 'er get': 3145, 'r get ': 6062, ' get e': 543, 'get ex': 3633, 'et ext': 3288, 't exte': 6902, ' exten': 473, 'extend': 3353, 'xtende': 7869, 'tended': 7056, 'ended ': 3082, 'nded w': 5136, 'ded wa': 2447, 'ed war': 2914, 'd warr': 2393, ' warra': 1209, 'warran': 7724, 'arrant': 1851, 'rranti': 6367, 'rantie': 6138, 'anties': 1789, 'nties ': 5324, 'ties b': 7187, 'ies bu': 4103, 'es but': 3237, 's but ': 6489, ' but w': 331, 'but wh': 2085, 'ut whe': 7563, 't when': 6991, ' when ': 1233, 'when i': 7777, 'hen i ': 3875, 'en i p': 3058, 'n i pu': 4999, ' i pur': 620, 'i purc': 4013, 'chased': 2172, 'hased ': 3762, 'ased a': 1890, 'sed a ': 6621, 'ed a h': 2874, 'd a hi': 2267, ' a his': 177, 'a hise': 1522, ' hisen': 586, 'hisens': 3917, 'isense': 4344, 'sense ': 6639, 'ense t': 3097, 'nse tv': 5289, 'se tv ': 6604, 'e tv f': 2759, ' tv fr': 1145, 'tv fro': 7344, 'v from': 7593, 'from t': 3529, 'rom ti': 6354, 'om tig': 5535, 'm tige': 4791, ' tiger': 1083, 'tiger ': 7191, 'iger d': 4138, 'ger di': 3627, 'er dir': 3142, 'r dire': 6047, ' direc': 415, 'direct': 2490, 'irect ': 4305, 'rect s': 6216, 'ect so': 2859, 'ct som': 2230, 't some': 6961, ' somet': 991, 'someth': 6741, 'omethi': 5552, 'methin': 4885, 'ething': 3301, 'thing ': 7166, 'hing t': 3904, 'ing to': 4241, 'ng tol': 5221, 'g told': 3592, ' told ': 1122, 'told m': 7283, 'old me': 5517, 'ld me ': 4563, 'd me t': 2315, ' me to': 731, 'e to g': 2746, ' to ge': 1103, 'to get': 7249, 'o get ': 5406, ' get t': 544, 'get th': 3635, 'et the': 3294, 't the ': 6970, 'the wa': 7141, 'he war': 3844, 'e warr': 2771, 'rranty': 6368, 'ranty ': 6140, 'anty a': 1792, 'nty an': 5335, 'ty and': 7363, 'and wo': 1757, 'nd wou': 5125, 'd woul': 2402, 'ould y': 5748, 'uld yo': 7435, 'ld you': 4569, ' you b': 1272, 'you be': 8022, 'ou bel': 5727, 'u beli': 7371, ' belie': 318, 'believ': 2045, 'elieve': 2997, 'lieve ': 4612, 'ieve o': 4109, 'eve on': 3310, 've one': 7624, 'e one ': 2686, ' one m': 812, 'one mo': 5611, 'ne mon': 5161, 'e mont': 2670, 'month ': 4904, 'onth a': 5638, 'nth af': 5317, 'th aft': 7080, 'h afte': 3691, ' after': 208, 'after ': 1599, 'fter t': 3537, 'ter th': 7062, 'er the': 3166, 'anty e': 1793, 'nty ex': 5337, 'ty exp': 7366, 'y expi': 7931, ' expir': 470, 'expire': 3349, 'xpired': 7864, 'pired ': 5912, 'ired t': 4309, 'red th': 6224, 'the tv': 7139, 'he tv ': 3841, 'e tv s': 2760, ' tv st': 1149, 'tv sta': 7350, 'v star': 7601, ' start': 1009, 'starte': 6797, 'tarted': 7012, 'arted ': 1863, 'rted t': 6410, 'ted to': 7043, 'd to a': 2379, ' to ac': 1091, 'to act': 7229, 'o act ': 5375, ' act u': 200, 'act up': 1558, 'ct up ': 2236, 't up s': 6984, ' up sh': 1162, 'up shu': 7459, 'p shut': 5829, ' shuti': 971, 'shutin': 6695, 'huting': 3969, 'uting ': 7571, 'ting o': 7202, 'ing of': 4234, 'ng off': 5210, 'g off ': 3577, ' off a': 796, 'off an': 5493, 'ff and': 3459, 'f and ': 3386, ' and o': 251, 'and on': 1742, 'd on ,': 2326, ' on , ': 801, 'on , i': 5567, 'n , i ': 4950, ' , i c': 67, ', i ca': 1361, ' i cal': 602, 'i call': 3989, ' calle': 346, 'called': 2110, 'alled ': 1661, 'lled s': 4649, 'led sq': 4593, 'ed squ': 2899, 'd squa': 2365, ' squar': 1002, 'square': 6759, 'quare ': 6005, 'uare t': 7395, 'are tr': 1840, 'e trad': 2755, ' trade': 1132, 'trade ': 7309, 'rade a': 6126, 'ade an': 1582, 'de and': 2427, 'and sp': 1751, 'nd spo': 5113, 'd spok': 2362, ' spoke': 998, 'spoke ': 6754, 'poke t': 5929, 'oke to': 5509, 'ke to ': 4470, ' to a ': 1090, 'to a f': 7227, 'o a fi': 5372, ' a fin': 172, 'a fine': 1512, 'fine g': 3481, 'ine ge': 4217, 'ne gen': 5158, 'e gent': 2643, ' gentl': 539, 'gentle': 3623, 'entlem': 3111, 'ntlema': 5331, 'tleman': 7223, 'leman ': 4602, 'eman w': 3037, 'man wh': 4819, 'an who': 1728, 'n who ': 5057, ' who s': 1240, 'who se': 7790, 'ho see': 3925, 'o seem': 5440, ' seeme': 949, 'seemed': 6628, 'eemed ': 2938, 'emed t': 3041, 'med to': 4854, 'd to k': 2380, ' to kn': 1105, 'to kno': 7252, 'o know': 5414, ' know ': 689, 'know t': 4494, 'now th': 5277, 'ow the': 5798, 'w the ': 7707, 'he pro': 3826, 'e prob': 2704, ' probl': 877, 'proble': 5969, 'roblem': 6332, 'oblem ': 5463, 'blem r': 2054, 'lem ri': 4599, 'ight o': 4143, 'ght of': 3648, 'ht off': 3960, ' off ,': 795, 'off , ': 5491, 'ff , h': 3456, 'f , he': 3382, ' , he ': 64, ', he o': 1357, ' he ov': 579, 'he ove': 3818, 'e over': 2691, ' over ': 834, 'over n': 5787, 'ver ni': 7659, 'er nig': 3154, 'r nigh': 6084, ' night': 776, 'nighte': 5241, 'ighted': 4145, 'ghted ': 3651, 'hted t': 3964, 'ted th': 7042, 'he par': 3821, 'e part': 2695, ' parts': 842, 'parts ': 5862, 'arts a': 1866, 'rts an': 6414, 'ts and': 7325, 'nd set': 5107, 'd set ': 2353, ' set u': 961, 'set up': 6659, 'et up ': 3297, 't up a': 6983, ' up a ': 1158, 'up a t': 7453, 'p a tv': 5821, ' a tv ': 186, 'a tv r': 1537, ' tv re': 1147, 'tv rep': 7347, 'v repa': 7597, ' repai': 900, 'repair': 6242, 'epair ': 3116, 'pair m': 5846, 'air ma': 1630, 'ir man': 4292, 'r man ': 6077, ' man i': 722, 'man in': 4817, 'an in ': 1720, 'n in m': 5002, ' in my': 648, 'in my ': 4208, 'n my a': 5019, ' my ar': 747, 'my are': 4921, 'y area': 7902, ' area ': 270, 'area t': 1843, 'rea to': 6197, 'ea to ': 2790, 'a to c': 1534, 'to com': 7237, 'o come': 5386, ' come ': 365, 'come t': 2197, 'ome to': 5543, 'o my h': 5425, ' my ho': 753, 'my hou': 4930, 'y hous': 7938, ' house': 592, 'house ': 3935, 'ouse t': 5767, ' to fi': 1100, 'to fix': 7244, 'o fix ': 5399, ' fix i': 493, 'fix it': 3494, 'ix it ': 4439, 'x it ,': 7855, 'it , w': 4366, 't , wh': 6855, ' , whi': 89, ', whic': 1394, ' which': 1236, 'which ': 7784, 'hich h': 3900, 'ich he': 4069, 'ch he ': 2159, 'h he d': 3706, ' he di': 577, 'he did': 3793, 'e did ': 2611, ' did i': 407, 'did in': 2479, 'id in ': 4077, 'd in a': 2304, ' in ab': 642, 'in abo': 4195, 'n abou': 4958, ' about': 196, 'about ': 1551, 'bout a': 2067, 'out an': 5773, 'ut an ': 7551, 't an h': 6876, ' an ho': 245, 'an hou': 1717, 'n hour': 4995, ' hour ': 590, 'hour a': 3932, 'our an': 5761, 'ur and': 7479, 'r and ': 6029, 'and so': 1750, 'nd so ': 5111, 'd so f': 2359, ' so fa': 988, 'so far': 6731, 'o far ': 5396, ' far i': 486, 'far i ': 3433, \"ar i '\": 1824, \"r i ' \": 6070, \" i ' m\": 599, \"i ' m \": 3979, \" ' m a\": 21, \"' m a \": 1299, ' m a h': 709, 'm a ha': 4766, ' a hap': 175, 'a happ': 1519, 'appy m': 1817, 'ppy ma': 5950, 'py man': 5997, 'y man ': 7952, ' man .': 721, 'man . ': 4815, 'an . s': 1708, 'n . sq': 4954, ' . squ': 121, '. squa': 1441, 'rade r': 6127, 'ade ru': 1584, 'de rul': 2430, 'e rule': 2716, ' rules': 919, 'mes': 4878, ', n': 1376, 'no ': 5257, 'o w': 5455, 'orr': 5686, 'rri': 6369, 'epu': 3117, 'put': 5989, 'uta': 7564, 'tab': 6993, 'he g': 3805, 'e ga': 2638, 'ames': 1696, 'mes ': 4879, 'me ,': 4834, ' , n': 77, ', no': 1377, ' no ': 778, 'no w': 5258, 'o wo': 5456, 'worr': 7832, 'orri': 5687, 'rrie': 6373, 'ries': 6278, 'ey a': 3361, 're r': 6184, 'repu': 6243, 'eput': 3118, 'puta': 5990, 'utab': 7565, 'tabl': 6994, 'le .': 4576, 'the g': 7120, 'he ga': 3806, 'e gam': 2639, 'games': 3606, 'ames ': 1697, 'mes c': 4880, 'es co': 3241, 'ome ,': 5540, 'me , ': 4835, 'e , n': 2551, ' , no': 78, ', no ': 1378, ' no w': 779, 'no wo': 5259, 'o wor': 5457, ' worr': 1259, 'worri': 7833, 'orrie': 5688, 'rries': 6374, 'ries ': 6279, 'ies ,': 4098, 'hey a': 3887, 'ey ar': 3362, 'are r': 1837, 're re': 6185, 'e rep': 2710, ' repu': 901, 'reput': 6244, 'eputa': 3119, 'putab': 5991, 'utabl': 7566, 'table': 6995, 'ble .': 2049, 'the ga': 7121, 'he gam': 3807, 'e game': 2640, ' games': 533, 'games ': 3607, 'ames c': 1698, 'mes co': 4881, 'es com': 3242, 's come': 6496, 'come ,': 2196, 'ome , ': 5541, 'me , n': 4836, 'e , no': 2552, ' , no ': 79, ', no w': 1379, ' no wo': 780, 'no wor': 5260, 'o worr': 5458, ' worri': 1260, 'worrie': 7834, 'orries': 5689, 'rries ': 6375, 'ries ,': 6280, 'ies , ': 4099, 'they a': 7159, 'hey ar': 3888, 'ey are': 3363, 'y are ': 7901, ' are r': 268, 'are re': 1838, 're rep': 6186, 'e repu': 2711, ' reput': 902, 'reputa': 6245, 'eputab': 3120, 'putabl': 5992, 'utable': 7567, 'table ': 6996, 'able .': 1546, 'nv': 5343, 'tp': 7297, 'cl': 2188, 'ek': 2980, 'df': 2466, 'wn': 7820, 'we ': 7737, 'har': 3752, 'ard': 1829, 'rd ': 6150, ' ou': 824, ' em': 446, 'mai': 4801, 'il ': 4154, 'l i': 4524, 'inv': 4255, 'nvi': 5344, 'vit': 7695, 'ita': 4376, 'tat': 7013, 'r o': 6085, 's p': 6529, 'pre': 5954, 'o l': 5415, ' le': 695, 'eav': 2826, 'r e': 6051, 'h u': 3725, 'tru': 7317, 'rus': 6419, 'stp': 6812, 'tpi': 7298, 'pil': 5900, 'ilo': 4168, 'gn ': 3658, 'n u': 5050, 'p f': 5822, 'r p': 6089, 'ecl': 2848, 'cli': 2189, 'e u': 2764, 'ano': 1775, 'r r': 6093, 'w c': 7700, '. 0': 1400, '0 w': 1479, 'wee': 7754, 'eek': 2931, 'ek ': 2981, 'k l': 4455, ' la': 691, 'lat': 4548, 'ate': 1932, 'ndf': 5137, 'dfu': 2467, 'l o': 4536, 'f r': 3398, 'l t': 4540, ' ta': 1034, 'tak': 7002, 'ken': 4477, 'n d': 4980, 'dow': 2510, 'own': 5810, 'wn ': 7821, 'we w': 7747, 'e wo': 2783, 'ed h': 2882, ' har': 565, 'hard': 3753, 'ard ': 1830, 'rd t': 6151, 'to s': 7265, ' sen': 953, 'send': 6634, 'd ou': 2328, ' out': 828, 'ut e': 7552, 't em': 6894, ' ema': 447, 'emai': 3032, 'mail': 4802, 'ail ': 1617, 'il i': 4155, 'l in': 4525, ' inv': 651, 'invi': 4256, 'nvit': 5345, 'vita': 7696, 'itat': 4377, 'tati': 7014, 'atio': 1937, 'ns f': 5283, 'or o': 5669, 'r ou': 6086, ' our': 825, 'ur c': 7480, 'r cu': 6041, 'mers': 4875, 'ers ': 3204, 'rs p': 6391, 's pa': 6530, 'st a': 6780, 'nd p': 5098, 'd pr': 2338, ' pre': 867, 'pres': 5955, 'esen': 3258, 'sent': 6640, 'to l': 7253, 'o le': 5416, ' lea': 696, 'leav': 4587, 'eave': 2827, 've r': 7625, 'ws a': 7841, 's ab': 6464, 'ut t': 7558, 'ir e': 4287, 'r ex': 6052, 'ce w': 2141, 'th u': 7095, 'h us': 3726, ' us ': 1169, '. tr': 1446, ' tru': 1135, 'trus': 7318, 'rust': 6420, 'ustp': 7537, 'stpi': 6813, 'tpil': 7299, 'pilo': 5901, 'ilot': 4169, 'ot t': 5710, 'then': 7150, 'en c': 3050, 'n ca': 4974, 'd us': 2387, 'us t': 7510, 's to': 6544, 'o si': 5443, 'ign ': 4147, 'gn u': 3659, 'n up': 5051, 'up f': 7454, 'p fo': 5823, 'ir p': 4293, 'r pa': 6090, 'id s': 4078, 'd we': 2394, ' we ': 1214, 'we d': 7738, 'decl': 2441, 'ecli': 2849, 'clin': 2190, 'ined': 4220, 'd be': 2277, 'e we': 2772, 'we u': 7744, 'e us': 2765, ' ano': 258, 'anot': 1776, 'noth': 5267, 'er r': 3155, 'r re': 6094, 'iew ': 4111, 'ew c': 3326, 'w co': 7701, 'ny a': 5350, 'nt .': 5300, ' . 0': 94, '. 0 ': 1401, ' 0 w': 146, '0 we': 1480, ' wee': 1224, 'week': 7755, 'eek ': 2932, 'ek l': 2982, 'k la': 4456, ' lat': 692, 'late': 4549, 'ater': 1933, 'r ..': 6023, ' .. ': 132, '.. t': 1459, 'he h': 3808, ' han': 559, 'hand': 3742, 'andf': 1760, 'ndfu': 5138, 'dful': 2468, 'ul o': 7425, 'l of': 4537, 'of r': 5476, 'f re': 3399, 'we h': 7741, 'ad o': 1569, 'n tr': 5044, 'ot w': 5713, 't we': 6986, 're a': 6166, 'e al': 2567, 'll t': 4641, 'l ta': 4541, ' tak': 1035, 'take': 7003, 'aken': 1636, 'ken ': 4478, 'en d': 3053, 'n do': 4981, ' dow': 420, 'down': 2511, 'own ': 5811, 'wn .': 7822, 'we wo': 7748, 'e wor': 2784, 'ked h': 4473, 'ed ha': 2883, 'd har': 2289, ' hard': 566, 'hard ': 3754, 'ard t': 1831, 'rd to': 6152, ' to s': 1113, 'to se': 7266, 'o sen': 5441, ' send': 954, 'send ': 6635, 'end o': 3076, 'nd ou': 5096, 'd out': 2329, ' out ': 829, 'out e': 5774, 'ut em': 7553, 't ema': 6895, ' emai': 448, 'email': 3033, 'mail ': 4803, 'ail i': 1618, 'il in': 4156, 'l inv': 4526, ' invi': 652, 'invit': 4257, 'nvita': 5346, 'vitat': 7697, 'itati': 4378, 'tatio': 7015, 'ation': 1938, 'tions': 7211, 'ons f': 5630, 'ns fo': 5284, 'for o': 3506, 'or ou': 5670, 'r our': 6087, ' our ': 826, 'our c': 5762, 'ur cu': 7481, 'r cus': 6042, 'omers': 5548, 'mers ': 4876, 'ers p': 3205, 'rs pa': 6392, 's pas': 6531, 'ast a': 1902, 'st an': 6781, 't and': 6877, 'and p': 1743, 'nd pr': 5099, 'd pre': 2339, ' pres': 868, 'prese': 5956, 'resen': 6250, 'esent': 3259, 'sent ': 6641, 'ent t': 3107, ' to l': 1106, 'to le': 7254, 'o lea': 5417, ' leav': 697, 'leave': 4588, 'eave ': 2828, 'ave r': 1972, 've re': 7626, 'ews a': 3338, 'ws ab': 7842, 's abo': 6465, 'out t': 5776, 'ut th': 7559, 'eir e': 2970, 'ir ex': 4288, 'r exp': 6053, 'nce w': 5073, 'ce wi': 2142, 'ith u': 4408, 'th us': 7096, 'h us ': 3727, ' us .': 1170, ' . tr': 125, '. tru': 1447, ' trus': 1136, 'trust': 7319, 'rustp': 6421, 'ustpi': 7538, 'stpil': 6814, 'tpilo': 7300, 'pilot': 5902, 'ilot ': 4170, 'lot t': 4684, 'ot th': 5711, ' then': 1067, 'then ': 7151, 'hen c': 3872, 'en ca': 3051, 'n cal': 4975, 'led u': 4594, 'ed us': 2910, 'd us ': 2388, ' us t': 1172, 'us to': 7511, 's to ': 6545, 'to si': 7268, 'o sig': 5444, 'sign ': 6699, 'ign u': 4148, 'gn up': 3660, 'n up ': 5052, ' up f': 1159, 'up fo': 7455, 'p for': 5824, 'eir p': 2972, 'ir pa': 4294, 'r pai': 6091, 'aid s': 1614, 'id se': 4079, 'd ser': 2350, 'ice a': 4055, 'nd we': 5120, 'd we ': 2395, ' we d': 1215, 'we de': 7739, ' decl': 391, 'decli': 2442, 'eclin': 2850, 'cline': 2191, 'lined': 4617, 'ined ': 4221, 'ned b': 5170, 'ed be': 2878, 'd bec': 2278, 'use w': 7521, 'se we': 6606, 'e we ': 2773, ' we u': 1219, 'we us': 7745, 'e use': 2766, ' used': 1177, 'ed an': 2875, 'd ano': 2274, ' anot': 259, 'anoth': 1777, 'nothe': 5268, 'her r': 3880, 'er re': 3156, 'r rev': 6095, 'view ': 7687, 'iew c': 4112, 'ew co': 3327, 'w com': 7702, 'any a': 1796, 'ny at': 5351, ' at t': 283, 'e pre': 2699, 'ent .': 3103, 'nt . ': 5301, 't . 0': 6858, ' . 0 ': 95, '. 0 w': 1402, ' 0 we': 147, '0 wee': 1481, ' week': 1225, 'week ': 7756, 'eek l': 2933, 'ek la': 2983, 'k lat': 4457, ' late': 693, 'later': 4550, 'ater ': 1934, 'ter .': 7059, 'er ..': 3133, 'r .. ': 6024, ' .. t': 133, '.. th': 1460, 'the h': 7122, 'he ha': 3809, 'e han': 2648, ' hand': 560, 'handf': 3743, 'andfu': 1761, 'ndful': 5139, 'dful ': 2469, 'ful o': 3543, 'ul of': 7426, 'l of ': 4538, ' of r': 788, 'of re': 5477, 'f rev': 3400, 's we ': 6560, ' we h': 1217, 'we ha': 7742, 'e had': 2646, 'had o': 3734, 'ad on': 1570, 'on tr': 5588, 'n tru': 5045, 'lot w': 4686, 'ot we': 5714, 't wer': 6987, 'ere a': 3175, 're al': 6167, 'e all': 2568, ' all ': 218, 'all t': 1656, 'll ta': 4642, 'l tak': 4542, ' take': 1036, 'taken': 7004, 'aken ': 1637, 'ken d': 4479, 'en do': 3054, 'n dow': 4982, ' down': 421, 'down ': 2512, 'own .': 5812, 'we wor': 7749, 'e work': 2785, 'rked h': 6312, 'ked ha': 4474, 'ed har': 2884, 'd hard': 2290, ' hard ': 567, 'hard t': 3755, 'ard to': 1832, 'rd to ': 6153, 'd to s': 2382, ' to se': 1114, 'to sen': 7267, 'o send': 5442, ' send ': 955, 'send o': 6636, 'end ou': 3077, 'nd out': 5097, 'd out ': 2330, ' out e': 830, 'out em': 5775, 'ut ema': 7554, 't emai': 6896, ' email': 449, 'email ': 3034, 'mail i': 4804, 'ail in': 1619, 'il inv': 4157, 'l invi': 4527, ' invit': 653, 'invita': 4258, 'nvitat': 5347, 'vitati': 7698, 'itatio': 4379, 'tation': 7016, 'ations': 1939, 'tions ': 7212, 'ions f': 4273, 'ons fo': 5631, 'ns for': 5285, ' for o': 502, 'for ou': 3507, 'or our': 5671, 'r our ': 6088, ' our c': 827, 'our cu': 5763, 'ur cus': 7482, 'r cust': 6043, 'tomers': 7288, 'omers ': 5549, 'mers p': 4877, 'ers pa': 3206, 'rs pas': 6393, 's past': 6532, 'past a': 5867, 'ast an': 1903, 'st and': 6782, 't and ': 6878, ' and p': 252, 'and pr': 1744, 'nd pre': 5100, 'd pres': 2340, ' prese': 869, 'presen': 5957, 'resent': 6251, 'esent ': 3260, 'sent t': 6643, 'ent to': 3108, 't to l': 6976, ' to le': 1107, 'to lea': 7255, 'o leav': 5418, ' leave': 698, 'leave ': 4589, 'eave r': 2829, 'ave re': 1973, 've rev': 7627, 'iews a': 4116, 'ews ab': 3339, 'ws abo': 7843, 's abou': 6466, 'bout t': 2068, 'out th': 5777, 'ut the': 7560, 't thei': 6971, 'heir e': 3857, 'eir ex': 2971, 'ir exp': 4289, 'r expe': 6054, 'ence w': 3071, 'nce wi': 5074, 'ce wit': 2143, 'with u': 7819, 'ith us': 4409, 'th us ': 7097, 'h us .': 3728, ' us . ': 1171, 'us . t': 7509, 's . tr': 6460, ' . tru': 126, '. trus': 1448, ' trust': 1137, 'trustp': 7320, 'rustpi': 6422, 'ustpil': 7539, 'stpilo': 6815, 'tpilot': 7301, 'pilot ': 5903, 'ilot t': 4171, 'lot th': 4685, 'ot the': 5712, 't then': 6972, ' then ': 1068, 'then c': 7152, 'hen ca': 3873, 'en cal': 3052, 'n call': 4976, 'lled u': 4650, 'led us': 4595, 'ed us ': 2911, 'd us t': 2389, ' us to': 1173, 'us to ': 7512, 's to s': 6546, ' to si': 1115, 'to sig': 7269, 'o sign': 5445, ' sign ': 975, 'sign u': 6700, 'ign up': 4149, 'gn up ': 3661, 'n up f': 5053, ' up fo': 1160, 'up for': 7456, 'p for ': 5825, 'r thei': 6113, 'heir p': 3858, 'eir pa': 2973, 'ir pai': 4295, 'r paid': 6092, 'paid s': 5843, 'aid se': 1615, 'id ser': 4080, 'd serv': 2351, 'vice a': 7679, 'ice an': 4056, 'and we': 1755, 'nd we ': 5121, 'd we d': 2396, ' we de': 1216, 'we dec': 7740, 'e decl': 2603, ' decli': 392, 'declin': 2443, 'ecline': 2851, 'clined': 2192, 'lined ': 4618, 'ined b': 4222, 'ned be': 5171, 'ed bec': 2879, 'd beca': 2279, 'ause w': 1954, 'use we': 7522, 'se we ': 6607, 'e we u': 2774, ' we us': 1220, 'we use': 7746, 'e used': 2767, ' used ': 1178, 'used a': 7525, 'sed an': 6622, 'ed ano': 2876, 'd anot': 2275, ' anoth': 260, 'anothe': 1778, 'nother': 5269, 'ther r': 7156, 'her re': 3881, 'er rev': 3157, 'r revi': 6096, 'eview ': 3322, 'view c': 7688, 'iew co': 4113, 'ew com': 3328, 'w comp': 7703, 'pany a': 5857, 'any at': 1797, 'ny at ': 5352, 'y at t': 7906, ' at th': 284, 'he pre': 3824, 'e pres': 2700, 'sent .': 6642, 'ent . ': 3104, 'nt . 0': 5302, 't . 0 ': 6859, ' . 0 w': 96, '. 0 we': 1403, ' 0 wee': 148, '0 week': 1482, ' week ': 1226, 'week l': 7757, 'eek la': 2934, 'ek lat': 2984, 'k late': 4458, ' later': 694, 'later ': 4551, 'ater .': 1935, 'ter ..': 7060, 'er .. ': 3134, 'r .. t': 6025, ' .. th': 134, '.. the': 1461, ' the h': 1055, 'the ha': 7123, 'he han': 3810, 'e hand': 2649, ' handf': 561, 'handfu': 3744, 'andful': 1762, 'ndful ': 5140, 'dful o': 2470, 'ful of': 3544, 'ul of ': 7427, 'l of r': 4539, ' of re': 789, 'of rev': 5478, 'f revi': 3401, 'ws we ': 7846, 's we h': 6561, ' we ha': 1218, 'we had': 7743, 'e had ': 2647, ' had o': 557, 'had on': 3735, 'ad on ': 1571, ' on tr': 808, 'on tru': 5589, 'n trus': 5046, 'ilot w': 4172, 'lot we': 4687, 'ot wer': 5715, 't were': 6988, 'were a': 7761, 'ere al': 3176, 're all': 6168, 'e all ': 2569, ' all t': 220, 'all ta': 1657, 'll tak': 4643, 'l take': 4543, ' taken': 1037, 'taken ': 7005, 'aken d': 1638, 'ken do': 4480, 'en dow': 3055, 'n down': 4983, ' down ': 422, 'down .': 2513, 'az': 2011, 'zo': 8049, 'dd': 2418, 'gs': 3676, 'ib': 4045, 'ps': 5979, 'tt': 7326, 'i a': 3982, 'm i': 4771, 'n l': 5006, 'fre': 3517, 'mov': 4906, 'ovi': 5790, 'sho': 6688, 'ows': 5813, 's y': 6567, 'u g': 7376, 'ama': 1688, 'maz': 4827, 'azo': 2012, 'zon': 8050, 'n p': 5020, ' ad': 201, 'add': 1575, 'ddi': 2419, 'dit': 2491, 'iti': 4410, 'g s': 3582, 'sav': 6584, 'avi': 1974, 'vin': 7691, 'ngs': 5229, 'gs ': 3677, 'oup': 5754, 'upl': 7463, 'l n': 4532, 'eno': 3090, 'nou': 5270, 'o b': 5379, 'rib': 6261, 'ibl': 4046, 'bly': 2055, 'y u': 7984, 'ups': 7471, 'pse': 5980, 'ett': 3302, 'tti': 7327, 'i am': 3983, ' am ': 230, 'am i': 1682, 'm in': 4772, 'in l': 4203, 'n lo': 5007, 've w': 7633, 'h al': 3692, 'l th': 4544, ' fre': 509, 'free': 3518, 'ee m': 2924, ' mov': 741, 'movi': 4907, 'ovie': 5791, 'vies': 7683, 'es a': 3232, 'd sh': 2354, ' sho': 966, 'show': 6689, 'hows': 3940, 'ows ': 5814, 'ws y': 7848, 's yo': 6568, 'ou g': 5731, 'u ge': 7377, 'et a': 3283, 't as': 6879, 'an a': 1709, ' ama': 233, 'amaz': 1689, 'mazo': 4828, 'azon': 2013, 'zon ': 8051, 'on p': 5580, 'n pr': 5021, 'prim': 5963, 'rime': 6297, 'me c': 4840, 'er i': 3149, 'r in': 6071, 'n ad': 4959, ' add': 202, 'addi': 1576, 'ddit': 2420, 'diti': 2492, 'itio': 4411, 'n to': 5041, 'e sh': 2718, 'ng s': 5214, 'g sa': 3583, ' sav': 936, 'savi': 6585, 'avin': 1975, 'ving': 7692, 'ings': 4244, 'ngs ': 5230, 'gs .': 3678, 've h': 7616, 'a co': 1506, 'coup': 2215, 'oupl': 5755, 'uple': 7464, 'ple ': 5915, 'le i': 4577, 'e is': 2656, 'sues': 6825, 'es w': 3251, 's wi': 6564, 'ir c': 4284, 'e bu': 2582, 'ut i': 7555, 'n al': 4962, 'll n': 4638, 'l no': 4533, 'ot e': 5704, 't en': 6897, ' eno': 451, 'enou': 3091, 'noug': 5271, 'h to': 3722, 'to b': 7232, 'o be': 5380, 'be t': 2026, ' ter': 1042, 'terr': 7063, 'erri': 3197, 'rrib': 6370, 'ribl': 6262, 'ibly': 4047, 'bly ': 2056, 'ly u': 4751, 'y up': 7985, ' ups': 1165, 'upse': 7472, 'pset': 5981, 'sett': 6660, 'etti': 3303, 'ttin': 7328, 'i am ': 3984, ' am i': 231, 'am in': 1683, 'm in ': 4773, ' in l': 645, 'in lo': 4204, 'n lov': 5008, 'ove w': 5783, 've wi': 7634, 'th al': 7081, 'h all': 3693, 'll th': 4644, 'l the': 4545, 'e fre': 2630, ' free': 510, 'free ': 3519, 'ree m': 6229, 'ee mo': 2925, 'e mov': 2671, ' movi': 742, 'movie': 4908, 'ovies': 5792, 'vies ': 7684, 'ies a': 4100, 'es an': 3233, 'nd sh': 5108, 'd sho': 2355, ' show': 967, 'shows': 6690, 'hows ': 3941, 'ows y': 5815, 'ws yo': 7849, 's you': 6569, 'you g': 8025, 'ou ge': 5732, 'u get': 7378, 'get a': 3630, 'et as': 3284, 't as ': 6880, ' as a': 273, 's an ': 6474, ' an a': 240, 'an am': 1710, 'n ama': 4966, ' amaz': 234, 'amazo': 1690, 'mazon': 4829, 'azon ': 2014, 'zon p': 8052, 'on pr': 5581, 'n pri': 5022, ' prim': 873, 'prime': 5964, 'rime ': 6298, 'ime c': 4186, 'me cu': 4841, 'mer i': 4871, 'er in': 3150, 'r in ': 6072, 'in ad': 4196, 'n add': 4960, ' addi': 203, 'addit': 1577, 'dditi': 2421, 'ditio': 2493, 'ition': 4412, 'ion t': 4265, 'on to': 5586, 'n to ': 5042, 'he sh': 3831, 'e shi': 2719, 'ing s': 4237, 'ng sa': 5215, 'g sav': 3584, ' savi': 937, 'savin': 6586, 'aving': 1976, 'vings': 7693, 'ings ': 4245, 'ngs .': 5231, 'gs . ': 3679, 'ave h': 1970, 've ha': 7617, 'ad a ': 1565, 'd a c': 2264, ' a co': 168, 'a cou': 1507, ' coup': 376, 'coupl': 2216, 'ouple': 5756, 'uple ': 7465, 'ple i': 5916, 'le is': 4578, 'e iss': 2657, 'ssues': 6771, 'sues ': 6826, 'ues w': 7412, 'es wi': 3252, 's wit': 6565, 'eir c': 2968, 'ir cu': 4285, 'ice b': 4057, 'ce bu': 2133, 'e but': 2583, 'but i': 2082, 'ut in': 7556, 'in al': 4198, 'n all': 4963, 'all n': 1654, 'll no': 4639, 'l not': 4534, 'not e': 5265, 'ot en': 5705, 't eno': 6898, ' enou': 452, 'enoug': 3092, 'nough': 5272, 'gh to': 3641, 'h to ': 3723, ' to b': 1093, 'to be': 7233, 'o be ': 5381, ' be t': 305, 'be te': 2027, 'e ter': 2733, ' terr': 1043, 'terri': 7064, 'errib': 3198, 'rribl': 6371, 'ribly': 6263, 'ibly ': 4048, 'bly u': 2057, 'ly up': 4752, 'y ups': 7986, ' upse': 1166, 'upset': 7473, 'psett': 5982, 'setti': 6661, 'ettin': 3304, 'tting': 7329, 'i am i': 3985, ' am in': 232, 'am in ': 1684, 'm in l': 4774, ' in lo': 646, 'in lov': 4205, 'n love': 5009, 'love w': 4696, 'ove wi': 5784, 've wit': 7635, 'ith al': 4399, 'th all': 7082, 'h all ': 3694, 'all th': 1658, 'll the': 4645, 'l the ': 4546, 'he fre': 3801, 'e free': 2631, ' free ': 511, 'free m': 3520, 'ree mo': 6230, 'ee mov': 2926, 'e movi': 2672, ' movie': 743, 'movies': 4909, 'ovies ': 5793, 'vies a': 7685, 'ies an': 4101, 'es and': 3234, 'and sh': 1749, 'nd sho': 5109, 'd show': 2356, ' shows': 968, 'shows ': 6691, 'hows y': 3942, 'ows yo': 5816, 'ws you': 7850, 's you ': 6570, ' you g': 1274, 'you ge': 8026, 'ou get': 5733, 'u get ': 7379, ' get a': 542, 'get as': 3631, 'et as ': 3285, 't as a': 6881, ' as an': 274, 'as an ': 1873, 's an a': 6475, ' an am': 241, 'an ama': 1711, 'n amaz': 4967, ' amazo': 235, 'amazon': 1691, 'mazon ': 4830, 'azon p': 2015, 'zon pr': 8053, 'on pri': 5582, 'n prim': 5023, ' prime': 874, 'prime ': 5965, 'rime c': 6299, 'ime cu': 4187, 'me cus': 4842, 'omer i': 5546, 'mer in': 4872, 'er in ': 3151, 'r in a': 6073, ' in ad': 643, 'in add': 4197, 'n addi': 4961, ' addit': 204, 'additi': 1578, 'dditio': 2422, 'dition': 2494, 'ition ': 4413, 'tion t': 7210, 'ion to': 4266, 'on to ': 5587, 'n to t': 5043, 'o the ': 5449, 'the sh': 7134, 'he shi': 3832, 'e ship': 2720, 'ping s': 5908, 'ing sa': 4238, 'ng sav': 5216, 'g savi': 3585, ' savin': 938, 'saving': 6587, 'avings': 1977, 'vings ': 7694, 'ings .': 4246, 'ngs . ': 5232, 'gs . i': 3680, 'have h': 3780, 'ave ha': 1971, 've had': 7618, 'had a ': 3732, 'ad a c': 1566, 'd a co': 2265, ' a cou': 169, 'a coup': 1508, ' coupl': 377, 'couple': 2217, 'ouple ': 5757, 'uple i': 7466, 'ple is': 5917, 'le iss': 4579, 'e issu': 2658, 'issues': 4360, 'ssues ': 6772, 'sues w': 6827, 'ues wi': 7413, 'es wit': 3253, 's with': 6566, 'h thei': 3719, 'heir c': 3856, 'eir cu': 2969, 'ir cus': 4286, 'vice b': 7680, 'ice bu': 4058, 'ce but': 2134, 'e but ': 2584, ' but i': 330, 'but in': 2083, 'ut in ': 7557, 't in a': 6923, ' in al': 644, 'in all': 4199, 'n all ': 4964, ' all n': 219, 'all no': 1655, 'll not': 4640, 'l not ': 4535, ' not e': 784, 'not en': 5266, 'ot eno': 5706, 't enou': 6899, ' enoug': 453, 'enough': 3093, 'nough ': 5273, 'ugh to': 7419, 'gh to ': 3642, 'h to b': 3724, ' to be': 1094, 'to be ': 7234, 'o be t': 5382, ' be te': 306, 'be ter': 2028, 'e terr': 2734, ' terri': 1044, 'terrib': 7065, 'erribl': 3199, 'rribly': 6372, 'ribly ': 6264, 'ibly u': 4049, 'bly up': 2058, 'ly ups': 4753, 'y upse': 7987, ' upset': 1167, 'upsett': 7474, 'psetti': 5983, 'settin': 6662, 'etting': 3305, 'tting ': 7330, 'ting .': 7201}\n"
          ],
          "name": "stdout"
        }
      ]
    },
    {
      "cell_type": "markdown",
      "metadata": {
        "id": "Q2gXCFzRq0qq"
      },
      "source": [
        "## Syntactic $n$-grams"
      ]
    },
    {
      "cell_type": "code",
      "metadata": {
        "id": "8hyW626mq0qq"
      },
      "source": [
        "import spacy\n",
        "nlp = spacy.load('en')\n",
        "\n",
        "features = [' '.join([\"{}_{}\".format(c.lemma_, c.head.lemma_) \n",
        "                      for c in nlp(sentence)])\n",
        "            for sentence in documents[:100]]\n",
        "\n",
        "syntax_vectorizer = CountVectorizer()\n",
        "X = syntax_vectorizer.fit_transform(features)"
      ],
      "execution_count": null,
      "outputs": []
    },
    {
      "cell_type": "code",
      "metadata": {
        "id": "ALdDdJQ4sfXe"
      },
      "source": [
        "print(documents[0])\n",
        "print(features[0])"
      ],
      "execution_count": null,
      "outputs": []
    },
    {
      "cell_type": "code",
      "metadata": {
        "scrolled": false,
        "id": "v9TuOfqOq0qs"
      },
      "source": [
        "print(syntax_vectorizer.vocabulary_)"
      ],
      "execution_count": null,
      "outputs": []
    },
    {
      "cell_type": "markdown",
      "metadata": {
        "id": "MHFbQYr9q0qu"
      },
      "source": [
        "# Dense Distributed Representations"
      ]
    },
    {
      "cell_type": "markdown",
      "metadata": {
        "id": "GCb0XwVwq0qv"
      },
      "source": [
        "## Word embeddings with `Word2vec`"
      ]
    },
    {
      "cell_type": "code",
      "metadata": {
        "id": "NpSgRnn_q0qv",
        "colab": {
          "base_uri": "https://localhost:8080/"
        },
        "outputId": "94863519-e427-4f17-c84b-57727ba0f60f"
      },
      "source": [
        "from gensim.models import Word2Vec\n",
        "from gensim.models.word2vec import FAST_VERSION\n",
        "\n",
        "corpus = [document.split() for document in documents]\n",
        "\n",
        "# initialize model\n",
        "w2v_model = Word2Vec(size=100, \n",
        "                     window=15,\n",
        "                     sample=0.0001,\n",
        "                     iter=200,\n",
        "                     negative=5, \n",
        "                     min_count=100,\n",
        "                     workers=-1, \n",
        "                     hs=0\n",
        ")\n",
        "\n",
        "# size = size of the dimension of word vector, usually 300 and take more time\n",
        "\n",
        "w2v_model.build_vocab(corpus)\n",
        "\n",
        "w2v_model.train(corpus, \n",
        "                total_examples=w2v_model.corpus_count, \n",
        "                epochs=w2v_model.epochs)\n"
      ],
      "execution_count": 57,
      "outputs": [
        {
          "output_type": "execute_result",
          "data": {
            "text/plain": [
              "(0, 0)"
            ]
          },
          "metadata": {
            "tags": []
          },
          "execution_count": 57
        }
      ]
    },
    {
      "cell_type": "code",
      "metadata": {
        "id": "kZ1T6b1htLRQ",
        "colab": {
          "base_uri": "https://localhost:8080/"
        },
        "outputId": "f8e54292-03dc-4154-b59b-efa320849115"
      },
      "source": [
        "print(corpus[0])"
      ],
      "execution_count": 58,
      "outputs": [
        {
          "output_type": "stream",
          "text": [
            "['Prices', 'change', 'daily', 'and', 'if', 'you', 'want', 'to', 'really', 'research', 'the', 'price', 'continually', 'at', 'many', 'different', 'sites', ',', 'I', 'have', 'found', 'cheaper', 'cars', 'elsewhere', '.', 'However', ',', 'if', 'you', 'don', \"'\", 't', 'have', 'a', 'lot', 'of', 'time', 'to', 'research', 'the', 'price', ',', 'this', 'site', 'has', 'always', 'been', 'among', 'the', 'top', 'three', '(', 'e', '.', 'g', '.,', 'cheapest', ')', 'of', 'the', 'ten', 'sites', 'I', 'use', 'to', 'reserve', 'a', 'car', '.']\n"
          ],
          "name": "stdout"
        }
      ]
    },
    {
      "cell_type": "markdown",
      "metadata": {
        "id": "ph7ZnnwTq0qx"
      },
      "source": [
        "Now, we can use the embeddings of the model"
      ]
    },
    {
      "cell_type": "code",
      "metadata": {
        "id": "IZl3-J06q0qy",
        "colab": {
          "base_uri": "https://localhost:8080/"
        },
        "outputId": "f60b7a92-6234-4b6c-dfc9-9ee83638895c"
      },
      "source": [
        "w2v_model.wv['delivery']"
      ],
      "execution_count": 59,
      "outputs": [
        {
          "output_type": "execute_result",
          "data": {
            "text/plain": [
              "array([-2.7229232e-03,  4.7890134e-03, -8.8076765e-04, -2.5874416e-03,\n",
              "        4.6208804e-03, -6.7487318e-04, -2.0464528e-03, -4.0752915e-04,\n",
              "       -3.8732942e-03,  3.5820017e-03,  3.3607316e-04,  1.3584318e-03,\n",
              "        1.1764330e-05,  2.0887891e-03,  1.1148849e-03,  2.7005817e-04,\n",
              "        3.1010199e-03, -2.3122663e-03, -1.9958511e-03, -4.2375810e-03,\n",
              "        4.7674864e-03, -4.4565406e-03,  2.0053375e-03, -3.5388852e-03,\n",
              "        4.0580211e-03,  2.7737829e-03,  3.6442596e-03,  3.6585934e-03,\n",
              "        3.7986238e-03,  1.1509076e-03,  4.0841298e-03, -2.7280578e-03,\n",
              "       -4.8374305e-03, -2.3925002e-04, -4.1261194e-03,  3.5741476e-03,\n",
              "       -3.6344498e-03, -2.6655041e-03,  2.2219250e-03,  4.2993170e-03,\n",
              "       -4.6622329e-03, -6.8110833e-04, -3.9750533e-03, -3.9369785e-03,\n",
              "       -1.5668268e-03,  4.5235441e-03, -4.9112514e-03,  1.4892700e-03,\n",
              "       -4.8684804e-03, -9.4596267e-04, -4.4946340e-03,  1.1054854e-03,\n",
              "        3.1266590e-03, -2.5223212e-03,  5.3584145e-04,  2.3242813e-03,\n",
              "       -2.9104689e-04,  1.4518816e-03,  2.8255482e-03,  4.3498552e-03,\n",
              "        1.0784251e-03, -2.5076403e-03,  2.1613212e-03, -4.6328753e-03,\n",
              "        1.5842326e-03, -4.4916328e-03,  1.9637551e-03,  6.2393385e-04,\n",
              "       -2.2584407e-03, -1.8388511e-03,  1.0368460e-03, -3.5017752e-03,\n",
              "        3.3116522e-03, -9.3033543e-04, -3.6594868e-04, -3.0882999e-03,\n",
              "        1.2477301e-05,  8.5440814e-04,  2.3315169e-03, -2.4637550e-03,\n",
              "       -3.9261789e-03, -4.7505270e-03, -1.7907686e-03,  4.9254070e-03,\n",
              "       -4.7190888e-03,  2.2111018e-03, -3.2272313e-03, -7.7865378e-04,\n",
              "        9.5324626e-04,  1.5910498e-03,  4.0101791e-03, -3.5259684e-03,\n",
              "       -2.8252008e-03,  4.6839016e-03,  4.9962285e-03, -4.4627828e-03,\n",
              "       -1.4143940e-03, -1.8422153e-03,  4.2226599e-03,  3.6615152e-03],\n",
              "      dtype=float32)"
            ]
          },
          "metadata": {
            "tags": []
          },
          "execution_count": 59
        }
      ]
    },
    {
      "cell_type": "code",
      "metadata": {
        "colab": {
          "base_uri": "https://localhost:8080/"
        },
        "id": "A2Xz6SrNrN20",
        "outputId": "53f425fc-3188-4015-c646-250588bd72a6"
      },
      "source": [
        "w2v_model.wv.most_similar(['delivery'])\n",
        "# most similar words to 'deliver', with their similarity value\n",
        "# higher is better (max is 1)\n",
        "# consider that in general they have not a so higher values"
      ],
      "execution_count": 61,
      "outputs": [
        {
          "output_type": "execute_result",
          "data": {
            "text/plain": [
              "[('pounds', 0.3349335491657257),\n",
              " ('red', 0.32473188638687134),\n",
              " ('door', 0.3136950731277466),\n",
              " ('mothers', 0.29352810978889465),\n",
              " ('acceptable', 0.29300832748413086),\n",
              " ('scheduled', 0.2918166220188141),\n",
              " ('reccomend', 0.281585693359375),\n",
              " ('living', 0.2782709300518036),\n",
              " ('stars', 0.2742609977722168),\n",
              " ('scan', 0.262966513633728)]"
            ]
          },
          "metadata": {
            "tags": []
          },
          "execution_count": 61
        }
      ]
    },
    {
      "cell_type": "code",
      "metadata": {
        "id": "geYn64tsq0qz",
        "colab": {
          "base_uri": "https://localhost:8080/"
        },
        "outputId": "6d306e5f-8bb3-40ee-acb1-f18d5983890b"
      },
      "source": [
        "w2v_model.wv.most_similar(['delivery','concert'])\n",
        "# words more similar to 'delivery' and 'concert'\n",
        "# we should mean them like points in the space and we can concider \n",
        "# points \"in the middle\" between the points that we used\n",
        "# consider Neighbour procedure on the vector space"
      ],
      "execution_count": 62,
      "outputs": [
        {
          "output_type": "execute_result",
          "data": {
            "text/plain": [
              "[('displayed', 0.3079010844230652),\n",
              " ('........', 0.30706268548965454),\n",
              " ('anymore', 0.30380067229270935),\n",
              " ('directly', 0.2870674133300781),\n",
              " ('Still', 0.28459298610687256),\n",
              " ('gesture', 0.28425103425979614),\n",
              " ('market', 0.27986207604408264),\n",
              " ('Animed', 0.27397236227989197),\n",
              " ('door', 0.2671118378639221),\n",
              " ('occasions', 0.2609759569168091)]"
            ]
          },
          "metadata": {
            "tags": []
          },
          "execution_count": 62
        }
      ]
    },
    {
      "cell_type": "code",
      "metadata": {
        "scrolled": true,
        "id": "oQQLNlOrq0q2",
        "colab": {
          "base_uri": "https://localhost:8080/"
        },
        "outputId": "aa5a3fd4-b992-411e-a068-7436c88e3d87"
      },
      "source": [
        "# birthday - present + husband => birthday:present as husband:?\n",
        "w2v_model.wv.most_similar(positive=['birthday', 'husband'], negative=['present'], topn=3)"
      ],
      "execution_count": 63,
      "outputs": [
        {
          "output_type": "execute_result",
          "data": {
            "text/plain": [
              "[('dinner', 0.33260515332221985),\n",
              " ('SO', 0.32500073313713074),\n",
              " ('disappointing', 0.3154750168323517)]"
            ]
          },
          "metadata": {
            "tags": []
          },
          "execution_count": 63
        }
      ]
    },
    {
      "cell_type": "code",
      "metadata": {
        "id": "1alOWRHcq0q4",
        "colab": {
          "base_uri": "https://localhost:8080/"
        },
        "outputId": "9570a122-7600-4a94-dad7-1a4252502c35"
      },
      "source": [
        "word1 = \"Cheapest\"\n",
        "word2 = \"friendly\"\n",
        "\n",
        "# retrieve the actual vector (we will never use it)\n",
        "# print(w2v_model.wv[word1])\n",
        "\n",
        "# compare by computing similarity between two words\n",
        "print(w2v_model.wv.similarity(word1, word2))\n",
        "\n",
        "# get the 3 most similar words\n",
        "print(w2v_model.wv.most_similar(word1, topn=3))\n"
      ],
      "execution_count": 64,
      "outputs": [
        {
          "output_type": "stream",
          "text": [
            "-0.010900016\n",
            "[('months', 0.37436985969543457), ('town', 0.33676764369010925), ('United', 0.3110150992870331)]\n"
          ],
          "name": "stdout"
        }
      ]
    },
    {
      "cell_type": "markdown",
      "metadata": {
        "id": "z_P7sWZOq0q8"
      },
      "source": [
        "\n",
        "### Exercise\n",
        "Use `spacy` to restrict the words in the tweets to *content words*, i.e., nouns, verbs, and adjectives. Transform the words to lower case and add the POS with an underderscore. E.g.:\n",
        "\n",
        "`love_VERB old-fashioneds_NOUN`\n",
        "\n",
        "This also allows us to distinguish between homographs, i.e., words that are written the same, but belong to different word classes, e.g., *love* in \"I **love** old-fashioneds\" vs. \"He felt so sick, it must have been **love**\".\n",
        "\n",
        "\n",
        "Make sure to exclude sentences that contain none of the above.\n",
        "\n",
        "Write the resulting corpus to a variable called `word_corpus`."
      ]
    },
    {
      "cell_type": "code",
      "metadata": {
        "id": "oghTQmmAq0q8"
      },
      "source": [
        "# Your code here"
      ],
      "execution_count": null,
      "outputs": []
    },
    {
      "cell_type": "markdown",
      "metadata": {
        "id": "IWJom385q0q-"
      },
      "source": [
        "Rerun the `Word2vec` model from above on the new data set and test the words out"
      ]
    },
    {
      "cell_type": "code",
      "metadata": {
        "id": "BNlrX5LGq0q_"
      },
      "source": [
        "# Your code here"
      ],
      "execution_count": null,
      "outputs": []
    },
    {
      "cell_type": "markdown",
      "metadata": {
        "id": "inphqYJFq0rD"
      },
      "source": [
        "## Exercise\n",
        "\n",
        "Train 4 more `Word2vec` models and average the resulting embedding matrices."
      ]
    },
    {
      "cell_type": "code",
      "metadata": {
        "id": "R6FRlFh4q0rD"
      },
      "source": [
        "# Your code here\n",
        "\n"
      ],
      "execution_count": null,
      "outputs": []
    },
    {
      "cell_type": "markdown",
      "metadata": {
        "id": "Al2nC2zUq0rF"
      },
      "source": [
        "## Document embeddings with `Doc2Vec`"
      ]
    },
    {
      "cell_type": "code",
      "metadata": {
        "id": "LUuNgYdnq0rF",
        "colab": {
          "base_uri": "https://localhost:8080/",
          "height": 198
        },
        "outputId": "47e98337-3125-439d-9450-801e1d056070"
      },
      "source": [
        "df.head()"
      ],
      "execution_count": 65,
      "outputs": [
        {
          "output_type": "execute_result",
          "data": {
            "text/html": [
              "<div>\n",
              "<style scoped>\n",
              "    .dataframe tbody tr th:only-of-type {\n",
              "        vertical-align: middle;\n",
              "    }\n",
              "\n",
              "    .dataframe tbody tr th {\n",
              "        vertical-align: top;\n",
              "    }\n",
              "\n",
              "    .dataframe thead th {\n",
              "        text-align: right;\n",
              "    }\n",
              "</style>\n",
              "<table border=\"1\" class=\"dataframe\">\n",
              "  <thead>\n",
              "    <tr style=\"text-align: right;\">\n",
              "      <th></th>\n",
              "      <th>score</th>\n",
              "      <th>category</th>\n",
              "      <th>uid</th>\n",
              "      <th>gender</th>\n",
              "      <th>age</th>\n",
              "      <th>text</th>\n",
              "    </tr>\n",
              "  </thead>\n",
              "  <tbody>\n",
              "    <tr>\n",
              "      <th>0</th>\n",
              "      <td>5</td>\n",
              "      <td>Car Rental</td>\n",
              "      <td>899881</td>\n",
              "      <td>F</td>\n",
              "      <td>50</td>\n",
              "      <td>Prices change daily and if you want to really ...</td>\n",
              "    </tr>\n",
              "    <tr>\n",
              "      <th>1</th>\n",
              "      <td>5</td>\n",
              "      <td>Fitness &amp; Nutrition</td>\n",
              "      <td>828184</td>\n",
              "      <td>M</td>\n",
              "      <td>32</td>\n",
              "      <td>and the fact that they will match other compan...</td>\n",
              "    </tr>\n",
              "    <tr>\n",
              "      <th>2</th>\n",
              "      <td>5</td>\n",
              "      <td>Electronic Payment</td>\n",
              "      <td>1698375</td>\n",
              "      <td>M</td>\n",
              "      <td>48</td>\n",
              "      <td>Used Paypal for my buying and selling for the ...</td>\n",
              "    </tr>\n",
              "    <tr>\n",
              "      <th>3</th>\n",
              "      <td>5</td>\n",
              "      <td>Gaming</td>\n",
              "      <td>3324079</td>\n",
              "      <td>M</td>\n",
              "      <td>29</td>\n",
              "      <td>I ' ve made two purchases on CJ ' s for Fallou...</td>\n",
              "    </tr>\n",
              "    <tr>\n",
              "      <th>4</th>\n",
              "      <td>4</td>\n",
              "      <td>Jewelry</td>\n",
              "      <td>719816</td>\n",
              "      <td>F</td>\n",
              "      <td>29</td>\n",
              "      <td>I was very happy with the diamond that I order...</td>\n",
              "    </tr>\n",
              "  </tbody>\n",
              "</table>\n",
              "</div>"
            ],
            "text/plain": [
              "   score  ...                                               text\n",
              "0      5  ...  Prices change daily and if you want to really ...\n",
              "1      5  ...  and the fact that they will match other compan...\n",
              "2      5  ...  Used Paypal for my buying and selling for the ...\n",
              "3      5  ...  I ' ve made two purchases on CJ ' s for Fallou...\n",
              "4      4  ...  I was very happy with the diamond that I order...\n",
              "\n",
              "[5 rows x 6 columns]"
            ]
          },
          "metadata": {
            "tags": []
          },
          "execution_count": 65
        }
      ]
    },
    {
      "cell_type": "code",
      "metadata": {
        "id": "LB8xMlJDq0rH",
        "colab": {
          "base_uri": "https://localhost:8080/"
        },
        "outputId": "0d62829d-5773-432c-8aa6-bc5986178c1d"
      },
      "source": [
        "from gensim.models import Doc2Vec\n",
        "from gensim.models.doc2vec import FAST_VERSION\n",
        "from gensim.models.doc2vec import TaggedDocument\n",
        "\n",
        "corpus = []\n",
        "\n",
        "for row in df.iterrows():\n",
        "    label = row[1].score # as a tag we take the score\n",
        "    text = row[1].text\n",
        "    corpus.append(TaggedDocument(words=text.split(), tags=[str(label)]))\n",
        "\n",
        "print('done')\n",
        "d2v_model = Doc2Vec(vector_size=100, \n",
        "                    window=15,\n",
        "                    hs=0,\n",
        "                    sample=0.000001,\n",
        "                    negative=5,\n",
        "                    min_count=100,\n",
        "                    workers=-1,\n",
        "                    epochs=500,\n",
        "                    dm=0, \n",
        "                    dbow_words=1)\n",
        "\n",
        "d2v_model.build_vocab(corpus)\n",
        "\n",
        "d2v_model.train(corpus, total_examples=d2v_model.corpus_count, epochs=d2v_model.epochs)"
      ],
      "execution_count": 66,
      "outputs": [
        {
          "output_type": "stream",
          "text": [
            "done\n"
          ],
          "name": "stdout"
        }
      ]
    },
    {
      "cell_type": "markdown",
      "metadata": {
        "id": "tn87gc7Zq0rI"
      },
      "source": [
        "We can now look at the elements"
      ]
    },
    {
      "cell_type": "code",
      "metadata": {
        "id": "Pm1NgMk0w_U5"
      },
      "source": [
        "d2v_model.docvecs[0]"
      ],
      "execution_count": null,
      "outputs": []
    },
    {
      "cell_type": "code",
      "metadata": {
        "id": "Az6y7ckIq0rJ"
      },
      "source": [
        "d2v_model.docvecs.doctags"
      ],
      "execution_count": null,
      "outputs": []
    },
    {
      "cell_type": "code",
      "metadata": {
        "id": "s16KBUefq0rL"
      },
      "source": [
        "target_doc = '1'\n",
        "\n",
        "similar_docs = d2v_model.docvecs.most_similar(target_doc, topn=5)\n",
        "print(similar_docs)\n",
        "# we compute the similarity with the other tags"
      ],
      "execution_count": null,
      "outputs": []
    },
    {
      "cell_type": "markdown",
      "metadata": {
        "id": "LV8VauPpq0rM"
      },
      "source": [
        "## Exercise\n",
        "\n",
        "What are the 10 most similar ***words*** to each category?"
      ]
    },
    {
      "cell_type": "code",
      "metadata": {
        "id": "BFkB9eJbq0rN"
      },
      "source": [
        "# your code here"
      ],
      "execution_count": null,
      "outputs": []
    }
  ]
}