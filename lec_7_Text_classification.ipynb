{
  "nbformat": 4,
  "nbformat_minor": 0,
  "metadata": {
    "anaconda-cloud": {},
    "celltoolbar": "Slideshow",
    "kernelspec": {
      "display_name": "Python 3",
      "language": "python",
      "name": "python3"
    },
    "language_info": {
      "codemirror_mode": {
        "name": "ipython",
        "version": 3
      },
      "file_extension": ".py",
      "mimetype": "text/x-python",
      "name": "python",
      "nbconvert_exporter": "python",
      "pygments_lexer": "ipython3",
      "version": "3.8.3"
    },
    "livereveal": {
      "scroll": true,
      "start_slideshow_at": "selected",
      "transition": "none"
    },
    "colab": {
      "name": "lec_7_Text classification.ipynb",
      "provenance": [],
      "collapsed_sections": [
        "WQz-RT3bVz5F",
        "RuxrcSFUVz5G"
      ],
      "toc_visible": true
    },
    "widgets": {
      "application/vnd.jupyter.widget-state+json": {
        "d3826d60a1d946629ce9242c9d39bdf1": {
          "model_module": "@jupyter-widgets/controls",
          "model_name": "HBoxModel",
          "state": {
            "_view_name": "HBoxView",
            "_dom_classes": [],
            "_model_name": "HBoxModel",
            "_view_module": "@jupyter-widgets/controls",
            "_model_module_version": "1.5.0",
            "_view_count": null,
            "_view_module_version": "1.5.0",
            "box_style": "",
            "layout": "IPY_MODEL_593317494d06433492c459d20d1b08c7",
            "_model_module": "@jupyter-widgets/controls",
            "children": [
              "IPY_MODEL_0a68330978a6430b9ff3dad37d0da638",
              "IPY_MODEL_312f5d0ed6464a468494b3695ca2a37b"
            ]
          }
        },
        "593317494d06433492c459d20d1b08c7": {
          "model_module": "@jupyter-widgets/base",
          "model_name": "LayoutModel",
          "state": {
            "_view_name": "LayoutView",
            "grid_template_rows": null,
            "right": null,
            "justify_content": null,
            "_view_module": "@jupyter-widgets/base",
            "overflow": null,
            "_model_module_version": "1.2.0",
            "_view_count": null,
            "flex_flow": null,
            "width": null,
            "min_width": null,
            "border": null,
            "align_items": null,
            "bottom": null,
            "_model_module": "@jupyter-widgets/base",
            "top": null,
            "grid_column": null,
            "overflow_y": null,
            "overflow_x": null,
            "grid_auto_flow": null,
            "grid_area": null,
            "grid_template_columns": null,
            "flex": null,
            "_model_name": "LayoutModel",
            "justify_items": null,
            "grid_row": null,
            "max_height": null,
            "align_content": null,
            "visibility": null,
            "align_self": null,
            "height": null,
            "min_height": null,
            "padding": null,
            "grid_auto_rows": null,
            "grid_gap": null,
            "max_width": null,
            "order": null,
            "_view_module_version": "1.2.0",
            "grid_template_areas": null,
            "object_position": null,
            "object_fit": null,
            "grid_auto_columns": null,
            "margin": null,
            "display": null,
            "left": null
          }
        },
        "0a68330978a6430b9ff3dad37d0da638": {
          "model_module": "@jupyter-widgets/controls",
          "model_name": "FloatProgressModel",
          "state": {
            "_view_name": "ProgressView",
            "style": "IPY_MODEL_63383bbca67a4246aa233094f9349a7a",
            "_dom_classes": [],
            "description": "Downloading: 100%",
            "_model_name": "FloatProgressModel",
            "bar_style": "success",
            "max": 899,
            "_view_module": "@jupyter-widgets/controls",
            "_model_module_version": "1.5.0",
            "value": 899,
            "_view_count": null,
            "_view_module_version": "1.5.0",
            "orientation": "horizontal",
            "min": 0,
            "description_tooltip": null,
            "_model_module": "@jupyter-widgets/controls",
            "layout": "IPY_MODEL_e0602fe32abc4fc2a96ea3979c82aa87"
          }
        },
        "312f5d0ed6464a468494b3695ca2a37b": {
          "model_module": "@jupyter-widgets/controls",
          "model_name": "HTMLModel",
          "state": {
            "_view_name": "HTMLView",
            "style": "IPY_MODEL_da5fdd4483db42cd814de1925565c03b",
            "_dom_classes": [],
            "description": "",
            "_model_name": "HTMLModel",
            "placeholder": "​",
            "_view_module": "@jupyter-widgets/controls",
            "_model_module_version": "1.5.0",
            "value": " 899/899 [00:24&lt;00:00, 36.8B/s]",
            "_view_count": null,
            "_view_module_version": "1.5.0",
            "description_tooltip": null,
            "_model_module": "@jupyter-widgets/controls",
            "layout": "IPY_MODEL_ca97d2a6b91f4d349932f3bf82f17eda"
          }
        },
        "63383bbca67a4246aa233094f9349a7a": {
          "model_module": "@jupyter-widgets/controls",
          "model_name": "ProgressStyleModel",
          "state": {
            "_view_name": "StyleView",
            "_model_name": "ProgressStyleModel",
            "description_width": "initial",
            "_view_module": "@jupyter-widgets/base",
            "_model_module_version": "1.5.0",
            "_view_count": null,
            "_view_module_version": "1.2.0",
            "bar_color": null,
            "_model_module": "@jupyter-widgets/controls"
          }
        },
        "e0602fe32abc4fc2a96ea3979c82aa87": {
          "model_module": "@jupyter-widgets/base",
          "model_name": "LayoutModel",
          "state": {
            "_view_name": "LayoutView",
            "grid_template_rows": null,
            "right": null,
            "justify_content": null,
            "_view_module": "@jupyter-widgets/base",
            "overflow": null,
            "_model_module_version": "1.2.0",
            "_view_count": null,
            "flex_flow": null,
            "width": null,
            "min_width": null,
            "border": null,
            "align_items": null,
            "bottom": null,
            "_model_module": "@jupyter-widgets/base",
            "top": null,
            "grid_column": null,
            "overflow_y": null,
            "overflow_x": null,
            "grid_auto_flow": null,
            "grid_area": null,
            "grid_template_columns": null,
            "flex": null,
            "_model_name": "LayoutModel",
            "justify_items": null,
            "grid_row": null,
            "max_height": null,
            "align_content": null,
            "visibility": null,
            "align_self": null,
            "height": null,
            "min_height": null,
            "padding": null,
            "grid_auto_rows": null,
            "grid_gap": null,
            "max_width": null,
            "order": null,
            "_view_module_version": "1.2.0",
            "grid_template_areas": null,
            "object_position": null,
            "object_fit": null,
            "grid_auto_columns": null,
            "margin": null,
            "display": null,
            "left": null
          }
        },
        "da5fdd4483db42cd814de1925565c03b": {
          "model_module": "@jupyter-widgets/controls",
          "model_name": "DescriptionStyleModel",
          "state": {
            "_view_name": "StyleView",
            "_model_name": "DescriptionStyleModel",
            "description_width": "",
            "_view_module": "@jupyter-widgets/base",
            "_model_module_version": "1.5.0",
            "_view_count": null,
            "_view_module_version": "1.2.0",
            "_model_module": "@jupyter-widgets/controls"
          }
        },
        "ca97d2a6b91f4d349932f3bf82f17eda": {
          "model_module": "@jupyter-widgets/base",
          "model_name": "LayoutModel",
          "state": {
            "_view_name": "LayoutView",
            "grid_template_rows": null,
            "right": null,
            "justify_content": null,
            "_view_module": "@jupyter-widgets/base",
            "overflow": null,
            "_model_module_version": "1.2.0",
            "_view_count": null,
            "flex_flow": null,
            "width": null,
            "min_width": null,
            "border": null,
            "align_items": null,
            "bottom": null,
            "_model_module": "@jupyter-widgets/base",
            "top": null,
            "grid_column": null,
            "overflow_y": null,
            "overflow_x": null,
            "grid_auto_flow": null,
            "grid_area": null,
            "grid_template_columns": null,
            "flex": null,
            "_model_name": "LayoutModel",
            "justify_items": null,
            "grid_row": null,
            "max_height": null,
            "align_content": null,
            "visibility": null,
            "align_self": null,
            "height": null,
            "min_height": null,
            "padding": null,
            "grid_auto_rows": null,
            "grid_gap": null,
            "max_width": null,
            "order": null,
            "_view_module_version": "1.2.0",
            "grid_template_areas": null,
            "object_position": null,
            "object_fit": null,
            "grid_auto_columns": null,
            "margin": null,
            "display": null,
            "left": null
          }
        },
        "a6a7a6ab66c9477898fca5529282d52f": {
          "model_module": "@jupyter-widgets/controls",
          "model_name": "HBoxModel",
          "state": {
            "_view_name": "HBoxView",
            "_dom_classes": [],
            "_model_name": "HBoxModel",
            "_view_module": "@jupyter-widgets/controls",
            "_model_module_version": "1.5.0",
            "_view_count": null,
            "_view_module_version": "1.5.0",
            "box_style": "",
            "layout": "IPY_MODEL_6b4c1bb36a35447ab6e657a544cada43",
            "_model_module": "@jupyter-widgets/controls",
            "children": [
              "IPY_MODEL_9349c19e1e1f48b6a2a591429889b3a3",
              "IPY_MODEL_11a003a9f9c3448d9b13a1e40f53f8e7"
            ]
          }
        },
        "6b4c1bb36a35447ab6e657a544cada43": {
          "model_module": "@jupyter-widgets/base",
          "model_name": "LayoutModel",
          "state": {
            "_view_name": "LayoutView",
            "grid_template_rows": null,
            "right": null,
            "justify_content": null,
            "_view_module": "@jupyter-widgets/base",
            "overflow": null,
            "_model_module_version": "1.2.0",
            "_view_count": null,
            "flex_flow": null,
            "width": null,
            "min_width": null,
            "border": null,
            "align_items": null,
            "bottom": null,
            "_model_module": "@jupyter-widgets/base",
            "top": null,
            "grid_column": null,
            "overflow_y": null,
            "overflow_x": null,
            "grid_auto_flow": null,
            "grid_area": null,
            "grid_template_columns": null,
            "flex": null,
            "_model_name": "LayoutModel",
            "justify_items": null,
            "grid_row": null,
            "max_height": null,
            "align_content": null,
            "visibility": null,
            "align_self": null,
            "height": null,
            "min_height": null,
            "padding": null,
            "grid_auto_rows": null,
            "grid_gap": null,
            "max_width": null,
            "order": null,
            "_view_module_version": "1.2.0",
            "grid_template_areas": null,
            "object_position": null,
            "object_fit": null,
            "grid_auto_columns": null,
            "margin": null,
            "display": null,
            "left": null
          }
        },
        "9349c19e1e1f48b6a2a591429889b3a3": {
          "model_module": "@jupyter-widgets/controls",
          "model_name": "FloatProgressModel",
          "state": {
            "_view_name": "ProgressView",
            "style": "IPY_MODEL_23de8fd83bb9494a88996afa0eca1d93",
            "_dom_classes": [],
            "description": "Downloading: 100%",
            "_model_name": "FloatProgressModel",
            "bar_style": "success",
            "max": 793981,
            "_view_module": "@jupyter-widgets/controls",
            "_model_module_version": "1.5.0",
            "value": 793981,
            "_view_count": null,
            "_view_module_version": "1.5.0",
            "orientation": "horizontal",
            "min": 0,
            "description_tooltip": null,
            "_model_module": "@jupyter-widgets/controls",
            "layout": "IPY_MODEL_10705cc40a284a51a9984e9ad689dde9"
          }
        },
        "11a003a9f9c3448d9b13a1e40f53f8e7": {
          "model_module": "@jupyter-widgets/controls",
          "model_name": "HTMLModel",
          "state": {
            "_view_name": "HTMLView",
            "style": "IPY_MODEL_106b238da5794a989432dc1b27bfe05d",
            "_dom_classes": [],
            "description": "",
            "_model_name": "HTMLModel",
            "placeholder": "​",
            "_view_module": "@jupyter-widgets/controls",
            "_model_module_version": "1.5.0",
            "value": " 794k/794k [00:23&lt;00:00, 33.3kB/s]",
            "_view_count": null,
            "_view_module_version": "1.5.0",
            "description_tooltip": null,
            "_model_module": "@jupyter-widgets/controls",
            "layout": "IPY_MODEL_cabc3367a6614063af6453f311c6d066"
          }
        },
        "23de8fd83bb9494a88996afa0eca1d93": {
          "model_module": "@jupyter-widgets/controls",
          "model_name": "ProgressStyleModel",
          "state": {
            "_view_name": "StyleView",
            "_model_name": "ProgressStyleModel",
            "description_width": "initial",
            "_view_module": "@jupyter-widgets/base",
            "_model_module_version": "1.5.0",
            "_view_count": null,
            "_view_module_version": "1.2.0",
            "bar_color": null,
            "_model_module": "@jupyter-widgets/controls"
          }
        },
        "10705cc40a284a51a9984e9ad689dde9": {
          "model_module": "@jupyter-widgets/base",
          "model_name": "LayoutModel",
          "state": {
            "_view_name": "LayoutView",
            "grid_template_rows": null,
            "right": null,
            "justify_content": null,
            "_view_module": "@jupyter-widgets/base",
            "overflow": null,
            "_model_module_version": "1.2.0",
            "_view_count": null,
            "flex_flow": null,
            "width": null,
            "min_width": null,
            "border": null,
            "align_items": null,
            "bottom": null,
            "_model_module": "@jupyter-widgets/base",
            "top": null,
            "grid_column": null,
            "overflow_y": null,
            "overflow_x": null,
            "grid_auto_flow": null,
            "grid_area": null,
            "grid_template_columns": null,
            "flex": null,
            "_model_name": "LayoutModel",
            "justify_items": null,
            "grid_row": null,
            "max_height": null,
            "align_content": null,
            "visibility": null,
            "align_self": null,
            "height": null,
            "min_height": null,
            "padding": null,
            "grid_auto_rows": null,
            "grid_gap": null,
            "max_width": null,
            "order": null,
            "_view_module_version": "1.2.0",
            "grid_template_areas": null,
            "object_position": null,
            "object_fit": null,
            "grid_auto_columns": null,
            "margin": null,
            "display": null,
            "left": null
          }
        },
        "106b238da5794a989432dc1b27bfe05d": {
          "model_module": "@jupyter-widgets/controls",
          "model_name": "DescriptionStyleModel",
          "state": {
            "_view_name": "StyleView",
            "_model_name": "DescriptionStyleModel",
            "description_width": "",
            "_view_module": "@jupyter-widgets/base",
            "_model_module_version": "1.5.0",
            "_view_count": null,
            "_view_module_version": "1.2.0",
            "_model_module": "@jupyter-widgets/controls"
          }
        },
        "cabc3367a6614063af6453f311c6d066": {
          "model_module": "@jupyter-widgets/base",
          "model_name": "LayoutModel",
          "state": {
            "_view_name": "LayoutView",
            "grid_template_rows": null,
            "right": null,
            "justify_content": null,
            "_view_module": "@jupyter-widgets/base",
            "overflow": null,
            "_model_module_version": "1.2.0",
            "_view_count": null,
            "flex_flow": null,
            "width": null,
            "min_width": null,
            "border": null,
            "align_items": null,
            "bottom": null,
            "_model_module": "@jupyter-widgets/base",
            "top": null,
            "grid_column": null,
            "overflow_y": null,
            "overflow_x": null,
            "grid_auto_flow": null,
            "grid_area": null,
            "grid_template_columns": null,
            "flex": null,
            "_model_name": "LayoutModel",
            "justify_items": null,
            "grid_row": null,
            "max_height": null,
            "align_content": null,
            "visibility": null,
            "align_self": null,
            "height": null,
            "min_height": null,
            "padding": null,
            "grid_auto_rows": null,
            "grid_gap": null,
            "max_width": null,
            "order": null,
            "_view_module_version": "1.2.0",
            "grid_template_areas": null,
            "object_position": null,
            "object_fit": null,
            "grid_auto_columns": null,
            "margin": null,
            "display": null,
            "left": null
          }
        },
        "9693f1b7033b40a191227f8049d8c5e6": {
          "model_module": "@jupyter-widgets/controls",
          "model_name": "HBoxModel",
          "state": {
            "_view_name": "HBoxView",
            "_dom_classes": [],
            "_model_name": "HBoxModel",
            "_view_module": "@jupyter-widgets/controls",
            "_model_module_version": "1.5.0",
            "_view_count": null,
            "_view_module_version": "1.5.0",
            "box_style": "",
            "layout": "IPY_MODEL_99bfb6e1c1d04eabb4bf409b5c46b61e",
            "_model_module": "@jupyter-widgets/controls",
            "children": [
              "IPY_MODEL_4f0d8c986c064de8985ab7b60969ce52",
              "IPY_MODEL_c8acafcad62244ee8165943677f5e16f"
            ]
          }
        },
        "99bfb6e1c1d04eabb4bf409b5c46b61e": {
          "model_module": "@jupyter-widgets/base",
          "model_name": "LayoutModel",
          "state": {
            "_view_name": "LayoutView",
            "grid_template_rows": null,
            "right": null,
            "justify_content": null,
            "_view_module": "@jupyter-widgets/base",
            "overflow": null,
            "_model_module_version": "1.2.0",
            "_view_count": null,
            "flex_flow": null,
            "width": null,
            "min_width": null,
            "border": null,
            "align_items": null,
            "bottom": null,
            "_model_module": "@jupyter-widgets/base",
            "top": null,
            "grid_column": null,
            "overflow_y": null,
            "overflow_x": null,
            "grid_auto_flow": null,
            "grid_area": null,
            "grid_template_columns": null,
            "flex": null,
            "_model_name": "LayoutModel",
            "justify_items": null,
            "grid_row": null,
            "max_height": null,
            "align_content": null,
            "visibility": null,
            "align_self": null,
            "height": null,
            "min_height": null,
            "padding": null,
            "grid_auto_rows": null,
            "grid_gap": null,
            "max_width": null,
            "order": null,
            "_view_module_version": "1.2.0",
            "grid_template_areas": null,
            "object_position": null,
            "object_fit": null,
            "grid_auto_columns": null,
            "margin": null,
            "display": null,
            "left": null
          }
        },
        "4f0d8c986c064de8985ab7b60969ce52": {
          "model_module": "@jupyter-widgets/controls",
          "model_name": "FloatProgressModel",
          "state": {
            "_view_name": "ProgressView",
            "style": "IPY_MODEL_d591d52c3ea64963956f5a60103cad6a",
            "_dom_classes": [],
            "description": "Downloading: 100%",
            "_model_name": "FloatProgressModel",
            "bar_style": "success",
            "max": 1682192,
            "_view_module": "@jupyter-widgets/controls",
            "_model_module_version": "1.5.0",
            "value": 1682192,
            "_view_count": null,
            "_view_module_version": "1.5.0",
            "orientation": "horizontal",
            "min": 0,
            "description_tooltip": null,
            "_model_module": "@jupyter-widgets/controls",
            "layout": "IPY_MODEL_55195f834c45419e9b0adbb2783b7316"
          }
        },
        "c8acafcad62244ee8165943677f5e16f": {
          "model_module": "@jupyter-widgets/controls",
          "model_name": "HTMLModel",
          "state": {
            "_view_name": "HTMLView",
            "style": "IPY_MODEL_6e414467ebb241919296679f523a9889",
            "_dom_classes": [],
            "description": "",
            "_model_name": "HTMLModel",
            "placeholder": "​",
            "_view_module": "@jupyter-widgets/controls",
            "_model_module_version": "1.5.0",
            "value": " 1.68M/1.68M [00:00&lt;00:00, 3.26MB/s]",
            "_view_count": null,
            "_view_module_version": "1.5.0",
            "description_tooltip": null,
            "_model_module": "@jupyter-widgets/controls",
            "layout": "IPY_MODEL_21dc80ddcf45494d83b5afa550700349"
          }
        },
        "d591d52c3ea64963956f5a60103cad6a": {
          "model_module": "@jupyter-widgets/controls",
          "model_name": "ProgressStyleModel",
          "state": {
            "_view_name": "StyleView",
            "_model_name": "ProgressStyleModel",
            "description_width": "initial",
            "_view_module": "@jupyter-widgets/base",
            "_model_module_version": "1.5.0",
            "_view_count": null,
            "_view_module_version": "1.2.0",
            "bar_color": null,
            "_model_module": "@jupyter-widgets/controls"
          }
        },
        "55195f834c45419e9b0adbb2783b7316": {
          "model_module": "@jupyter-widgets/base",
          "model_name": "LayoutModel",
          "state": {
            "_view_name": "LayoutView",
            "grid_template_rows": null,
            "right": null,
            "justify_content": null,
            "_view_module": "@jupyter-widgets/base",
            "overflow": null,
            "_model_module_version": "1.2.0",
            "_view_count": null,
            "flex_flow": null,
            "width": null,
            "min_width": null,
            "border": null,
            "align_items": null,
            "bottom": null,
            "_model_module": "@jupyter-widgets/base",
            "top": null,
            "grid_column": null,
            "overflow_y": null,
            "overflow_x": null,
            "grid_auto_flow": null,
            "grid_area": null,
            "grid_template_columns": null,
            "flex": null,
            "_model_name": "LayoutModel",
            "justify_items": null,
            "grid_row": null,
            "max_height": null,
            "align_content": null,
            "visibility": null,
            "align_self": null,
            "height": null,
            "min_height": null,
            "padding": null,
            "grid_auto_rows": null,
            "grid_gap": null,
            "max_width": null,
            "order": null,
            "_view_module_version": "1.2.0",
            "grid_template_areas": null,
            "object_position": null,
            "object_fit": null,
            "grid_auto_columns": null,
            "margin": null,
            "display": null,
            "left": null
          }
        },
        "6e414467ebb241919296679f523a9889": {
          "model_module": "@jupyter-widgets/controls",
          "model_name": "DescriptionStyleModel",
          "state": {
            "_view_name": "StyleView",
            "_model_name": "DescriptionStyleModel",
            "description_width": "",
            "_view_module": "@jupyter-widgets/base",
            "_model_module_version": "1.5.0",
            "_view_count": null,
            "_view_module_version": "1.2.0",
            "_model_module": "@jupyter-widgets/controls"
          }
        },
        "21dc80ddcf45494d83b5afa550700349": {
          "model_module": "@jupyter-widgets/base",
          "model_name": "LayoutModel",
          "state": {
            "_view_name": "LayoutView",
            "grid_template_rows": null,
            "right": null,
            "justify_content": null,
            "_view_module": "@jupyter-widgets/base",
            "overflow": null,
            "_model_module_version": "1.2.0",
            "_view_count": null,
            "flex_flow": null,
            "width": null,
            "min_width": null,
            "border": null,
            "align_items": null,
            "bottom": null,
            "_model_module": "@jupyter-widgets/base",
            "top": null,
            "grid_column": null,
            "overflow_y": null,
            "overflow_x": null,
            "grid_auto_flow": null,
            "grid_area": null,
            "grid_template_columns": null,
            "flex": null,
            "_model_name": "LayoutModel",
            "justify_items": null,
            "grid_row": null,
            "max_height": null,
            "align_content": null,
            "visibility": null,
            "align_self": null,
            "height": null,
            "min_height": null,
            "padding": null,
            "grid_auto_rows": null,
            "grid_gap": null,
            "max_width": null,
            "order": null,
            "_view_module_version": "1.2.0",
            "grid_template_areas": null,
            "object_position": null,
            "object_fit": null,
            "grid_auto_columns": null,
            "margin": null,
            "display": null,
            "left": null
          }
        },
        "b1575082783e40e9a2ef152c031cc82f": {
          "model_module": "@jupyter-widgets/controls",
          "model_name": "HBoxModel",
          "state": {
            "_view_name": "HBoxView",
            "_dom_classes": [],
            "_model_name": "HBoxModel",
            "_view_module": "@jupyter-widgets/controls",
            "_model_module_version": "1.5.0",
            "_view_count": null,
            "_view_module_version": "1.5.0",
            "box_style": "",
            "layout": "IPY_MODEL_82af1de2e4e24fdfb63c5c05a98ffe7a",
            "_model_module": "@jupyter-widgets/controls",
            "children": [
              "IPY_MODEL_85dad9daecd948f994323b3d1f5b43b4",
              "IPY_MODEL_6f59b276641b4a9fa85cdc820db04a64"
            ]
          }
        },
        "82af1de2e4e24fdfb63c5c05a98ffe7a": {
          "model_module": "@jupyter-widgets/base",
          "model_name": "LayoutModel",
          "state": {
            "_view_name": "LayoutView",
            "grid_template_rows": null,
            "right": null,
            "justify_content": null,
            "_view_module": "@jupyter-widgets/base",
            "overflow": null,
            "_model_module_version": "1.2.0",
            "_view_count": null,
            "flex_flow": null,
            "width": null,
            "min_width": null,
            "border": null,
            "align_items": null,
            "bottom": null,
            "_model_module": "@jupyter-widgets/base",
            "top": null,
            "grid_column": null,
            "overflow_y": null,
            "overflow_x": null,
            "grid_auto_flow": null,
            "grid_area": null,
            "grid_template_columns": null,
            "flex": null,
            "_model_name": "LayoutModel",
            "justify_items": null,
            "grid_row": null,
            "max_height": null,
            "align_content": null,
            "visibility": null,
            "align_self": null,
            "height": null,
            "min_height": null,
            "padding": null,
            "grid_auto_rows": null,
            "grid_gap": null,
            "max_width": null,
            "order": null,
            "_view_module_version": "1.2.0",
            "grid_template_areas": null,
            "object_position": null,
            "object_fit": null,
            "grid_auto_columns": null,
            "margin": null,
            "display": null,
            "left": null
          }
        },
        "85dad9daecd948f994323b3d1f5b43b4": {
          "model_module": "@jupyter-widgets/controls",
          "model_name": "FloatProgressModel",
          "state": {
            "_view_name": "ProgressView",
            "style": "IPY_MODEL_52e2b7bfec544e8a85b1196b17641606",
            "_dom_classes": [],
            "description": "Downloading: 100%",
            "_model_name": "FloatProgressModel",
            "bar_style": "success",
            "max": 299,
            "_view_module": "@jupyter-widgets/controls",
            "_model_module_version": "1.5.0",
            "value": 299,
            "_view_count": null,
            "_view_module_version": "1.5.0",
            "orientation": "horizontal",
            "min": 0,
            "description_tooltip": null,
            "_model_module": "@jupyter-widgets/controls",
            "layout": "IPY_MODEL_c3781623959f41b9a4c78dbbc77f092e"
          }
        },
        "6f59b276641b4a9fa85cdc820db04a64": {
          "model_module": "@jupyter-widgets/controls",
          "model_name": "HTMLModel",
          "state": {
            "_view_name": "HTMLView",
            "style": "IPY_MODEL_9209f096af0d46a9b51e25f64ac6f125",
            "_dom_classes": [],
            "description": "",
            "_model_name": "HTMLModel",
            "placeholder": "​",
            "_view_module": "@jupyter-widgets/controls",
            "_model_module_version": "1.5.0",
            "value": " 299/299 [00:00&lt;00:00, 1.58kB/s]",
            "_view_count": null,
            "_view_module_version": "1.5.0",
            "description_tooltip": null,
            "_model_module": "@jupyter-widgets/controls",
            "layout": "IPY_MODEL_9cd345d6672143fbb26d495e553dc15b"
          }
        },
        "52e2b7bfec544e8a85b1196b17641606": {
          "model_module": "@jupyter-widgets/controls",
          "model_name": "ProgressStyleModel",
          "state": {
            "_view_name": "StyleView",
            "_model_name": "ProgressStyleModel",
            "description_width": "initial",
            "_view_module": "@jupyter-widgets/base",
            "_model_module_version": "1.5.0",
            "_view_count": null,
            "_view_module_version": "1.2.0",
            "bar_color": null,
            "_model_module": "@jupyter-widgets/controls"
          }
        },
        "c3781623959f41b9a4c78dbbc77f092e": {
          "model_module": "@jupyter-widgets/base",
          "model_name": "LayoutModel",
          "state": {
            "_view_name": "LayoutView",
            "grid_template_rows": null,
            "right": null,
            "justify_content": null,
            "_view_module": "@jupyter-widgets/base",
            "overflow": null,
            "_model_module_version": "1.2.0",
            "_view_count": null,
            "flex_flow": null,
            "width": null,
            "min_width": null,
            "border": null,
            "align_items": null,
            "bottom": null,
            "_model_module": "@jupyter-widgets/base",
            "top": null,
            "grid_column": null,
            "overflow_y": null,
            "overflow_x": null,
            "grid_auto_flow": null,
            "grid_area": null,
            "grid_template_columns": null,
            "flex": null,
            "_model_name": "LayoutModel",
            "justify_items": null,
            "grid_row": null,
            "max_height": null,
            "align_content": null,
            "visibility": null,
            "align_self": null,
            "height": null,
            "min_height": null,
            "padding": null,
            "grid_auto_rows": null,
            "grid_gap": null,
            "max_width": null,
            "order": null,
            "_view_module_version": "1.2.0",
            "grid_template_areas": null,
            "object_position": null,
            "object_fit": null,
            "grid_auto_columns": null,
            "margin": null,
            "display": null,
            "left": null
          }
        },
        "9209f096af0d46a9b51e25f64ac6f125": {
          "model_module": "@jupyter-widgets/controls",
          "model_name": "DescriptionStyleModel",
          "state": {
            "_view_name": "StyleView",
            "_model_name": "DescriptionStyleModel",
            "description_width": "",
            "_view_module": "@jupyter-widgets/base",
            "_model_module_version": "1.5.0",
            "_view_count": null,
            "_view_module_version": "1.2.0",
            "_model_module": "@jupyter-widgets/controls"
          }
        },
        "9cd345d6672143fbb26d495e553dc15b": {
          "model_module": "@jupyter-widgets/base",
          "model_name": "LayoutModel",
          "state": {
            "_view_name": "LayoutView",
            "grid_template_rows": null,
            "right": null,
            "justify_content": null,
            "_view_module": "@jupyter-widgets/base",
            "overflow": null,
            "_model_module_version": "1.2.0",
            "_view_count": null,
            "flex_flow": null,
            "width": null,
            "min_width": null,
            "border": null,
            "align_items": null,
            "bottom": null,
            "_model_module": "@jupyter-widgets/base",
            "top": null,
            "grid_column": null,
            "overflow_y": null,
            "overflow_x": null,
            "grid_auto_flow": null,
            "grid_area": null,
            "grid_template_columns": null,
            "flex": null,
            "_model_name": "LayoutModel",
            "justify_items": null,
            "grid_row": null,
            "max_height": null,
            "align_content": null,
            "visibility": null,
            "align_self": null,
            "height": null,
            "min_height": null,
            "padding": null,
            "grid_auto_rows": null,
            "grid_gap": null,
            "max_width": null,
            "order": null,
            "_view_module_version": "1.2.0",
            "grid_template_areas": null,
            "object_position": null,
            "object_fit": null,
            "grid_auto_columns": null,
            "margin": null,
            "display": null,
            "left": null
          }
        },
        "fc9b235e38a945e5ab643aa279bd20b2": {
          "model_module": "@jupyter-widgets/controls",
          "model_name": "HBoxModel",
          "state": {
            "_view_name": "HBoxView",
            "_dom_classes": [],
            "_model_name": "HBoxModel",
            "_view_module": "@jupyter-widgets/controls",
            "_model_module_version": "1.5.0",
            "_view_count": null,
            "_view_module_version": "1.5.0",
            "box_style": "",
            "layout": "IPY_MODEL_55095f2afc08402280409f2545d44348",
            "_model_module": "@jupyter-widgets/controls",
            "children": [
              "IPY_MODEL_fa8702b25dcc4842bee07cab412a3b48",
              "IPY_MODEL_d50b9d061f8b4ec79f93dc034ea39c8c"
            ]
          }
        },
        "55095f2afc08402280409f2545d44348": {
          "model_module": "@jupyter-widgets/base",
          "model_name": "LayoutModel",
          "state": {
            "_view_name": "LayoutView",
            "grid_template_rows": null,
            "right": null,
            "justify_content": null,
            "_view_module": "@jupyter-widgets/base",
            "overflow": null,
            "_model_module_version": "1.2.0",
            "_view_count": null,
            "flex_flow": null,
            "width": null,
            "min_width": null,
            "border": null,
            "align_items": null,
            "bottom": null,
            "_model_module": "@jupyter-widgets/base",
            "top": null,
            "grid_column": null,
            "overflow_y": null,
            "overflow_x": null,
            "grid_auto_flow": null,
            "grid_area": null,
            "grid_template_columns": null,
            "flex": null,
            "_model_name": "LayoutModel",
            "justify_items": null,
            "grid_row": null,
            "max_height": null,
            "align_content": null,
            "visibility": null,
            "align_self": null,
            "height": null,
            "min_height": null,
            "padding": null,
            "grid_auto_rows": null,
            "grid_gap": null,
            "max_width": null,
            "order": null,
            "_view_module_version": "1.2.0",
            "grid_template_areas": null,
            "object_position": null,
            "object_fit": null,
            "grid_auto_columns": null,
            "margin": null,
            "display": null,
            "left": null
          }
        },
        "fa8702b25dcc4842bee07cab412a3b48": {
          "model_module": "@jupyter-widgets/controls",
          "model_name": "FloatProgressModel",
          "state": {
            "_view_name": "ProgressView",
            "style": "IPY_MODEL_4a60074440b64d62a08f6c4b88cf6750",
            "_dom_classes": [],
            "description": "Downloading: 100%",
            "_model_name": "FloatProgressModel",
            "bar_style": "success",
            "max": 414,
            "_view_module": "@jupyter-widgets/controls",
            "_model_module_version": "1.5.0",
            "value": 414,
            "_view_count": null,
            "_view_module_version": "1.5.0",
            "orientation": "horizontal",
            "min": 0,
            "description_tooltip": null,
            "_model_module": "@jupyter-widgets/controls",
            "layout": "IPY_MODEL_6b0e82b4896b45f8a58ad49a85a67ea3"
          }
        },
        "d50b9d061f8b4ec79f93dc034ea39c8c": {
          "model_module": "@jupyter-widgets/controls",
          "model_name": "HTMLModel",
          "state": {
            "_view_name": "HTMLView",
            "style": "IPY_MODEL_93d7b24259874eb0a937c6621f8c7afc",
            "_dom_classes": [],
            "description": "",
            "_model_name": "HTMLModel",
            "placeholder": "​",
            "_view_module": "@jupyter-widgets/controls",
            "_model_module_version": "1.5.0",
            "value": " 414/414 [00:23&lt;00:00, 18.0B/s]",
            "_view_count": null,
            "_view_module_version": "1.5.0",
            "description_tooltip": null,
            "_model_module": "@jupyter-widgets/controls",
            "layout": "IPY_MODEL_1a0f27e15ddb413ebee1ebb293baf221"
          }
        },
        "4a60074440b64d62a08f6c4b88cf6750": {
          "model_module": "@jupyter-widgets/controls",
          "model_name": "ProgressStyleModel",
          "state": {
            "_view_name": "StyleView",
            "_model_name": "ProgressStyleModel",
            "description_width": "initial",
            "_view_module": "@jupyter-widgets/base",
            "_model_module_version": "1.5.0",
            "_view_count": null,
            "_view_module_version": "1.2.0",
            "bar_color": null,
            "_model_module": "@jupyter-widgets/controls"
          }
        },
        "6b0e82b4896b45f8a58ad49a85a67ea3": {
          "model_module": "@jupyter-widgets/base",
          "model_name": "LayoutModel",
          "state": {
            "_view_name": "LayoutView",
            "grid_template_rows": null,
            "right": null,
            "justify_content": null,
            "_view_module": "@jupyter-widgets/base",
            "overflow": null,
            "_model_module_version": "1.2.0",
            "_view_count": null,
            "flex_flow": null,
            "width": null,
            "min_width": null,
            "border": null,
            "align_items": null,
            "bottom": null,
            "_model_module": "@jupyter-widgets/base",
            "top": null,
            "grid_column": null,
            "overflow_y": null,
            "overflow_x": null,
            "grid_auto_flow": null,
            "grid_area": null,
            "grid_template_columns": null,
            "flex": null,
            "_model_name": "LayoutModel",
            "justify_items": null,
            "grid_row": null,
            "max_height": null,
            "align_content": null,
            "visibility": null,
            "align_self": null,
            "height": null,
            "min_height": null,
            "padding": null,
            "grid_auto_rows": null,
            "grid_gap": null,
            "max_width": null,
            "order": null,
            "_view_module_version": "1.2.0",
            "grid_template_areas": null,
            "object_position": null,
            "object_fit": null,
            "grid_auto_columns": null,
            "margin": null,
            "display": null,
            "left": null
          }
        },
        "93d7b24259874eb0a937c6621f8c7afc": {
          "model_module": "@jupyter-widgets/controls",
          "model_name": "DescriptionStyleModel",
          "state": {
            "_view_name": "StyleView",
            "_model_name": "DescriptionStyleModel",
            "description_width": "",
            "_view_module": "@jupyter-widgets/base",
            "_model_module_version": "1.5.0",
            "_view_count": null,
            "_view_module_version": "1.2.0",
            "_model_module": "@jupyter-widgets/controls"
          }
        },
        "1a0f27e15ddb413ebee1ebb293baf221": {
          "model_module": "@jupyter-widgets/base",
          "model_name": "LayoutModel",
          "state": {
            "_view_name": "LayoutView",
            "grid_template_rows": null,
            "right": null,
            "justify_content": null,
            "_view_module": "@jupyter-widgets/base",
            "overflow": null,
            "_model_module_version": "1.2.0",
            "_view_count": null,
            "flex_flow": null,
            "width": null,
            "min_width": null,
            "border": null,
            "align_items": null,
            "bottom": null,
            "_model_module": "@jupyter-widgets/base",
            "top": null,
            "grid_column": null,
            "overflow_y": null,
            "overflow_x": null,
            "grid_auto_flow": null,
            "grid_area": null,
            "grid_template_columns": null,
            "flex": null,
            "_model_name": "LayoutModel",
            "justify_items": null,
            "grid_row": null,
            "max_height": null,
            "align_content": null,
            "visibility": null,
            "align_self": null,
            "height": null,
            "min_height": null,
            "padding": null,
            "grid_auto_rows": null,
            "grid_gap": null,
            "max_width": null,
            "order": null,
            "_view_module_version": "1.2.0",
            "grid_template_areas": null,
            "object_position": null,
            "object_fit": null,
            "grid_auto_columns": null,
            "margin": null,
            "display": null,
            "left": null
          }
        },
        "e4c63df591124e32bf97bc7027a8dcdf": {
          "model_module": "@jupyter-widgets/controls",
          "model_name": "HBoxModel",
          "state": {
            "_view_name": "HBoxView",
            "_dom_classes": [],
            "_model_name": "HBoxModel",
            "_view_module": "@jupyter-widgets/controls",
            "_model_module_version": "1.5.0",
            "_view_count": null,
            "_view_module_version": "1.5.0",
            "box_style": "",
            "layout": "IPY_MODEL_ee4cb7cc892c4a5687c0058736df061c",
            "_model_module": "@jupyter-widgets/controls",
            "children": [
              "IPY_MODEL_8c6c9f888d9a4b7388c947cd38c70850",
              "IPY_MODEL_ff19d0203c8945fbaebda6fd14f41332"
            ]
          }
        },
        "ee4cb7cc892c4a5687c0058736df061c": {
          "model_module": "@jupyter-widgets/base",
          "model_name": "LayoutModel",
          "state": {
            "_view_name": "LayoutView",
            "grid_template_rows": null,
            "right": null,
            "justify_content": null,
            "_view_module": "@jupyter-widgets/base",
            "overflow": null,
            "_model_module_version": "1.2.0",
            "_view_count": null,
            "flex_flow": null,
            "width": null,
            "min_width": null,
            "border": null,
            "align_items": null,
            "bottom": null,
            "_model_module": "@jupyter-widgets/base",
            "top": null,
            "grid_column": null,
            "overflow_y": null,
            "overflow_x": null,
            "grid_auto_flow": null,
            "grid_area": null,
            "grid_template_columns": null,
            "flex": null,
            "_model_name": "LayoutModel",
            "justify_items": null,
            "grid_row": null,
            "max_height": null,
            "align_content": null,
            "visibility": null,
            "align_self": null,
            "height": null,
            "min_height": null,
            "padding": null,
            "grid_auto_rows": null,
            "grid_gap": null,
            "max_width": null,
            "order": null,
            "_view_module_version": "1.2.0",
            "grid_template_areas": null,
            "object_position": null,
            "object_fit": null,
            "grid_auto_columns": null,
            "margin": null,
            "display": null,
            "left": null
          }
        },
        "8c6c9f888d9a4b7388c947cd38c70850": {
          "model_module": "@jupyter-widgets/controls",
          "model_name": "FloatProgressModel",
          "state": {
            "_view_name": "ProgressView",
            "style": "IPY_MODEL_3e454703490244bbb13b2c21ea1caa9f",
            "_dom_classes": [],
            "description": "Downloading: 100%",
            "_model_name": "FloatProgressModel",
            "bar_style": "success",
            "max": 442587849,
            "_view_module": "@jupyter-widgets/controls",
            "_model_module_version": "1.5.0",
            "value": 442587849,
            "_view_count": null,
            "_view_module_version": "1.5.0",
            "orientation": "horizontal",
            "min": 0,
            "description_tooltip": null,
            "_model_module": "@jupyter-widgets/controls",
            "layout": "IPY_MODEL_280b81cf2bfd4e73a87cf3841b2db6d6"
          }
        },
        "ff19d0203c8945fbaebda6fd14f41332": {
          "model_module": "@jupyter-widgets/controls",
          "model_name": "HTMLModel",
          "state": {
            "_view_name": "HTMLView",
            "style": "IPY_MODEL_84a768afc230441984345dd6e6a0a65e",
            "_dom_classes": [],
            "description": "",
            "_model_name": "HTMLModel",
            "placeholder": "​",
            "_view_module": "@jupyter-widgets/controls",
            "_model_module_version": "1.5.0",
            "value": " 443M/443M [00:14&lt;00:00, 30.7MB/s]",
            "_view_count": null,
            "_view_module_version": "1.5.0",
            "description_tooltip": null,
            "_model_module": "@jupyter-widgets/controls",
            "layout": "IPY_MODEL_67bf0406eb164abd8a66b0a56deb9ca4"
          }
        },
        "3e454703490244bbb13b2c21ea1caa9f": {
          "model_module": "@jupyter-widgets/controls",
          "model_name": "ProgressStyleModel",
          "state": {
            "_view_name": "StyleView",
            "_model_name": "ProgressStyleModel",
            "description_width": "initial",
            "_view_module": "@jupyter-widgets/base",
            "_model_module_version": "1.5.0",
            "_view_count": null,
            "_view_module_version": "1.2.0",
            "bar_color": null,
            "_model_module": "@jupyter-widgets/controls"
          }
        },
        "280b81cf2bfd4e73a87cf3841b2db6d6": {
          "model_module": "@jupyter-widgets/base",
          "model_name": "LayoutModel",
          "state": {
            "_view_name": "LayoutView",
            "grid_template_rows": null,
            "right": null,
            "justify_content": null,
            "_view_module": "@jupyter-widgets/base",
            "overflow": null,
            "_model_module_version": "1.2.0",
            "_view_count": null,
            "flex_flow": null,
            "width": null,
            "min_width": null,
            "border": null,
            "align_items": null,
            "bottom": null,
            "_model_module": "@jupyter-widgets/base",
            "top": null,
            "grid_column": null,
            "overflow_y": null,
            "overflow_x": null,
            "grid_auto_flow": null,
            "grid_area": null,
            "grid_template_columns": null,
            "flex": null,
            "_model_name": "LayoutModel",
            "justify_items": null,
            "grid_row": null,
            "max_height": null,
            "align_content": null,
            "visibility": null,
            "align_self": null,
            "height": null,
            "min_height": null,
            "padding": null,
            "grid_auto_rows": null,
            "grid_gap": null,
            "max_width": null,
            "order": null,
            "_view_module_version": "1.2.0",
            "grid_template_areas": null,
            "object_position": null,
            "object_fit": null,
            "grid_auto_columns": null,
            "margin": null,
            "display": null,
            "left": null
          }
        },
        "84a768afc230441984345dd6e6a0a65e": {
          "model_module": "@jupyter-widgets/controls",
          "model_name": "DescriptionStyleModel",
          "state": {
            "_view_name": "StyleView",
            "_model_name": "DescriptionStyleModel",
            "description_width": "",
            "_view_module": "@jupyter-widgets/base",
            "_model_module_version": "1.5.0",
            "_view_count": null,
            "_view_module_version": "1.2.0",
            "_model_module": "@jupyter-widgets/controls"
          }
        },
        "67bf0406eb164abd8a66b0a56deb9ca4": {
          "model_module": "@jupyter-widgets/base",
          "model_name": "LayoutModel",
          "state": {
            "_view_name": "LayoutView",
            "grid_template_rows": null,
            "right": null,
            "justify_content": null,
            "_view_module": "@jupyter-widgets/base",
            "overflow": null,
            "_model_module_version": "1.2.0",
            "_view_count": null,
            "flex_flow": null,
            "width": null,
            "min_width": null,
            "border": null,
            "align_items": null,
            "bottom": null,
            "_model_module": "@jupyter-widgets/base",
            "top": null,
            "grid_column": null,
            "overflow_y": null,
            "overflow_x": null,
            "grid_auto_flow": null,
            "grid_area": null,
            "grid_template_columns": null,
            "flex": null,
            "_model_name": "LayoutModel",
            "justify_items": null,
            "grid_row": null,
            "max_height": null,
            "align_content": null,
            "visibility": null,
            "align_self": null,
            "height": null,
            "min_height": null,
            "padding": null,
            "grid_auto_rows": null,
            "grid_gap": null,
            "max_width": null,
            "order": null,
            "_view_module_version": "1.2.0",
            "grid_template_areas": null,
            "object_position": null,
            "object_fit": null,
            "grid_auto_columns": null,
            "margin": null,
            "display": null,
            "left": null
          }
        },
        "ca688f15404f44b3bf9ef0d6831361c9": {
          "model_module": "@jupyter-widgets/controls",
          "model_name": "HBoxModel",
          "state": {
            "_view_name": "HBoxView",
            "_dom_classes": [],
            "_model_name": "HBoxModel",
            "_view_module": "@jupyter-widgets/controls",
            "_model_module_version": "1.5.0",
            "_view_count": null,
            "_view_module_version": "1.5.0",
            "box_style": "",
            "layout": "IPY_MODEL_339e490ed4b242bfbe03f304f57dda39",
            "_model_module": "@jupyter-widgets/controls",
            "children": [
              "IPY_MODEL_117f31a166664a48af538509bbee77cb",
              "IPY_MODEL_3cfb9ccf354b4f20ba414e774eeddd85"
            ]
          }
        },
        "339e490ed4b242bfbe03f304f57dda39": {
          "model_module": "@jupyter-widgets/base",
          "model_name": "LayoutModel",
          "state": {
            "_view_name": "LayoutView",
            "grid_template_rows": null,
            "right": null,
            "justify_content": null,
            "_view_module": "@jupyter-widgets/base",
            "overflow": null,
            "_model_module_version": "1.2.0",
            "_view_count": null,
            "flex_flow": null,
            "width": null,
            "min_width": null,
            "border": null,
            "align_items": null,
            "bottom": null,
            "_model_module": "@jupyter-widgets/base",
            "top": null,
            "grid_column": null,
            "overflow_y": null,
            "overflow_x": null,
            "grid_auto_flow": null,
            "grid_area": null,
            "grid_template_columns": null,
            "flex": null,
            "_model_name": "LayoutModel",
            "justify_items": null,
            "grid_row": null,
            "max_height": null,
            "align_content": null,
            "visibility": null,
            "align_self": null,
            "height": null,
            "min_height": null,
            "padding": null,
            "grid_auto_rows": null,
            "grid_gap": null,
            "max_width": null,
            "order": null,
            "_view_module_version": "1.2.0",
            "grid_template_areas": null,
            "object_position": null,
            "object_fit": null,
            "grid_auto_columns": null,
            "margin": null,
            "display": null,
            "left": null
          }
        },
        "117f31a166664a48af538509bbee77cb": {
          "model_module": "@jupyter-widgets/controls",
          "model_name": "FloatProgressModel",
          "state": {
            "_view_name": "ProgressView",
            "style": "IPY_MODEL_bf6b883d101d4cc6868cf332b173c921",
            "_dom_classes": [],
            "description": "Downloading: 100%",
            "_model_name": "FloatProgressModel",
            "bar_style": "success",
            "max": 847,
            "_view_module": "@jupyter-widgets/controls",
            "_model_module_version": "1.5.0",
            "value": 847,
            "_view_count": null,
            "_view_module_version": "1.5.0",
            "orientation": "horizontal",
            "min": 0,
            "description_tooltip": null,
            "_model_module": "@jupyter-widgets/controls",
            "layout": "IPY_MODEL_ba0b1fbb71c3431695c7dc02156e8ff4"
          }
        },
        "3cfb9ccf354b4f20ba414e774eeddd85": {
          "model_module": "@jupyter-widgets/controls",
          "model_name": "HTMLModel",
          "state": {
            "_view_name": "HTMLView",
            "style": "IPY_MODEL_d120d2f809b34858ac4d1fef564f65bb",
            "_dom_classes": [],
            "description": "",
            "_model_name": "HTMLModel",
            "placeholder": "​",
            "_view_module": "@jupyter-widgets/controls",
            "_model_module_version": "1.5.0",
            "value": " 847/847 [00:00&lt;00:00, 963B/s]",
            "_view_count": null,
            "_view_module_version": "1.5.0",
            "description_tooltip": null,
            "_model_module": "@jupyter-widgets/controls",
            "layout": "IPY_MODEL_d89a2f5992b2493d82057607bfbb7e43"
          }
        },
        "bf6b883d101d4cc6868cf332b173c921": {
          "model_module": "@jupyter-widgets/controls",
          "model_name": "ProgressStyleModel",
          "state": {
            "_view_name": "StyleView",
            "_model_name": "ProgressStyleModel",
            "description_width": "initial",
            "_view_module": "@jupyter-widgets/base",
            "_model_module_version": "1.5.0",
            "_view_count": null,
            "_view_module_version": "1.2.0",
            "bar_color": null,
            "_model_module": "@jupyter-widgets/controls"
          }
        },
        "ba0b1fbb71c3431695c7dc02156e8ff4": {
          "model_module": "@jupyter-widgets/base",
          "model_name": "LayoutModel",
          "state": {
            "_view_name": "LayoutView",
            "grid_template_rows": null,
            "right": null,
            "justify_content": null,
            "_view_module": "@jupyter-widgets/base",
            "overflow": null,
            "_model_module_version": "1.2.0",
            "_view_count": null,
            "flex_flow": null,
            "width": null,
            "min_width": null,
            "border": null,
            "align_items": null,
            "bottom": null,
            "_model_module": "@jupyter-widgets/base",
            "top": null,
            "grid_column": null,
            "overflow_y": null,
            "overflow_x": null,
            "grid_auto_flow": null,
            "grid_area": null,
            "grid_template_columns": null,
            "flex": null,
            "_model_name": "LayoutModel",
            "justify_items": null,
            "grid_row": null,
            "max_height": null,
            "align_content": null,
            "visibility": null,
            "align_self": null,
            "height": null,
            "min_height": null,
            "padding": null,
            "grid_auto_rows": null,
            "grid_gap": null,
            "max_width": null,
            "order": null,
            "_view_module_version": "1.2.0",
            "grid_template_areas": null,
            "object_position": null,
            "object_fit": null,
            "grid_auto_columns": null,
            "margin": null,
            "display": null,
            "left": null
          }
        },
        "d120d2f809b34858ac4d1fef564f65bb": {
          "model_module": "@jupyter-widgets/controls",
          "model_name": "DescriptionStyleModel",
          "state": {
            "_view_name": "StyleView",
            "_model_name": "DescriptionStyleModel",
            "description_width": "",
            "_view_module": "@jupyter-widgets/base",
            "_model_module_version": "1.5.0",
            "_view_count": null,
            "_view_module_version": "1.2.0",
            "_model_module": "@jupyter-widgets/controls"
          }
        },
        "d89a2f5992b2493d82057607bfbb7e43": {
          "model_module": "@jupyter-widgets/base",
          "model_name": "LayoutModel",
          "state": {
            "_view_name": "LayoutView",
            "grid_template_rows": null,
            "right": null,
            "justify_content": null,
            "_view_module": "@jupyter-widgets/base",
            "overflow": null,
            "_model_module_version": "1.2.0",
            "_view_count": null,
            "flex_flow": null,
            "width": null,
            "min_width": null,
            "border": null,
            "align_items": null,
            "bottom": null,
            "_model_module": "@jupyter-widgets/base",
            "top": null,
            "grid_column": null,
            "overflow_y": null,
            "overflow_x": null,
            "grid_auto_flow": null,
            "grid_area": null,
            "grid_template_columns": null,
            "flex": null,
            "_model_name": "LayoutModel",
            "justify_items": null,
            "grid_row": null,
            "max_height": null,
            "align_content": null,
            "visibility": null,
            "align_self": null,
            "height": null,
            "min_height": null,
            "padding": null,
            "grid_auto_rows": null,
            "grid_gap": null,
            "max_width": null,
            "order": null,
            "_view_module_version": "1.2.0",
            "grid_template_areas": null,
            "object_position": null,
            "object_fit": null,
            "grid_auto_columns": null,
            "margin": null,
            "display": null,
            "left": null
          }
        },
        "00ea49eed8064b0394bc574580fc3003": {
          "model_module": "@jupyter-widgets/controls",
          "model_name": "HBoxModel",
          "state": {
            "_view_name": "HBoxView",
            "_dom_classes": [],
            "_model_name": "HBoxModel",
            "_view_module": "@jupyter-widgets/controls",
            "_model_module_version": "1.5.0",
            "_view_count": null,
            "_view_module_version": "1.5.0",
            "box_style": "",
            "layout": "IPY_MODEL_4c4295f3f8284aae8200285656c59b7a",
            "_model_module": "@jupyter-widgets/controls",
            "children": [
              "IPY_MODEL_aeaf233e14fe45bf90ea34cfe058d262",
              "IPY_MODEL_6fddce46aa094558bcdc8f94bab0d742"
            ]
          }
        },
        "4c4295f3f8284aae8200285656c59b7a": {
          "model_module": "@jupyter-widgets/base",
          "model_name": "LayoutModel",
          "state": {
            "_view_name": "LayoutView",
            "grid_template_rows": null,
            "right": null,
            "justify_content": null,
            "_view_module": "@jupyter-widgets/base",
            "overflow": null,
            "_model_module_version": "1.2.0",
            "_view_count": null,
            "flex_flow": null,
            "width": null,
            "min_width": null,
            "border": null,
            "align_items": null,
            "bottom": null,
            "_model_module": "@jupyter-widgets/base",
            "top": null,
            "grid_column": null,
            "overflow_y": null,
            "overflow_x": null,
            "grid_auto_flow": null,
            "grid_area": null,
            "grid_template_columns": null,
            "flex": null,
            "_model_name": "LayoutModel",
            "justify_items": null,
            "grid_row": null,
            "max_height": null,
            "align_content": null,
            "visibility": null,
            "align_self": null,
            "height": null,
            "min_height": null,
            "padding": null,
            "grid_auto_rows": null,
            "grid_gap": null,
            "max_width": null,
            "order": null,
            "_view_module_version": "1.2.0",
            "grid_template_areas": null,
            "object_position": null,
            "object_fit": null,
            "grid_auto_columns": null,
            "margin": null,
            "display": null,
            "left": null
          }
        },
        "aeaf233e14fe45bf90ea34cfe058d262": {
          "model_module": "@jupyter-widgets/controls",
          "model_name": "FloatProgressModel",
          "state": {
            "_view_name": "ProgressView",
            "style": "IPY_MODEL_626e75af2bb14d259ba1345a1ff2b40a",
            "_dom_classes": [],
            "description": "Downloading: 100%",
            "_model_name": "FloatProgressModel",
            "bar_style": "success",
            "max": 793981,
            "_view_module": "@jupyter-widgets/controls",
            "_model_module_version": "1.5.0",
            "value": 793981,
            "_view_count": null,
            "_view_module_version": "1.5.0",
            "orientation": "horizontal",
            "min": 0,
            "description_tooltip": null,
            "_model_module": "@jupyter-widgets/controls",
            "layout": "IPY_MODEL_8e080144e56b485b97f490995200bedd"
          }
        },
        "6fddce46aa094558bcdc8f94bab0d742": {
          "model_module": "@jupyter-widgets/controls",
          "model_name": "HTMLModel",
          "state": {
            "_view_name": "HTMLView",
            "style": "IPY_MODEL_e07b254f4bfe4bdf9799671775511231",
            "_dom_classes": [],
            "description": "",
            "_model_name": "HTMLModel",
            "placeholder": "​",
            "_view_module": "@jupyter-widgets/controls",
            "_model_module_version": "1.5.0",
            "value": " 794k/794k [00:00&lt;00:00, 2.35MB/s]",
            "_view_count": null,
            "_view_module_version": "1.5.0",
            "description_tooltip": null,
            "_model_module": "@jupyter-widgets/controls",
            "layout": "IPY_MODEL_eb7ca0e77a004db6b83f5aad2519e911"
          }
        },
        "626e75af2bb14d259ba1345a1ff2b40a": {
          "model_module": "@jupyter-widgets/controls",
          "model_name": "ProgressStyleModel",
          "state": {
            "_view_name": "StyleView",
            "_model_name": "ProgressStyleModel",
            "description_width": "initial",
            "_view_module": "@jupyter-widgets/base",
            "_model_module_version": "1.5.0",
            "_view_count": null,
            "_view_module_version": "1.2.0",
            "bar_color": null,
            "_model_module": "@jupyter-widgets/controls"
          }
        },
        "8e080144e56b485b97f490995200bedd": {
          "model_module": "@jupyter-widgets/base",
          "model_name": "LayoutModel",
          "state": {
            "_view_name": "LayoutView",
            "grid_template_rows": null,
            "right": null,
            "justify_content": null,
            "_view_module": "@jupyter-widgets/base",
            "overflow": null,
            "_model_module_version": "1.2.0",
            "_view_count": null,
            "flex_flow": null,
            "width": null,
            "min_width": null,
            "border": null,
            "align_items": null,
            "bottom": null,
            "_model_module": "@jupyter-widgets/base",
            "top": null,
            "grid_column": null,
            "overflow_y": null,
            "overflow_x": null,
            "grid_auto_flow": null,
            "grid_area": null,
            "grid_template_columns": null,
            "flex": null,
            "_model_name": "LayoutModel",
            "justify_items": null,
            "grid_row": null,
            "max_height": null,
            "align_content": null,
            "visibility": null,
            "align_self": null,
            "height": null,
            "min_height": null,
            "padding": null,
            "grid_auto_rows": null,
            "grid_gap": null,
            "max_width": null,
            "order": null,
            "_view_module_version": "1.2.0",
            "grid_template_areas": null,
            "object_position": null,
            "object_fit": null,
            "grid_auto_columns": null,
            "margin": null,
            "display": null,
            "left": null
          }
        },
        "e07b254f4bfe4bdf9799671775511231": {
          "model_module": "@jupyter-widgets/controls",
          "model_name": "DescriptionStyleModel",
          "state": {
            "_view_name": "StyleView",
            "_model_name": "DescriptionStyleModel",
            "description_width": "",
            "_view_module": "@jupyter-widgets/base",
            "_model_module_version": "1.5.0",
            "_view_count": null,
            "_view_module_version": "1.2.0",
            "_model_module": "@jupyter-widgets/controls"
          }
        },
        "eb7ca0e77a004db6b83f5aad2519e911": {
          "model_module": "@jupyter-widgets/base",
          "model_name": "LayoutModel",
          "state": {
            "_view_name": "LayoutView",
            "grid_template_rows": null,
            "right": null,
            "justify_content": null,
            "_view_module": "@jupyter-widgets/base",
            "overflow": null,
            "_model_module_version": "1.2.0",
            "_view_count": null,
            "flex_flow": null,
            "width": null,
            "min_width": null,
            "border": null,
            "align_items": null,
            "bottom": null,
            "_model_module": "@jupyter-widgets/base",
            "top": null,
            "grid_column": null,
            "overflow_y": null,
            "overflow_x": null,
            "grid_auto_flow": null,
            "grid_area": null,
            "grid_template_columns": null,
            "flex": null,
            "_model_name": "LayoutModel",
            "justify_items": null,
            "grid_row": null,
            "max_height": null,
            "align_content": null,
            "visibility": null,
            "align_self": null,
            "height": null,
            "min_height": null,
            "padding": null,
            "grid_auto_rows": null,
            "grid_gap": null,
            "max_width": null,
            "order": null,
            "_view_module_version": "1.2.0",
            "grid_template_areas": null,
            "object_position": null,
            "object_fit": null,
            "grid_auto_columns": null,
            "margin": null,
            "display": null,
            "left": null
          }
        },
        "b955877781424d5eb43b1cc9fc0f93be": {
          "model_module": "@jupyter-widgets/controls",
          "model_name": "HBoxModel",
          "state": {
            "_view_name": "HBoxView",
            "_dom_classes": [],
            "_model_name": "HBoxModel",
            "_view_module": "@jupyter-widgets/controls",
            "_model_module_version": "1.5.0",
            "_view_count": null,
            "_view_module_version": "1.5.0",
            "box_style": "",
            "layout": "IPY_MODEL_d68f50f274274807b9d6cc28f784a2c3",
            "_model_module": "@jupyter-widgets/controls",
            "children": [
              "IPY_MODEL_3d7a5a603da94da894cee75242005fdb",
              "IPY_MODEL_20bf6c2efab649b39dd7ea56a9b4ed93"
            ]
          }
        },
        "d68f50f274274807b9d6cc28f784a2c3": {
          "model_module": "@jupyter-widgets/base",
          "model_name": "LayoutModel",
          "state": {
            "_view_name": "LayoutView",
            "grid_template_rows": null,
            "right": null,
            "justify_content": null,
            "_view_module": "@jupyter-widgets/base",
            "overflow": null,
            "_model_module_version": "1.2.0",
            "_view_count": null,
            "flex_flow": null,
            "width": null,
            "min_width": null,
            "border": null,
            "align_items": null,
            "bottom": null,
            "_model_module": "@jupyter-widgets/base",
            "top": null,
            "grid_column": null,
            "overflow_y": null,
            "overflow_x": null,
            "grid_auto_flow": null,
            "grid_area": null,
            "grid_template_columns": null,
            "flex": null,
            "_model_name": "LayoutModel",
            "justify_items": null,
            "grid_row": null,
            "max_height": null,
            "align_content": null,
            "visibility": null,
            "align_self": null,
            "height": null,
            "min_height": null,
            "padding": null,
            "grid_auto_rows": null,
            "grid_gap": null,
            "max_width": null,
            "order": null,
            "_view_module_version": "1.2.0",
            "grid_template_areas": null,
            "object_position": null,
            "object_fit": null,
            "grid_auto_columns": null,
            "margin": null,
            "display": null,
            "left": null
          }
        },
        "3d7a5a603da94da894cee75242005fdb": {
          "model_module": "@jupyter-widgets/controls",
          "model_name": "FloatProgressModel",
          "state": {
            "_view_name": "ProgressView",
            "style": "IPY_MODEL_2df55e34c4474a6c9e231cbf0226a8c0",
            "_dom_classes": [],
            "description": "Downloading: 100%",
            "_model_name": "FloatProgressModel",
            "bar_style": "success",
            "max": 1682192,
            "_view_module": "@jupyter-widgets/controls",
            "_model_module_version": "1.5.0",
            "value": 1682192,
            "_view_count": null,
            "_view_module_version": "1.5.0",
            "orientation": "horizontal",
            "min": 0,
            "description_tooltip": null,
            "_model_module": "@jupyter-widgets/controls",
            "layout": "IPY_MODEL_0a8456f5d8a44cefbdee58ccbc9d5524"
          }
        },
        "20bf6c2efab649b39dd7ea56a9b4ed93": {
          "model_module": "@jupyter-widgets/controls",
          "model_name": "HTMLModel",
          "state": {
            "_view_name": "HTMLView",
            "style": "IPY_MODEL_6759da63756a4314b59a693aa6f6edb4",
            "_dom_classes": [],
            "description": "",
            "_model_name": "HTMLModel",
            "placeholder": "​",
            "_view_module": "@jupyter-widgets/controls",
            "_model_module_version": "1.5.0",
            "value": " 1.68M/1.68M [00:01&lt;00:00, 1.64MB/s]",
            "_view_count": null,
            "_view_module_version": "1.5.0",
            "description_tooltip": null,
            "_model_module": "@jupyter-widgets/controls",
            "layout": "IPY_MODEL_5c0baef44ea246d8a95892f745c69f24"
          }
        },
        "2df55e34c4474a6c9e231cbf0226a8c0": {
          "model_module": "@jupyter-widgets/controls",
          "model_name": "ProgressStyleModel",
          "state": {
            "_view_name": "StyleView",
            "_model_name": "ProgressStyleModel",
            "description_width": "initial",
            "_view_module": "@jupyter-widgets/base",
            "_model_module_version": "1.5.0",
            "_view_count": null,
            "_view_module_version": "1.2.0",
            "bar_color": null,
            "_model_module": "@jupyter-widgets/controls"
          }
        },
        "0a8456f5d8a44cefbdee58ccbc9d5524": {
          "model_module": "@jupyter-widgets/base",
          "model_name": "LayoutModel",
          "state": {
            "_view_name": "LayoutView",
            "grid_template_rows": null,
            "right": null,
            "justify_content": null,
            "_view_module": "@jupyter-widgets/base",
            "overflow": null,
            "_model_module_version": "1.2.0",
            "_view_count": null,
            "flex_flow": null,
            "width": null,
            "min_width": null,
            "border": null,
            "align_items": null,
            "bottom": null,
            "_model_module": "@jupyter-widgets/base",
            "top": null,
            "grid_column": null,
            "overflow_y": null,
            "overflow_x": null,
            "grid_auto_flow": null,
            "grid_area": null,
            "grid_template_columns": null,
            "flex": null,
            "_model_name": "LayoutModel",
            "justify_items": null,
            "grid_row": null,
            "max_height": null,
            "align_content": null,
            "visibility": null,
            "align_self": null,
            "height": null,
            "min_height": null,
            "padding": null,
            "grid_auto_rows": null,
            "grid_gap": null,
            "max_width": null,
            "order": null,
            "_view_module_version": "1.2.0",
            "grid_template_areas": null,
            "object_position": null,
            "object_fit": null,
            "grid_auto_columns": null,
            "margin": null,
            "display": null,
            "left": null
          }
        },
        "6759da63756a4314b59a693aa6f6edb4": {
          "model_module": "@jupyter-widgets/controls",
          "model_name": "DescriptionStyleModel",
          "state": {
            "_view_name": "StyleView",
            "_model_name": "DescriptionStyleModel",
            "description_width": "",
            "_view_module": "@jupyter-widgets/base",
            "_model_module_version": "1.5.0",
            "_view_count": null,
            "_view_module_version": "1.2.0",
            "_model_module": "@jupyter-widgets/controls"
          }
        },
        "5c0baef44ea246d8a95892f745c69f24": {
          "model_module": "@jupyter-widgets/base",
          "model_name": "LayoutModel",
          "state": {
            "_view_name": "LayoutView",
            "grid_template_rows": null,
            "right": null,
            "justify_content": null,
            "_view_module": "@jupyter-widgets/base",
            "overflow": null,
            "_model_module_version": "1.2.0",
            "_view_count": null,
            "flex_flow": null,
            "width": null,
            "min_width": null,
            "border": null,
            "align_items": null,
            "bottom": null,
            "_model_module": "@jupyter-widgets/base",
            "top": null,
            "grid_column": null,
            "overflow_y": null,
            "overflow_x": null,
            "grid_auto_flow": null,
            "grid_area": null,
            "grid_template_columns": null,
            "flex": null,
            "_model_name": "LayoutModel",
            "justify_items": null,
            "grid_row": null,
            "max_height": null,
            "align_content": null,
            "visibility": null,
            "align_self": null,
            "height": null,
            "min_height": null,
            "padding": null,
            "grid_auto_rows": null,
            "grid_gap": null,
            "max_width": null,
            "order": null,
            "_view_module_version": "1.2.0",
            "grid_template_areas": null,
            "object_position": null,
            "object_fit": null,
            "grid_auto_columns": null,
            "margin": null,
            "display": null,
            "left": null
          }
        },
        "d1611128a2214049b84c708f338d59bd": {
          "model_module": "@jupyter-widgets/controls",
          "model_name": "HBoxModel",
          "state": {
            "_view_name": "HBoxView",
            "_dom_classes": [],
            "_model_name": "HBoxModel",
            "_view_module": "@jupyter-widgets/controls",
            "_model_module_version": "1.5.0",
            "_view_count": null,
            "_view_module_version": "1.5.0",
            "box_style": "",
            "layout": "IPY_MODEL_a1dce4333285462aa55d20b6ce45c51f",
            "_model_module": "@jupyter-widgets/controls",
            "children": [
              "IPY_MODEL_694b9984c663437589ad74a831597409",
              "IPY_MODEL_86c2dc6036284256bb931b31123c52a0"
            ]
          }
        },
        "a1dce4333285462aa55d20b6ce45c51f": {
          "model_module": "@jupyter-widgets/base",
          "model_name": "LayoutModel",
          "state": {
            "_view_name": "LayoutView",
            "grid_template_rows": null,
            "right": null,
            "justify_content": null,
            "_view_module": "@jupyter-widgets/base",
            "overflow": null,
            "_model_module_version": "1.2.0",
            "_view_count": null,
            "flex_flow": null,
            "width": null,
            "min_width": null,
            "border": null,
            "align_items": null,
            "bottom": null,
            "_model_module": "@jupyter-widgets/base",
            "top": null,
            "grid_column": null,
            "overflow_y": null,
            "overflow_x": null,
            "grid_auto_flow": null,
            "grid_area": null,
            "grid_template_columns": null,
            "flex": null,
            "_model_name": "LayoutModel",
            "justify_items": null,
            "grid_row": null,
            "max_height": null,
            "align_content": null,
            "visibility": null,
            "align_self": null,
            "height": null,
            "min_height": null,
            "padding": null,
            "grid_auto_rows": null,
            "grid_gap": null,
            "max_width": null,
            "order": null,
            "_view_module_version": "1.2.0",
            "grid_template_areas": null,
            "object_position": null,
            "object_fit": null,
            "grid_auto_columns": null,
            "margin": null,
            "display": null,
            "left": null
          }
        },
        "694b9984c663437589ad74a831597409": {
          "model_module": "@jupyter-widgets/controls",
          "model_name": "FloatProgressModel",
          "state": {
            "_view_name": "ProgressView",
            "style": "IPY_MODEL_5ca5de960c3e46548b83d212da348ac4",
            "_dom_classes": [],
            "description": "Downloading: 100%",
            "_model_name": "FloatProgressModel",
            "bar_style": "success",
            "max": 299,
            "_view_module": "@jupyter-widgets/controls",
            "_model_module_version": "1.5.0",
            "value": 299,
            "_view_count": null,
            "_view_module_version": "1.5.0",
            "orientation": "horizontal",
            "min": 0,
            "description_tooltip": null,
            "_model_module": "@jupyter-widgets/controls",
            "layout": "IPY_MODEL_1c9c4db707484f088fbe93217ab1ee13"
          }
        },
        "86c2dc6036284256bb931b31123c52a0": {
          "model_module": "@jupyter-widgets/controls",
          "model_name": "HTMLModel",
          "state": {
            "_view_name": "HTMLView",
            "style": "IPY_MODEL_f1f7e6bfb8444cb88117ead1a3a782f5",
            "_dom_classes": [],
            "description": "",
            "_model_name": "HTMLModel",
            "placeholder": "​",
            "_view_module": "@jupyter-widgets/controls",
            "_model_module_version": "1.5.0",
            "value": " 299/299 [00:00&lt;00:00, 417B/s]",
            "_view_count": null,
            "_view_module_version": "1.5.0",
            "description_tooltip": null,
            "_model_module": "@jupyter-widgets/controls",
            "layout": "IPY_MODEL_5db8eae084b846ffaa7c747e8c62a95a"
          }
        },
        "5ca5de960c3e46548b83d212da348ac4": {
          "model_module": "@jupyter-widgets/controls",
          "model_name": "ProgressStyleModel",
          "state": {
            "_view_name": "StyleView",
            "_model_name": "ProgressStyleModel",
            "description_width": "initial",
            "_view_module": "@jupyter-widgets/base",
            "_model_module_version": "1.5.0",
            "_view_count": null,
            "_view_module_version": "1.2.0",
            "bar_color": null,
            "_model_module": "@jupyter-widgets/controls"
          }
        },
        "1c9c4db707484f088fbe93217ab1ee13": {
          "model_module": "@jupyter-widgets/base",
          "model_name": "LayoutModel",
          "state": {
            "_view_name": "LayoutView",
            "grid_template_rows": null,
            "right": null,
            "justify_content": null,
            "_view_module": "@jupyter-widgets/base",
            "overflow": null,
            "_model_module_version": "1.2.0",
            "_view_count": null,
            "flex_flow": null,
            "width": null,
            "min_width": null,
            "border": null,
            "align_items": null,
            "bottom": null,
            "_model_module": "@jupyter-widgets/base",
            "top": null,
            "grid_column": null,
            "overflow_y": null,
            "overflow_x": null,
            "grid_auto_flow": null,
            "grid_area": null,
            "grid_template_columns": null,
            "flex": null,
            "_model_name": "LayoutModel",
            "justify_items": null,
            "grid_row": null,
            "max_height": null,
            "align_content": null,
            "visibility": null,
            "align_self": null,
            "height": null,
            "min_height": null,
            "padding": null,
            "grid_auto_rows": null,
            "grid_gap": null,
            "max_width": null,
            "order": null,
            "_view_module_version": "1.2.0",
            "grid_template_areas": null,
            "object_position": null,
            "object_fit": null,
            "grid_auto_columns": null,
            "margin": null,
            "display": null,
            "left": null
          }
        },
        "f1f7e6bfb8444cb88117ead1a3a782f5": {
          "model_module": "@jupyter-widgets/controls",
          "model_name": "DescriptionStyleModel",
          "state": {
            "_view_name": "StyleView",
            "_model_name": "DescriptionStyleModel",
            "description_width": "",
            "_view_module": "@jupyter-widgets/base",
            "_model_module_version": "1.5.0",
            "_view_count": null,
            "_view_module_version": "1.2.0",
            "_model_module": "@jupyter-widgets/controls"
          }
        },
        "5db8eae084b846ffaa7c747e8c62a95a": {
          "model_module": "@jupyter-widgets/base",
          "model_name": "LayoutModel",
          "state": {
            "_view_name": "LayoutView",
            "grid_template_rows": null,
            "right": null,
            "justify_content": null,
            "_view_module": "@jupyter-widgets/base",
            "overflow": null,
            "_model_module_version": "1.2.0",
            "_view_count": null,
            "flex_flow": null,
            "width": null,
            "min_width": null,
            "border": null,
            "align_items": null,
            "bottom": null,
            "_model_module": "@jupyter-widgets/base",
            "top": null,
            "grid_column": null,
            "overflow_y": null,
            "overflow_x": null,
            "grid_auto_flow": null,
            "grid_area": null,
            "grid_template_columns": null,
            "flex": null,
            "_model_name": "LayoutModel",
            "justify_items": null,
            "grid_row": null,
            "max_height": null,
            "align_content": null,
            "visibility": null,
            "align_self": null,
            "height": null,
            "min_height": null,
            "padding": null,
            "grid_auto_rows": null,
            "grid_gap": null,
            "max_width": null,
            "order": null,
            "_view_module_version": "1.2.0",
            "grid_template_areas": null,
            "object_position": null,
            "object_fit": null,
            "grid_auto_columns": null,
            "margin": null,
            "display": null,
            "left": null
          }
        },
        "468198ca1586489a8d9af38ba81457c1": {
          "model_module": "@jupyter-widgets/controls",
          "model_name": "HBoxModel",
          "state": {
            "_view_name": "HBoxView",
            "_dom_classes": [],
            "_model_name": "HBoxModel",
            "_view_module": "@jupyter-widgets/controls",
            "_model_module_version": "1.5.0",
            "_view_count": null,
            "_view_module_version": "1.5.0",
            "box_style": "",
            "layout": "IPY_MODEL_93ce553de5e340ceaf78f3f872b9e2ea",
            "_model_module": "@jupyter-widgets/controls",
            "children": [
              "IPY_MODEL_2707a614ed104697ad9be32371cb9796",
              "IPY_MODEL_1cad0629fff345768118c215cd157ead"
            ]
          }
        },
        "93ce553de5e340ceaf78f3f872b9e2ea": {
          "model_module": "@jupyter-widgets/base",
          "model_name": "LayoutModel",
          "state": {
            "_view_name": "LayoutView",
            "grid_template_rows": null,
            "right": null,
            "justify_content": null,
            "_view_module": "@jupyter-widgets/base",
            "overflow": null,
            "_model_module_version": "1.2.0",
            "_view_count": null,
            "flex_flow": null,
            "width": null,
            "min_width": null,
            "border": null,
            "align_items": null,
            "bottom": null,
            "_model_module": "@jupyter-widgets/base",
            "top": null,
            "grid_column": null,
            "overflow_y": null,
            "overflow_x": null,
            "grid_auto_flow": null,
            "grid_area": null,
            "grid_template_columns": null,
            "flex": null,
            "_model_name": "LayoutModel",
            "justify_items": null,
            "grid_row": null,
            "max_height": null,
            "align_content": null,
            "visibility": null,
            "align_self": null,
            "height": null,
            "min_height": null,
            "padding": null,
            "grid_auto_rows": null,
            "grid_gap": null,
            "max_width": null,
            "order": null,
            "_view_module_version": "1.2.0",
            "grid_template_areas": null,
            "object_position": null,
            "object_fit": null,
            "grid_auto_columns": null,
            "margin": null,
            "display": null,
            "left": null
          }
        },
        "2707a614ed104697ad9be32371cb9796": {
          "model_module": "@jupyter-widgets/controls",
          "model_name": "FloatProgressModel",
          "state": {
            "_view_name": "ProgressView",
            "style": "IPY_MODEL_9dfb2cc2ab364ece935c2ea2e3d8abab",
            "_dom_classes": [],
            "description": "Downloading: 100%",
            "_model_name": "FloatProgressModel",
            "bar_style": "success",
            "max": 414,
            "_view_module": "@jupyter-widgets/controls",
            "_model_module_version": "1.5.0",
            "value": 414,
            "_view_count": null,
            "_view_module_version": "1.5.0",
            "orientation": "horizontal",
            "min": 0,
            "description_tooltip": null,
            "_model_module": "@jupyter-widgets/controls",
            "layout": "IPY_MODEL_b5dd54234674443483c1b534b8484c1a"
          }
        },
        "1cad0629fff345768118c215cd157ead": {
          "model_module": "@jupyter-widgets/controls",
          "model_name": "HTMLModel",
          "state": {
            "_view_name": "HTMLView",
            "style": "IPY_MODEL_827b0017df2b4dcb9fa564c7ca138f74",
            "_dom_classes": [],
            "description": "",
            "_model_name": "HTMLModel",
            "placeholder": "​",
            "_view_module": "@jupyter-widgets/controls",
            "_model_module_version": "1.5.0",
            "value": " 414/414 [00:00&lt;00:00, 740B/s]",
            "_view_count": null,
            "_view_module_version": "1.5.0",
            "description_tooltip": null,
            "_model_module": "@jupyter-widgets/controls",
            "layout": "IPY_MODEL_d73ec494bb5a406d8eb38d91c4b61da6"
          }
        },
        "9dfb2cc2ab364ece935c2ea2e3d8abab": {
          "model_module": "@jupyter-widgets/controls",
          "model_name": "ProgressStyleModel",
          "state": {
            "_view_name": "StyleView",
            "_model_name": "ProgressStyleModel",
            "description_width": "initial",
            "_view_module": "@jupyter-widgets/base",
            "_model_module_version": "1.5.0",
            "_view_count": null,
            "_view_module_version": "1.2.0",
            "bar_color": null,
            "_model_module": "@jupyter-widgets/controls"
          }
        },
        "b5dd54234674443483c1b534b8484c1a": {
          "model_module": "@jupyter-widgets/base",
          "model_name": "LayoutModel",
          "state": {
            "_view_name": "LayoutView",
            "grid_template_rows": null,
            "right": null,
            "justify_content": null,
            "_view_module": "@jupyter-widgets/base",
            "overflow": null,
            "_model_module_version": "1.2.0",
            "_view_count": null,
            "flex_flow": null,
            "width": null,
            "min_width": null,
            "border": null,
            "align_items": null,
            "bottom": null,
            "_model_module": "@jupyter-widgets/base",
            "top": null,
            "grid_column": null,
            "overflow_y": null,
            "overflow_x": null,
            "grid_auto_flow": null,
            "grid_area": null,
            "grid_template_columns": null,
            "flex": null,
            "_model_name": "LayoutModel",
            "justify_items": null,
            "grid_row": null,
            "max_height": null,
            "align_content": null,
            "visibility": null,
            "align_self": null,
            "height": null,
            "min_height": null,
            "padding": null,
            "grid_auto_rows": null,
            "grid_gap": null,
            "max_width": null,
            "order": null,
            "_view_module_version": "1.2.0",
            "grid_template_areas": null,
            "object_position": null,
            "object_fit": null,
            "grid_auto_columns": null,
            "margin": null,
            "display": null,
            "left": null
          }
        },
        "827b0017df2b4dcb9fa564c7ca138f74": {
          "model_module": "@jupyter-widgets/controls",
          "model_name": "DescriptionStyleModel",
          "state": {
            "_view_name": "StyleView",
            "_model_name": "DescriptionStyleModel",
            "description_width": "",
            "_view_module": "@jupyter-widgets/base",
            "_model_module_version": "1.5.0",
            "_view_count": null,
            "_view_module_version": "1.2.0",
            "_model_module": "@jupyter-widgets/controls"
          }
        },
        "d73ec494bb5a406d8eb38d91c4b61da6": {
          "model_module": "@jupyter-widgets/base",
          "model_name": "LayoutModel",
          "state": {
            "_view_name": "LayoutView",
            "grid_template_rows": null,
            "right": null,
            "justify_content": null,
            "_view_module": "@jupyter-widgets/base",
            "overflow": null,
            "_model_module_version": "1.2.0",
            "_view_count": null,
            "flex_flow": null,
            "width": null,
            "min_width": null,
            "border": null,
            "align_items": null,
            "bottom": null,
            "_model_module": "@jupyter-widgets/base",
            "top": null,
            "grid_column": null,
            "overflow_y": null,
            "overflow_x": null,
            "grid_auto_flow": null,
            "grid_area": null,
            "grid_template_columns": null,
            "flex": null,
            "_model_name": "LayoutModel",
            "justify_items": null,
            "grid_row": null,
            "max_height": null,
            "align_content": null,
            "visibility": null,
            "align_self": null,
            "height": null,
            "min_height": null,
            "padding": null,
            "grid_auto_rows": null,
            "grid_gap": null,
            "max_width": null,
            "order": null,
            "_view_module_version": "1.2.0",
            "grid_template_areas": null,
            "object_position": null,
            "object_fit": null,
            "grid_auto_columns": null,
            "margin": null,
            "display": null,
            "left": null
          }
        },
        "365a3e1673ee4356af73291ac3f10f53": {
          "model_module": "@jupyter-widgets/controls",
          "model_name": "HBoxModel",
          "state": {
            "_view_name": "HBoxView",
            "_dom_classes": [],
            "_model_name": "HBoxModel",
            "_view_module": "@jupyter-widgets/controls",
            "_model_module_version": "1.5.0",
            "_view_count": null,
            "_view_module_version": "1.5.0",
            "box_style": "",
            "layout": "IPY_MODEL_dcd5fd824c6d4116a8cb5f02cccca73c",
            "_model_module": "@jupyter-widgets/controls",
            "children": [
              "IPY_MODEL_dc516bf2d04f476d94c30ad2464027ee",
              "IPY_MODEL_2527de7233774a40a7c1780ee4dd45af"
            ]
          }
        },
        "dcd5fd824c6d4116a8cb5f02cccca73c": {
          "model_module": "@jupyter-widgets/base",
          "model_name": "LayoutModel",
          "state": {
            "_view_name": "LayoutView",
            "grid_template_rows": null,
            "right": null,
            "justify_content": null,
            "_view_module": "@jupyter-widgets/base",
            "overflow": null,
            "_model_module_version": "1.2.0",
            "_view_count": null,
            "flex_flow": null,
            "width": null,
            "min_width": null,
            "border": null,
            "align_items": null,
            "bottom": null,
            "_model_module": "@jupyter-widgets/base",
            "top": null,
            "grid_column": null,
            "overflow_y": null,
            "overflow_x": null,
            "grid_auto_flow": null,
            "grid_area": null,
            "grid_template_columns": null,
            "flex": null,
            "_model_name": "LayoutModel",
            "justify_items": null,
            "grid_row": null,
            "max_height": null,
            "align_content": null,
            "visibility": null,
            "align_self": null,
            "height": null,
            "min_height": null,
            "padding": null,
            "grid_auto_rows": null,
            "grid_gap": null,
            "max_width": null,
            "order": null,
            "_view_module_version": "1.2.0",
            "grid_template_areas": null,
            "object_position": null,
            "object_fit": null,
            "grid_auto_columns": null,
            "margin": null,
            "display": null,
            "left": null
          }
        },
        "dc516bf2d04f476d94c30ad2464027ee": {
          "model_module": "@jupyter-widgets/controls",
          "model_name": "FloatProgressModel",
          "state": {
            "_view_name": "ProgressView",
            "style": "IPY_MODEL_5ec6497155434219899227fc9a3241ad",
            "_dom_classes": [],
            "description": "Downloading: 100%",
            "_model_name": "FloatProgressModel",
            "bar_style": "success",
            "max": 442581705,
            "_view_module": "@jupyter-widgets/controls",
            "_model_module_version": "1.5.0",
            "value": 442581705,
            "_view_count": null,
            "_view_module_version": "1.5.0",
            "orientation": "horizontal",
            "min": 0,
            "description_tooltip": null,
            "_model_module": "@jupyter-widgets/controls",
            "layout": "IPY_MODEL_e1da2e55c8a04ad5ab2c2d927a9b17f0"
          }
        },
        "2527de7233774a40a7c1780ee4dd45af": {
          "model_module": "@jupyter-widgets/controls",
          "model_name": "HTMLModel",
          "state": {
            "_view_name": "HTMLView",
            "style": "IPY_MODEL_66c68d5967424ce3b2388a387369f7f7",
            "_dom_classes": [],
            "description": "",
            "_model_name": "HTMLModel",
            "placeholder": "​",
            "_view_module": "@jupyter-widgets/controls",
            "_model_module_version": "1.5.0",
            "value": " 443M/443M [00:11&lt;00:00, 39.0MB/s]",
            "_view_count": null,
            "_view_module_version": "1.5.0",
            "description_tooltip": null,
            "_model_module": "@jupyter-widgets/controls",
            "layout": "IPY_MODEL_62015321728847ffbeba6598cbbbd049"
          }
        },
        "5ec6497155434219899227fc9a3241ad": {
          "model_module": "@jupyter-widgets/controls",
          "model_name": "ProgressStyleModel",
          "state": {
            "_view_name": "StyleView",
            "_model_name": "ProgressStyleModel",
            "description_width": "initial",
            "_view_module": "@jupyter-widgets/base",
            "_model_module_version": "1.5.0",
            "_view_count": null,
            "_view_module_version": "1.2.0",
            "bar_color": null,
            "_model_module": "@jupyter-widgets/controls"
          }
        },
        "e1da2e55c8a04ad5ab2c2d927a9b17f0": {
          "model_module": "@jupyter-widgets/base",
          "model_name": "LayoutModel",
          "state": {
            "_view_name": "LayoutView",
            "grid_template_rows": null,
            "right": null,
            "justify_content": null,
            "_view_module": "@jupyter-widgets/base",
            "overflow": null,
            "_model_module_version": "1.2.0",
            "_view_count": null,
            "flex_flow": null,
            "width": null,
            "min_width": null,
            "border": null,
            "align_items": null,
            "bottom": null,
            "_model_module": "@jupyter-widgets/base",
            "top": null,
            "grid_column": null,
            "overflow_y": null,
            "overflow_x": null,
            "grid_auto_flow": null,
            "grid_area": null,
            "grid_template_columns": null,
            "flex": null,
            "_model_name": "LayoutModel",
            "justify_items": null,
            "grid_row": null,
            "max_height": null,
            "align_content": null,
            "visibility": null,
            "align_self": null,
            "height": null,
            "min_height": null,
            "padding": null,
            "grid_auto_rows": null,
            "grid_gap": null,
            "max_width": null,
            "order": null,
            "_view_module_version": "1.2.0",
            "grid_template_areas": null,
            "object_position": null,
            "object_fit": null,
            "grid_auto_columns": null,
            "margin": null,
            "display": null,
            "left": null
          }
        },
        "66c68d5967424ce3b2388a387369f7f7": {
          "model_module": "@jupyter-widgets/controls",
          "model_name": "DescriptionStyleModel",
          "state": {
            "_view_name": "StyleView",
            "_model_name": "DescriptionStyleModel",
            "description_width": "",
            "_view_module": "@jupyter-widgets/base",
            "_model_module_version": "1.5.0",
            "_view_count": null,
            "_view_module_version": "1.2.0",
            "_model_module": "@jupyter-widgets/controls"
          }
        },
        "62015321728847ffbeba6598cbbbd049": {
          "model_module": "@jupyter-widgets/base",
          "model_name": "LayoutModel",
          "state": {
            "_view_name": "LayoutView",
            "grid_template_rows": null,
            "right": null,
            "justify_content": null,
            "_view_module": "@jupyter-widgets/base",
            "overflow": null,
            "_model_module_version": "1.2.0",
            "_view_count": null,
            "flex_flow": null,
            "width": null,
            "min_width": null,
            "border": null,
            "align_items": null,
            "bottom": null,
            "_model_module": "@jupyter-widgets/base",
            "top": null,
            "grid_column": null,
            "overflow_y": null,
            "overflow_x": null,
            "grid_auto_flow": null,
            "grid_area": null,
            "grid_template_columns": null,
            "flex": null,
            "_model_name": "LayoutModel",
            "justify_items": null,
            "grid_row": null,
            "max_height": null,
            "align_content": null,
            "visibility": null,
            "align_self": null,
            "height": null,
            "min_height": null,
            "padding": null,
            "grid_auto_rows": null,
            "grid_gap": null,
            "max_width": null,
            "order": null,
            "_view_module_version": "1.2.0",
            "grid_template_areas": null,
            "object_position": null,
            "object_fit": null,
            "grid_auto_columns": null,
            "margin": null,
            "display": null,
            "left": null
          }
        }
      }
    }
  },
  "cells": [
    {
      "cell_type": "markdown",
      "metadata": {
        "id": "MQlGHpdfVz4f"
      },
      "source": [
        "# Text classification"
      ]
    },
    {
      "cell_type": "markdown",
      "metadata": {
        "id": "0JjcI3COVz4f"
      },
      "source": [
        "## *\"Words. I know words. I have the best words!\"*\n",
        "*- Noam Chomsky*"
      ]
    },
    {
      "cell_type": "markdown",
      "metadata": {
        "id": "9VwIn2GUVz4g"
      },
      "source": [
        "# Overview\n",
        "\n",
        "In order to train a machine learning model to classify text, we need:\n",
        "1. a way to preprocess text\n",
        "2. a label for each text, represented as number\n",
        "3. a way to represent each text as vector input\n",
        "4. a model to learn  a function $f(input) = label$\n",
        "5. a way to evaluate how well the model works\n",
        "6. a way to predict new data"
      ]
    },
    {
      "cell_type": "markdown",
      "metadata": {
        "id": "l6rJC_TFVz4g"
      },
      "source": [
        "As an example, we will use reviews data and try to classify the rating into $positive$ or $negative$, only based on the text they use.\n",
        "\n",
        "The same method can be used for any other data, including more labels and other dependent variables (e.g., age or gender of the text author, social constructs expressed in the text, etc...). "
      ]
    },
    {
      "cell_type": "markdown",
      "metadata": {
        "id": "TvC3_gQNVz4h"
      },
      "source": [
        "# 1. Data"
      ]
    },
    {
      "cell_type": "code",
      "metadata": {
        "id": "K4ccSH_kVz4h",
        "colab": {
          "base_uri": "https://localhost:8080/",
          "height": 128
        },
        "outputId": "5eb3ed39-8aa6-42e7-c353-0e9cec9d648f"
      },
      "source": [
        "import pandas as pd\n",
        "\n",
        "data = pd.read_csv('/content/drive/MyDrive/Colab Notebooks/sa_train.csv', quoting=0)\n",
        "print(len(data), data['output'].unique())\n",
        "data.head(2)"
      ],
      "execution_count": null,
      "outputs": [
        {
          "output_type": "stream",
          "text": [
            "1800 ['neg' 'pos']\n"
          ],
          "name": "stdout"
        },
        {
          "output_type": "execute_result",
          "data": {
            "text/html": [
              "<div>\n",
              "<style scoped>\n",
              "    .dataframe tbody tr th:only-of-type {\n",
              "        vertical-align: middle;\n",
              "    }\n",
              "\n",
              "    .dataframe tbody tr th {\n",
              "        vertical-align: top;\n",
              "    }\n",
              "\n",
              "    .dataframe thead th {\n",
              "        text-align: right;\n",
              "    }\n",
              "</style>\n",
              "<table border=\"1\" class=\"dataframe\">\n",
              "  <thead>\n",
              "    <tr style=\"text-align: right;\">\n",
              "      <th></th>\n",
              "      <th>input</th>\n",
              "      <th>output</th>\n",
              "    </tr>\n",
              "  </thead>\n",
              "  <tbody>\n",
              "    <tr>\n",
              "      <th>0</th>\n",
              "      <td>shakespeare in love is quite possibly the most...</td>\n",
              "      <td>neg</td>\n",
              "    </tr>\n",
              "    <tr>\n",
              "      <th>1</th>\n",
              "      <td>wizards is an animated feature that begins wit...</td>\n",
              "      <td>neg</td>\n",
              "    </tr>\n",
              "  </tbody>\n",
              "</table>\n",
              "</div>"
            ],
            "text/plain": [
              "                                               input output\n",
              "0  shakespeare in love is quite possibly the most...    neg\n",
              "1  wizards is an animated feature that begins wit...    neg"
            ]
          },
          "metadata": {
            "tags": []
          },
          "execution_count": 41
        }
      ]
    },
    {
      "cell_type": "markdown",
      "metadata": {
        "id": "aq9uSkU2Vz4k"
      },
      "source": [
        "## Preprocessing\n",
        "\n",
        "Text is messy. The goal of preprocessing is to reduce the amount of noise (= unnecessary variation), while maintaining the signal. There is no one-size-fits-all solution, but a good approximation is the following:"
      ]
    },
    {
      "cell_type": "code",
      "metadata": {
        "id": "JzWUUADMVz4k"
      },
      "source": [
        "import spacy\n",
        "nlp = spacy.load('en', disable=['parser', 'ner'])"
      ],
      "execution_count": null,
      "outputs": []
    },
    {
      "cell_type": "code",
      "metadata": {
        "id": "3qjwErbyVz4n",
        "colab": {
          "base_uri": "https://localhost:8080/",
          "height": 35
        },
        "outputId": "476eb57d-a098-47d7-f71f-833eb4e15407"
      },
      "source": [
        "def clean_text(text):\n",
        "    '''reduce text to lower-case lexicon entry'''\n",
        "    lemmas = [token.lemma_ for token in nlp(text) \n",
        "              if token.pos_ in {'NOUN', 'VERB', 'ADJ', 'ADV', 'PROPN'}]\n",
        "    return ' '.join(lemmas)\n",
        "\n",
        "clean_text('This is a test sentence. And here comes another one... Go me!')"
      ],
      "execution_count": null,
      "outputs": [
        {
          "output_type": "execute_result",
          "data": {
            "application/vnd.google.colaboratory.intrinsic+json": {
              "type": "string"
            },
            "text/plain": [
              "'test sentence here come one go'"
            ]
          },
          "metadata": {
            "tags": []
          },
          "execution_count": 43
        }
      ]
    },
    {
      "cell_type": "markdown",
      "metadata": {
        "id": "FZ2lm8GGVz4p"
      },
      "source": [
        "Let's clean up the input data. This can take a while, so it's good to save it."
      ]
    },
    {
      "cell_type": "code",
      "metadata": {
        "id": "fxdCFYKRVz4p",
        "colab": {
          "base_uri": "https://localhost:8080/"
        },
        "outputId": "d18e7497-a214-473f-835d-3a5725300857"
      },
      "source": [
        "data['clean_text'] = data['input'].apply(clean_text)\n",
        "data['clean_text'].head()"
      ],
      "execution_count": null,
      "outputs": [
        {
          "output_type": "execute_result",
          "data": {
            "text/plain": [
              "0    shakespeare love quite possibly most enjoyable...\n",
              "1    wizard animate feature begin narration epic pr...\n",
              "2    gun wielding arnold schwarzenegger change hear...\n",
              "3    keep jane austen sense sensibility pride preju...\n",
              "4    hollywood pimp fat cigar smoking chump wear fu...\n",
              "Name: clean_text, dtype: object"
            ]
          },
          "metadata": {
            "tags": []
          },
          "execution_count": 44
        }
      ]
    },
    {
      "cell_type": "code",
      "metadata": {
        "id": "YmrTaAOdiHZJ",
        "colab": {
          "base_uri": "https://localhost:8080/",
          "height": 204
        },
        "outputId": "df44f9d7-fa83-4460-f1ad-c57548306414"
      },
      "source": [
        "data.head()"
      ],
      "execution_count": null,
      "outputs": [
        {
          "output_type": "execute_result",
          "data": {
            "text/html": [
              "<div>\n",
              "<style scoped>\n",
              "    .dataframe tbody tr th:only-of-type {\n",
              "        vertical-align: middle;\n",
              "    }\n",
              "\n",
              "    .dataframe tbody tr th {\n",
              "        vertical-align: top;\n",
              "    }\n",
              "\n",
              "    .dataframe thead th {\n",
              "        text-align: right;\n",
              "    }\n",
              "</style>\n",
              "<table border=\"1\" class=\"dataframe\">\n",
              "  <thead>\n",
              "    <tr style=\"text-align: right;\">\n",
              "      <th></th>\n",
              "      <th>input</th>\n",
              "      <th>output</th>\n",
              "      <th>clean_text</th>\n",
              "    </tr>\n",
              "  </thead>\n",
              "  <tbody>\n",
              "    <tr>\n",
              "      <th>0</th>\n",
              "      <td>shakespeare in love is quite possibly the most...</td>\n",
              "      <td>neg</td>\n",
              "      <td>shakespeare love quite possibly most enjoyable...</td>\n",
              "    </tr>\n",
              "    <tr>\n",
              "      <th>1</th>\n",
              "      <td>wizards is an animated feature that begins wit...</td>\n",
              "      <td>neg</td>\n",
              "      <td>wizard animate feature begin narration epic pr...</td>\n",
              "    </tr>\n",
              "    <tr>\n",
              "      <th>2</th>\n",
              "      <td>gun wielding arnold schwarzenegger has a chang...</td>\n",
              "      <td>neg</td>\n",
              "      <td>gun wielding arnold schwarzenegger change hear...</td>\n",
              "    </tr>\n",
              "    <tr>\n",
              "      <th>3</th>\n",
              "      <td>if this keeps up , jane austen ( sense and sen...</td>\n",
              "      <td>pos</td>\n",
              "      <td>keep jane austen sense sensibility pride preju...</td>\n",
              "    </tr>\n",
              "    <tr>\n",
              "      <th>4</th>\n",
              "      <td>hollywood is a pimp . a fat , cigar - smoking ...</td>\n",
              "      <td>pos</td>\n",
              "      <td>hollywood pimp fat cigar smoking chump wear fu...</td>\n",
              "    </tr>\n",
              "  </tbody>\n",
              "</table>\n",
              "</div>"
            ],
            "text/plain": [
              "                                               input  ...                                         clean_text\n",
              "0  shakespeare in love is quite possibly the most...  ...  shakespeare love quite possibly most enjoyable...\n",
              "1  wizards is an animated feature that begins wit...  ...  wizard animate feature begin narration epic pr...\n",
              "2  gun wielding arnold schwarzenegger has a chang...  ...  gun wielding arnold schwarzenegger change hear...\n",
              "3  if this keeps up , jane austen ( sense and sen...  ...  keep jane austen sense sensibility pride preju...\n",
              "4  hollywood is a pimp . a fat , cigar - smoking ...  ...  hollywood pimp fat cigar smoking chump wear fu...\n",
              "\n",
              "[5 rows x 3 columns]"
            ]
          },
          "metadata": {
            "tags": []
          },
          "execution_count": 45
        }
      ]
    },
    {
      "cell_type": "markdown",
      "metadata": {
        "id": "cz6B9HrzVz4r"
      },
      "source": [
        "# 2. Labels\n",
        "\n",
        "Here, we assume that we already have the labels. (In your task, you will have to label them yourself! Hint: use `input()` or a spreadsheet).\n",
        "\n",
        "However, in order for the machine learning model to work with the labels, we need to translate them into a vector of numbers. We can use `sklearn.LabelEncoder`"
      ]
    },
    {
      "cell_type": "code",
      "metadata": {
        "id": "iC0Z9QLCVz4s",
        "colab": {
          "base_uri": "https://localhost:8080/"
        },
        "outputId": "5075a7f7-b7e4-41ce-ebdd-ff6c2143ba97"
      },
      "source": [
        "from sklearn.preprocessing import LabelEncoder\n",
        "\n",
        "# transform labels into numbers\n",
        "labels2numbers = LabelEncoder()\n",
        "\n",
        "y = labels2numbers.fit_transform(data['output'])\n",
        "print(data['output'][:10], y[:10], len(y))\n",
        "\n",
        "# keep in mind that at this time we already fit a model, so\n",
        "# if we are fitting a new label encoder on new data could be that\n",
        "# the encoding can be different 0 -> 1  1 -> 0"
      ],
      "execution_count": null,
      "outputs": [
        {
          "output_type": "stream",
          "text": [
            "0    neg\n",
            "1    neg\n",
            "2    neg\n",
            "3    pos\n",
            "4    pos\n",
            "5    neg\n",
            "6    pos\n",
            "7    pos\n",
            "8    neg\n",
            "9    neg\n",
            "Name: output, dtype: object [0 0 0 1 1 0 1 1 0 0] 1800\n"
          ],
          "name": "stdout"
        }
      ]
    },
    {
      "cell_type": "markdown",
      "metadata": {
        "id": "ce3RqPSnVz4u"
      },
      "source": [
        "To get the original names back, use `inverse_transform()`:"
      ]
    },
    {
      "cell_type": "code",
      "metadata": {
        "id": "jWUAa5qRVz4u",
        "colab": {
          "base_uri": "https://localhost:8080/"
        },
        "outputId": "04b83996-df0c-451d-a950-3a92362bcb01"
      },
      "source": [
        "labels2numbers.inverse_transform([1,1,1,0,0,1])"
      ],
      "execution_count": null,
      "outputs": [
        {
          "output_type": "execute_result",
          "data": {
            "text/plain": [
              "array(['pos', 'pos', 'pos', 'neg', 'neg', 'pos'], dtype=object)"
            ]
          },
          "metadata": {
            "tags": []
          },
          "execution_count": 47
        }
      ]
    },
    {
      "cell_type": "markdown",
      "metadata": {
        "id": "B1ji_rubVz4x"
      },
      "source": [
        "# 3. Representing text\n",
        "\n",
        "First, we need to transform the texts into a matrix, where each row represents one text instance. The columns are the **features**\n"
      ]
    },
    {
      "cell_type": "code",
      "metadata": {
        "id": "ui4ie7e6Vz4x",
        "colab": {
          "base_uri": "https://localhost:8080/"
        },
        "outputId": "13a9ffab-63db-492e-a7a6-2b8f31296061"
      },
      "source": [
        "from sklearn.feature_extraction.text import TfidfVectorizer\n",
        "\n",
        "vectorizer = TfidfVectorizer(ngram_range=(1,2), # at least 1, 2 or 1, 3\n",
        "                             min_df=0.001, \n",
        "                             max_df=0.75, \n",
        "                             stop_words='english')\n",
        "\n",
        "X = vectorizer.fit_transform(data['clean_text'])\n",
        "print(X.shape)\n",
        "# here 66808 features are quite a lot, we may set max_feature setting\n",
        "# on the TfidfVectorizer like 5000 or 1000"
      ],
      "execution_count": null,
      "outputs": [
        {
          "output_type": "stream",
          "text": [
            "(1800, 66808)\n"
          ],
          "name": "stdout"
        }
      ]
    },
    {
      "cell_type": "markdown",
      "metadata": {
        "id": "MqzzmzwsVz40"
      },
      "source": [
        "We can now translate back and forth between columns and words:"
      ]
    },
    {
      "cell_type": "code",
      "metadata": {
        "id": "92xme8BZVz40",
        "colab": {
          "base_uri": "https://localhost:8080/"
        },
        "outputId": "a02324f5-317b-4bd6-cd66-cf74290324df"
      },
      "source": [
        "vectorizer.vocabulary_['bad']"
      ],
      "execution_count": null,
      "outputs": [
        {
          "output_type": "execute_result",
          "data": {
            "text/plain": [
              "3786"
            ]
          },
          "metadata": {
            "tags": []
          },
          "execution_count": 49
        }
      ]
    },
    {
      "cell_type": "code",
      "metadata": {
        "id": "X3GJ324yVz42",
        "colab": {
          "base_uri": "https://localhost:8080/",
          "height": 35
        },
        "outputId": "4f68ff71-7fd6-466d-d430-f1de9fd0f324"
      },
      "source": [
        "vectorizer.get_feature_names()[3786]"
      ],
      "execution_count": null,
      "outputs": [
        {
          "output_type": "execute_result",
          "data": {
            "application/vnd.google.colaboratory.intrinsic+json": {
              "type": "string"
            },
            "text/plain": [
              "'bad'"
            ]
          },
          "metadata": {
            "tags": []
          },
          "execution_count": 50
        }
      ]
    },
    {
      "cell_type": "markdown",
      "metadata": {
        "id": "hXZ-Xw5yVz44"
      },
      "source": [
        "Let's see how often that word is in the data:"
      ]
    },
    {
      "cell_type": "code",
      "metadata": {
        "id": "Y85dIjYsVz45",
        "colab": {
          "base_uri": "https://localhost:8080/"
        },
        "outputId": "9e005f48-b899-4b75-8ebe-e9934f5e8f77"
      },
      "source": [
        "len(data[data.clean_text.str.contains('bad')])"
      ],
      "execution_count": null,
      "outputs": [
        {
          "output_type": "execute_result",
          "data": {
            "text/plain": [
              "895"
            ]
          },
          "metadata": {
            "tags": []
          },
          "execution_count": 51
        }
      ]
    },
    {
      "cell_type": "code",
      "metadata": {
        "colab": {
          "base_uri": "https://localhost:8080/",
          "height": 419
        },
        "id": "B5w9IDXK9t1L",
        "outputId": "4303bfcf-1ed6-4f19-aa89-f132968f1099"
      },
      "source": [
        "data[data.clean_text.str.contains('bad')] # search rows where a given substring appears"
      ],
      "execution_count": null,
      "outputs": [
        {
          "output_type": "execute_result",
          "data": {
            "text/html": [
              "<div>\n",
              "<style scoped>\n",
              "    .dataframe tbody tr th:only-of-type {\n",
              "        vertical-align: middle;\n",
              "    }\n",
              "\n",
              "    .dataframe tbody tr th {\n",
              "        vertical-align: top;\n",
              "    }\n",
              "\n",
              "    .dataframe thead th {\n",
              "        text-align: right;\n",
              "    }\n",
              "</style>\n",
              "<table border=\"1\" class=\"dataframe\">\n",
              "  <thead>\n",
              "    <tr style=\"text-align: right;\">\n",
              "      <th></th>\n",
              "      <th>input</th>\n",
              "      <th>output</th>\n",
              "      <th>clean_text</th>\n",
              "    </tr>\n",
              "  </thead>\n",
              "  <tbody>\n",
              "    <tr>\n",
              "      <th>0</th>\n",
              "      <td>shakespeare in love is quite possibly the most...</td>\n",
              "      <td>neg</td>\n",
              "      <td>shakespeare love quite possibly most enjoyable...</td>\n",
              "    </tr>\n",
              "    <tr>\n",
              "      <th>1</th>\n",
              "      <td>wizards is an animated feature that begins wit...</td>\n",
              "      <td>neg</td>\n",
              "      <td>wizard animate feature begin narration epic pr...</td>\n",
              "    </tr>\n",
              "    <tr>\n",
              "      <th>4</th>\n",
              "      <td>hollywood is a pimp . a fat , cigar - smoking ...</td>\n",
              "      <td>pos</td>\n",
              "      <td>hollywood pimp fat cigar smoking chump wear fu...</td>\n",
              "    </tr>\n",
              "    <tr>\n",
              "      <th>6</th>\n",
              "      <td>films adapted from comic books have had plenty...</td>\n",
              "      <td>pos</td>\n",
              "      <td>film adapt comic book have plenty success supe...</td>\n",
              "    </tr>\n",
              "    <tr>\n",
              "      <th>8</th>\n",
              "      <td>to watch ` battlefield earth ' is to wallow in...</td>\n",
              "      <td>neg</td>\n",
              "      <td>watch battlefield earth wallow misery most lud...</td>\n",
              "    </tr>\n",
              "    <tr>\n",
              "      <th>...</th>\n",
              "      <td>...</td>\n",
              "      <td>...</td>\n",
              "      <td>...</td>\n",
              "    </tr>\n",
              "    <tr>\n",
              "      <th>1794</th>\n",
              "      <td>ladies and gentlemen , 1997 ' s independence d...</td>\n",
              "      <td>pos</td>\n",
              "      <td>lady gentleman s independence day here title s...</td>\n",
              "    </tr>\n",
              "    <tr>\n",
              "      <th>1795</th>\n",
              "      <td>terrence malick made an excellent 90 minute fi...</td>\n",
              "      <td>neg</td>\n",
              "      <td>terrence malick make excellent minute film ada...</td>\n",
              "    </tr>\n",
              "    <tr>\n",
              "      <th>1796</th>\n",
              "      <td>as you should know , this summer has been less...</td>\n",
              "      <td>neg</td>\n",
              "      <td>should know summer less memorable total decent...</td>\n",
              "    </tr>\n",
              "    <tr>\n",
              "      <th>1798</th>\n",
              "      <td>a movie about divorce and custody in 1995 seem...</td>\n",
              "      <td>neg</td>\n",
              "      <td>movie divorce custody seem about as timely mov...</td>\n",
              "    </tr>\n",
              "    <tr>\n",
              "      <th>1799</th>\n",
              "      <td>plot : a down - and - out girl moves in with s...</td>\n",
              "      <td>neg</td>\n",
              "      <td>plot down girl move top model fall love goofy ...</td>\n",
              "    </tr>\n",
              "  </tbody>\n",
              "</table>\n",
              "<p>895 rows × 3 columns</p>\n",
              "</div>"
            ],
            "text/plain": [
              "                                                  input  ...                                         clean_text\n",
              "0     shakespeare in love is quite possibly the most...  ...  shakespeare love quite possibly most enjoyable...\n",
              "1     wizards is an animated feature that begins wit...  ...  wizard animate feature begin narration epic pr...\n",
              "4     hollywood is a pimp . a fat , cigar - smoking ...  ...  hollywood pimp fat cigar smoking chump wear fu...\n",
              "6     films adapted from comic books have had plenty...  ...  film adapt comic book have plenty success supe...\n",
              "8     to watch ` battlefield earth ' is to wallow in...  ...  watch battlefield earth wallow misery most lud...\n",
              "...                                                 ...  ...                                                ...\n",
              "1794  ladies and gentlemen , 1997 ' s independence d...  ...  lady gentleman s independence day here title s...\n",
              "1795  terrence malick made an excellent 90 minute fi...  ...  terrence malick make excellent minute film ada...\n",
              "1796  as you should know , this summer has been less...  ...  should know summer less memorable total decent...\n",
              "1798  a movie about divorce and custody in 1995 seem...  ...  movie divorce custody seem about as timely mov...\n",
              "1799  plot : a down - and - out girl moves in with s...  ...  plot down girl move top model fall love goofy ...\n",
              "\n",
              "[895 rows x 3 columns]"
            ]
          },
          "metadata": {
            "tags": []
          },
          "execution_count": 52
        }
      ]
    },
    {
      "cell_type": "markdown",
      "metadata": {
        "id": "jdqEPjjKVz47"
      },
      "source": [
        "# 4. Learning a classification model\n",
        "\n",
        "A classification model is simply a function that takes a text representation as input, and returns an output label.\n",
        "\n",
        "Inside that function is normally a set of weights. By multiplying the weight vector with the input vector, we get the label."
      ]
    },
    {
      "cell_type": "markdown",
      "metadata": {
        "id": "iQ1Nw6wGVz47"
      },
      "source": [
        "## 4.1: Fitting a model\n",
        "\n",
        "Fitting a model is the process of finding the right weights to map the training inputs to the training outputs. Fitting to data in `sklearn` is easy: we use the `fit()` function, giving it the input matrix and output vector."
      ]
    },
    {
      "cell_type": "code",
      "metadata": {
        "id": "ObVUO3JqVz48",
        "colab": {
          "base_uri": "https://localhost:8080/"
        },
        "outputId": "7b6cd416-013f-4e03-dc94-43e3b4f8f365"
      },
      "source": [
        "from sklearn.linear_model import LogisticRegression\n",
        "\n",
        "# classifier is the model\n",
        "classifier = LogisticRegression(n_jobs=-1, class_weight='balanced') # n_jobs: parallelized among CPU cores\n",
        "%time classifier.fit(X, y)\n",
        "print(classifier)"
      ],
      "execution_count": null,
      "outputs": [
        {
          "output_type": "stream",
          "text": [
            "CPU times: user 36.1 ms, sys: 34.1 ms, total: 70.2 ms\n",
            "Wall time: 968 ms\n",
            "LogisticRegression(C=1.0, class_weight='balanced', dual=False,\n",
            "                   fit_intercept=True, intercept_scaling=1, l1_ratio=None,\n",
            "                   max_iter=100, multi_class='auto', n_jobs=-1, penalty='l2',\n",
            "                   random_state=None, solver='lbfgs', tol=0.0001, verbose=0,\n",
            "                   warm_start=False)\n"
          ],
          "name": "stdout"
        }
      ]
    },
    {
      "cell_type": "markdown",
      "metadata": {
        "id": "Nr_RwOdtVz4-"
      },
      "source": [
        "The resulting fitted model has coefficients (betas) for each word/feature in our vocabulary"
      ]
    },
    {
      "cell_type": "code",
      "metadata": {
        "id": "u-BCqLYrVz4-",
        "colab": {
          "base_uri": "https://localhost:8080/"
        },
        "outputId": "f6434bf1-c2ae-4ac5-89dc-d6576ee98447"
      },
      "source": [
        "coefs = classifier.coef_\n",
        "coefs"
      ],
      "execution_count": null,
      "outputs": [
        {
          "output_type": "execute_result",
          "data": {
            "text/plain": [
              "array([[ 0.00986428, -0.06329059, -0.03779013, ...,  0.06591883,\n",
              "         0.02520406, -0.00039513]])"
            ]
          },
          "metadata": {
            "tags": []
          },
          "execution_count": 54
        }
      ]
    },
    {
      "cell_type": "code",
      "metadata": {
        "colab": {
          "base_uri": "https://localhost:8080/"
        },
        "id": "k3GKiUj-gkoF",
        "outputId": "78053911-e86a-4165-de88-75843e304cb0"
      },
      "source": [
        "X.shape[1] == len(coefs[0, :])"
      ],
      "execution_count": null,
      "outputs": [
        {
          "output_type": "execute_result",
          "data": {
            "text/plain": [
              "True"
            ]
          },
          "metadata": {
            "tags": []
          },
          "execution_count": 55
        }
      ]
    },
    {
      "cell_type": "markdown",
      "metadata": {
        "id": "pmDSYjKGVz5B"
      },
      "source": [
        "We can now examine the weights/coefficients/betas for the individual words (note that each word has an ID):"
      ]
    },
    {
      "cell_type": "code",
      "metadata": {
        "id": "1yHdzoH5Vz5C",
        "colab": {
          "base_uri": "https://localhost:8080/"
        },
        "outputId": "637cdf2c-373b-4479-aede-1988f3b9b576"
      },
      "source": [
        "k = vectorizer.vocabulary_['bad'] # column position for the word\n",
        "print(vectorizer.get_feature_names()[k], classifier.coef_[0, k])"
      ],
      "execution_count": null,
      "outputs": [
        {
          "output_type": "stream",
          "text": [
            "bad -3.493747454624923\n"
          ],
          "name": "stdout"
        }
      ]
    },
    {
      "cell_type": "markdown",
      "metadata": {
        "id": "itvwkAATVz5E"
      },
      "source": [
        "NB: in a two-class problem, our coefficents are in a vector: positive values indicate the positive class, negative values the other class.\n",
        "In a multi-class problem, we have one **row** of coefficients for each class: positive values indicate that this feature contributes to the class, negative values indicate that it contributes to other classes."
      ]
    },
    {
      "cell_type": "markdown",
      "metadata": {
        "id": "vlX7iByXVz5F"
      },
      "source": [
        "# 5. Evaluating models\n",
        "\n",
        "Having a model is great, but how well does it do? Can it classify what it has seen? We need a way to estimate how well the model will work on new data.\n",
        "\n",
        "We need a metric to measure performance and a way to simulate new data."
      ]
    },
    {
      "cell_type": "markdown",
      "metadata": {
        "id": "8Q0Wg78sVz5F"
      },
      "source": [
        "## 5.1: Metrics\n",
        "\n",
        "We use three measure:\n",
        "1. precision\n",
        "2. recall\n",
        "3. F1"
      ]
    },
    {
      "cell_type": "markdown",
      "metadata": {
        "id": "WQz-RT3bVz5F"
      },
      "source": [
        "### Precision\n",
        "\n",
        "Precision measures how many of our model's predictions were correct. We divide the number of true positives by the number of all positives\n",
        "\n",
        "$$\n",
        "p = \\frac{tp}{tp+fp}\n",
        "$$"
      ]
    },
    {
      "cell_type": "markdown",
      "metadata": {
        "id": "RuxrcSFUVz5G"
      },
      "source": [
        "### Recall\n",
        "\n",
        "Recall measures how many of the correct answers in the data our model managed to find. We divide the number of true positives by the number of true positives (the instances our model got) and false negatives (the instances our model *should* have gotten)\n",
        "\n",
        "$$\n",
        "r = \\frac{tp}{tp+fn}\n",
        "$$"
      ]
    },
    {
      "cell_type": "markdown",
      "metadata": {
        "id": "Au9AhOaUVz5G"
      },
      "source": [
        "### F1\n",
        "\n",
        "A model that classified everything as, say, \"positive\" would get a perfect recall (it does, after all, find all positive examples). However, such a model would obviously be useless, since its precision is bad.\n",
        "\n",
        "We want to balance the two against each other. F1 does exactly that, by taking the harmonic mean.\n",
        "\n",
        "$$\n",
        "F_1 = \\frac{p\\cdot r}{p+r}\n",
        "$$"
      ]
    },
    {
      "cell_type": "markdown",
      "metadata": {
        "id": "JZg3zpb9Vz5H"
      },
      "source": [
        "Luckily, all of these metrics are implemented in `sklearn`. All we have to provide are the predictions of our model, and the actual correct answers (called the *gold standard*). "
      ]
    },
    {
      "cell_type": "code",
      "metadata": {
        "id": "Lc_wtcu9Vz5H"
      },
      "source": [
        "from sklearn.metrics import classification_report\n",
        "# also accuracy is used but it is better to show all of them\n",
        "# the best one is the F1 because it takes into account precision\n",
        "# and recall at the same time"
      ],
      "execution_count": null,
      "outputs": []
    },
    {
      "cell_type": "markdown",
      "metadata": {
        "id": "NeQ8FWL5Vz5K"
      },
      "source": [
        "## 5.2: Cross-validation\n",
        "\n",
        "How do we measure performance on new data, if we don't know what the correct outputs for those new data points are?\n",
        "\n",
        "In **$k$-fold cross-validation**, we simulate new data, by fitting our model on parts of the data, and evaluating on other. We can thereby measure the performance on the held-out part. "
      ]
    },
    {
      "cell_type": "markdown",
      "metadata": {
        "id": "DoLWzhNDVz5K"
      },
      "source": [
        "However, we have now reduced the amount of data we used to fit the data. In order to address this, we simply repeat the process $k$ times.\n",
        "We separate the data into $k$ parts, fit the model on $k-1$ parts, and evaluate on the $k$th part. In the end, we have performance scores from $k$ models. The average of them tells us how well the model would work on new data.\n",
        "\n"
      ]
    },
    {
      "cell_type": "code",
      "metadata": {
        "id": "GjyLdz_gVz5L",
        "colab": {
          "base_uri": "https://localhost:8080/"
        },
        "outputId": "ca529d07-3121-4d51-f701-de77bfff215e"
      },
      "source": [
        "from sklearn.model_selection import cross_val_score\n",
        "\n",
        "for k in [2,3,5,10]:\n",
        "    cv = cross_val_score(LogisticRegression(), X, y=y, cv=k, n_jobs=-1, scoring=\"f1_micro\")\n",
        "    fold_size = X.shape[0]/k\n",
        "    \n",
        "    print(\"F1 with {} folds for bag-of-words is {}\".format(k, cv.mean()))\n",
        "    print(\"Training on {} instances/fold, testing on {}\".format(fold_size*(k-1), fold_size))\n",
        "    print()"
      ],
      "execution_count": null,
      "outputs": [
        {
          "output_type": "stream",
          "text": [
            "F1 with 2 folds for bag-of-words is 0.8083333333333333\n",
            "Training on 900.0 instances/fold, testing on 900.0\n",
            "\n",
            "F1 with 3 folds for bag-of-words is 0.8172222222222222\n",
            "Training on 1200.0 instances/fold, testing on 600.0\n",
            "\n",
            "F1 with 5 folds for bag-of-words is 0.828888888888889\n",
            "Training on 1440.0 instances/fold, testing on 360.0\n",
            "\n",
            "F1 with 10 folds for bag-of-words is 0.8305555555555555\n",
            "Training on 1620.0 instances/fold, testing on 180.0\n",
            "\n"
          ],
          "name": "stdout"
        }
      ]
    },
    {
      "cell_type": "code",
      "metadata": {
        "colab": {
          "base_uri": "https://localhost:8080/"
        },
        "id": "mZJKyLr1AiQG",
        "outputId": "20debda8-e04e-4ec5-e187-d211752ac205"
      },
      "source": [
        "cv # these are the means"
      ],
      "execution_count": null,
      "outputs": [
        {
          "output_type": "execute_result",
          "data": {
            "text/plain": [
              "array([0.84444444, 0.82777778, 0.78333333, 0.8       , 0.80555556,\n",
              "       0.85      , 0.81666667, 0.85      , 0.86111111, 0.86666667])"
            ]
          },
          "metadata": {
            "tags": []
          },
          "execution_count": 59
        }
      ]
    },
    {
      "cell_type": "markdown",
      "metadata": {
        "id": "M_XkJ3CgVz5N"
      },
      "source": [
        "## Baselines\n",
        "So, is that performance good? Let's compare to a **baseline**, i.e., a null-hypothesis. The simplest one is that all instances belong to the most frequent class in the data."
      ]
    },
    {
      "cell_type": "code",
      "metadata": {
        "id": "8fvRRMb3Vz5N",
        "colab": {
          "base_uri": "https://localhost:8080/"
        },
        "outputId": "4aa8e2a4-865d-48f7-93b8-567c5e28719a"
      },
      "source": [
        "from sklearn.dummy import DummyClassifier\n",
        "\n",
        "most_frequent = DummyClassifier(strategy='most_frequent')\n",
        "\n",
        "print(cross_val_score(most_frequent, X, y=y, cv=5, n_jobs=-1, scoring=\"f1_micro\").mean())\n",
        "# we are obtaining better results with k-fold"
      ],
      "execution_count": null,
      "outputs": [
        {
          "output_type": "stream",
          "text": [
            "0.5061111111111111\n"
          ],
          "name": "stdout"
        }
      ]
    },
    {
      "cell_type": "markdown",
      "metadata": {
        "id": "t4cEIoxVVz5P"
      },
      "source": [
        "# Exercise\n",
        "\n",
        "See whether you can apply the previous steps to a new data sets, a description of wines. Choose any of the descriptor columns as target variable. The text is already preprocessed, to save time."
      ]
    },
    {
      "cell_type": "code",
      "metadata": {
        "id": "-DgVNPbgVz5P",
        "colab": {
          "base_uri": "https://localhost:8080/",
          "height": 564
        },
        "outputId": "978185e2-05a6-4b0e-f441-e89ddee1b092"
      },
      "source": [
        "from sklearn.model_selection import train_test_split\n",
        "wine = pd.read_excel('/content/drive/MyDrive/Colab Notebooks/wine_reviews_small.xlsx')\n",
        "wine.head() "
      ],
      "execution_count": null,
      "outputs": [
        {
          "output_type": "execute_result",
          "data": {
            "text/html": [
              "<div>\n",
              "<style scoped>\n",
              "    .dataframe tbody tr th:only-of-type {\n",
              "        vertical-align: middle;\n",
              "    }\n",
              "\n",
              "    .dataframe tbody tr th {\n",
              "        vertical-align: top;\n",
              "    }\n",
              "\n",
              "    .dataframe thead th {\n",
              "        text-align: right;\n",
              "    }\n",
              "</style>\n",
              "<table border=\"1\" class=\"dataframe\">\n",
              "  <thead>\n",
              "    <tr style=\"text-align: right;\">\n",
              "      <th></th>\n",
              "      <th>Unnamed: 0</th>\n",
              "      <th>Unnamed: 0.1</th>\n",
              "      <th>country</th>\n",
              "      <th>description</th>\n",
              "      <th>designation</th>\n",
              "      <th>points</th>\n",
              "      <th>price</th>\n",
              "      <th>province</th>\n",
              "      <th>region_1</th>\n",
              "      <th>region_2</th>\n",
              "      <th>variety</th>\n",
              "      <th>winery</th>\n",
              "      <th>description_cleaned</th>\n",
              "    </tr>\n",
              "  </thead>\n",
              "  <tbody>\n",
              "    <tr>\n",
              "      <th>0</th>\n",
              "      <td>0</td>\n",
              "      <td>0</td>\n",
              "      <td>US</td>\n",
              "      <td>This tremendous 100% varietal wine hails from ...</td>\n",
              "      <td>Martha's Vineyard</td>\n",
              "      <td>96</td>\n",
              "      <td>235.0</td>\n",
              "      <td>California</td>\n",
              "      <td>Napa Valley</td>\n",
              "      <td>Napa</td>\n",
              "      <td>Cabernet Sauvignon</td>\n",
              "      <td>Heitz</td>\n",
              "      <td>tremendous varietal wine hail be age year oak ...</td>\n",
              "    </tr>\n",
              "    <tr>\n",
              "      <th>1</th>\n",
              "      <td>1</td>\n",
              "      <td>1</td>\n",
              "      <td>Spain</td>\n",
              "      <td>Ripe aromas of fig, blackberry and cassis are ...</td>\n",
              "      <td>Carodorum Selección Especial Reserva</td>\n",
              "      <td>96</td>\n",
              "      <td>110.0</td>\n",
              "      <td>Northern Spain</td>\n",
              "      <td>Toro</td>\n",
              "      <td>NaN</td>\n",
              "      <td>Tinta de Toro</td>\n",
              "      <td>Bodega Carmen Rodríguez</td>\n",
              "      <td>ripe aroma fig blackberry cassis be soften swe...</td>\n",
              "    </tr>\n",
              "    <tr>\n",
              "      <th>2</th>\n",
              "      <td>2</td>\n",
              "      <td>2</td>\n",
              "      <td>US</td>\n",
              "      <td>Mac Watson honors the memory of a wine once ma...</td>\n",
              "      <td>Special Selected Late Harvest</td>\n",
              "      <td>96</td>\n",
              "      <td>90.0</td>\n",
              "      <td>California</td>\n",
              "      <td>Knights Valley</td>\n",
              "      <td>Sonoma</td>\n",
              "      <td>Sauvignon Blanc</td>\n",
              "      <td>Macauley</td>\n",
              "      <td>honor memory wine once make his mother tremend...</td>\n",
              "    </tr>\n",
              "    <tr>\n",
              "      <th>3</th>\n",
              "      <td>3</td>\n",
              "      <td>3</td>\n",
              "      <td>US</td>\n",
              "      <td>This spent 20 months in 30% new French oak, an...</td>\n",
              "      <td>Reserve</td>\n",
              "      <td>96</td>\n",
              "      <td>65.0</td>\n",
              "      <td>Oregon</td>\n",
              "      <td>Willamette Valley</td>\n",
              "      <td>Willamette Valley</td>\n",
              "      <td>Pinot Noir</td>\n",
              "      <td>Ponzi</td>\n",
              "      <td>spend month new french oak incorporate fruit v...</td>\n",
              "    </tr>\n",
              "    <tr>\n",
              "      <th>4</th>\n",
              "      <td>4</td>\n",
              "      <td>4</td>\n",
              "      <td>France</td>\n",
              "      <td>This is the top wine from La Bégude, named aft...</td>\n",
              "      <td>La Brûlade</td>\n",
              "      <td>95</td>\n",
              "      <td>66.0</td>\n",
              "      <td>Provence</td>\n",
              "      <td>Bandol</td>\n",
              "      <td>NaN</td>\n",
              "      <td>Provence red blend</td>\n",
              "      <td>Domaine de la Bégude</td>\n",
              "      <td>be top wine name high point vineyard foot have...</td>\n",
              "    </tr>\n",
              "  </tbody>\n",
              "</table>\n",
              "</div>"
            ],
            "text/plain": [
              "   Unnamed: 0  ...                                description_cleaned\n",
              "0           0  ...  tremendous varietal wine hail be age year oak ...\n",
              "1           1  ...  ripe aroma fig blackberry cassis be soften swe...\n",
              "2           2  ...  honor memory wine once make his mother tremend...\n",
              "3           3  ...  spend month new french oak incorporate fruit v...\n",
              "4           4  ...  be top wine name high point vineyard foot have...\n",
              "\n",
              "[5 rows x 13 columns]"
            ]
          },
          "metadata": {
            "tags": []
          },
          "execution_count": 61
        }
      ]
    },
    {
      "cell_type": "code",
      "metadata": {
        "colab": {
          "base_uri": "https://localhost:8080/",
          "height": 284
        },
        "id": "Yc9LTExxlnTi",
        "outputId": "f77be0f3-9689-4294-fcfb-317668fa20ae"
      },
      "source": [
        "prov_freq = wine['province'].value_counts() # Pandas.Serie of province names frequencies\n",
        "prov_name = [prov_freq.index[pos] for pos in range(0, len(prov_freq)) if prov_freq[pos] >= 10] # freq >= 10\n",
        "wine = wine[wine.province.isin(prov_name)] # filter rows\n",
        "wine.head(2)"
      ],
      "execution_count": null,
      "outputs": [
        {
          "output_type": "execute_result",
          "data": {
            "text/html": [
              "<div>\n",
              "<style scoped>\n",
              "    .dataframe tbody tr th:only-of-type {\n",
              "        vertical-align: middle;\n",
              "    }\n",
              "\n",
              "    .dataframe tbody tr th {\n",
              "        vertical-align: top;\n",
              "    }\n",
              "\n",
              "    .dataframe thead th {\n",
              "        text-align: right;\n",
              "    }\n",
              "</style>\n",
              "<table border=\"1\" class=\"dataframe\">\n",
              "  <thead>\n",
              "    <tr style=\"text-align: right;\">\n",
              "      <th></th>\n",
              "      <th>Unnamed: 0</th>\n",
              "      <th>Unnamed: 0.1</th>\n",
              "      <th>country</th>\n",
              "      <th>description</th>\n",
              "      <th>designation</th>\n",
              "      <th>points</th>\n",
              "      <th>price</th>\n",
              "      <th>province</th>\n",
              "      <th>region_1</th>\n",
              "      <th>region_2</th>\n",
              "      <th>variety</th>\n",
              "      <th>winery</th>\n",
              "      <th>description_cleaned</th>\n",
              "    </tr>\n",
              "  </thead>\n",
              "  <tbody>\n",
              "    <tr>\n",
              "      <th>0</th>\n",
              "      <td>0</td>\n",
              "      <td>0</td>\n",
              "      <td>US</td>\n",
              "      <td>This tremendous 100% varietal wine hails from ...</td>\n",
              "      <td>Martha's Vineyard</td>\n",
              "      <td>96</td>\n",
              "      <td>235.0</td>\n",
              "      <td>California</td>\n",
              "      <td>Napa Valley</td>\n",
              "      <td>Napa</td>\n",
              "      <td>Cabernet Sauvignon</td>\n",
              "      <td>Heitz</td>\n",
              "      <td>tremendous varietal wine hail be age year oak ...</td>\n",
              "    </tr>\n",
              "    <tr>\n",
              "      <th>1</th>\n",
              "      <td>1</td>\n",
              "      <td>1</td>\n",
              "      <td>Spain</td>\n",
              "      <td>Ripe aromas of fig, blackberry and cassis are ...</td>\n",
              "      <td>Carodorum Selección Especial Reserva</td>\n",
              "      <td>96</td>\n",
              "      <td>110.0</td>\n",
              "      <td>Northern Spain</td>\n",
              "      <td>Toro</td>\n",
              "      <td>NaN</td>\n",
              "      <td>Tinta de Toro</td>\n",
              "      <td>Bodega Carmen Rodríguez</td>\n",
              "      <td>ripe aroma fig blackberry cassis be soften swe...</td>\n",
              "    </tr>\n",
              "  </tbody>\n",
              "</table>\n",
              "</div>"
            ],
            "text/plain": [
              "   Unnamed: 0  ...                                description_cleaned\n",
              "0           0  ...  tremendous varietal wine hail be age year oak ...\n",
              "1           1  ...  ripe aroma fig blackberry cassis be soften swe...\n",
              "\n",
              "[2 rows x 13 columns]"
            ]
          },
          "metadata": {
            "tags": []
          },
          "execution_count": 62
        }
      ]
    },
    {
      "cell_type": "code",
      "metadata": {
        "id": "VnuWhN4-YE6J",
        "colab": {
          "base_uri": "https://localhost:8080/"
        },
        "outputId": "42beb4da-1a99-4130-cf64-70fd0d015ef2"
      },
      "source": [
        "wine.description_cleaned"
      ],
      "execution_count": null,
      "outputs": [
        {
          "output_type": "execute_result",
          "data": {
            "text/plain": [
              "0        tremendous varietal wine hail be age year oak ...\n",
              "1        ripe aroma fig blackberry cassis be soften swe...\n",
              "2        honor memory wine once make his mother tremend...\n",
              "3        spend month new french oak incorporate fruit v...\n",
              "4        be top wine name high point vineyard foot have...\n",
              "                               ...                        \n",
              "19995    dark spicy tone clove cure meat teriyaki sauce...\n",
              "19996    starts clean integration elegant aroma ripe ch...\n",
              "19997    precise penetrate mix black cherry fruit cut t...\n",
              "19998    fine expression be light style therefore more ...\n",
              "19999    wine hide its alcohol well layer plush cassis ...\n",
              "Name: description_cleaned, Length: 19470, dtype: object"
            ]
          },
          "metadata": {
            "tags": []
          },
          "execution_count": 63
        }
      ]
    },
    {
      "cell_type": "code",
      "metadata": {
        "id": "tZMcz31NPunT"
      },
      "source": [
        "wine_des_train, wine_des_test, wine_country_train, wine_country_test = train_test_split(wine.description_cleaned, wine.country, test_size = 0.3, random_state = 42)"
      ],
      "execution_count": null,
      "outputs": []
    },
    {
      "cell_type": "code",
      "metadata": {
        "colab": {
          "base_uri": "https://localhost:8080/"
        },
        "id": "g04uBB2xOKoA",
        "outputId": "b67bce88-e7bb-432c-aa7a-63fdf56ea6ef"
      },
      "source": [
        "type(wine_des_train)"
      ],
      "execution_count": null,
      "outputs": [
        {
          "output_type": "execute_result",
          "data": {
            "text/plain": [
              "pandas.core.series.Series"
            ]
          },
          "metadata": {
            "tags": []
          },
          "execution_count": 65
        }
      ]
    },
    {
      "cell_type": "code",
      "metadata": {
        "id": "4lAdP0BWVz5R"
      },
      "source": [
        "# your code here\n",
        "vectorizer_wine = TfidfVectorizer(ngram_range=(1,2), \n",
        "                             min_df=0.001, \n",
        "                             max_df=0.75, \n",
        "                             stop_words='english')\n",
        "\n",
        "labels2numbers_wine = LabelEncoder()\n",
        "\n",
        "X_wine = vectorizer_wine.fit_transform(wine_des_train.astype(str))\n",
        "y_wine = labels2numbers_wine.fit_transform(wine_country_train)"
      ],
      "execution_count": null,
      "outputs": []
    },
    {
      "cell_type": "code",
      "metadata": {
        "colab": {
          "base_uri": "https://localhost:8080/"
        },
        "id": "meK1jtqEkkME",
        "outputId": "f7c2a3f1-45f0-413b-ef66-e4654154aa51"
      },
      "source": [
        "vectorizer_wine.vocabulary_['aroma'] # a word from the description_cleaned column"
      ],
      "execution_count": null,
      "outputs": [
        {
          "output_type": "execute_result",
          "data": {
            "text/plain": [
              "178"
            ]
          },
          "metadata": {
            "tags": []
          },
          "execution_count": 67
        }
      ]
    },
    {
      "cell_type": "code",
      "metadata": {
        "colab": {
          "base_uri": "https://localhost:8080/",
          "height": 35
        },
        "id": "_V0N5yaIlGzq",
        "outputId": "a8c271a0-3ac3-4e00-90f6-896df1af815b"
      },
      "source": [
        "vectorizer_wine.get_feature_names()[197]"
      ],
      "execution_count": null,
      "outputs": [
        {
          "output_type": "execute_result",
          "data": {
            "application/vnd.google.colaboratory.intrinsic+json": {
              "type": "string"
            },
            "text/plain": [
              "'aroma fresh'"
            ]
          },
          "metadata": {
            "tags": []
          },
          "execution_count": 68
        }
      ]
    },
    {
      "cell_type": "code",
      "metadata": {
        "colab": {
          "base_uri": "https://localhost:8080/"
        },
        "id": "wjCytacbCg1w",
        "outputId": "9f492fc0-16ec-4c5a-d70d-be09997a919b"
      },
      "source": [
        "classifier_wine = LogisticRegression(n_jobs=-1, class_weight='balanced')\n",
        "classifier_wine.fit(X_wine, y_wine)"
      ],
      "execution_count": null,
      "outputs": [
        {
          "output_type": "execute_result",
          "data": {
            "text/plain": [
              "LogisticRegression(C=1.0, class_weight='balanced', dual=False,\n",
              "                   fit_intercept=True, intercept_scaling=1, l1_ratio=None,\n",
              "                   max_iter=100, multi_class='auto', n_jobs=-1, penalty='l2',\n",
              "                   random_state=None, solver='lbfgs', tol=0.0001, verbose=0,\n",
              "                   warm_start=False)"
            ]
          },
          "metadata": {
            "tags": []
          },
          "execution_count": 69
        }
      ]
    },
    {
      "cell_type": "code",
      "metadata": {
        "colab": {
          "base_uri": "https://localhost:8080/"
        },
        "id": "GNBF0KYtCw7b",
        "outputId": "3b248b1c-9fbf-421c-e9f5-c4ee816db9dc"
      },
      "source": [
        "for k in [2,3,5,10]:\n",
        "    cv = cross_val_score(LogisticRegression(), X_wine, y=y_wine, cv=k, n_jobs=-1, scoring=\"f1_micro\")\n",
        "    fold_size = X_wine.shape[0]/k\n",
        "    \n",
        "    print(\"F1 with {} folds for bag-of-words is {}\".format(k, cv.mean()))\n",
        "    print(\"Training on {} instances/fold, testing on {}\".format(fold_size*(k-1), fold_size))\n",
        "    print()\n",
        "\n",
        "    # we got a warning because some classes have just one instance and it can be just in \n",
        "    # train or just into the test set and this is something problematic. It depends on the \n",
        "    # k used for the cross validation.\n",
        "    # We could ignore these classes. \n",
        "\n",
        "    # solved, see the previous pre-processing phase on wine dataset."
      ],
      "execution_count": null,
      "outputs": [
        {
          "output_type": "stream",
          "text": [
            "F1 with 2 folds for bag-of-words is 0.7514123419027892\n",
            "Training on 6814.5 instances/fold, testing on 6814.5\n",
            "\n",
            "F1 with 3 folds for bag-of-words is 0.7629319832709663\n",
            "Training on 9086.0 instances/fold, testing on 4543.0\n",
            "\n",
            "F1 with 5 folds for bag-of-words is 0.7687282640155619\n",
            "Training on 10903.2 instances/fold, testing on 2725.8\n",
            "\n"
          ],
          "name": "stdout"
        },
        {
          "output_type": "stream",
          "text": [
            "/usr/local/lib/python3.7/dist-packages/sklearn/model_selection/_split.py:667: UserWarning: The least populated class in y has only 8 members, which is less than n_splits=10.\n",
            "  % (min_groups, self.n_splits)), UserWarning)\n"
          ],
          "name": "stderr"
        },
        {
          "output_type": "stream",
          "text": [
            "F1 with 10 folds for bag-of-words is 0.7744516555107018\n",
            "Training on 12266.1 instances/fold, testing on 1362.9\n",
            "\n"
          ],
          "name": "stdout"
        }
      ]
    },
    {
      "cell_type": "code",
      "metadata": {
        "colab": {
          "base_uri": "https://localhost:8080/"
        },
        "id": "oCdGqDAGCyB_",
        "outputId": "ea09a1e8-ada8-4ab8-f031-d84ab5ef5a52"
      },
      "source": [
        "most_frequent = DummyClassifier(strategy='most_frequent')\n",
        "print(cross_val_score(most_frequent, X_wine, y=y_wine, cv=10, n_jobs=-1, scoring=\"f1_micro\").mean())\n",
        "\n",
        "# The F1 scores are actually very good even if they seem lows, this because we are\n",
        "# working with 2000 classes so it is okay."
      ],
      "execution_count": null,
      "outputs": [
        {
          "output_type": "stream",
          "text": [
            "0.4240956988934532\n"
          ],
          "name": "stdout"
        },
        {
          "output_type": "stream",
          "text": [
            "/usr/local/lib/python3.7/dist-packages/sklearn/model_selection/_split.py:667: UserWarning: The least populated class in y has only 8 members, which is less than n_splits=10.\n",
            "  % (min_groups, self.n_splits)), UserWarning)\n"
          ],
          "name": "stderr"
        }
      ]
    },
    {
      "cell_type": "markdown",
      "metadata": {
        "id": "_zUQtfnJVz5T"
      },
      "source": [
        "# 6 Heldout data\n",
        "\n",
        "Classifying new (**held-out**) data is called **prediction**. We reuse the weights we have learned before on a new data matrix to predict the new outcomes.\n",
        "Important: the new data needs to have the same number of features!"
      ]
    },
    {
      "cell_type": "code",
      "metadata": {
        "id": "POHdSR7EVz5U",
        "colab": {
          "base_uri": "https://localhost:8080/",
          "height": 221
        },
        "outputId": "efc6c8d2-696f-4495-e140-18cce3cb8b70"
      },
      "source": [
        "# read in new data set\n",
        "new_data = pd.read_csv('/content/drive/MyDrive/Colab Notebooks/sa_test.csv')\n",
        "print(len(new_data))\n",
        "new_data.head()"
      ],
      "execution_count": null,
      "outputs": [
        {
          "output_type": "stream",
          "text": [
            "200\n"
          ],
          "name": "stdout"
        },
        {
          "output_type": "execute_result",
          "data": {
            "text/html": [
              "<div>\n",
              "<style scoped>\n",
              "    .dataframe tbody tr th:only-of-type {\n",
              "        vertical-align: middle;\n",
              "    }\n",
              "\n",
              "    .dataframe tbody tr th {\n",
              "        vertical-align: top;\n",
              "    }\n",
              "\n",
              "    .dataframe thead th {\n",
              "        text-align: right;\n",
              "    }\n",
              "</style>\n",
              "<table border=\"1\" class=\"dataframe\">\n",
              "  <thead>\n",
              "    <tr style=\"text-align: right;\">\n",
              "      <th></th>\n",
              "      <th>input</th>\n",
              "      <th>output</th>\n",
              "    </tr>\n",
              "  </thead>\n",
              "  <tbody>\n",
              "    <tr>\n",
              "      <th>0</th>\n",
              "      <td>robert redford ' s a river runs through it is ...</td>\n",
              "      <td>pos</td>\n",
              "    </tr>\n",
              "    <tr>\n",
              "      <th>1</th>\n",
              "      <td>if the 70 ' s nostalgia didn ' t make you feel...</td>\n",
              "      <td>neg</td>\n",
              "    </tr>\n",
              "    <tr>\n",
              "      <th>2</th>\n",
              "      <td>you think that these people only exist in the ...</td>\n",
              "      <td>neg</td>\n",
              "    </tr>\n",
              "    <tr>\n",
              "      <th>3</th>\n",
              "      <td>\" knock off \" is exactly that : a cheap knock ...</td>\n",
              "      <td>neg</td>\n",
              "    </tr>\n",
              "    <tr>\n",
              "      <th>4</th>\n",
              "      <td>brian depalma needs a hit * really * badly . s...</td>\n",
              "      <td>pos</td>\n",
              "    </tr>\n",
              "  </tbody>\n",
              "</table>\n",
              "</div>"
            ],
            "text/plain": [
              "                                               input output\n",
              "0  robert redford ' s a river runs through it is ...    pos\n",
              "1  if the 70 ' s nostalgia didn ' t make you feel...    neg\n",
              "2  you think that these people only exist in the ...    neg\n",
              "3  \" knock off \" is exactly that : a cheap knock ...    neg\n",
              "4  brian depalma needs a hit * really * badly . s...    pos"
            ]
          },
          "metadata": {
            "tags": []
          },
          "execution_count": 72
        }
      ]
    },
    {
      "cell_type": "markdown",
      "metadata": {
        "id": "wS5DsydTVz5W"
      },
      "source": [
        "Don't forget to clean it!"
      ]
    },
    {
      "cell_type": "code",
      "metadata": {
        "id": "6ZS4dScqVz5X",
        "colab": {
          "base_uri": "https://localhost:8080/"
        },
        "outputId": "b7e4ac6a-ae48-4df5-99c9-f47267d29cbf"
      },
      "source": [
        "%time new_data['clean_text'] = new_data.input.apply(clean_text)"
      ],
      "execution_count": null,
      "outputs": [
        {
          "output_type": "stream",
          "text": [
            "CPU times: user 18.2 s, sys: 298 ms, total: 18.5 s\n",
            "Wall time: 18.5 s\n"
          ],
          "name": "stdout"
        }
      ]
    },
    {
      "cell_type": "markdown",
      "metadata": {
        "id": "VHJtIjPFVz5b"
      },
      "source": [
        "Let's see how well we do on this data:"
      ]
    },
    {
      "cell_type": "code",
      "metadata": {
        "id": "lzNk3BuBVz5c",
        "colab": {
          "base_uri": "https://localhost:8080/"
        },
        "outputId": "352cd13e-7469-427e-c102-1bb84f0d2813"
      },
      "source": [
        "# transform text into word counts\n",
        "# IMPORTANT: use same vectorizer we fit on training data to create vectors!\n",
        "new_X = vectorizer.transform(new_data['clean_text'])\n",
        "\n",
        "# translate labels\n",
        "new_y = labels2numbers.transform(new_data['output'])\n",
        "\n",
        "\n",
        "# use the old classifier to predict and evaluate\n",
        "new_predictions = classifier.predict(new_X)\n",
        "print(new_predictions)"
      ],
      "execution_count": null,
      "outputs": [
        {
          "output_type": "stream",
          "text": [
            "[1 0 0 0 1 0 0 0 0 0 1 1 1 0 1 1 1 1 0 1 0 1 1 1 0 0 0 0 1 0 1 0 0 0 0 0 1\n",
            " 0 0 0 0 0 0 0 1 1 0 0 0 0 1 1 0 1 0 0 1 1 0 0 0 1 0 0 1 1 0 0 0 1 0 1 0 1\n",
            " 1 0 1 0 0 1 1 1 1 1 1 1 0 0 0 0 0 1 1 1 1 0 0 1 0 1 1 1 0 0 0 0 1 0 0 0 0\n",
            " 0 0 1 1 0 1 1 0 1 0 0 1 0 1 0 0 1 1 0 1 0 0 1 1 1 1 1 0 0 0 0 0 0 1 1 0 0\n",
            " 1 1 1 0 1 1 0 1 0 1 1 0 0 1 1 0 0 1 0 0 0 0 0 0 1 1 1 0 0 0 0 1 0 1 1 0 0\n",
            " 0 0 0 1 1 1 1 0 1 0 1 0 0 0 1]\n"
          ],
          "name": "stdout"
        }
      ]
    },
    {
      "cell_type": "code",
      "metadata": {
        "colab": {
          "base_uri": "https://localhost:8080/"
        },
        "id": "UKUpd9qY3IWD",
        "outputId": "aefca972-7e36-4a29-e4b9-55619e16db7b"
      },
      "source": [
        "new_X.shape"
      ],
      "execution_count": null,
      "outputs": [
        {
          "output_type": "execute_result",
          "data": {
            "text/plain": [
              "(200, 66808)"
            ]
          },
          "metadata": {
            "tags": []
          },
          "execution_count": 75
        }
      ]
    },
    {
      "cell_type": "code",
      "metadata": {
        "id": "rC1QJpKqVz5d",
        "colab": {
          "base_uri": "https://localhost:8080/"
        },
        "outputId": "a9197d55-57e4-4115-b99a-4dc679008902"
      },
      "source": [
        "print(classification_report(new_y, new_predictions))"
      ],
      "execution_count": null,
      "outputs": [
        {
          "output_type": "stream",
          "text": [
            "              precision    recall  f1-score   support\n",
            "\n",
            "           0       0.83      0.84      0.83       111\n",
            "           1       0.80      0.79      0.79        89\n",
            "\n",
            "    accuracy                           0.81       200\n",
            "   macro avg       0.81      0.81      0.81       200\n",
            "weighted avg       0.81      0.81      0.81       200\n",
            "\n"
          ],
          "name": "stdout"
        }
      ]
    },
    {
      "cell_type": "markdown",
      "metadata": {
        "id": "hGz7iIHoVz5f"
      },
      "source": [
        "Instead, we can also predict the probabilities of belonging to each class"
      ]
    },
    {
      "cell_type": "code",
      "metadata": {
        "id": "JcDpM1w5Vz5f",
        "colab": {
          "base_uri": "https://localhost:8080/"
        },
        "outputId": "67d6f566-9332-4b07-be06-95c98f6da551"
      },
      "source": [
        "new_probabilities = classifier.predict_proba(new_X)\n",
        "print(new_probabilities)\n",
        "\n",
        "# predict_proba is usefull to check which instances are more\n",
        "# balance, it is also a way to check the confidence that we have\n",
        "# on predicting a class"
      ],
      "execution_count": null,
      "outputs": [
        {
          "output_type": "stream",
          "text": [
            "[[0.30745711 0.69254289]\n",
            " [0.55629129 0.44370871]\n",
            " [0.5346982  0.4653018 ]\n",
            " [0.74681023 0.25318977]\n",
            " [0.36336666 0.63663334]\n",
            " [0.63447098 0.36552902]\n",
            " [0.52763496 0.47236504]\n",
            " [0.53041422 0.46958578]\n",
            " [0.62989898 0.37010102]\n",
            " [0.52398668 0.47601332]\n",
            " [0.39571583 0.60428417]\n",
            " [0.27701891 0.72298109]\n",
            " [0.36529535 0.63470465]\n",
            " [0.6180369  0.3819631 ]\n",
            " [0.37767803 0.62232197]\n",
            " [0.34803811 0.65196189]\n",
            " [0.30380553 0.69619447]\n",
            " [0.3705448  0.6294552 ]\n",
            " [0.50506119 0.49493881]\n",
            " [0.46744111 0.53255889]\n",
            " [0.71648016 0.28351984]\n",
            " [0.48074602 0.51925398]\n",
            " [0.34768242 0.65231758]\n",
            " [0.40778423 0.59221577]\n",
            " [0.51954813 0.48045187]\n",
            " [0.58126258 0.41873742]\n",
            " [0.69281727 0.30718273]\n",
            " [0.67484025 0.32515975]\n",
            " [0.46197409 0.53802591]\n",
            " [0.5516414  0.4483586 ]\n",
            " [0.29534742 0.70465258]\n",
            " [0.64829551 0.35170449]\n",
            " [0.71811139 0.28188861]\n",
            " [0.81374881 0.18625119]\n",
            " [0.66188463 0.33811537]\n",
            " [0.73474834 0.26525166]\n",
            " [0.30462163 0.69537837]\n",
            " [0.58988807 0.41011193]\n",
            " [0.59001609 0.40998391]\n",
            " [0.64077973 0.35922027]\n",
            " [0.67182359 0.32817641]\n",
            " [0.67460547 0.32539453]\n",
            " [0.73137522 0.26862478]\n",
            " [0.73638276 0.26361724]\n",
            " [0.38788685 0.61211315]\n",
            " [0.42429875 0.57570125]\n",
            " [0.70334106 0.29665894]\n",
            " [0.59688467 0.40311533]\n",
            " [0.66079787 0.33920213]\n",
            " [0.69147161 0.30852839]\n",
            " [0.36483898 0.63516102]\n",
            " [0.25696651 0.74303349]\n",
            " [0.63129232 0.36870768]\n",
            " [0.38832969 0.61167031]\n",
            " [0.51863917 0.48136083]\n",
            " [0.64399717 0.35600283]\n",
            " [0.49134407 0.50865593]\n",
            " [0.2893031  0.7106969 ]\n",
            " [0.61911911 0.38088089]\n",
            " [0.54946439 0.45053561]\n",
            " [0.71439695 0.28560305]\n",
            " [0.32096212 0.67903788]\n",
            " [0.59239414 0.40760586]\n",
            " [0.61342379 0.38657621]\n",
            " [0.37931455 0.62068545]\n",
            " [0.43214396 0.56785604]\n",
            " [0.54737737 0.45262263]\n",
            " [0.52649472 0.47350528]\n",
            " [0.59334677 0.40665323]\n",
            " [0.34985223 0.65014777]\n",
            " [0.50028786 0.49971214]\n",
            " [0.49062582 0.50937418]\n",
            " [0.66777229 0.33222771]\n",
            " [0.27403087 0.72596913]\n",
            " [0.46899063 0.53100937]\n",
            " [0.53833011 0.46166989]\n",
            " [0.49774504 0.50225496]\n",
            " [0.60129157 0.39870843]\n",
            " [0.61402559 0.38597441]\n",
            " [0.44803662 0.55196338]\n",
            " [0.37180692 0.62819308]\n",
            " [0.25657754 0.74342246]\n",
            " [0.40491646 0.59508354]\n",
            " [0.26517246 0.73482754]\n",
            " [0.44212763 0.55787237]\n",
            " [0.3725833  0.6274167 ]\n",
            " [0.64182984 0.35817016]\n",
            " [0.80632551 0.19367449]\n",
            " [0.51455199 0.48544801]\n",
            " [0.58042128 0.41957872]\n",
            " [0.57465969 0.42534031]\n",
            " [0.4958256  0.5041744 ]\n",
            " [0.48248777 0.51751223]\n",
            " [0.37235917 0.62764083]\n",
            " [0.29766449 0.70233551]\n",
            " [0.54467837 0.45532163]\n",
            " [0.65529801 0.34470199]\n",
            " [0.33047553 0.66952447]\n",
            " [0.60049558 0.39950442]\n",
            " [0.40650665 0.59349335]\n",
            " [0.38224084 0.61775916]\n",
            " [0.26606111 0.73393889]\n",
            " [0.55881275 0.44118725]\n",
            " [0.57504669 0.42495331]\n",
            " [0.53709358 0.46290642]\n",
            " [0.55515451 0.44484549]\n",
            " [0.31590584 0.68409416]\n",
            " [0.55881735 0.44118265]\n",
            " [0.52980026 0.47019974]\n",
            " [0.66756612 0.33243388]\n",
            " [0.56341302 0.43658698]\n",
            " [0.82208003 0.17791997]\n",
            " [0.52885354 0.47114646]\n",
            " [0.39835937 0.60164063]\n",
            " [0.38356057 0.61643943]\n",
            " [0.6651991  0.3348009 ]\n",
            " [0.49198794 0.50801206]\n",
            " [0.44690735 0.55309265]\n",
            " [0.54348459 0.45651541]\n",
            " [0.43468199 0.56531801]\n",
            " [0.6048523  0.3951477 ]\n",
            " [0.62209282 0.37790718]\n",
            " [0.33223595 0.66776405]\n",
            " [0.5022371  0.4977629 ]\n",
            " [0.38865194 0.61134806]\n",
            " [0.58249405 0.41750595]\n",
            " [0.53585587 0.46414413]\n",
            " [0.37018286 0.62981714]\n",
            " [0.47516366 0.52483634]\n",
            " [0.67247594 0.32752406]\n",
            " [0.46743095 0.53256905]\n",
            " [0.83379617 0.16620383]\n",
            " [0.79549812 0.20450188]\n",
            " [0.24402533 0.75597467]\n",
            " [0.34168976 0.65831024]\n",
            " [0.28680251 0.71319749]\n",
            " [0.43766946 0.56233054]\n",
            " [0.4311006  0.5688994 ]\n",
            " [0.58495817 0.41504183]\n",
            " [0.55233648 0.44766352]\n",
            " [0.65441504 0.34558496]\n",
            " [0.63449288 0.36550712]\n",
            " [0.66110843 0.33889157]\n",
            " [0.54204271 0.45795729]\n",
            " [0.47811378 0.52188622]\n",
            " [0.2290934  0.7709066 ]\n",
            " [0.56317447 0.43682553]\n",
            " [0.66850296 0.33149704]\n",
            " [0.38425935 0.61574065]\n",
            " [0.43506152 0.56493848]\n",
            " [0.38085177 0.61914823]\n",
            " [0.50475642 0.49524358]\n",
            " [0.37782611 0.62217389]\n",
            " [0.41914351 0.58085649]\n",
            " [0.66971212 0.33028788]\n",
            " [0.25785411 0.74214589]\n",
            " [0.6315107  0.3684893 ]\n",
            " [0.45123209 0.54876791]\n",
            " [0.35668661 0.64331339]\n",
            " [0.62740761 0.37259239]\n",
            " [0.53911846 0.46088154]\n",
            " [0.37266271 0.62733729]\n",
            " [0.27386495 0.72613505]\n",
            " [0.51260269 0.48739731]\n",
            " [0.67826453 0.32173547]\n",
            " [0.44976033 0.55023967]\n",
            " [0.59952272 0.40047728]\n",
            " [0.75514273 0.24485727]\n",
            " [0.60752964 0.39247036]\n",
            " [0.51004392 0.48995608]\n",
            " [0.56792876 0.43207124]\n",
            " [0.51691449 0.48308551]\n",
            " [0.32476754 0.67523246]\n",
            " [0.37411754 0.62588246]\n",
            " [0.38791725 0.61208275]\n",
            " [0.69338943 0.30661057]\n",
            " [0.50491139 0.49508861]\n",
            " [0.51187363 0.48812637]\n",
            " [0.56510008 0.43489992]\n",
            " [0.43349989 0.56650011]\n",
            " [0.57932393 0.42067607]\n",
            " [0.44974573 0.55025427]\n",
            " [0.38019652 0.61980348]\n",
            " [0.59755208 0.40244792]\n",
            " [0.70731    0.29269   ]\n",
            " [0.59452469 0.40547531]\n",
            " [0.55926301 0.44073699]\n",
            " [0.67339484 0.32660516]\n",
            " [0.21299064 0.78700936]\n",
            " [0.48091057 0.51908943]\n",
            " [0.3337796  0.6662204 ]\n",
            " [0.49756018 0.50243982]\n",
            " [0.70863283 0.29136717]\n",
            " [0.35900545 0.64099455]\n",
            " [0.58233257 0.41766743]\n",
            " [0.46589422 0.53410578]\n",
            " [0.56695753 0.43304247]\n",
            " [0.52825457 0.47174543]\n",
            " [0.52801314 0.47198686]\n",
            " [0.39226834 0.60773166]]\n"
          ],
          "name": "stdout"
        }
      ]
    },
    {
      "cell_type": "markdown",
      "metadata": {
        "id": "d0LWcxbwVz5h"
      },
      "source": [
        "For each instance (=row), we get a probability distribution over the classes (=columns)"
      ]
    },
    {
      "cell_type": "markdown",
      "metadata": {
        "id": "R8QbDmCAVz5h"
      },
      "source": [
        "## 6.1 Regularization\n",
        "\n",
        "Typically, performance is lower on unseen data, because our model **overfit** the training data: it expects the new data to look *exactly* the same as the training data. That is almost never true.\n",
        "\n",
        "In order to prevent the model from overfitting, we need to **regularize** it. Essentially, we make it harder to learn the training data.\n",
        "\n",
        "A simple example of regularization is to \"corrupt\" the training data by adding a little bit of noise to each training instance. Since the noise is irregular, it becomes harder for the model to learn any patterns."
      ]
    },
    {
      "cell_type": "code",
      "metadata": {
        "id": "oO3wiiYMVz5h",
        "colab": {
          "base_uri": "https://localhost:8080/"
        },
        "outputId": "41ac9b4e-ebbb-4900-d402-d2964098bcd0"
      },
      "source": [
        "from scipy.sparse import random\n",
        "\n",
        "num_instances, num_features = X.shape\n",
        "\n",
        "for i in range(5):\n",
        "    X_regularized = X + random(num_instances, num_features, density=0.01)\n",
        "    # since it is random we cannot trust this, what is usually done is to use\n",
        "    # a regolarization parameter, it is the c value in the model\n",
        "\n",
        "    print(cross_val_score(LogisticRegression(), X_regularized, y=y, cv=k, n_jobs=-1, scoring=\"f1_micro\").mean())"
      ],
      "execution_count": null,
      "outputs": [
        {
          "output_type": "stream",
          "text": [
            "0.5233333333333333\n",
            "0.5172222222222222\n",
            "0.505\n",
            "0.5333333333333332\n",
            "0.5166666666666666\n"
          ],
          "name": "stdout"
        }
      ]
    },
    {
      "cell_type": "markdown",
      "metadata": {
        "id": "ERmjYFKYVz5k"
      },
      "source": [
        "If you run the previous cell several times, you see different results (it gets even more varied if you change `density`). This variation arises because we add **random** noise. Not good...\n",
        "\n",
        "Instead, it makes sense to force the model to spread the weights more evenly over all features, rather than bet on a few feature, which might not be present in future data.\n",
        "\n",
        "We can do this by training the model with the `C` parameter. The default is `1`. Lower values mean stricter regularization."
      ]
    },
    {
      "cell_type": "code",
      "metadata": {
        "id": "l5AUv2tvVz5k",
        "colab": {
          "base_uri": "https://localhost:8080/"
        },
        "outputId": "ff93d776-2791-4f32-da40-3d4de1fc946c"
      },
      "source": [
        "from sklearn.metrics import f1_score\n",
        "\n",
        "best_c = None\n",
        "best_f1_score = 0.0\n",
        "\n",
        "for c in [50, 20, 10, 1.0, 0.5, 0.1, 0.05, 0.01]:\n",
        "    clf = LogisticRegression(C=c, n_jobs=-1) # here, c is the regularization param\n",
        "    cv_reg = cross_val_score(clf, X, y=y, cv=5, n_jobs=-1, scoring=\"f1_micro\").mean()\n",
        "\n",
        "    print(\"5-CV on train at C={}: {}\".format(c, cv_reg.mean()))\n",
        "    print()\n",
        "\n",
        "    if cv_reg > best_f1_score:\n",
        "        best_f1_score = cv_reg\n",
        "        best_c = c\n",
        "        \n",
        "print(\"best C parameter: {}\".format(best_c))"
      ],
      "execution_count": null,
      "outputs": [
        {
          "output_type": "stream",
          "text": [
            "5-CV on train at C=50: 0.8477777777777777\n",
            "\n",
            "5-CV on train at C=20: 0.8488888888888889\n",
            "\n",
            "5-CV on train at C=10: 0.8488888888888889\n",
            "\n",
            "5-CV on train at C=1.0: 0.828888888888889\n",
            "\n",
            "5-CV on train at C=0.5: 0.8183333333333334\n",
            "\n",
            "5-CV on train at C=0.1: 0.788888888888889\n",
            "\n",
            "5-CV on train at C=0.05: 0.7311111111111112\n",
            "\n",
            "5-CV on train at C=0.01: 0.5077777777777778\n",
            "\n",
            "best C parameter: 20\n"
          ],
          "name": "stdout"
        }
      ]
    },
    {
      "cell_type": "code",
      "metadata": {
        "id": "XA-Q-ENAVz5m",
        "colab": {
          "base_uri": "https://localhost:8080/"
        },
        "outputId": "08852b2f-83e7-4141-dd1a-ebca448c26ab"
      },
      "source": [
        "reg_clf = LogisticRegression(C=best_c, n_jobs=-1)\n",
        "reg_clf.fit(X, y)\n",
        "reg_preds = reg_clf.predict(new_X)\n",
        "\n",
        "print(classification_report(new_y, reg_preds))"
      ],
      "execution_count": null,
      "outputs": [
        {
          "output_type": "stream",
          "text": [
            "              precision    recall  f1-score   support\n",
            "\n",
            "           0       0.86      0.85      0.85       111\n",
            "           1       0.81      0.83      0.82        89\n",
            "\n",
            "    accuracy                           0.84       200\n",
            "   macro avg       0.84      0.84      0.84       200\n",
            "weighted avg       0.84      0.84      0.84       200\n",
            "\n"
          ],
          "name": "stdout"
        }
      ]
    },
    {
      "cell_type": "markdown",
      "metadata": {
        "id": "Peq6pHWdVz5n"
      },
      "source": [
        "# Better features = better performance\n"
      ]
    },
    {
      "cell_type": "markdown",
      "metadata": {
        "id": "LTdrezvHVz5o"
      },
      "source": [
        "We now have **a lot** of features! More than we have actual examples...\n",
        "\n",
        "Not all of them will be helpful, though. Let's select the top 1500 based on how well they predict they outcome of the training data.\n",
        "\n",
        "We use two libraries from `sklearn`, `SelectKBest` (the selection algorithm) and `chi2` (the selection criterion)."
      ]
    },
    {
      "cell_type": "code",
      "metadata": {
        "id": "KJr7vjX-Vz5o",
        "colab": {
          "base_uri": "https://localhost:8080/"
        },
        "outputId": "87b9db5c-5f8d-4184-a3e2-04e5cd86aaa8"
      },
      "source": [
        "from sklearn.feature_selection import SelectKBest\n",
        "from sklearn.feature_selection import chi2\n",
        "\n",
        "# we take the features more related with the output class\n",
        "selector = SelectKBest(chi2, k=1500).fit(X, y) \n",
        "X_sel = selector.transform(X)\n",
        "print(X_sel.shape)"
      ],
      "execution_count": null,
      "outputs": [
        {
          "output_type": "stream",
          "text": [
            "(1800, 1500)\n"
          ],
          "name": "stdout"
        }
      ]
    },
    {
      "cell_type": "code",
      "metadata": {
        "id": "DY1SU0fLtN1N",
        "colab": {
          "base_uri": "https://localhost:8080/"
        },
        "outputId": "4ee23a3f-0ba8-422a-b5cc-b8b9d3b3f838"
      },
      "source": [
        "X.shape"
      ],
      "execution_count": null,
      "outputs": [
        {
          "output_type": "execute_result",
          "data": {
            "text/plain": [
              "(1800, 66808)"
            ]
          },
          "metadata": {
            "tags": []
          },
          "execution_count": 82
        }
      ]
    },
    {
      "cell_type": "markdown",
      "metadata": {
        "id": "sqHZ06Y0Vz5r"
      },
      "source": [
        "Let's see how well this new representation performs, by looking at the 5-fold cross-validation. We keep the best regularization value from before."
      ]
    },
    {
      "cell_type": "code",
      "metadata": {
        "id": "oDJfQT_dVz5r",
        "colab": {
          "base_uri": "https://localhost:8080/"
        },
        "outputId": "4bb93d88-5f65-48a7-b5e8-06d0b4f3b446"
      },
      "source": [
        "clf = LogisticRegression(C=best_c, n_jobs=-1)\n",
        "\n",
        "cv_reg = cross_val_score(clf, X_sel, y=y, cv=5, n_jobs=-1, scoring=\"f1_micro\")\n",
        "print(\"5-CV on train: {}\".format(cv_reg.mean()))"
      ],
      "execution_count": null,
      "outputs": [
        {
          "output_type": "stream",
          "text": [
            "5-CV on train: 0.8955555555555555\n"
          ],
          "name": "stdout"
        }
      ]
    },
    {
      "cell_type": "markdown",
      "metadata": {
        "id": "O8EzUM5GVz5t"
      },
      "source": [
        "Not too bad! We have handily beaten our previous best! Let's fit a classifier on the whole data now."
      ]
    },
    {
      "cell_type": "code",
      "metadata": {
        "id": "U-3iON0qVz5t",
        "colab": {
          "base_uri": "https://localhost:8080/"
        },
        "outputId": "46b07cb2-506e-4540-b489-5f52c143571b"
      },
      "source": [
        "clf.fit(X_sel, y)"
      ],
      "execution_count": null,
      "outputs": [
        {
          "output_type": "execute_result",
          "data": {
            "text/plain": [
              "LogisticRegression(C=20, class_weight=None, dual=False, fit_intercept=True,\n",
              "                   intercept_scaling=1, l1_ratio=None, max_iter=100,\n",
              "                   multi_class='auto', n_jobs=-1, penalty='l2',\n",
              "                   random_state=None, solver='lbfgs', tol=0.0001, verbose=0,\n",
              "                   warm_start=False)"
            ]
          },
          "metadata": {
            "tags": []
          },
          "execution_count": 84
        }
      ]
    },
    {
      "cell_type": "markdown",
      "metadata": {
        "id": "XhE20-xpVz5v"
      },
      "source": [
        "Now, let's apply it to the held-out data set. \n",
        "We need to \n",
        "* vectorize the data with our vectorizer from before (otherwise, we get different features)\n",
        "* select the top features (using our previously fitted selector)"
      ]
    },
    {
      "cell_type": "code",
      "metadata": {
        "id": "dSdElClcVz5v",
        "colab": {
          "base_uri": "https://localhost:8080/"
        },
        "outputId": "bd36bb49-438a-41d7-c474-f908b47ae8d5"
      },
      "source": [
        "# select features for new data\n",
        "new_X_sel = selector.transform(new_X)\n",
        "print(new_X_sel.shape)"
      ],
      "execution_count": null,
      "outputs": [
        {
          "output_type": "stream",
          "text": [
            "(200, 1500)\n"
          ],
          "name": "stdout"
        }
      ]
    },
    {
      "cell_type": "markdown",
      "metadata": {
        "id": "V1LNg6z_Vz5x"
      },
      "source": [
        "Finally, we can use our new classifier to predict the new data labels, and compare them to the truth."
      ]
    },
    {
      "cell_type": "code",
      "metadata": {
        "id": "1LzRhzu6Vz5x",
        "colab": {
          "base_uri": "https://localhost:8080/",
          "height": 419
        },
        "outputId": "c31ef60a-0a98-4e14-b458-b309b2451112"
      },
      "source": [
        "new_predictions_regularized = clf.predict(new_X_sel)\n",
        "prediction_df = pd.DataFrame(data={'input': new_data['input'], 'prediction': labels2numbers.inverse_transform(new_predictions_regularized), 'truth':new_data['output']})\n",
        "prediction_df"
      ],
      "execution_count": null,
      "outputs": [
        {
          "output_type": "execute_result",
          "data": {
            "text/html": [
              "<div>\n",
              "<style scoped>\n",
              "    .dataframe tbody tr th:only-of-type {\n",
              "        vertical-align: middle;\n",
              "    }\n",
              "\n",
              "    .dataframe tbody tr th {\n",
              "        vertical-align: top;\n",
              "    }\n",
              "\n",
              "    .dataframe thead th {\n",
              "        text-align: right;\n",
              "    }\n",
              "</style>\n",
              "<table border=\"1\" class=\"dataframe\">\n",
              "  <thead>\n",
              "    <tr style=\"text-align: right;\">\n",
              "      <th></th>\n",
              "      <th>input</th>\n",
              "      <th>prediction</th>\n",
              "      <th>truth</th>\n",
              "    </tr>\n",
              "  </thead>\n",
              "  <tbody>\n",
              "    <tr>\n",
              "      <th>0</th>\n",
              "      <td>robert redford ' s a river runs through it is ...</td>\n",
              "      <td>pos</td>\n",
              "      <td>pos</td>\n",
              "    </tr>\n",
              "    <tr>\n",
              "      <th>1</th>\n",
              "      <td>if the 70 ' s nostalgia didn ' t make you feel...</td>\n",
              "      <td>neg</td>\n",
              "      <td>neg</td>\n",
              "    </tr>\n",
              "    <tr>\n",
              "      <th>2</th>\n",
              "      <td>you think that these people only exist in the ...</td>\n",
              "      <td>neg</td>\n",
              "      <td>neg</td>\n",
              "    </tr>\n",
              "    <tr>\n",
              "      <th>3</th>\n",
              "      <td>\" knock off \" is exactly that : a cheap knock ...</td>\n",
              "      <td>neg</td>\n",
              "      <td>neg</td>\n",
              "    </tr>\n",
              "    <tr>\n",
              "      <th>4</th>\n",
              "      <td>brian depalma needs a hit * really * badly . s...</td>\n",
              "      <td>pos</td>\n",
              "      <td>pos</td>\n",
              "    </tr>\n",
              "    <tr>\n",
              "      <th>...</th>\n",
              "      <td>...</td>\n",
              "      <td>...</td>\n",
              "      <td>...</td>\n",
              "    </tr>\n",
              "    <tr>\n",
              "      <th>195</th>\n",
              "      <td>i won \u0012 t even pretend that i have seen the ot...</td>\n",
              "      <td>pos</td>\n",
              "      <td>neg</td>\n",
              "    </tr>\n",
              "    <tr>\n",
              "      <th>196</th>\n",
              "      <td>the cartoon is way better . that ' s the botto...</td>\n",
              "      <td>neg</td>\n",
              "      <td>neg</td>\n",
              "    </tr>\n",
              "    <tr>\n",
              "      <th>197</th>\n",
              "      <td>dr . alan grant ( sam neill , \" jurassic park ...</td>\n",
              "      <td>neg</td>\n",
              "      <td>neg</td>\n",
              "    </tr>\n",
              "    <tr>\n",
              "      <th>198</th>\n",
              "      <td>of course i knew this going in . why is it tha...</td>\n",
              "      <td>neg</td>\n",
              "      <td>neg</td>\n",
              "    </tr>\n",
              "    <tr>\n",
              "      <th>199</th>\n",
              "      <td>rated : r for strong language , sexual dialogu...</td>\n",
              "      <td>pos</td>\n",
              "      <td>pos</td>\n",
              "    </tr>\n",
              "  </tbody>\n",
              "</table>\n",
              "<p>200 rows × 3 columns</p>\n",
              "</div>"
            ],
            "text/plain": [
              "                                                 input prediction truth\n",
              "0    robert redford ' s a river runs through it is ...        pos   pos\n",
              "1    if the 70 ' s nostalgia didn ' t make you feel...        neg   neg\n",
              "2    you think that these people only exist in the ...        neg   neg\n",
              "3    \" knock off \" is exactly that : a cheap knock ...        neg   neg\n",
              "4    brian depalma needs a hit * really * badly . s...        pos   pos\n",
              "..                                                 ...        ...   ...\n",
              "195  i won \u0012 t even pretend that i have seen the ot...        pos   neg\n",
              "196  the cartoon is way better . that ' s the botto...        neg   neg\n",
              "197  dr . alan grant ( sam neill , \" jurassic park ...        neg   neg\n",
              "198  of course i knew this going in . why is it tha...        neg   neg\n",
              "199  rated : r for strong language , sexual dialogu...        pos   pos\n",
              "\n",
              "[200 rows x 3 columns]"
            ]
          },
          "metadata": {
            "tags": []
          },
          "execution_count": 86
        }
      ]
    },
    {
      "cell_type": "code",
      "metadata": {
        "id": "anoPusQCVz5z",
        "colab": {
          "base_uri": "https://localhost:8080/"
        },
        "outputId": "6c8b76cf-4e04-4592-ab51-5c66b1bd25dc"
      },
      "source": [
        "print(classification_report(new_y, new_predictions_regularized))"
      ],
      "execution_count": null,
      "outputs": [
        {
          "output_type": "stream",
          "text": [
            "              precision    recall  f1-score   support\n",
            "\n",
            "           0       0.83      0.80      0.82       111\n",
            "           1       0.76      0.80      0.78        89\n",
            "\n",
            "    accuracy                           0.80       200\n",
            "   macro avg       0.80      0.80      0.80       200\n",
            "weighted avg       0.80      0.80      0.80       200\n",
            "\n"
          ],
          "name": "stdout"
        }
      ]
    },
    {
      "cell_type": "markdown",
      "metadata": {
        "id": "rA4gUHxOVz50"
      },
      "source": [
        "## Getting insights\n",
        "\n",
        "In order to explore which features are most indicative, we need some code"
      ]
    },
    {
      "cell_type": "code",
      "metadata": {
        "id": "dwMhr1qBVz51",
        "colab": {
          "base_uri": "https://localhost:8080/",
          "height": 419
        },
        "outputId": "352e17ab-f838-4d1b-edd1-fa972f5fb5df"
      },
      "source": [
        "features = vectorizer.get_feature_names() # get the names of the features\n",
        "top_scores = selector.scores_.argsort()[-1500:] # get the indices of the selection\n",
        "best_indicator_terms = [features[i] for i in sorted(top_scores)] # sort feature names\n",
        "\n",
        "top_indicator_scores = pd.DataFrame(data={'feature': best_indicator_terms, 'coefficient': clf.coef_[0]})\n",
        "top_indicator_scores.sort_values('coefficient')"
      ],
      "execution_count": null,
      "outputs": [
        {
          "output_type": "execute_result",
          "data": {
            "text/html": [
              "<div>\n",
              "<style scoped>\n",
              "    .dataframe tbody tr th:only-of-type {\n",
              "        vertical-align: middle;\n",
              "    }\n",
              "\n",
              "    .dataframe tbody tr th {\n",
              "        vertical-align: top;\n",
              "    }\n",
              "\n",
              "    .dataframe thead th {\n",
              "        text-align: right;\n",
              "    }\n",
              "</style>\n",
              "<table border=\"1\" class=\"dataframe\">\n",
              "  <thead>\n",
              "    <tr style=\"text-align: right;\">\n",
              "      <th></th>\n",
              "      <th>feature</th>\n",
              "      <th>coefficient</th>\n",
              "    </tr>\n",
              "  </thead>\n",
              "  <tbody>\n",
              "    <tr>\n",
              "      <th>84</th>\n",
              "      <td>bad</td>\n",
              "      <td>-12.780473</td>\n",
              "    </tr>\n",
              "    <tr>\n",
              "      <th>1449</th>\n",
              "      <td>waste</td>\n",
              "      <td>-8.680148</td>\n",
              "    </tr>\n",
              "    <tr>\n",
              "      <th>73</th>\n",
              "      <td>attempt</td>\n",
              "      <td>-8.436183</td>\n",
              "    </tr>\n",
              "    <tr>\n",
              "      <th>1307</th>\n",
              "      <td>suppose</td>\n",
              "      <td>-8.139754</td>\n",
              "    </tr>\n",
              "    <tr>\n",
              "      <th>154</th>\n",
              "      <td>boring</td>\n",
              "      <td>-7.687207</td>\n",
              "    </tr>\n",
              "    <tr>\n",
              "      <th>...</th>\n",
              "      <td>...</td>\n",
              "      <td>...</td>\n",
              "    </tr>\n",
              "    <tr>\n",
              "      <th>1004</th>\n",
              "      <td>perfectly</td>\n",
              "      <td>6.340445</td>\n",
              "    </tr>\n",
              "    <tr>\n",
              "      <th>311</th>\n",
              "      <td>definitely</td>\n",
              "      <td>6.399306</td>\n",
              "    </tr>\n",
              "    <tr>\n",
              "      <th>1005</th>\n",
              "      <td>performance</td>\n",
              "      <td>6.453414</td>\n",
              "    </tr>\n",
              "    <tr>\n",
              "      <th>579</th>\n",
              "      <td>hilarious</td>\n",
              "      <td>6.495110</td>\n",
              "    </tr>\n",
              "    <tr>\n",
              "      <th>530</th>\n",
              "      <td>great</td>\n",
              "      <td>9.701571</td>\n",
              "    </tr>\n",
              "  </tbody>\n",
              "</table>\n",
              "<p>1500 rows × 2 columns</p>\n",
              "</div>"
            ],
            "text/plain": [
              "          feature  coefficient\n",
              "84            bad   -12.780473\n",
              "1449        waste    -8.680148\n",
              "73        attempt    -8.436183\n",
              "1307      suppose    -8.139754\n",
              "154        boring    -7.687207\n",
              "...           ...          ...\n",
              "1004    perfectly     6.340445\n",
              "311    definitely     6.399306\n",
              "1005  performance     6.453414\n",
              "579     hilarious     6.495110\n",
              "530         great     9.701571\n",
              "\n",
              "[1500 rows x 2 columns]"
            ]
          },
          "metadata": {
            "tags": []
          },
          "execution_count": 88
        }
      ]
    },
    {
      "cell_type": "markdown",
      "metadata": {
        "id": "K2v3A2Uhf9Qd"
      },
      "source": [
        "# Exercise\n",
        "\n",
        "Try to test the model trained on the sentiment analysis dataset on the wine reviews."
      ]
    },
    {
      "cell_type": "code",
      "metadata": {
        "id": "_uMLQ_sIsak-"
      },
      "source": [
        "X_rev = vectorizer_wine.transform(wine_des_test.astype(str))"
      ],
      "execution_count": null,
      "outputs": []
    },
    {
      "cell_type": "code",
      "metadata": {
        "id": "_SUPn3sGyO9B"
      },
      "source": [
        "y_rev = labels2numbers_wine.transform(wine_country_test)"
      ],
      "execution_count": null,
      "outputs": []
    },
    {
      "cell_type": "code",
      "metadata": {
        "id": "Bb41MZpSKqmr"
      },
      "source": [
        "y_pred = classifier_wine.predict(X_rev)"
      ],
      "execution_count": null,
      "outputs": []
    },
    {
      "cell_type": "code",
      "metadata": {
        "colab": {
          "base_uri": "https://localhost:8080/"
        },
        "id": "MoG2kEudKoJ5",
        "outputId": "0c61f90f-6f18-4728-92f3-bcb928360f2c"
      },
      "source": [
        "print(classification_report(y_rev, y_pred))"
      ],
      "execution_count": null,
      "outputs": [
        {
          "output_type": "stream",
          "text": [
            "              precision    recall  f1-score   support\n",
            "\n",
            "           0       0.39      0.45      0.42       193\n",
            "           1       0.38      0.69      0.49       115\n",
            "           2       0.40      0.72      0.51       158\n",
            "           3       1.00      0.14      0.25         7\n",
            "           4       0.05      0.10      0.07        10\n",
            "           5       0.34      0.42      0.38       127\n",
            "           6       0.81      0.54      0.65       963\n",
            "           7       0.49      0.84      0.62       174\n",
            "           8       0.58      0.61      0.60        23\n",
            "           9       1.00      0.33      0.50         3\n",
            "          10       0.29      0.57      0.38         7\n",
            "          11       0.91      0.91      0.91       937\n",
            "          12       0.62      0.56      0.59         9\n",
            "          13       0.24      0.37      0.29        46\n",
            "          14       0.33      0.65      0.44       181\n",
            "          15       0.25      0.33      0.29         3\n",
            "          16       0.49      0.71      0.58        48\n",
            "          17       0.61      0.61      0.61       333\n",
            "          18       0.00      0.00      0.00         4\n",
            "          19       0.94      0.83      0.88      2500\n",
            "\n",
            "    accuracy                           0.74      5841\n",
            "   macro avg       0.51      0.52      0.47      5841\n",
            "weighted avg       0.79      0.74      0.75      5841\n",
            "\n"
          ],
          "name": "stdout"
        }
      ]
    },
    {
      "cell_type": "markdown",
      "metadata": {
        "id": "gPeg8-ac0A0d"
      },
      "source": [
        "# Italian classifier\n",
        "\n",
        "In our lab, we developed a Italian emotion and sentiment classifier available at https://github.com/MilaNLProc/feel-it"
      ]
    },
    {
      "cell_type": "code",
      "metadata": {
        "id": "2hyLrnCM0EDt",
        "colab": {
          "base_uri": "https://localhost:8080/"
        },
        "outputId": "f3c25f4c-f5a8-48cd-c273-9d4f3f8e52d8"
      },
      "source": [
        "! pip install -U feel-it"
      ],
      "execution_count": null,
      "outputs": [
        {
          "output_type": "stream",
          "text": [
            "Collecting feel-it\n",
            "  Downloading https://files.pythonhosted.org/packages/a0/12/88b3941faf5124899f1c139a3d83210c76b4db802b144451062d0a0aac5c/feel_it-1.0.3-py2.py3-none-any.whl\n",
            "Collecting transformers==4.3.3\n",
            "\u001b[?25l  Downloading https://files.pythonhosted.org/packages/f9/54/5ca07ec9569d2f232f3166de5457b63943882f7950ddfcc887732fc7fb23/transformers-4.3.3-py3-none-any.whl (1.9MB)\n",
            "\u001b[K     |████████████████████████████████| 1.9MB 4.4MB/s \n",
            "\u001b[?25hRequirement already satisfied, skipping upgrade: numpy in /usr/local/lib/python3.7/dist-packages (from feel-it) (1.19.5)\n",
            "Requirement already satisfied, skipping upgrade: torch>=1.6.0 in /usr/local/lib/python3.7/dist-packages (from feel-it) (1.8.1+cu101)\n",
            "Collecting tokenizers<0.11,>=0.10.1\n",
            "\u001b[?25l  Downloading https://files.pythonhosted.org/packages/ae/04/5b870f26a858552025a62f1649c20d29d2672c02ff3c3fb4c688ca46467a/tokenizers-0.10.2-cp37-cp37m-manylinux2010_x86_64.whl (3.3MB)\n",
            "\u001b[K     |████████████████████████████████| 3.3MB 20.7MB/s \n",
            "\u001b[?25hRequirement already satisfied, skipping upgrade: packaging in /usr/local/lib/python3.7/dist-packages (from transformers==4.3.3->feel-it) (20.9)\n",
            "Requirement already satisfied, skipping upgrade: regex!=2019.12.17 in /usr/local/lib/python3.7/dist-packages (from transformers==4.3.3->feel-it) (2019.12.20)\n",
            "Requirement already satisfied, skipping upgrade: requests in /usr/local/lib/python3.7/dist-packages (from transformers==4.3.3->feel-it) (2.23.0)\n",
            "Requirement already satisfied, skipping upgrade: importlib-metadata; python_version < \"3.8\" in /usr/local/lib/python3.7/dist-packages (from transformers==4.3.3->feel-it) (3.10.1)\n",
            "Collecting sacremoses\n",
            "\u001b[?25l  Downloading https://files.pythonhosted.org/packages/75/ee/67241dc87f266093c533a2d4d3d69438e57d7a90abb216fa076e7d475d4a/sacremoses-0.0.45-py3-none-any.whl (895kB)\n",
            "\u001b[K     |████████████████████████████████| 901kB 30.4MB/s \n",
            "\u001b[?25hRequirement already satisfied, skipping upgrade: filelock in /usr/local/lib/python3.7/dist-packages (from transformers==4.3.3->feel-it) (3.0.12)\n",
            "Requirement already satisfied, skipping upgrade: tqdm>=4.27 in /usr/local/lib/python3.7/dist-packages (from transformers==4.3.3->feel-it) (4.41.1)\n",
            "Requirement already satisfied, skipping upgrade: typing-extensions in /usr/local/lib/python3.7/dist-packages (from torch>=1.6.0->feel-it) (3.7.4.3)\n",
            "Requirement already satisfied, skipping upgrade: pyparsing>=2.0.2 in /usr/local/lib/python3.7/dist-packages (from packaging->transformers==4.3.3->feel-it) (2.4.7)\n",
            "Requirement already satisfied, skipping upgrade: idna<3,>=2.5 in /usr/local/lib/python3.7/dist-packages (from requests->transformers==4.3.3->feel-it) (2.10)\n",
            "Requirement already satisfied, skipping upgrade: chardet<4,>=3.0.2 in /usr/local/lib/python3.7/dist-packages (from requests->transformers==4.3.3->feel-it) (3.0.4)\n",
            "Requirement already satisfied, skipping upgrade: urllib3!=1.25.0,!=1.25.1,<1.26,>=1.21.1 in /usr/local/lib/python3.7/dist-packages (from requests->transformers==4.3.3->feel-it) (1.24.3)\n",
            "Requirement already satisfied, skipping upgrade: certifi>=2017.4.17 in /usr/local/lib/python3.7/dist-packages (from requests->transformers==4.3.3->feel-it) (2020.12.5)\n",
            "Requirement already satisfied, skipping upgrade: zipp>=0.5 in /usr/local/lib/python3.7/dist-packages (from importlib-metadata; python_version < \"3.8\"->transformers==4.3.3->feel-it) (3.4.1)\n",
            "Requirement already satisfied, skipping upgrade: six in /usr/local/lib/python3.7/dist-packages (from sacremoses->transformers==4.3.3->feel-it) (1.15.0)\n",
            "Requirement already satisfied, skipping upgrade: joblib in /usr/local/lib/python3.7/dist-packages (from sacremoses->transformers==4.3.3->feel-it) (1.0.1)\n",
            "Requirement already satisfied, skipping upgrade: click in /usr/local/lib/python3.7/dist-packages (from sacremoses->transformers==4.3.3->feel-it) (7.1.2)\n",
            "Installing collected packages: tokenizers, sacremoses, transformers, feel-it\n",
            "Successfully installed feel-it-1.0.3 sacremoses-0.0.45 tokenizers-0.10.2 transformers-4.3.3\n"
          ],
          "name": "stdout"
        }
      ]
    },
    {
      "cell_type": "code",
      "metadata": {
        "id": "aj8KXUhJ0AYR",
        "colab": {
          "base_uri": "https://localhost:8080/",
          "height": 328,
          "referenced_widgets": [
            "d3826d60a1d946629ce9242c9d39bdf1",
            "593317494d06433492c459d20d1b08c7",
            "0a68330978a6430b9ff3dad37d0da638",
            "312f5d0ed6464a468494b3695ca2a37b",
            "63383bbca67a4246aa233094f9349a7a",
            "e0602fe32abc4fc2a96ea3979c82aa87",
            "da5fdd4483db42cd814de1925565c03b",
            "ca97d2a6b91f4d349932f3bf82f17eda",
            "a6a7a6ab66c9477898fca5529282d52f",
            "6b4c1bb36a35447ab6e657a544cada43",
            "9349c19e1e1f48b6a2a591429889b3a3",
            "11a003a9f9c3448d9b13a1e40f53f8e7",
            "23de8fd83bb9494a88996afa0eca1d93",
            "10705cc40a284a51a9984e9ad689dde9",
            "106b238da5794a989432dc1b27bfe05d",
            "cabc3367a6614063af6453f311c6d066",
            "9693f1b7033b40a191227f8049d8c5e6",
            "99bfb6e1c1d04eabb4bf409b5c46b61e",
            "4f0d8c986c064de8985ab7b60969ce52",
            "c8acafcad62244ee8165943677f5e16f",
            "d591d52c3ea64963956f5a60103cad6a",
            "55195f834c45419e9b0adbb2783b7316",
            "6e414467ebb241919296679f523a9889",
            "21dc80ddcf45494d83b5afa550700349",
            "b1575082783e40e9a2ef152c031cc82f",
            "82af1de2e4e24fdfb63c5c05a98ffe7a",
            "85dad9daecd948f994323b3d1f5b43b4",
            "6f59b276641b4a9fa85cdc820db04a64",
            "52e2b7bfec544e8a85b1196b17641606",
            "c3781623959f41b9a4c78dbbc77f092e",
            "9209f096af0d46a9b51e25f64ac6f125",
            "9cd345d6672143fbb26d495e553dc15b",
            "fc9b235e38a945e5ab643aa279bd20b2",
            "55095f2afc08402280409f2545d44348",
            "fa8702b25dcc4842bee07cab412a3b48",
            "d50b9d061f8b4ec79f93dc034ea39c8c",
            "4a60074440b64d62a08f6c4b88cf6750",
            "6b0e82b4896b45f8a58ad49a85a67ea3",
            "93d7b24259874eb0a937c6621f8c7afc",
            "1a0f27e15ddb413ebee1ebb293baf221",
            "e4c63df591124e32bf97bc7027a8dcdf",
            "ee4cb7cc892c4a5687c0058736df061c",
            "8c6c9f888d9a4b7388c947cd38c70850",
            "ff19d0203c8945fbaebda6fd14f41332",
            "3e454703490244bbb13b2c21ea1caa9f",
            "280b81cf2bfd4e73a87cf3841b2db6d6",
            "84a768afc230441984345dd6e6a0a65e",
            "67bf0406eb164abd8a66b0a56deb9ca4"
          ]
        },
        "outputId": "b758a463-1270-46b5-8385-876883c04875"
      },
      "source": [
        "from feel_it import EmotionClassifier, SentimentClassifier\n",
        "\n",
        "emotion_classifier = EmotionClassifier()\n",
        "\n",
        "emotion_classifier.predict([\"sono molto felice\", \"ma che cazzo vuoi\", \"sono molto triste\"])\n",
        "\n"
      ],
      "execution_count": null,
      "outputs": [
        {
          "output_type": "display_data",
          "data": {
            "application/vnd.jupyter.widget-view+json": {
              "model_id": "d3826d60a1d946629ce9242c9d39bdf1",
              "version_minor": 0,
              "version_major": 2
            },
            "text/plain": [
              "HBox(children=(FloatProgress(value=0.0, description='Downloading', max=899.0, style=ProgressStyle(description_…"
            ]
          },
          "metadata": {
            "tags": []
          }
        },
        {
          "output_type": "stream",
          "text": [
            "\n"
          ],
          "name": "stdout"
        },
        {
          "output_type": "display_data",
          "data": {
            "application/vnd.jupyter.widget-view+json": {
              "model_id": "a6a7a6ab66c9477898fca5529282d52f",
              "version_minor": 0,
              "version_major": 2
            },
            "text/plain": [
              "HBox(children=(FloatProgress(value=0.0, description='Downloading', max=793981.0, style=ProgressStyle(descripti…"
            ]
          },
          "metadata": {
            "tags": []
          }
        },
        {
          "output_type": "stream",
          "text": [
            "\n"
          ],
          "name": "stdout"
        },
        {
          "output_type": "display_data",
          "data": {
            "application/vnd.jupyter.widget-view+json": {
              "model_id": "9693f1b7033b40a191227f8049d8c5e6",
              "version_minor": 0,
              "version_major": 2
            },
            "text/plain": [
              "HBox(children=(FloatProgress(value=0.0, description='Downloading', max=1682192.0, style=ProgressStyle(descript…"
            ]
          },
          "metadata": {
            "tags": []
          }
        },
        {
          "output_type": "stream",
          "text": [
            "\n"
          ],
          "name": "stdout"
        },
        {
          "output_type": "display_data",
          "data": {
            "application/vnd.jupyter.widget-view+json": {
              "model_id": "b1575082783e40e9a2ef152c031cc82f",
              "version_minor": 0,
              "version_major": 2
            },
            "text/plain": [
              "HBox(children=(FloatProgress(value=0.0, description='Downloading', max=299.0, style=ProgressStyle(description_…"
            ]
          },
          "metadata": {
            "tags": []
          }
        },
        {
          "output_type": "stream",
          "text": [
            "\n"
          ],
          "name": "stdout"
        },
        {
          "output_type": "display_data",
          "data": {
            "application/vnd.jupyter.widget-view+json": {
              "model_id": "fc9b235e38a945e5ab643aa279bd20b2",
              "version_minor": 0,
              "version_major": 2
            },
            "text/plain": [
              "HBox(children=(FloatProgress(value=0.0, description='Downloading', max=414.0, style=ProgressStyle(description_…"
            ]
          },
          "metadata": {
            "tags": []
          }
        },
        {
          "output_type": "stream",
          "text": [
            "\n"
          ],
          "name": "stdout"
        },
        {
          "output_type": "display_data",
          "data": {
            "application/vnd.jupyter.widget-view+json": {
              "model_id": "e4c63df591124e32bf97bc7027a8dcdf",
              "version_minor": 0,
              "version_major": 2
            },
            "text/plain": [
              "HBox(children=(FloatProgress(value=0.0, description='Downloading', max=442587849.0, style=ProgressStyle(descri…"
            ]
          },
          "metadata": {
            "tags": []
          }
        },
        {
          "output_type": "stream",
          "text": [
            "\n"
          ],
          "name": "stdout"
        },
        {
          "output_type": "execute_result",
          "data": {
            "text/plain": [
              "['joy', 'anger', 'sadness']"
            ]
          },
          "metadata": {
            "tags": []
          },
          "execution_count": 95
        }
      ]
    },
    {
      "cell_type": "code",
      "metadata": {
        "id": "E4IuNfSJ0K4m",
        "colab": {
          "base_uri": "https://localhost:8080/",
          "height": 328,
          "referenced_widgets": [
            "ca688f15404f44b3bf9ef0d6831361c9",
            "339e490ed4b242bfbe03f304f57dda39",
            "117f31a166664a48af538509bbee77cb",
            "3cfb9ccf354b4f20ba414e774eeddd85",
            "bf6b883d101d4cc6868cf332b173c921",
            "ba0b1fbb71c3431695c7dc02156e8ff4",
            "d120d2f809b34858ac4d1fef564f65bb",
            "d89a2f5992b2493d82057607bfbb7e43",
            "00ea49eed8064b0394bc574580fc3003",
            "4c4295f3f8284aae8200285656c59b7a",
            "aeaf233e14fe45bf90ea34cfe058d262",
            "6fddce46aa094558bcdc8f94bab0d742",
            "626e75af2bb14d259ba1345a1ff2b40a",
            "8e080144e56b485b97f490995200bedd",
            "e07b254f4bfe4bdf9799671775511231",
            "eb7ca0e77a004db6b83f5aad2519e911",
            "b955877781424d5eb43b1cc9fc0f93be",
            "d68f50f274274807b9d6cc28f784a2c3",
            "3d7a5a603da94da894cee75242005fdb",
            "20bf6c2efab649b39dd7ea56a9b4ed93",
            "2df55e34c4474a6c9e231cbf0226a8c0",
            "0a8456f5d8a44cefbdee58ccbc9d5524",
            "6759da63756a4314b59a693aa6f6edb4",
            "5c0baef44ea246d8a95892f745c69f24",
            "d1611128a2214049b84c708f338d59bd",
            "a1dce4333285462aa55d20b6ce45c51f",
            "694b9984c663437589ad74a831597409",
            "86c2dc6036284256bb931b31123c52a0",
            "5ca5de960c3e46548b83d212da348ac4",
            "1c9c4db707484f088fbe93217ab1ee13",
            "f1f7e6bfb8444cb88117ead1a3a782f5",
            "5db8eae084b846ffaa7c747e8c62a95a",
            "468198ca1586489a8d9af38ba81457c1",
            "93ce553de5e340ceaf78f3f872b9e2ea",
            "2707a614ed104697ad9be32371cb9796",
            "1cad0629fff345768118c215cd157ead",
            "9dfb2cc2ab364ece935c2ea2e3d8abab",
            "b5dd54234674443483c1b534b8484c1a",
            "827b0017df2b4dcb9fa564c7ca138f74",
            "d73ec494bb5a406d8eb38d91c4b61da6",
            "365a3e1673ee4356af73291ac3f10f53",
            "dcd5fd824c6d4116a8cb5f02cccca73c",
            "dc516bf2d04f476d94c30ad2464027ee",
            "2527de7233774a40a7c1780ee4dd45af",
            "5ec6497155434219899227fc9a3241ad",
            "e1da2e55c8a04ad5ab2c2d927a9b17f0",
            "66c68d5967424ce3b2388a387369f7f7",
            "62015321728847ffbeba6598cbbbd049"
          ]
        },
        "outputId": "d58933d1-eee6-4079-aaa9-3a16f5326ada"
      },
      "source": [
        "sentiment_classifier = SentimentClassifier()\n",
        "\n",
        "sentiment_classifier.predict([\"sono molto felice\", \"ma che cazzo vuoi\", \"sono molto triste\"])"
      ],
      "execution_count": null,
      "outputs": [
        {
          "output_type": "display_data",
          "data": {
            "application/vnd.jupyter.widget-view+json": {
              "model_id": "ca688f15404f44b3bf9ef0d6831361c9",
              "version_minor": 0,
              "version_major": 2
            },
            "text/plain": [
              "HBox(children=(FloatProgress(value=0.0, description='Downloading', max=847.0, style=ProgressStyle(description_…"
            ]
          },
          "metadata": {
            "tags": []
          }
        },
        {
          "output_type": "stream",
          "text": [
            "\n"
          ],
          "name": "stdout"
        },
        {
          "output_type": "display_data",
          "data": {
            "application/vnd.jupyter.widget-view+json": {
              "model_id": "00ea49eed8064b0394bc574580fc3003",
              "version_minor": 0,
              "version_major": 2
            },
            "text/plain": [
              "HBox(children=(FloatProgress(value=0.0, description='Downloading', max=793981.0, style=ProgressStyle(descripti…"
            ]
          },
          "metadata": {
            "tags": []
          }
        },
        {
          "output_type": "stream",
          "text": [
            "\n"
          ],
          "name": "stdout"
        },
        {
          "output_type": "display_data",
          "data": {
            "application/vnd.jupyter.widget-view+json": {
              "model_id": "b955877781424d5eb43b1cc9fc0f93be",
              "version_minor": 0,
              "version_major": 2
            },
            "text/plain": [
              "HBox(children=(FloatProgress(value=0.0, description='Downloading', max=1682192.0, style=ProgressStyle(descript…"
            ]
          },
          "metadata": {
            "tags": []
          }
        },
        {
          "output_type": "stream",
          "text": [
            "\n"
          ],
          "name": "stdout"
        },
        {
          "output_type": "display_data",
          "data": {
            "application/vnd.jupyter.widget-view+json": {
              "model_id": "d1611128a2214049b84c708f338d59bd",
              "version_minor": 0,
              "version_major": 2
            },
            "text/plain": [
              "HBox(children=(FloatProgress(value=0.0, description='Downloading', max=299.0, style=ProgressStyle(description_…"
            ]
          },
          "metadata": {
            "tags": []
          }
        },
        {
          "output_type": "stream",
          "text": [
            "\n"
          ],
          "name": "stdout"
        },
        {
          "output_type": "display_data",
          "data": {
            "application/vnd.jupyter.widget-view+json": {
              "model_id": "468198ca1586489a8d9af38ba81457c1",
              "version_minor": 0,
              "version_major": 2
            },
            "text/plain": [
              "HBox(children=(FloatProgress(value=0.0, description='Downloading', max=414.0, style=ProgressStyle(description_…"
            ]
          },
          "metadata": {
            "tags": []
          }
        },
        {
          "output_type": "stream",
          "text": [
            "\n"
          ],
          "name": "stdout"
        },
        {
          "output_type": "display_data",
          "data": {
            "application/vnd.jupyter.widget-view+json": {
              "model_id": "365a3e1673ee4356af73291ac3f10f53",
              "version_minor": 0,
              "version_major": 2
            },
            "text/plain": [
              "HBox(children=(FloatProgress(value=0.0, description='Downloading', max=442581705.0, style=ProgressStyle(descri…"
            ]
          },
          "metadata": {
            "tags": []
          }
        },
        {
          "output_type": "stream",
          "text": [
            "\n"
          ],
          "name": "stdout"
        },
        {
          "output_type": "execute_result",
          "data": {
            "text/plain": [
              "['positive', 'negative', 'negative']"
            ]
          },
          "metadata": {
            "tags": []
          },
          "execution_count": 96
        }
      ]
    },
    {
      "cell_type": "markdown",
      "metadata": {
        "id": "o7WMd3Q00zpc"
      },
      "source": [
        "# Exercise\n",
        "\n",
        "Download a set of tweets with a specific hashtag in Italian and try to run the Emotion and Sentiment Classifier."
      ]
    },
    {
      "cell_type": "markdown",
      "metadata": {
        "id": "QgHKC7rTVz54"
      },
      "source": [
        "# Checklist: how to classify my data\n",
        "\n",
        "1. label at ***least 2000*** tweets in your data set as `positive`, `negative`, or `neutral`\n",
        "2. preprocess the text of *all* tweets in your data (labeled and unlabeled)\n",
        "3. read in the labeled tweets and their labels\n",
        "4. transform the labels into numbers\n",
        "5. use `TfidfVectorizer` to extract the features and transform them into feature vectors\n",
        "6. select the top $N$ features (where $N$ is smaller than the number of labeled tweets)\n",
        "7. create a classifier\n",
        "8. use 5-fold CV to find the best regularization parameter, top $N$ feature selection, and maybe feature generation and preprocessing steps\n",
        "\n",
        "Once you are satisfied with the results:\n",
        "9. read in the rest of the (unlabeled) tweets\n",
        "10. use the `TfidfVectorizer` from 5. to transform the new data into vectors\n",
        "11. use the `SelectKBest` selector from 6. to get the top $N$ features\n",
        "12. use the classifier from 7. to predict the labels for the new data\n",
        "13. save the predicted labels or probabilities to your database or an Excel file\n"
      ]
    },
    {
      "cell_type": "code",
      "metadata": {
        "id": "htZQllPWVz54"
      },
      "source": [
        ""
      ],
      "execution_count": null,
      "outputs": []
    }
  ]
}