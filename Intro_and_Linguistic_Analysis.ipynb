{
  "nbformat": 4,
  "nbformat_minor": 0,
  "metadata": {
    "anaconda-cloud": {},
    "celltoolbar": "Slideshow",
    "kernelspec": {
      "display_name": "Python 3",
      "language": "python",
      "name": "python3"
    },
    "language_info": {
      "codemirror_mode": {
        "name": "ipython",
        "version": 3
      },
      "file_extension": ".py",
      "mimetype": "text/x-python",
      "name": "python",
      "nbconvert_exporter": "python",
      "pygments_lexer": "ipython3",
      "version": "3.6.8"
    },
    "livereveal": {
      "scroll": true,
      "start_slideshow_at": "selected",
      "transition": "none"
    },
    "colab": {
      "name": "Intro and Linguistic Analysis.ipynb",
      "provenance": [],
      "collapsed_sections": [
        "NpNiMDeieBGj",
        "BLHFHdHZeBGs"
      ],
      "toc_visible": true
    }
  },
  "cells": [
    {
      "cell_type": "markdown",
      "metadata": {
        "id": "wKmBOpzzSvK3"
      },
      "source": [
        "## IPython Notebook\n",
        "\n",
        "The **IPython Notebook**, or Jupyter Notebook, is an interactive computational environment, in which you can combine code execution, rich text, mathematics, plots and rich media. For more details on the Jupyter Notebook, please see the Jupyter website.\n",
        "\n",
        "### Install\n",
        "\n",
        "```\n",
        "pip install jupyter\n",
        "```\n",
        "\n",
        "### Running Jupyter\n",
        "\n",
        "You can start the dashboard on any system via the command prompt by entering the command \n",
        "```\n",
        "jupyter notebook\n",
        "```\n",
        "The URL for the dashboard will be something like http://localhost:8888/tree. \n"
      ]
    },
    {
      "cell_type": "markdown",
      "metadata": {
        "id": "rGBn2V06SvK5"
      },
      "source": [
        "### Cells\n",
        "\n",
        "Cells form the body of a notebook. There are two main cell types:\n",
        "\n",
        "- A **code cell** contains code to be executed in the kernel and displays its output below.\n",
        "- A **Markdown cell** contains text formatted using Markdown and displays its output in-place when it is run.\n"
      ]
    },
    {
      "cell_type": "markdown",
      "metadata": {
        "id": "bsFBXT5Ke2ha"
      },
      "source": [
        " # Useful links\n",
        " [Welcome to Colab](https://colab.research.google.com/notebooks/intro.ipynb#scrollTo=-Rh3-Vt9Nev9)\n",
        "\n",
        "  [Overview of Colab](https://colab.research.google.com/notebooks/basic_features_overview.ipynb#scrollTo=JVXnTqyE9RET)\n",
        "  \n",
        "\n"
      ]
    },
    {
      "cell_type": "markdown",
      "metadata": {
        "id": "jQKpxjD3eBF8"
      },
      "source": [
        "# Linguistic Analysis\n",
        "\n",
        "Let's look at the different levels of linguistic analysis. First, we need some text. Let's take *Moby Dick* from Project Gutenberg, as a list of strings:"
      ]
    },
    {
      "cell_type": "code",
      "metadata": {
        "id": "aCfpZgAMgIGp",
        "colab": {
          "base_uri": "https://localhost:8080/"
        },
        "outputId": "09028ebd-a05a-453d-dfe7-f29b5983aabf"
      },
      "source": [
        "! pip install wget"
      ],
      "execution_count": null,
      "outputs": [
        {
          "output_type": "stream",
          "text": [
            "Collecting wget\n",
            "  Downloading https://files.pythonhosted.org/packages/47/6a/62e288da7bcda82b935ff0c6cfe542970f04e29c756b0e147251b2fb251f/wget-3.2.zip\n",
            "Building wheels for collected packages: wget\n",
            "  Building wheel for wget (setup.py) ... \u001b[?25l\u001b[?25hdone\n",
            "  Created wheel for wget: filename=wget-3.2-cp37-none-any.whl size=9681 sha256=6687a2816281ea3e9603f0ca3f27ecd21d0f4c5202a06e10b5f411b79fd77fcd\n",
            "  Stored in directory: /root/.cache/pip/wheels/40/15/30/7d8f7cea2902b4db79e3fea550d7d7b85ecb27ef992b618f3f\n",
            "Successfully built wget\n",
            "Installing collected packages: wget\n",
            "Successfully installed wget-3.2\n"
          ],
          "name": "stdout"
        }
      ]
    },
    {
      "cell_type": "code",
      "metadata": {
        "id": "61_fJ21lf1FQ",
        "collapsed": true,
        "colab": {
          "base_uri": "https://localhost:8080/",
          "height": 35
        },
        "outputId": "f8f91a51-b8ab-46c6-b2a4-abc68e60c5f6"
      },
      "source": [
        "import wget\n",
        "url = 'https://raw.githubusercontent.com/dirkhovy/NLPclass/master/data/moby_dick.txt'\n",
        "wget.download(url, 'moby_dick.txt')"
      ],
      "execution_count": null,
      "outputs": [
        {
          "output_type": "execute_result",
          "data": {
            "application/vnd.google.colaboratory.intrinsic+json": {
              "type": "string"
            },
            "text/plain": [
              "'moby_dick.txt'"
            ]
          },
          "metadata": {
            "tags": []
          },
          "execution_count": 3
        }
      ]
    },
    {
      "cell_type": "code",
      "metadata": {
        "id": "T4mlehUPeBF-",
        "colab": {
          "base_uri": "https://localhost:8080/"
        },
        "outputId": "71e43550-352f-49c0-933e-9a5801540c34"
      },
      "source": [
        "documents = [line.strip() for line in open('moby_dick.txt', encoding='utf8').readlines()]\n",
        "print(documents[1])"
      ],
      "execution_count": null,
      "outputs": [
        {
          "output_type": "stream",
          "text": [
            "Call me Ishmael .\n"
          ],
          "name": "stdout"
        }
      ]
    },
    {
      "cell_type": "markdown",
      "metadata": {
        "id": "BW6u4sO9eBGF"
      },
      "source": [
        "We will use the `spacy` library for a lot of the analyses. Here, we load it:"
      ]
    },
    {
      "cell_type": "code",
      "metadata": {
        "id": "CQyBMsGWeBGG"
      },
      "source": [
        "import spacy\n",
        "\n",
        "nlp = spacy.load('en')"
      ],
      "execution_count": null,
      "outputs": []
    },
    {
      "cell_type": "markdown",
      "metadata": {
        "id": "omU9ZzP9jaX0"
      },
      "source": [
        "`spacy` is one of the main library for NLP.  and It has a very good documentation."
      ]
    },
    {
      "cell_type": "markdown",
      "metadata": {
        "id": "KIYft8PVeBGM"
      },
      "source": [
        "### Usage:\n",
        "\n",
        "We can now call `nlp()` as a function on any text. By default, it will perform a number of analyses:\n",
        "- tokenization\n",
        "- sentence splitting\n",
        "- lemmatization\n",
        "- part of speech tagging\n",
        "- dependency parsing\n",
        "- named entity recognition\n",
        "\n",
        "To speed up analysis, we can disable some of these analyses if we do not need it:\n",
        "```\n",
        "nlp = spacy.load('en', disable=['tokenizer', 'tagger', 'parser', 'ner'])\n",
        "```\n"
      ]
    },
    {
      "cell_type": "markdown",
      "metadata": {
        "id": "ncF13lt4eBGM"
      },
      "source": [
        "The result is an iterator over the sentences (if called on a text), or tokens (if called on a sentence). Each token has a range of properties see [here](https://spacy.io/api/token#attributes). We will use a few of them in the following:\n",
        "\n",
        "- `text`: the actual word\n",
        "- `lemma_`: the dictionary entry of a word\n",
        "- `pos_`: the part of speech\n",
        "- `dep`: dependency relation\n",
        "- `is_punct`: check whether word is punctuation\n",
        "- `is_stop`: check whether word is a stop word"
      ]
    },
    {
      "cell_type": "markdown",
      "metadata": {
        "id": "zLY7v4IweBGN"
      },
      "source": [
        "## Tokenization\n",
        "Before we do anything, we need to insert spaces into the data."
      ]
    },
    {
      "cell_type": "code",
      "metadata": {
        "id": "c9Y-17pgeBGO"
      },
      "source": [
        "tokens = [[token.text for token in nlp(sentence)] for sentence in documents[:100]]\n",
        "tokens"
      ],
      "execution_count": null,
      "outputs": []
    },
    {
      "cell_type": "markdown",
      "metadata": {
        "id": "fE843oneUKXq"
      },
      "source": [
        "for each sentence in document:\n",
        "  for each token in nlp(sentence):\n",
        "    take token text"
      ]
    },
    {
      "cell_type": "markdown",
      "metadata": {
        "id": "bVZfIGTmUEG9"
      },
      "source": [
        ""
      ]
    },
    {
      "cell_type": "markdown",
      "metadata": {
        "id": "7QLgP-NIhS2e"
      },
      "source": [
        "### Exercise\n",
        "\n",
        "What's the longest and shortest sentence?"
      ]
    },
    {
      "cell_type": "code",
      "metadata": {
        "id": "GkNLqu8IhYyk"
      },
      "source": [
        "import numpy as np\n",
        "\n",
        "dict_len_sent = {len(sentence) : ' '.join(sentence) for sentence in tokens}\n",
        "\n",
        "longest = np.max(list(dict_len_sent.keys()))\n",
        "shortest = np.min(list(dict_len_sent.keys()))\n",
        "\n",
        "print(longest, \" : \", dict_len_sent.get(longest))\n",
        "print(shortest, \" : \", dict_len_sent.get(shortest))"
      ],
      "execution_count": null,
      "outputs": []
    },
    {
      "cell_type": "markdown",
      "metadata": {
        "id": "wzxc3lHCeBGR"
      },
      "source": [
        "### Exercise\n",
        "\n",
        "Collect counts over the tokens. What is the most frequent token?"
      ]
    },
    {
      "cell_type": "code",
      "metadata": {
        "id": "qgrlTtHMeBGR"
      },
      "source": [
        "from collections import Counter\n",
        "\n",
        "flat_tokens = [item for sentence in tokens for item in sentence]\n",
        "Counter(flat_tokens).most_common(10)"
      ],
      "execution_count": null,
      "outputs": []
    },
    {
      "cell_type": "markdown",
      "metadata": {
        "id": "K8Cs8_hUeBGT"
      },
      "source": [
        "## Lemmatization\n",
        "We want to get the dictionary form of each word, to reduce variation."
      ]
    },
    {
      "cell_type": "code",
      "metadata": {
        "id": "svCJEh59jGpu",
        "colab": {
          "base_uri": "https://localhost:8080/"
        },
        "outputId": "e805b354-2cd7-4cfc-d17e-81b6656b2255"
      },
      "source": [
        "print(documents[7])"
      ],
      "execution_count": null,
      "outputs": [
        {
          "output_type": "stream",
          "text": [
            "There is nothing surprising in this .\n"
          ],
          "name": "stdout"
        }
      ]
    },
    {
      "cell_type": "markdown",
      "metadata": {
        "id": "dyyeWPfUjnMY"
      },
      "source": [
        "How do you expect its lemmatize version to be?"
      ]
    },
    {
      "cell_type": "code",
      "metadata": {
        "id": "zAACWRqsjqrq",
        "colab": {
          "base_uri": "https://localhost:8080/"
        },
        "outputId": "918de296-0111-41f6-8b52-273c3cb7124a"
      },
      "source": [
        "# word.lemma_ to lemmatize a word\n",
        "list_lemma = [word.lemma_ for word in nlp(documents[7])]\n",
        "list_lemma"
      ],
      "execution_count": null,
      "outputs": [
        {
          "output_type": "execute_result",
          "data": {
            "text/plain": [
              "['there', 'be', 'nothing', 'surprising', 'in', 'this', '.']"
            ]
          },
          "metadata": {
            "tags": []
          },
          "execution_count": 76
        }
      ]
    },
    {
      "cell_type": "markdown",
      "metadata": {
        "id": "jqgV_7-Rju13"
      },
      "source": [
        "Now we run it for all the sentences"
      ]
    },
    {
      "cell_type": "code",
      "metadata": {
        "id": "E5LbFPvyeBGU"
      },
      "source": [
        "lemmas = [token.lemma_ for sentence in documents[:100] for token in nlp(sentence)]\n",
        "lemmas"
      ],
      "execution_count": null,
      "outputs": []
    },
    {
      "cell_type": "markdown",
      "metadata": {
        "id": "lowb27q2eBGY"
      },
      "source": [
        "### Exercise\n",
        "Right now, the lemmas of all pronouns are collapsed into `-PRON-`. Change the code to preserve the original word (as lower case)."
      ]
    },
    {
      "cell_type": "code",
      "metadata": {
        "id": "Gjr4-SRLeBGb"
      },
      "source": [
        "# your code here\n",
        "# dict_token_lemma = {lemmas[idx] : flat_tokens[idx] for idx in range(len(lemmas))}\n",
        "\n",
        "lemma_with_pron = [token.lemma_ if token.lemma_ != '-PRON-' else token.lower_ for sentence in documents[:100] for token in nlp(sentence)]\n",
        "lemma_with_pron[0:5]"
      ],
      "execution_count": null,
      "outputs": []
    },
    {
      "cell_type": "markdown",
      "metadata": {
        "id": "Q5zHP2CeeBeY"
      },
      "source": [
        "## Stemming\n",
        "A more aggressive way of removing variation is *stemming*. Let's have a look again to our example."
      ]
    },
    {
      "cell_type": "code",
      "metadata": {
        "id": "GNUQYQ4Hkdjm",
        "colab": {
          "base_uri": "https://localhost:8080/"
        },
        "outputId": "68d6df14-d19f-4efc-d293-c722975bbe1c"
      },
      "source": [
        "print(documents[7])"
      ],
      "execution_count": null,
      "outputs": [
        {
          "output_type": "stream",
          "text": [
            "There is nothing surprising in this .\n"
          ],
          "name": "stdout"
        }
      ]
    },
    {
      "cell_type": "markdown",
      "metadata": {
        "id": "xlqrg1UhkjRO"
      },
      "source": [
        "How do you expect the lemmatized version to be?"
      ]
    },
    {
      "cell_type": "code",
      "metadata": {
        "id": "n_oonqdPkmBs"
      },
      "source": [
        "from nltk import SnowballStemmer # most famous for stemming\n",
        "\n",
        "stemmer = SnowballStemmer('english')\n",
        "# stemmer.stem(word) to stem a word\n",
        "stem_sentence = [stemmer.stem(word) for word in documents[7]]\n",
        "stem_sentence"
      ],
      "execution_count": null,
      "outputs": []
    },
    {
      "cell_type": "markdown",
      "metadata": {
        "id": "LKvUTvzTlLO0"
      },
      "source": [
        "Now let's stem all our sentences"
      ]
    },
    {
      "cell_type": "code",
      "metadata": {
        "id": "pzbv0XWceBGg"
      },
      "source": [
        "stems = [[stemmer.stem(token) for token in sentence] for sentence in tokens]\n",
        "stems"
      ],
      "execution_count": null,
      "outputs": []
    },
    {
      "cell_type": "markdown",
      "metadata": {
        "id": "NpNiMDeieBGj"
      },
      "source": [
        "### Exercise\n",
        "\n",
        "Keep track of the most frequent word for each stem in `tokens`. Hint: use a nested `defaultdict`.\n",
        "\n",
        "- How many word forms does the stem `hand` have?\n",
        "- What is the most common word form for the stems `respect` and `whale`? What happened there?"
      ]
    },
    {
      "cell_type": "code",
      "metadata": {
        "id": "LFRswcMVeBGk",
        "colab": {
          "base_uri": "https://localhost:8080/"
        },
        "outputId": "049828b2-56f9-42ef-a70c-2154b2cade61"
      },
      "source": [
        "from collections import defaultdict\n",
        "\n",
        "# your code here\n",
        "flat_list = [item for stems in tokens for item in stems] # flat stems list\n",
        "\n",
        "wordfreq = [flat_list.count(p) for p in flat_list] # count the frequency for ech stem_token\n",
        "wordfreqdict = dict(list(zip(flat_list, wordfreq))) # make a dictionary stem_token : freq\n",
        "\n",
        "print('hand: ', wordfreqdict.get('hand'))\n",
        "print('respect: ', wordfreqdict.get('respect'))\n",
        "print('whale: ', wordfreqdict.get('whale'))"
      ],
      "execution_count": null,
      "outputs": [
        {
          "output_type": "stream",
          "text": [
            "hand:  3\n",
            "respect:  None\n",
            "whale:  2\n"
          ],
          "name": "stdout"
        }
      ]
    },
    {
      "cell_type": "markdown",
      "metadata": {
        "id": "w_TmfYaJeBed"
      },
      "source": [
        "## Parts of speech\n",
        "We can extract the part of speech for every word with the `pos_` atttribute.\n",
        "\n",
        "List of POS tags:\n",
        "https://universaldependencies.org/u/pos/\n"
      ]
    },
    {
      "cell_type": "code",
      "metadata": {
        "id": "eEqZEhCPngbq",
        "colab": {
          "base_uri": "https://localhost:8080/"
        },
        "outputId": "06e32954-a678-4d74-b50e-2a36c4a47c26"
      },
      "source": [
        "print(documents[7])"
      ],
      "execution_count": null,
      "outputs": [
        {
          "output_type": "stream",
          "text": [
            "There is nothing surprising in this .\n"
          ],
          "name": "stdout"
        }
      ]
    },
    {
      "cell_type": "markdown",
      "metadata": {
        "id": "h2seOmH1ngbw"
      },
      "source": [
        "Which are the POS tags of these words?"
      ]
    },
    {
      "cell_type": "code",
      "metadata": {
        "id": "n2Q4YHdJnovo",
        "colab": {
          "base_uri": "https://localhost:8080/"
        },
        "outputId": "43abd2b8-e479-481a-a806-794bbaec84b7"
      },
      "source": [
        "# your code here\n",
        "# use token.pos_\n",
        "\n",
        "pos_list = {token.text : token.pos_ for token in nlp(documents[7])}\n",
        "pos_list"
      ],
      "execution_count": null,
      "outputs": [
        {
          "output_type": "execute_result",
          "data": {
            "text/plain": [
              "{'.': 'PUNCT',\n",
              " 'There': 'PRON',\n",
              " 'in': 'ADP',\n",
              " 'is': 'AUX',\n",
              " 'nothing': 'PRON',\n",
              " 'surprising': 'ADJ',\n",
              " 'this': 'DET'}"
            ]
          },
          "metadata": {
            "tags": []
          },
          "execution_count": 111
        }
      ]
    },
    {
      "cell_type": "markdown",
      "metadata": {
        "id": "1OI4bzljn8G-"
      },
      "source": [
        "Let's apply this to all our documents"
      ]
    },
    {
      "cell_type": "code",
      "metadata": {
        "id": "o0ORETtSeBGp"
      },
      "source": [
        "pos = [[token.pos_ for token in nlp(sentence)] for sentence in documents[:100]]\n",
        "pos"
      ],
      "execution_count": null,
      "outputs": []
    },
    {
      "cell_type": "markdown",
      "metadata": {
        "id": "BLHFHdHZeBGs"
      },
      "source": [
        "### Exercise\n",
        "Print out the words in the first 10 sentences, but remove all words that are not nouns, verbs, adjectives, adverbs, or proper names."
      ]
    },
    {
      "cell_type": "code",
      "metadata": {
        "id": "wvRlkLjpeBGs"
      },
      "source": [
        "# your code here\n",
        "accectable_list = ['NOUN', 'VERB', 'ADJ', 'ADV', 'PROPN']\n",
        "\n",
        "pos_doc_list = {token : token.pos_ \n",
        "                for sentece in documents[:10] \n",
        "                  for token in nlp(sentece) \n",
        "                    if token.pos_ in accectable_list}\n",
        "pos_doc_list"
      ],
      "execution_count": null,
      "outputs": []
    },
    {
      "cell_type": "markdown",
      "metadata": {
        "id": "Jp37tCQTeBGw"
      },
      "source": [
        "## Named Entities\n",
        "For each noun phrase, we can infer the semantic type of it."
      ]
    },
    {
      "cell_type": "code",
      "metadata": {
        "id": "R3cKL1Q-oV1O",
        "colab": {
          "base_uri": "https://localhost:8080/"
        },
        "outputId": "0e50d3bf-eb58-4453-f285-6c7e0b473545"
      },
      "source": [
        "print(documents[7])"
      ],
      "execution_count": null,
      "outputs": [
        {
          "output_type": "stream",
          "text": [
            "There is nothing surprising in this .\n"
          ],
          "name": "stdout"
        }
      ]
    },
    {
      "cell_type": "markdown",
      "metadata": {
        "id": "PyCCJFHLoV1R"
      },
      "source": [
        "Which are the NEs in this sentence?"
      ]
    },
    {
      "cell_type": "code",
      "metadata": {
        "id": "64U3vcNjoV1S",
        "colab": {
          "base_uri": "https://localhost:8080/"
        },
        "outputId": "1bf89431-23b5-4953-c113-ccead94d434c"
      },
      "source": [
        "# your code here\n",
        "# nlp(document).ents\n",
        "nlp(documents[7]).ents"
      ],
      "execution_count": null,
      "outputs": [
        {
          "output_type": "execute_result",
          "data": {
            "text/plain": [
              "()"
            ]
          },
          "metadata": {
            "tags": []
          },
          "execution_count": 124
        }
      ]
    },
    {
      "cell_type": "code",
      "metadata": {
        "id": "a4Ab38-ZcHje",
        "colab": {
          "base_uri": "https://localhost:8080/",
          "height": 52
        },
        "outputId": "7d4ad366-2ffe-43c9-c91d-ae610831bfa8"
      },
      "source": [
        "from spacy import displacy\n",
        "displacy.render(nlp(documents[1]), style=\"ent\",jupyter =True)"
      ],
      "execution_count": null,
      "outputs": [
        {
          "output_type": "display_data",
          "data": {
            "text/html": [
              "<span class=\"tex2jax_ignore\"><div class=\"entities\" style=\"line-height: 2.5; direction: ltr\">Call me \n",
              "<mark class=\"entity\" style=\"background: #feca74; padding: 0.45em 0.6em; margin: 0 0.25em; line-height: 1; border-radius: 0.35em;\">\n",
              "    Ishmael\n",
              "    <span style=\"font-size: 0.8em; font-weight: bold; line-height: 1; border-radius: 0.35em; text-transform: uppercase; vertical-align: middle; margin-left: 0.5rem\">GPE</span>\n",
              "</mark>\n",
              " .</div></span>"
            ],
            "text/plain": [
              "<IPython.core.display.HTML object>"
            ]
          },
          "metadata": {
            "tags": []
          }
        }
      ]
    },
    {
      "cell_type": "markdown",
      "metadata": {
        "id": "a-r2szHroV1V"
      },
      "source": [
        "Let's apply this to all our documents"
      ]
    },
    {
      "cell_type": "code",
      "metadata": {
        "id": "ngiBbPd2eBGw"
      },
      "source": [
        "entities = [[(entity.text, entity.label_) \n",
        "             for entity in nlp(sentence).ents]\n",
        "            for sentence in documents[:50]]\n",
        "entities\n",
        "#nlp('John gave a book to Mary and Celia in Cardiff').ents"
      ],
      "execution_count": null,
      "outputs": []
    },
    {
      "cell_type": "markdown",
      "metadata": {
        "id": "taUk6p5ieBGz"
      },
      "source": [
        "### Exercise\n",
        "Who are the 5 most frequently named people in the first 500 sentence?"
      ]
    },
    {
      "cell_type": "code",
      "metadata": {
        "id": "JcTD1F9GeBGz",
        "colab": {
          "base_uri": "https://localhost:8080/"
        },
        "outputId": "ca463c0e-35ba-45b8-bc26-0aca3d49d779"
      },
      "source": [
        "# your code here\n",
        "entities = [[(entity.text, entity.label_) \n",
        "            for entity in nlp(sentence).ents] \n",
        "                for sentence in documents[:500]]\n",
        "\n",
        "people_list = [tuple_ent[0] \n",
        "                for list_item in entities \n",
        "                  for tuple_ent in list_item \n",
        "                    if tuple_ent[1] == 'PERSON']\n",
        "\n",
        "Counter(people_list).most_common(5)"
      ],
      "execution_count": 145,
      "outputs": [
        {
          "output_type": "execute_result",
          "data": {
            "text/plain": [
              "[('Queequeg', 17), ('don', 4), ('Nantucket', 2), ('Jonah', 2), ('Sal', 2)]"
            ]
          },
          "metadata": {
            "tags": []
          },
          "execution_count": 145
        }
      ]
    },
    {
      "cell_type": "markdown",
      "metadata": {
        "id": "Pttojt7YeBG5"
      },
      "source": [
        "### Exercise\n",
        "\n",
        "Use the text below to extract all entities. \n",
        "- Create tuples of `(lemma, NER type)`\n",
        "- Collect counts over the tuples\n",
        "- Look at the 10 most frequent tuples: how many of them are wrong? Why? Discuss with a neighbor.\n"
      ]
    },
    {
      "cell_type": "code",
      "metadata": {
        "id": "EO3cQZ-teBG6",
        "colab": {
          "base_uri": "https://localhost:8080/"
        },
        "outputId": "4348747f-9e32-41af-e45c-178ce4a7dc9e"
      },
      "source": [
        "text = \"\"\"\n",
        "Seville.\n",
        "Summers in the flamboyant Andalucían capital often nudge 40C, but spring is a delight, with the parks in bloom and the scent of orange blossom and jasmine in the air. And in Semana Santa (Holy Week, 14-20 April) the streets come alive with floats and processions. There is also the raucous annual Feria de Abril – a week-long fiesta of parades, flamenco and partying long into the night (4-11 May; expect higher hotel prices if you visit then).\n",
        "Seville is a romantic and energetic place, with sights aplenty, from the Unesco-listed cathedral – the largest Gothic cathedral in the world – to the beautiful Alcázar royal palace. But days here are best spent simply wandering the medieval streets of Santa Cruz and along the river to La Real Maestranza, Spain’s most spectacular bullring.\n",
        "Seville is the birthplace of tapas and perfect for a foodie break – join a tapas tour (try devoursevillefoodtours.com), or stop at the countless bars for a glass of sherry with local jamón ibérico (check out Bar Las Teresas in Santa Cruz or historic Casa Morales in Constitución). Great food markets include the Feria, the oldest, and the wooden, futuristic-looking Metropol Parasol.\n",
        "Nightlife is, unsurprisingly, late and lively. For flamenco, try one of the peñas, or flamenco social clubs – Torres Macarena on C/Torrijano, perhaps – with bars open across town until the early hours.\n",
        "Book it: In an atmospheric 18th-century house, the Hospes Casa del Rey de Baeza is a lovely place to stay in lively Santa Cruz. Doubles from £133 room only, hospes.com\n",
        "Trieste.\n",
        "By April, temperatures are on the rise in Trieste and in the late 20s by May. It is far less touristy than the likes of Florence or Rome, and spring sees the city’s lovely restaurants and bars populated almost exclusively by locals.\n",
        "A city with a proud coffee-drinking culture – Illy has its headquarters here – Trieste has many venerable cafes, including the dazzling mirror-walled Caffè degli Specchi on the Piazza Unità d’Italia – said to be Europe’s biggest seaside piazza – and the elegant Caffè San Marco, which has a good bookshop. James Joyce was a regular when he lived here between 1904-1915. You can learn all about him at the excellent museum, which also has a free, downloadable themed walk on its website (museojoycetrieste.it).\n",
        "Above Trieste is a vast limestone plateau known as the carso (or karst). Travel up to Villa Opicina on the edge of the region by bus.\n",
        "There are several trattorie, but for a real treat catch a cab to one of the 30 or so osmize – farm restaurants that sell their wines, cured meats, cheese, honey, fruit and veg; traditionally, they were open eight, 16 or 24 days per year (“osmi” means “eighth” in Slovene) but this now varies – check the app at osmize.com for details.\n",
        "Book it: Stay at the palatial, seafront Savoia Excelsior Palace, Jan Morris’s pad in her book Trieste and the Meaning of Nowhere. Doubles from £127 room only, starhotelscollezione.com\n",
        "Belgrade.\n",
        "As Belgrade shrugs off the snow, cafe tables start colonising the pavements again. Not that Serbia’s capital hibernates during the winter, but spring brings a freshness worth savouring before summer’s 40C heat kicks in.\n",
        "You feel it especially in Kalemegdan, the huge park and fortress hugging the confluence of the Danube and Sava rivers. Down below are wide riverside paths that offer superb cycling all the way to the attractive suburb of Zemun. Follow the Sava southwards to reach the river island of Ada Ciganlija – open all year round for walks and bike rides and usually warm enough in May for a swim.\n",
        "Although barely a month goes by without a festival, the pace picks up during spring. The Belgrade Dance Festival attracts dance companies from around the world. Classical guitar gets its own spotlight during the Guitar Art Festivalfrom 12-17 March, and from 26-28 April you can join the Orthodox Easter festivities. The landmark Mikser House in Savamala may have closed, but its Mikser festival still celebrates the best in Balkan design (24-26 May).\n",
        "With the long-awaited reopening of the National Museum of Serbia and the Museum of Contemporary Art, Belgrade has some cultural heavyweights to add to its dizzyingly varied restaurant scene. Head to the Dorćol district for cheap cocktails in Blaznavac’s psychedelic garden before a Balkan-Mediterranean dinner in cosy Tezga (Strahinjića Bana 82, on Facebook).\n",
        "Book it: Set in a handsome 1929 villa in Dorćol, Smokvica has six stylish rooms as well as a restaurant with a courtyard garden. Doubles from €70 room only, smokvica.rs\n",
        "Montpellier.\n",
        "Montpellier combines easy elegance and a vibrant cultural scene with a youthful buzz – its university, founded in the 13th century, counts radical satirist Rabelais among its alumni and some 60,000 students live here.\n",
        "The medieval centre is a maze made for wandering, with 16 leafy squares – in spring, all green and abuzz with alfresco cafe life. The vast, pedestrianised Place de la Comédie connects the old town with the striking new Antigone district, replete with modern, neoclassical-style buildings.\n",
        "For a fine-art foray, head to Musée Fabre – one of the biggest in France – or nearby photography museum Pavillon Populaire. Montpellier boasts the oldest botanical garden in France, too, dating from 1593 and particularly beautiful in April and May. Independent boutiques, opera houses, markets laden with Languedoc produce (look for oysters and asparagus) and great dining options add to the appeal. Le Petit Jardin is a bistro and lovely garden restaurant near the old cathedral.\n",
        "Beyond the city, discover vineyards like Mas de Daumas Gassac or hike up Pic St-Loup in the Cévennes foothills for views over the coast. The beach and charming seaside town of Palavas-les-Flots is just 10km away – a tram ride or easy cycle (rent bicycles from Ville et Vélo).\n",
        "Book it: Hotel Le Guilhem is a 16th-century building in the historic centre with cathedral views from its terrace (where breakfast is served, weather permitting). Doubles from £83 room only, leguilhem.com\n",
        "Berlin.\n",
        "After a long, cold winter, Berliners waste no time in celebrating the return of the sun, with beer gardens and flea markets reopening all over the city. Try picturesque Cafe Am Neuen Seefor lakeside pizza and beer in the Tiergarten, and hang out with the hipsters along the canal at Berlin’s coolest flohmarkt, surrounded by cherry blossom trees, a charming place to browse and have a couple of beers.\n",
        "For the best blossom, though, head to one of the trails along the line of the wall, the Mauerweg, near S-bahn Bornholmer Strasse, or Lichterfelde Süd, where the trees were gifted by the Japanese to celebrate German reunification in 1989.\n",
        "Berlin is set for two big anniversaries this year: it’s 100 years since the Bauhaus was founded and 30 years since the wall came down, so check out events including exhibitions and dances themed around the former (see visitberlin.de for more information) or get a feel for the creative chaos of post-wall Berlin at the multimedia Nineties Berlin exhibition.\n",
        "Boat tours along the river and canals are superb in spring but, generally, cycling is the best way to get around (many hotels and hostels have their own). And if urban life gets a bit much, do as the Berliners do and head out to one of the many city lakes, such as Schlachtensee or Wannsee, directly accessible by U and S-bahn.\n",
        "Book it: Boutique Hotel Oderberger in a trendy, central location has doubles from £113, hotel-oderberger.berlin, or try indoor caravanning at Hüttenpalast, doubles from £61 room only, huettenpalast.de\n",
        "\"\"\"\n",
        "\n",
        "# your code here\n",
        "sentences = text.splitlines()\n",
        "\n",
        "entities = [[(entity.lemma_, entity.label_) \n",
        "            for entity in nlp(sentence).ents]\n",
        "              for sentence in sentences]\n",
        "\n",
        "flat_entites = [entity_tuple \n",
        "                for entities_list in entities \n",
        "                  for entity_tuple in entities_list]\n",
        "\n",
        "Counter(flat_entites).most_common(10)"
      ],
      "execution_count": 165,
      "outputs": [
        {
          "output_type": "execute_result",
          "data": {
            "text/plain": [
              "[(('one', 'CARDINAL'), 5),\n",
              " (('Berlin', 'GPE'), 4),\n",
              " (('Seville', 'ORG'), 3),\n",
              " (('Santa Cruz', 'GPE'), 3),\n",
              " (('Belgrade', 'GPE'), 3),\n",
              " (('April', 'DATE'), 2),\n",
              " (('winter', 'DATE'), 2),\n",
              " (('Sava', 'ORG'), 2),\n",
              " (('spring', 'DATE'), 2),\n",
              " (('France', 'GPE'), 2)]"
            ]
          },
          "metadata": {
            "tags": []
          },
          "execution_count": 165
        }
      ]
    },
    {
      "cell_type": "markdown",
      "metadata": {
        "id": "a-ncwxjaeBG9"
      },
      "source": [
        "## Parsing\n",
        "For each word, we can extract the word it is grammatically related to, plus the type of the relation."
      ]
    },
    {
      "cell_type": "code",
      "metadata": {
        "id": "3olEtutmtOIp",
        "colab": {
          "base_uri": "https://localhost:8080/"
        },
        "outputId": "b71714ec-2fc2-4c36-f972-f22d14c39fda"
      },
      "source": [
        "print(documents[7])"
      ],
      "execution_count": 166,
      "outputs": [
        {
          "output_type": "stream",
          "text": [
            "There is nothing surprising in this .\n"
          ],
          "name": "stdout"
        }
      ]
    },
    {
      "cell_type": "markdown",
      "metadata": {
        "id": "9nm3JDS_tOIy"
      },
      "source": [
        "Which are the NEs in this sentence?"
      ]
    },
    {
      "cell_type": "code",
      "metadata": {
        "id": "eZ340liYtOIz"
      },
      "source": [
        "# your code here\n",
        "[(word.text, word.head.text, word.dep_) for word in nlp(documents[7])]"
      ],
      "execution_count": null,
      "outputs": []
    },
    {
      "cell_type": "markdown",
      "metadata": {
        "id": "7nkvamRktOI2"
      },
      "source": [
        "Let's apply this to all our documents"
      ]
    },
    {
      "cell_type": "code",
      "metadata": {
        "id": "4isd2ADBeBG9"
      },
      "source": [
        "words_dep = [[(c.text, c.head.text, c.dep_) for c in nlp(sentence)] \n",
        " for sentence in documents[:100]]"
      ],
      "execution_count": 173,
      "outputs": []
    },
    {
      "cell_type": "markdown",
      "metadata": {
        "id": "P7hCtAMkeBHA"
      },
      "source": [
        "Instead of doing this at a word-by-word basis, we can do it by larger chunks, the noun phrases."
      ]
    },
    {
      "cell_type": "code",
      "metadata": {
        "id": "bPUHfFnIeBHA"
      },
      "source": [
        "[[(c.text, c.root.head.text, c.root.dep_) for c in nlp(sentence).noun_chunks] \n",
        " for sentence in documents[:100]]"
      ],
      "execution_count": null,
      "outputs": []
    },
    {
      "cell_type": "markdown",
      "metadata": {
        "id": "JWTLQ1xzeBHC"
      },
      "source": [
        "## Exercise\n",
        "How does Melville describe nouns? Extract all the pairs related by `amod`."
      ]
    },
    {
      "cell_type": "code",
      "metadata": {
        "id": "79ZAP1ONeBHD",
        "colab": {
          "base_uri": "https://localhost:8080/"
        },
        "outputId": "aef3eab2-498d-4436-8114-27263b867f4d"
      },
      "source": [
        "# your code here\n",
        "[tuple_dep for tuples in words_dep for tuple_dep in tuples if tuple_dep[2] == 'amod']"
      ],
      "execution_count": 176,
      "outputs": [
        {
          "output_type": "execute_result",
          "data": {
            "text/plain": [
              "[('little', 'money', 'amod'),\n",
              " ('particular', 'nothing', 'amod'),\n",
              " ('watery', 'part', 'amod'),\n",
              " ('upper', 'hand', 'amod'),\n",
              " ('strong', 'principle', 'amod'),\n",
              " ('moral', 'principle', 'amod'),\n",
              " ('high', 'time', 'amod'),\n",
              " ('philosophical', 'flourish', 'amod'),\n",
              " ('surprising', 'nothing', 'amod'),\n",
              " ('same', 'feelings', 'amod'),\n",
              " ('insular', 'city', 'amod'),\n",
              " ('Indian', 'isles', 'amod'),\n",
              " ('coral', 'reefs', 'amod'),\n",
              " ('extreme', 'downtown', 'amod'),\n",
              " ('noble', 'mole', 'amod'),\n",
              " ('few', 'hours', 'amod'),\n",
              " ('dreamy', 'afternoon', 'amod'),\n",
              " ('silent', 'sentinels', 'amod'),\n",
              " ('mortal', 'men', 'amod'),\n",
              " ('high', 'aloft', 'amod'),\n",
              " ('better', 'peep', 'amod'),\n",
              " ('green', 'fields', 'amod'),\n",
              " ('more', 'crowds', 'amod'),\n",
              " ('extremest', 'limit', 'amod'),\n",
              " ('shady', 'lee', 'amod'),\n",
              " ('magnetic', 'virtue', 'amod'),\n",
              " ('high', 'land', 'amod'),\n",
              " ('absent', 'minded', 'amod'),\n",
              " ('deepest', 'reveries', 'amod'),\n",
              " ('great', 'desert', 'amod'),\n",
              " ('American', 'desert', 'amod'),\n",
              " ('metaphysical', 'professor', 'amod'),\n",
              " ('dreamiest', 'quietest', 'amod'),\n",
              " ('shadiest', 'quietest', 'amod'),\n",
              " ('enchanting', 'bit', 'amod'),\n",
              " ('romantic', 'landscape', 'amod'),\n",
              " ('chief', 'element', 'amod'),\n",
              " ('hollow', 'trunk', 'amod'),\n",
              " ('sleepy', 'smoke', 'amod'),\n",
              " ('distant', 'woodlands', 'amod'),\n",
              " ('overlapping', 'spurs', 'amod'),\n",
              " ('magic', 'stream', 'amod'),\n",
              " ('poor', 'poet', 'amod'),\n",
              " ('healthy', 'boy', 'amod'),\n",
              " ('healthy', 'soul', 'amod'),\n",
              " ('crazy', 'at', 'amod'),\n",
              " ('first', 'voyage', 'amod'),\n",
              " ('mystical', 'vibration', 'amod'),\n",
              " ('old', 'Persians', 'amod'),\n",
              " ('separate', 'deity', 'amod'),\n",
              " ('own', 'brother', 'amod'),\n",
              " ('mild', 'image', 'amod'),\n",
              " ('same', 'image', 'amod'),\n",
              " ('ungraspable', 'phantom', 'amod'),\n",
              " ('general', 'thing', 'amod'),\n",
              " ('such', 'offices', 'amod'),\n",
              " ('respectable', 'toils', 'amod'),\n",
              " ('considerable', 'glory', 'amod'),\n",
              " ('broiled', 'fowl', 'amod'),\n",
              " ('idolatrous', 'dotings', 'amod'),\n",
              " ('old', 'Egyptians', 'amod'),\n",
              " ('broiled', 'ibis', 'amod'),\n",
              " ('roasted', 'horse', 'amod'),\n",
              " ('huge', 'houses', 'amod'),\n",
              " ('simple', 'sailor', 'amod'),\n",
              " ('royal', 'head', 'amod'),\n",
              " ('old', 'family', 'amod'),\n",
              " ('established', 'family', 'amod'),\n",
              " ('tallest', 'boys', 'amod'),\n",
              " ('keen', 'one', 'amod'),\n",
              " ('strong', 'decoction', 'amod'),\n",
              " ('old', 'hunks', 'amod'),\n",
              " ('old', 'hunks', 'amod'),\n",
              " ('particular', 'instance', 'amod'),\n",
              " ('old', 'captains', 'amod'),\n",
              " ('same', 'way', 'amod'),\n",
              " ('physical', 'point', 'amod'),\n",
              " ('universal', 'thump', 'amod'),\n",
              " ('single', 'penny', 'amod'),\n",
              " ('uncomfortable', 'infliction', 'amod'),\n",
              " ('earthly', 'ills', 'amod'),\n",
              " ('monied', 'man', 'amod'),\n",
              " ('wholesome', 'exercise', 'amod'),\n",
              " ('pure', 'air', 'amod'),\n",
              " ('fore', 'castle', 'amod'),\n",
              " ('Pythagorean', 'maxim', 'amod'),\n",
              " ('most', 'part', 'amod'),\n",
              " ('second', 'hand', 'amod'),\n",
              " ('same', 'way', 'amod'),\n",
              " ('many', 'things', 'amod'),\n",
              " ('other', 'things', 'amod'),\n",
              " ('same', 'time', 'amod'),\n",
              " ('whaling', 'voyage', 'amod'),\n",
              " ('invisible', 'officer', 'amod'),\n",
              " ('constant', 'surveillance', 'amod'),\n",
              " ('unaccountable', 'way', 'amod'),\n",
              " ('whaling', 'voyage', 'amod'),\n",
              " ('grand', 'programme', 'amod'),\n",
              " ('long', 'time', 'amod'),\n",
              " ('brief', 'interlude', 'amod'),\n",
              " ('extensive', 'performances', 'amod'),\n",
              " ('BLOODY', 'BATTLE', 'amod'),\n",
              " ('shabby', 'part', 'amod'),\n",
              " ('whaling', 'voyage', 'amod'),\n",
              " ('magnificent', 'parts', 'amod'),\n",
              " ('high', 'tragedies', 'amod'),\n",
              " ('short', 'parts', 'amod'),\n",
              " ('genteel', 'comedies', 'amod'),\n",
              " ('jolly', 'parts', 'amod'),\n",
              " ('various', 'disguises', 'amod'),\n",
              " ('own', 'freewill', 'amod'),\n",
              " ('unbiased', 'freewill', 'amod'),\n",
              " ('overwhelming', 'idea', 'amod'),\n",
              " ('great', 'whale', 'amod'),\n",
              " ('portentous', 'monster', 'amod'),\n",
              " ('wild', 'seas', 'amod'),\n",
              " ('undeliverable', 'perils', 'amod'),\n",
              " ('attending', 'marvels', 'amod'),\n",
              " ('Patagonian', 'sights', 'amod'),\n",
              " ('other', 'men', 'amod'),\n",
              " ('such', 'things', 'amod'),\n",
              " ('everlasting', 'itch', 'amod'),\n",
              " ('remote', 'things', 'amod')]"
            ]
          },
          "metadata": {
            "tags": []
          },
          "execution_count": 176
        }
      ]
    },
    {
      "cell_type": "markdown",
      "metadata": {
        "id": "SuWCz9P0uLuX"
      },
      "source": [
        "How does he describe men?"
      ]
    },
    {
      "cell_type": "code",
      "metadata": {
        "id": "N0jYUqSDt_D5",
        "colab": {
          "base_uri": "https://localhost:8080/"
        },
        "outputId": "5b1c1533-dfc8-4c8d-cb9a-caca1ccba2b9"
      },
      "source": [
        "# your code here\n",
        "[tuple_dep for tuples in words_dep for tuple_dep in tuples if tuple_dep[2] == 'amod' and tuple_dep[1] == 'men']"
      ],
      "execution_count": 181,
      "outputs": [
        {
          "output_type": "execute_result",
          "data": {
            "text/plain": [
              "[('mortal', 'men', 'amod'), ('other', 'men', 'amod')]"
            ]
          },
          "metadata": {
            "tags": []
          },
          "execution_count": 181
        }
      ]
    },
    {
      "cell_type": "markdown",
      "metadata": {
        "id": "2jCBBx6QvNx7"
      },
      "source": [
        "# Try on the language that you prefer!\n",
        "\n",
        "https://spacy.io/models\n"
      ]
    }
  ]
}