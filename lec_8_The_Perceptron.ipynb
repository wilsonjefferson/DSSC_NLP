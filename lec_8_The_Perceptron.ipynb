{
  "nbformat": 4,
  "nbformat_minor": 0,
  "metadata": {
    "anaconda-cloud": {},
    "celltoolbar": "Slideshow",
    "kernelspec": {
      "display_name": "Python 3",
      "language": "python",
      "name": "python3"
    },
    "language_info": {
      "codemirror_mode": {
        "name": "ipython",
        "version": 3
      },
      "file_extension": ".py",
      "mimetype": "text/x-python",
      "name": "python",
      "nbconvert_exporter": "python",
      "pygments_lexer": "ipython3",
      "version": "3.8.3"
    },
    "nbpresent": {
      "slides": {
        "3e606cca-ddab-4b87-8295-f1cca7962a9d": {
          "id": "3e606cca-ddab-4b87-8295-f1cca7962a9d",
          "prev": "8921ba99-3b08-4f47-affd-b6f8fadaa8cd",
          "regions": {
            "cb08d0e1-9b2e-4940-95dc-76a8f9e75b03": {
              "attrs": {
                "height": 0.8,
                "width": 0.8,
                "x": 0.1,
                "y": 0.1
              },
              "content": {
                "cell": "67ca55d4-28b9-410e-9921-08d943aa3151",
                "part": "whole"
              },
              "id": "cb08d0e1-9b2e-4940-95dc-76a8f9e75b03"
            }
          }
        },
        "8921ba99-3b08-4f47-affd-b6f8fadaa8cd": {
          "id": "8921ba99-3b08-4f47-affd-b6f8fadaa8cd",
          "prev": null,
          "regions": {
            "48e51b5b-c219-4946-bad8-4b170ff7da1b": {
              "attrs": {
                "height": 0.8,
                "width": 0.8,
                "x": 0.1,
                "y": 0.1
              },
              "content": {
                "cell": "ad90604f-afeb-4baa-b940-c3a1f3de8891",
                "part": "whole"
              },
              "id": "48e51b5b-c219-4946-bad8-4b170ff7da1b"
            }
          }
        }
      },
      "themes": {}
    },
    "colab": {
      "name": "lec_8_The_Perceptron.ipynb",
      "provenance": [],
      "toc_visible": true
    }
  },
  "cells": [
    {
      "cell_type": "markdown",
      "metadata": {
        "nbpresent": {
          "id": "ad90604f-afeb-4baa-b940-c3a1f3de8891"
        },
        "id": "73Hc-kE_dGmU"
      },
      "source": [
        "# The Perceptron"
      ]
    },
    {
      "cell_type": "code",
      "metadata": {
        "id": "ZT-_mJ05dGmU"
      },
      "source": [
        "%matplotlib inline\n",
        "import numpy as np\n",
        "import matplotlib.pyplot as plt\n",
        "import seaborn as sbs\n",
        "import pandas as pd\n",
        "from sklearn.metrics import accuracy_score\n",
        "sbs.set_context('notebook')\n",
        "\n",
        "def sigmoid(x):\n",
        "    '''\n",
        "    ranges from  0 to 1\n",
        "    '''\n",
        "    return 1 / (1 + np.exp(-x))\n",
        "\n",
        "def relu(x):\n",
        "    '''\n",
        "    ranges from  0 to 1\n",
        "    '''\n",
        "    return np.where(x > 0, x, 0)"
      ],
      "execution_count": null,
      "outputs": []
    },
    {
      "cell_type": "code",
      "metadata": {
        "id": "ILDpSVU_dGmZ"
      },
      "source": [
        "class Perceptron:\n",
        "    def __init__(self, num_inputs):\n",
        "        self.w1 = np.random.random(num_inputs) # weight\n",
        "        self.b1 = 1 # bias\n",
        "    \n",
        "    def predict(self, X):\n",
        "        # compute activation for input layer\n",
        "        activation = np.dot(X, self.w1) + self.b1 # matrix multi + bias\n",
        "        # non-linear transform\n",
        "        fX = sigmoid(activation)\n",
        "        # check threshold: for sigmoid and relu, use 0.5, for tanh, use 0\n",
        "        y = np.where(fX >= 0.5, 1, -1)\n",
        "        return y\n",
        "    \n",
        "    def fit(self, train_data, train_labels, num_epochs=20):\n",
        "        models = []\n",
        "        print(\"N. epochs\",num_epochs)\n",
        "        for epoch in range(1, num_epochs+1):\n",
        "            print(\"Epoch:\",epoch)\n",
        "            for (X, y) in zip(train_data, train_labels): \n",
        "                # zip: iterator of tuples where the first item in each passed \n",
        "                # iterator is paired together, and then the second item in each\n",
        "                # passed iterator are paired together etc.\n",
        "                pred_label = self.predict(X)\n",
        "\n",
        "                if pred_label != y:\n",
        "                    print('update')\n",
        "                    self.w1 = self.w1 + (X * y)\n",
        "                    self.b1 = self.b1 + y\n",
        "\n",
        "            models.append((self.w1, self.b1))\n",
        "\n",
        "        return models"
      ],
      "execution_count": null,
      "outputs": []
    },
    {
      "cell_type": "code",
      "metadata": {
        "id": "DXYDIQnpdGmb",
        "colab": {
          "base_uri": "https://localhost:8080/"
        },
        "outputId": "f77c7992-af2d-4954-f4d5-150cb1110ef1"
      },
      "source": [
        "# AND perceptron\n",
        "perceptron = Perceptron(2)\n",
        "\n",
        "and_data = np.array([[1, 1], [1, 0], [0, 1], [0, 0]])\n",
        "and_labels = np.array([1, -1, -1, -1], dtype=np.int)\n",
        "\n",
        "iters = perceptron.fit(and_data, and_labels, num_epochs=10)\n",
        "and_predictions = perceptron.predict(and_data)\n",
        "\n",
        "print(and_predictions)\n",
        "\n",
        "print(\"Accuracy\",accuracy_score(and_labels, and_predictions))\n",
        "print()\n",
        "print(\"Iterations:\")\n",
        "print(iters)"
      ],
      "execution_count": null,
      "outputs": [
        {
          "output_type": "stream",
          "text": [
            "N. epochs 10\n",
            "Epoch: 1\n",
            "update\n",
            "update\n",
            "Epoch: 2\n",
            "update\n",
            "update\n",
            "Epoch: 3\n",
            "update\n",
            "update\n",
            "update\n",
            "Epoch: 4\n",
            "update\n",
            "update\n",
            "Epoch: 5\n",
            "update\n",
            "update\n",
            "Epoch: 6\n",
            "update\n",
            "update\n",
            "update\n",
            "Epoch: 7\n",
            "update\n",
            "update\n",
            "Epoch: 8\n",
            "update\n",
            "update\n",
            "Epoch: 9\n",
            "Epoch: 10\n",
            "[ 1 -1 -1 -1]\n",
            "Accuracy 1.0\n",
            "\n",
            "Iterations:\n",
            "[(array([-0.57082783, -0.66629221]), -1), (array([-0.57082783,  0.33370779]), -1), (array([-0.57082783,  0.33370779]), -2), (array([0.42917217, 0.33370779]), -2), (array([0.42917217, 1.33370779]), -2), (array([0.42917217, 1.33370779]), -3), (array([1.42917217, 1.33370779]), -3), (array([1.42917217, 2.33370779]), -3), (array([1.42917217, 2.33370779]), -3), (array([1.42917217, 2.33370779]), -3)]\n"
          ],
          "name": "stdout"
        }
      ]
    },
    {
      "cell_type": "markdown",
      "metadata": {
        "id": "s_gni7mTdGmg"
      },
      "source": [
        "## Exercise\n",
        "\n",
        "Create OR data and rerun the perceptron"
      ]
    },
    {
      "cell_type": "code",
      "metadata": {
        "id": "ruF3cALZdGmi",
        "colab": {
          "base_uri": "https://localhost:8080/"
        },
        "outputId": "46903676-b40b-4000-96e5-075900a2dcd9"
      },
      "source": [
        "# OR perceptron\n",
        "perceptron = Perceptron(2)\n",
        "\n",
        "or_data = np.array([[1, 1], [1, 0], [0, 1], [0, 0]])\n",
        "or_labels = np.array([1, 1, 1, -1], dtype=np.int)\n",
        "\n",
        "iters = perceptron.fit(or_data, or_labels, num_epochs=10)\n",
        "or_predictions = perceptron.predict(or_data)\n",
        "\n",
        "print(or_predictions)\n",
        "\n",
        "print(\"Accuracy\",accuracy_score(or_labels, or_predictions))\n",
        "print()\n",
        "print(\"Iterations:\")\n",
        "print(iters)"
      ],
      "execution_count": null,
      "outputs": [
        {
          "output_type": "stream",
          "text": [
            "N. epochs 10\n",
            "Epoch: 1\n",
            "update\n",
            "Epoch: 2\n",
            "update\n",
            "Epoch: 3\n",
            "update\n",
            "update\n",
            "Epoch: 4\n",
            "update\n",
            "update\n",
            "Epoch: 5\n",
            "Epoch: 6\n",
            "Epoch: 7\n",
            "Epoch: 8\n",
            "Epoch: 9\n",
            "Epoch: 10\n",
            "[ 1  1  1 -1]\n",
            "Accuracy 1.0\n",
            "\n",
            "Iterations:\n",
            "[(array([0.69122141, 0.49355351]), 0), (array([0.69122141, 0.49355351]), -1), (array([1.69122141, 0.49355351]), -1), (array([1.69122141, 1.49355351]), -1), (array([1.69122141, 1.49355351]), -1), (array([1.69122141, 1.49355351]), -1), (array([1.69122141, 1.49355351]), -1), (array([1.69122141, 1.49355351]), -1), (array([1.69122141, 1.49355351]), -1), (array([1.69122141, 1.49355351]), -1)]\n"
          ],
          "name": "stdout"
        }
      ]
    },
    {
      "cell_type": "markdown",
      "metadata": {
        "id": "PhRozQCedGmn"
      },
      "source": [
        "But what about the XOR?"
      ]
    },
    {
      "cell_type": "code",
      "metadata": {
        "id": "dWD_FJaZdGmn",
        "colab": {
          "base_uri": "https://localhost:8080/"
        },
        "outputId": "42f87b94-b2cd-4df0-fe38-de1b46f73000"
      },
      "source": [
        "# XOR perceptron\n",
        "perceptron = Perceptron(2)\n",
        " \n",
        "xor_data = np.array([[1, 1], [1, 0], [0, 1], [0, 0]])\n",
        "xor_labels = np.array([1, -1, -1, 1], dtype=np.int)\n",
        " \n",
        "iters = perceptron.fit(xor_data, xor_labels, num_epochs=10)\n",
        "xor_predictions = perceptron.predict(xor_data)\n",
        " \n",
        "print(xor_predictions)\n",
        " \n",
        "print(\"Accuracy\",accuracy_score(xor_labels, xor_predictions))\n",
        "print()\n",
        "print(\"Iterations:\")\n",
        "print(iters)"
      ],
      "execution_count": null,
      "outputs": [
        {
          "output_type": "stream",
          "text": [
            "N. epochs 10\n",
            "Epoch: 1\n",
            "update\n",
            "update\n",
            "update\n",
            "Epoch: 2\n",
            "update\n",
            "update\n",
            "update\n",
            "update\n",
            "Epoch: 3\n",
            "update\n",
            "update\n",
            "update\n",
            "update\n",
            "Epoch: 4\n",
            "update\n",
            "update\n",
            "update\n",
            "update\n",
            "Epoch: 5\n",
            "update\n",
            "update\n",
            "update\n",
            "update\n",
            "Epoch: 6\n",
            "update\n",
            "update\n",
            "update\n",
            "update\n",
            "Epoch: 7\n",
            "update\n",
            "update\n",
            "update\n",
            "update\n",
            "Epoch: 8\n",
            "update\n",
            "update\n",
            "update\n",
            "update\n",
            "Epoch: 9\n",
            "update\n",
            "update\n",
            "update\n",
            "update\n",
            "Epoch: 10\n",
            "update\n",
            "update\n",
            "update\n",
            "update\n",
            "[-1 -1 -1  1]\n",
            "Accuracy 0.75\n",
            "\n",
            "Iterations:\n",
            "[(array([-0.69977306, -0.21443823]), 0), (array([-0.69977306, -0.21443823]), 0), (array([-0.69977306, -0.21443823]), 0), (array([-0.69977306, -0.21443823]), 0), (array([-0.69977306, -0.21443823]), 0), (array([-0.69977306, -0.21443823]), 0), (array([-0.69977306, -0.21443823]), 0), (array([-0.69977306, -0.21443823]), 0), (array([-0.69977306, -0.21443823]), 0), (array([-0.69977306, -0.21443823]), 0)]\n"
          ],
          "name": "stdout"
        }
      ]
    },
    {
      "cell_type": "markdown",
      "metadata": {
        "id": "bAbIRP8AdGmp"
      },
      "source": [
        "Perceptrons are **linear classifiers**. I.e., they can only find a perfect fit to **linearly seperable data**\n",
        "\n",
        "If only first order features are used"
      ]
    },
    {
      "cell_type": "markdown",
      "metadata": {
        "nbpresent": {
          "id": "67ca55d4-28b9-410e-9921-08d943aa3151"
        },
        "id": "DGBLHfmjdGmq"
      },
      "source": [
        "# Multilayer perceptron to the rescue!\n",
        "- Data that is distributed non-linearly (e.g. XOR) cannot be learned by perceptron\n",
        "- At least not without tedious feature engineering\n",
        "\n",
        "**Stacking several perceptrons increases expressive power!**\n",
        "\n",
        "- learning intermediate/partial representations at intermediate layers\n",
        "\n",
        "**Let's see how it works in `keras`**\n"
      ]
    },
    {
      "cell_type": "markdown",
      "metadata": {
        "id": "S5KnKFU8LAtC"
      },
      "source": [
        "<img src=\"https://s3.amazonaws.com/keras.io/img/keras-logo-2018-large-1200.png\" width=\"20%\" />\n",
        "\n",
        "## Keras: Deep Learning library for Theano and TensorFlow"
      ]
    },
    {
      "cell_type": "markdown",
      "metadata": {
        "id": "D0F3172rLAtE"
      },
      "source": [
        ">Keras is a minimalist, highly modular neural networks library, written in Python and capable of running on top of either TensorFlow or Theano. \n",
        "\n",
        ">It was developed with a focus on enabling fast experimentation. Being able to go from idea to result with the least possible delay is key to doing good research.\n",
        "ref: https://keras.io/"
      ]
    },
    {
      "cell_type": "code",
      "metadata": {
        "id": "Hls6HsrFdGmr"
      },
      "source": [
        "def gaussian_data(num, epsilon=1):\n",
        "    '''\n",
        "    generates a data set from two overlapping Gaussian point clouds\n",
        "    '''\n",
        "    x1_p1 = np.random.normal(1 + epsilon, size=num//2)\n",
        "    x2_p1 = np.random.normal(1, size=num//2)\n",
        "\n",
        "    x1_p2 = np.random.normal(-(1 + epsilon), size=num//2)\n",
        "    x2_p2 = np.random.normal(-(1 + epsilon), size=num//2)\n",
        "\n",
        "    x1 = np.concatenate([x1_p1, x1_p2])\n",
        "    x2 = np.concatenate([x2_p1, x2_p2])\n",
        "\n",
        "    labels = np.zeros((num, 2))\n",
        "    labels[:num//2, 0] = 1\n",
        "    labels[num//2:, 1] = 1\n",
        "    return x1, x2, labels\n",
        "\n",
        "def XOR_sample(sample_size, ratio=0.5, x1_p1_mean=25, x1_p2_mean=50, x2_p1_mean=5, x2_p2_mean=2, epsilon = 0.1):\n",
        "    size1 = int(sample_size * ratio)\n",
        "    size2 = sample_size - size1\n",
        "    \n",
        "    x1 = np.random.normal(loc=x1_p1_mean, size=size1//2)\n",
        "    x1 = np.hstack((x1, np.random.normal(loc=-x1_p1_mean, size=size1//2)))   \n",
        "    x1 = np.hstack((x1, np.random.normal(loc=x1_p2_mean, size=size2//2)))\n",
        "    x1 = np.hstack((x1, np.random.normal(loc=-x1_p2_mean, size=size2//2)))\n",
        "    \n",
        "    x2 = np.random.normal(loc=x2_p1_mean, size=size1//2)\n",
        "    x2 = np.hstack((x2, np.random.normal(loc=-x2_p1_mean, size=size1//2)))\n",
        "    x2 = np.hstack((x2, np.random.normal(loc=x2_p2_mean, size=size2//2)))\n",
        "    x2 = np.hstack((x2, np.random.normal(loc=-x2_p2_mean, size=size2//2)))\n",
        "    \n",
        "    labels = np.zeros((sample_size, 2))\n",
        "    labels[:sample_size//2, 0] = 1\n",
        "    labels[sample_size//2:, 1] = 1\n",
        "\n",
        "    return x1, x2, labels\n"
      ],
      "execution_count": null,
      "outputs": []
    },
    {
      "cell_type": "code",
      "metadata": {
        "id": "eVQo3yvudGmt",
        "colab": {
          "base_uri": "https://localhost:8080/",
          "height": 285
        },
        "outputId": "e6a5cc2e-b3e6-460c-a46e-cb867fb25239"
      },
      "source": [
        "# let's get some data\n",
        "num_samples = 5000\n",
        "half = num_samples//2\n",
        "a,b,y = XOR_sample(num_samples)\n",
        "\n",
        "X = np.vstack((a,b)).T\n",
        "\n",
        "pd.DataFrame({'x1': a, 'x2': b}).plot.scatter(x='x1', y='x2', c=['red']*half + ['blue']*half);"
      ],
      "execution_count": null,
      "outputs": [
        {
          "output_type": "display_data",
          "data": {
            "image/png": "[encoded data removed]",
            "text/plain": [
              "<Figure size 432x288 with 1 Axes>"
            ]
          },
          "metadata": {
            "tags": [],
            "needs_background": "light"
          }
        }
      ]
    },
    {
      "cell_type": "code",
      "metadata": {
        "id": "wk_kF4cFdGmv"
      },
      "source": [
        "# how to implement Perceptron in Keras:\n",
        "from keras.models import Model\n",
        "from keras.layers import Input, Dense\n",
        "\n",
        "# intialize input: a sequence  of 2 integers\n",
        "main_input = Input(shape=(2,), name='main_input')\n",
        "\n",
        "# add the output layer\n",
        "output = Dense(2, activation='hard_sigmoid', name='output', kernel_initializer='glorot_uniform')(main_input)\n",
        "# take as input the main_input layer\n",
        "\n",
        "# f(X) = sigmoid(X*W + b)\n",
        "\n",
        "# the model is specified by connecting input and output\n",
        "perceptron_keras = Model(inputs=[main_input], outputs=[output])\n",
        "# we could consider multiple inputs/outputs as for example with images"
      ],
      "execution_count": null,
      "outputs": []
    },
    {
      "cell_type": "code",
      "metadata": {
        "id": "ZGAquco5dGmx",
        "colab": {
          "base_uri": "https://localhost:8080/"
        },
        "outputId": "f515cd87-9523-47ee-8e32-a52d6cead0f7"
      },
      "source": [
        "perceptron_keras.summary()"
      ],
      "execution_count": null,
      "outputs": [
        {
          "output_type": "stream",
          "text": [
            "Model: \"model\"\n",
            "_________________________________________________________________\n",
            "Layer (type)                 Output Shape              Param #   \n",
            "=================================================================\n",
            "main_input (InputLayer)      [(None, 2)]               0         \n",
            "_________________________________________________________________\n",
            "output (Dense)               (None, 2)                 6         \n",
            "=================================================================\n",
            "Total params: 6\n",
            "Trainable params: 6\n",
            "Non-trainable params: 0\n",
            "_________________________________________________________________\n"
          ],
          "name": "stdout"
        }
      ]
    },
    {
      "cell_type": "code",
      "metadata": {
        "id": "kM6fjB4PdGmz",
        "colab": {
          "base_uri": "https://localhost:8080/"
        },
        "outputId": "1d311ca4-d304-4e71-9f21-cb5fb3ad9ade"
      },
      "source": [
        "from sklearn.metrics import f1_score\n",
        "\n",
        "# to train the model...\n",
        "perceptron_keras.compile(loss='binary_crossentropy',\n",
        "              optimizer='sgd', # stocastic gradient descent\n",
        "              metrics=['accuracy'])\n",
        "\n",
        "history = perceptron_keras.fit(X, y,\n",
        "                    epochs=15,\n",
        "                    verbose=1,\n",
        "                    validation_split=0.2\n",
        "                )\n",
        "\n",
        "loss, accuracy = perceptron_keras.evaluate(X, y,\n",
        "                                           batch_size=20, \n",
        "                                           verbose=1)\n",
        "print('Test loss:', loss)\n",
        "print('Test accuracy:', accuracy)"
      ],
      "execution_count": null,
      "outputs": [
        {
          "output_type": "stream",
          "text": [
            "Epoch 1/15\n",
            "125/125 [==============================] - 1s 5ms/step - loss: 7.6798 - accuracy: 0.6242 - val_loss: 7.6246 - val_accuracy: 0.0000e+00\n",
            "Epoch 2/15\n",
            "125/125 [==============================] - 0s 1ms/step - loss: 7.6784 - accuracy: 0.6240 - val_loss: 7.6246 - val_accuracy: 0.0000e+00\n",
            "Epoch 3/15\n",
            "125/125 [==============================] - 0s 1ms/step - loss: 7.6806 - accuracy: 0.6189 - val_loss: 7.6246 - val_accuracy: 0.0000e+00\n",
            "Epoch 4/15\n",
            "125/125 [==============================] - 0s 1ms/step - loss: 7.6807 - accuracy: 0.6170 - val_loss: 7.6246 - val_accuracy: 0.0000e+00\n",
            "Epoch 5/15\n",
            "125/125 [==============================] - 0s 2ms/step - loss: 7.6798 - accuracy: 0.6237 - val_loss: 7.6246 - val_accuracy: 0.0000e+00\n",
            "Epoch 6/15\n",
            "125/125 [==============================] - 0s 2ms/step - loss: 7.6808 - accuracy: 0.6262 - val_loss: 7.6246 - val_accuracy: 0.0000e+00\n",
            "Epoch 7/15\n",
            "125/125 [==============================] - 0s 1ms/step - loss: 7.6797 - accuracy: 0.6236 - val_loss: 7.6246 - val_accuracy: 0.0000e+00\n",
            "Epoch 8/15\n",
            "125/125 [==============================] - 0s 1ms/step - loss: 7.6783 - accuracy: 0.6217 - val_loss: 7.6246 - val_accuracy: 0.0000e+00\n",
            "Epoch 9/15\n",
            "125/125 [==============================] - 0s 1ms/step - loss: 7.6798 - accuracy: 0.6180 - val_loss: 7.6246 - val_accuracy: 0.0000e+00\n",
            "Epoch 10/15\n",
            "125/125 [==============================] - 0s 1ms/step - loss: 7.6790 - accuracy: 0.6282 - val_loss: 7.6246 - val_accuracy: 0.0000e+00\n",
            "Epoch 11/15\n",
            "125/125 [==============================] - 0s 1ms/step - loss: 7.6809 - accuracy: 0.6145 - val_loss: 7.6246 - val_accuracy: 0.0000e+00\n",
            "Epoch 12/15\n",
            "125/125 [==============================] - 0s 2ms/step - loss: 7.6795 - accuracy: 0.6198 - val_loss: 7.6246 - val_accuracy: 0.0000e+00\n",
            "Epoch 13/15\n",
            "125/125 [==============================] - 0s 1ms/step - loss: 7.6791 - accuracy: 0.6361 - val_loss: 7.6246 - val_accuracy: 0.0000e+00\n",
            "Epoch 14/15\n",
            "125/125 [==============================] - 0s 2ms/step - loss: 7.6804 - accuracy: 0.6095 - val_loss: 7.6246 - val_accuracy: 0.0000e+00\n",
            "Epoch 15/15\n",
            "125/125 [==============================] - 0s 1ms/step - loss: 7.6794 - accuracy: 0.6284 - val_loss: 7.6246 - val_accuracy: 0.0000e+00\n",
            "250/250 [==============================] - 0s 1ms/step - loss: 7.6685 - accuracy: 0.5000\n",
            "Test loss: 7.668547630310059\n",
            "Test accuracy: 0.5\n"
          ],
          "name": "stdout"
        }
      ]
    },
    {
      "cell_type": "code",
      "metadata": {
        "id": "jyvAGARxdGm2",
        "colab": {
          "base_uri": "https://localhost:8080/",
          "height": 287
        },
        "outputId": "ff01c222-e7ed-46d5-e61b-16bab060c4e1"
      },
      "source": [
        "pd.DataFrame(history.history).plot.line()"
      ],
      "execution_count": null,
      "outputs": [
        {
          "output_type": "execute_result",
          "data": {
            "text/plain": [
              "<matplotlib.axes._subplots.AxesSubplot at 0x7f174404b310>"
            ]
          },
          "metadata": {
            "tags": []
          },
          "execution_count": 11
        },
        {
          "output_type": "display_data",
          "data": {
            "image/png": "[encoded data removed]",
            "text/plain": [
              "<Figure size 432x288 with 1 Axes>"
            ]
          },
          "metadata": {
            "tags": [],
            "needs_background": "light"
          }
        }
      ]
    },
    {
      "cell_type": "code",
      "metadata": {
        "colab": {
          "base_uri": "https://localhost:8080/"
        },
        "id": "YxjJwsVJxIbX",
        "outputId": "5a2dbdc0-452b-43e8-ef00-cdea3491670c"
      },
      "source": [
        "perceptron_keras.predict(X)"
      ],
      "execution_count": null,
      "outputs": [
        {
          "output_type": "execute_result",
          "data": {
            "text/plain": [
              "array([[0., 0.],\n",
              "       [0., 0.],\n",
              "       [0., 0.],\n",
              "       ...,\n",
              "       [1., 1.],\n",
              "       [1., 1.],\n",
              "       [1., 1.]], dtype=float32)"
            ]
          },
          "metadata": {
            "tags": []
          },
          "execution_count": 12
        }
      ]
    },
    {
      "cell_type": "code",
      "metadata": {
        "id": "qA2CpwwDdGm4",
        "colab": {
          "base_uri": "https://localhost:8080/"
        },
        "outputId": "ecb6121c-ed54-4eb3-ef1b-a4eb73681a82"
      },
      "source": [
        "predictions = perceptron_keras.predict(X).argmax(axis=1)\n",
        "accuracy_score(y.argmax(axis=1), predictions)"
      ],
      "execution_count": null,
      "outputs": [
        {
          "output_type": "execute_result",
          "data": {
            "text/plain": [
              "0.5"
            ]
          },
          "metadata": {
            "tags": []
          },
          "execution_count": 13
        }
      ]
    },
    {
      "cell_type": "code",
      "metadata": {
        "id": "7tLLusKmdGm6",
        "colab": {
          "base_uri": "https://localhost:8080/",
          "height": 502
        },
        "outputId": "27aee84e-b219-41af-a38d-d10fe11f206e"
      },
      "source": [
        "def get_y(x, w1, w2, bias):\n",
        "    '''\n",
        "    compute y value for specific x, given the weights and bias\n",
        "    (helper function for decision boundary)\n",
        "    '''\n",
        "    return ((-(x * w1) - bias) / w2)\n",
        "    \n",
        "fig, ax = plt.subplots(figsize=(10,8))\n",
        "pd.DataFrame({'x1': a, 'x2': b}).plot.scatter(x='x1', y='x2', c=['red']*half + ['blue']*half, ax=ax);\n",
        "\n",
        "(w1, w2), bias = perceptron_keras.get_weights()\n",
        "xmin, xmax = X[:,0].min() - 1, X[:,0].max() + 1\n",
        "ymin, ymax = X[:,1].min() - 1, X[:,1].max() + 1\n",
        "\n",
        "ax.plot([xmin, xmax], [get_y(xmin, w1, w2, bias)[1], get_y(xmax, w1, w2, bias)[1]], marker='o', color='green');\n"
      ],
      "execution_count": null,
      "outputs": [
        {
          "output_type": "display_data",
          "data": {
            "image/png": "[encoded data removed]",
            "text/plain": [
              "<Figure size 720x576 with 1 Axes>"
            ]
          },
          "metadata": {
            "tags": [],
            "needs_background": "light"
          }
        }
      ]
    },
    {
      "cell_type": "markdown",
      "metadata": {
        "id": "0EzG65qfdGm8"
      },
      "source": [
        "## MLP"
      ]
    },
    {
      "cell_type": "code",
      "metadata": {
        "id": "56FkOJ1tdGm8",
        "colab": {
          "base_uri": "https://localhost:8080/"
        },
        "outputId": "db5e69cf-7733-4cc8-a8bb-8b2d04a7b8d4"
      },
      "source": [
        "# input: a sequence  of 2 integers\n",
        "mlp_input = Input(shape=(2,), name='main_input')\n",
        "\n",
        "# add a hidden layer (16 layers)\n",
        "mlp_hidden = Dense(16, activation='relu', name='hidden', kernel_initializer='glorot_uniform')(mlp_input)\n",
        "\n",
        "# add the output layer\n",
        "mlp_output = Dense(2, activation='softmax', name='output', kernel_initializer='glorot_uniform')(mlp_hidden)\n",
        "\n",
        "# the model is specified by connecting input and output\n",
        "mlp = Model(inputs=[mlp_input], outputs=[mlp_output])\n",
        "\n",
        "mlp.summary()"
      ],
      "execution_count": null,
      "outputs": [
        {
          "output_type": "stream",
          "text": [
            "Model: \"model_1\"\n",
            "_________________________________________________________________\n",
            "Layer (type)                 Output Shape              Param #   \n",
            "=================================================================\n",
            "main_input (InputLayer)      [(None, 2)]               0         \n",
            "_________________________________________________________________\n",
            "hidden (Dense)               (None, 16)                48        \n",
            "_________________________________________________________________\n",
            "output (Dense)               (None, 2)                 34        \n",
            "=================================================================\n",
            "Total params: 82\n",
            "Trainable params: 82\n",
            "Non-trainable params: 0\n",
            "_________________________________________________________________\n"
          ],
          "name": "stdout"
        }
      ]
    },
    {
      "cell_type": "code",
      "metadata": {
        "scrolled": true,
        "id": "lFkGmrfDdGm-",
        "colab": {
          "base_uri": "https://localhost:8080/"
        },
        "outputId": "1787d188-9e1d-47e7-e518-a5ae1f0bd4c4"
      },
      "source": [
        "from keras import optimizers\n",
        "\n",
        "optimizer = optimizers.Adam(lr=0.001)\n",
        "\n",
        "mlp.compile(loss='binary_crossentropy',\n",
        "              optimizer=optimizer,\n",
        "              metrics=['accuracy']\n",
        "           )\n",
        "\n",
        "mlp_history = mlp.fit(X, y,\n",
        "                    epochs=50,\n",
        "                    verbose=1,\n",
        "                    validation_split=0.2)"
      ],
      "execution_count": null,
      "outputs": [
        {
          "output_type": "stream",
          "text": [
            "Epoch 1/50\n",
            "125/125 [==============================] - 1s 3ms/step - loss: 1.1860 - accuracy: 0.6175 - val_loss: 1.5062 - val_accuracy: 0.0000e+00\n",
            "Epoch 2/50\n",
            "125/125 [==============================] - 0s 2ms/step - loss: 0.4382 - accuracy: 0.8641 - val_loss: 0.7601 - val_accuracy: 0.5080\n",
            "Epoch 3/50\n",
            "125/125 [==============================] - 0s 2ms/step - loss: 0.2556 - accuracy: 0.9757 - val_loss: 0.6237 - val_accuracy: 0.6910\n",
            "Epoch 4/50\n",
            "125/125 [==============================] - 0s 2ms/step - loss: 0.1665 - accuracy: 0.9897 - val_loss: 0.3332 - val_accuracy: 0.9650\n",
            "Epoch 5/50\n",
            "125/125 [==============================] - 0s 2ms/step - loss: 0.1142 - accuracy: 0.9968 - val_loss: 0.2555 - val_accuracy: 0.9770\n",
            "Epoch 6/50\n",
            "125/125 [==============================] - 0s 1ms/step - loss: 0.0862 - accuracy: 0.9962 - val_loss: 0.2351 - val_accuracy: 0.9750\n",
            "Epoch 7/50\n",
            "125/125 [==============================] - 0s 1ms/step - loss: 0.0661 - accuracy: 0.9990 - val_loss: 0.1406 - val_accuracy: 0.9940\n",
            "Epoch 8/50\n",
            "125/125 [==============================] - 0s 2ms/step - loss: 0.0536 - accuracy: 0.9990 - val_loss: 0.1124 - val_accuracy: 0.9940\n",
            "Epoch 9/50\n",
            "125/125 [==============================] - 0s 2ms/step - loss: 0.0433 - accuracy: 0.9989 - val_loss: 0.0852 - val_accuracy: 0.9970\n",
            "Epoch 10/50\n",
            "125/125 [==============================] - 0s 2ms/step - loss: 0.0375 - accuracy: 0.9987 - val_loss: 0.0729 - val_accuracy: 0.9970\n",
            "Epoch 11/50\n",
            "125/125 [==============================] - 0s 2ms/step - loss: 0.0299 - accuracy: 0.9997 - val_loss: 0.0585 - val_accuracy: 0.9970\n",
            "Epoch 12/50\n",
            "125/125 [==============================] - 0s 2ms/step - loss: 0.0284 - accuracy: 0.9998 - val_loss: 0.0875 - val_accuracy: 0.9910\n",
            "Epoch 13/50\n",
            "125/125 [==============================] - 0s 2ms/step - loss: 0.0231 - accuracy: 0.9990 - val_loss: 0.0486 - val_accuracy: 0.9970\n",
            "Epoch 14/50\n",
            "125/125 [==============================] - 0s 2ms/step - loss: 0.0218 - accuracy: 0.9985 - val_loss: 0.0483 - val_accuracy: 0.9970\n",
            "Epoch 15/50\n",
            "125/125 [==============================] - 0s 2ms/step - loss: 0.0191 - accuracy: 0.9989 - val_loss: 0.0431 - val_accuracy: 0.9970\n",
            "Epoch 16/50\n",
            "125/125 [==============================] - 0s 2ms/step - loss: 0.0180 - accuracy: 0.9994 - val_loss: 0.0323 - val_accuracy: 0.9970\n",
            "Epoch 17/50\n",
            "125/125 [==============================] - 0s 1ms/step - loss: 0.0163 - accuracy: 0.9997 - val_loss: 0.0351 - val_accuracy: 0.9970\n",
            "Epoch 18/50\n",
            "125/125 [==============================] - 0s 2ms/step - loss: 0.0137 - accuracy: 0.9996 - val_loss: 0.0235 - val_accuracy: 0.9980\n",
            "Epoch 19/50\n",
            "125/125 [==============================] - 0s 2ms/step - loss: 0.0133 - accuracy: 0.9990 - val_loss: 0.0232 - val_accuracy: 0.9980\n",
            "Epoch 20/50\n",
            "125/125 [==============================] - 0s 2ms/step - loss: 0.0119 - accuracy: 0.9987 - val_loss: 0.0291 - val_accuracy: 0.9970\n",
            "Epoch 21/50\n",
            "125/125 [==============================] - 0s 1ms/step - loss: 0.0100 - accuracy: 0.9996 - val_loss: 0.0175 - val_accuracy: 0.9980\n",
            "Epoch 22/50\n",
            "125/125 [==============================] - 0s 2ms/step - loss: 0.0095 - accuracy: 0.9995 - val_loss: 0.0239 - val_accuracy: 0.9970\n",
            "Epoch 23/50\n",
            "125/125 [==============================] - 0s 2ms/step - loss: 0.0101 - accuracy: 0.9986 - val_loss: 0.0154 - val_accuracy: 0.9980\n",
            "Epoch 24/50\n",
            "125/125 [==============================] - 0s 2ms/step - loss: 0.0100 - accuracy: 0.9989 - val_loss: 0.0202 - val_accuracy: 0.9970\n",
            "Epoch 25/50\n",
            "125/125 [==============================] - 0s 2ms/step - loss: 0.0086 - accuracy: 0.9991 - val_loss: 0.0202 - val_accuracy: 0.9970\n",
            "Epoch 26/50\n",
            "125/125 [==============================] - 0s 1ms/step - loss: 0.0070 - accuracy: 0.9997 - val_loss: 0.0103 - val_accuracy: 0.9990\n",
            "Epoch 27/50\n",
            "125/125 [==============================] - 0s 2ms/step - loss: 0.0072 - accuracy: 0.9994 - val_loss: 0.0134 - val_accuracy: 0.9980\n",
            "Epoch 28/50\n",
            "125/125 [==============================] - 0s 2ms/step - loss: 0.0070 - accuracy: 0.9993 - val_loss: 0.0091 - val_accuracy: 0.9990\n",
            "Epoch 29/50\n",
            "125/125 [==============================] - 0s 2ms/step - loss: 0.0064 - accuracy: 0.9985 - val_loss: 0.0132 - val_accuracy: 0.9980\n",
            "Epoch 30/50\n",
            "125/125 [==============================] - 0s 2ms/step - loss: 0.0067 - accuracy: 0.9991 - val_loss: 0.0166 - val_accuracy: 0.9970\n",
            "Epoch 31/50\n",
            "125/125 [==============================] - 0s 2ms/step - loss: 0.0057 - accuracy: 0.9996 - val_loss: 0.0094 - val_accuracy: 0.9980\n",
            "Epoch 32/50\n",
            "125/125 [==============================] - 0s 2ms/step - loss: 0.0061 - accuracy: 0.9992 - val_loss: 0.0088 - val_accuracy: 0.9980\n",
            "Epoch 33/50\n",
            "125/125 [==============================] - 0s 2ms/step - loss: 0.0068 - accuracy: 0.9992 - val_loss: 0.0116 - val_accuracy: 0.9980\n",
            "Epoch 34/50\n",
            "125/125 [==============================] - 0s 2ms/step - loss: 0.0047 - accuracy: 0.9996 - val_loss: 0.0164 - val_accuracy: 0.9970\n",
            "Epoch 35/50\n",
            "125/125 [==============================] - 0s 2ms/step - loss: 0.0051 - accuracy: 1.0000 - val_loss: 0.0069 - val_accuracy: 0.9990\n",
            "Epoch 36/50\n",
            "125/125 [==============================] - 0s 2ms/step - loss: 0.0044 - accuracy: 0.9998 - val_loss: 0.0063 - val_accuracy: 0.9990\n",
            "Epoch 37/50\n",
            "125/125 [==============================] - 0s 2ms/step - loss: 0.0043 - accuracy: 1.0000 - val_loss: 0.0139 - val_accuracy: 0.9980\n",
            "Epoch 38/50\n",
            "125/125 [==============================] - 0s 2ms/step - loss: 0.0043 - accuracy: 0.9998 - val_loss: 0.0132 - val_accuracy: 0.9980\n",
            "Epoch 39/50\n",
            "125/125 [==============================] - 0s 2ms/step - loss: 0.0038 - accuracy: 0.9997 - val_loss: 0.0076 - val_accuracy: 0.9990\n",
            "Epoch 40/50\n",
            "125/125 [==============================] - 0s 2ms/step - loss: 0.0034 - accuracy: 0.9999 - val_loss: 0.0113 - val_accuracy: 0.9980\n",
            "Epoch 41/50\n",
            "125/125 [==============================] - 0s 2ms/step - loss: 0.0037 - accuracy: 0.9998 - val_loss: 0.0104 - val_accuracy: 0.9980\n",
            "Epoch 42/50\n",
            "125/125 [==============================] - 0s 2ms/step - loss: 0.0037 - accuracy: 1.0000 - val_loss: 0.0065 - val_accuracy: 0.9990\n",
            "Epoch 43/50\n",
            "125/125 [==============================] - 0s 2ms/step - loss: 0.0030 - accuracy: 1.0000 - val_loss: 0.0071 - val_accuracy: 0.9990\n",
            "Epoch 44/50\n",
            "125/125 [==============================] - 0s 2ms/step - loss: 0.0030 - accuracy: 0.9996 - val_loss: 0.0100 - val_accuracy: 0.9980\n",
            "Epoch 45/50\n",
            "125/125 [==============================] - 0s 2ms/step - loss: 0.0028 - accuracy: 1.0000 - val_loss: 0.0071 - val_accuracy: 0.9990\n",
            "Epoch 46/50\n",
            "125/125 [==============================] - 0s 2ms/step - loss: 0.0027 - accuracy: 0.9999 - val_loss: 0.0060 - val_accuracy: 0.9990\n",
            "Epoch 47/50\n",
            "125/125 [==============================] - 0s 2ms/step - loss: 0.0025 - accuracy: 0.9997 - val_loss: 0.0035 - val_accuracy: 0.9990\n",
            "Epoch 48/50\n",
            "125/125 [==============================] - 0s 2ms/step - loss: 0.0031 - accuracy: 0.9994 - val_loss: 0.0079 - val_accuracy: 0.9980\n",
            "Epoch 49/50\n",
            "125/125 [==============================] - 0s 2ms/step - loss: 0.0025 - accuracy: 1.0000 - val_loss: 0.0040 - val_accuracy: 0.9990\n",
            "Epoch 50/50\n",
            "125/125 [==============================] - 0s 2ms/step - loss: 0.0031 - accuracy: 0.9998 - val_loss: 0.0052 - val_accuracy: 0.9990\n"
          ],
          "name": "stdout"
        }
      ]
    },
    {
      "cell_type": "code",
      "metadata": {
        "id": "QmbTZBgkdGnA",
        "colab": {
          "base_uri": "https://localhost:8080/",
          "height": 1000
        },
        "outputId": "85fc027b-70ca-4305-ab99-92a71ba961ac"
      },
      "source": [
        "mlp_history = pd.DataFrame(mlp_history.history)\n",
        "mlp_history"
      ],
      "execution_count": null,
      "outputs": [
        {
          "output_type": "execute_result",
          "data": {
            "text/html": [
              "<div>\n",
              "<style scoped>\n",
              "    .dataframe tbody tr th:only-of-type {\n",
              "        vertical-align: middle;\n",
              "    }\n",
              "\n",
              "    .dataframe tbody tr th {\n",
              "        vertical-align: top;\n",
              "    }\n",
              "\n",
              "    .dataframe thead th {\n",
              "        text-align: right;\n",
              "    }\n",
              "</style>\n",
              "<table border=\"1\" class=\"dataframe\">\n",
              "  <thead>\n",
              "    <tr style=\"text-align: right;\">\n",
              "      <th></th>\n",
              "      <th>loss</th>\n",
              "      <th>accuracy</th>\n",
              "      <th>val_loss</th>\n",
              "      <th>val_accuracy</th>\n",
              "    </tr>\n",
              "  </thead>\n",
              "  <tbody>\n",
              "    <tr>\n",
              "      <th>0</th>\n",
              "      <td>0.830110</td>\n",
              "      <td>0.62800</td>\n",
              "      <td>1.506226</td>\n",
              "      <td>0.000</td>\n",
              "    </tr>\n",
              "    <tr>\n",
              "      <th>1</th>\n",
              "      <td>0.382631</td>\n",
              "      <td>0.91175</td>\n",
              "      <td>0.760116</td>\n",
              "      <td>0.508</td>\n",
              "    </tr>\n",
              "    <tr>\n",
              "      <th>2</th>\n",
              "      <td>0.229158</td>\n",
              "      <td>0.98150</td>\n",
              "      <td>0.623656</td>\n",
              "      <td>0.691</td>\n",
              "    </tr>\n",
              "    <tr>\n",
              "      <th>3</th>\n",
              "      <td>0.151619</td>\n",
              "      <td>0.99100</td>\n",
              "      <td>0.333221</td>\n",
              "      <td>0.965</td>\n",
              "    </tr>\n",
              "    <tr>\n",
              "      <th>4</th>\n",
              "      <td>0.107853</td>\n",
              "      <td>0.99600</td>\n",
              "      <td>0.255547</td>\n",
              "      <td>0.977</td>\n",
              "    </tr>\n",
              "    <tr>\n",
              "      <th>5</th>\n",
              "      <td>0.080527</td>\n",
              "      <td>0.99725</td>\n",
              "      <td>0.235125</td>\n",
              "      <td>0.975</td>\n",
              "    </tr>\n",
              "    <tr>\n",
              "      <th>6</th>\n",
              "      <td>0.062596</td>\n",
              "      <td>0.99825</td>\n",
              "      <td>0.140596</td>\n",
              "      <td>0.994</td>\n",
              "    </tr>\n",
              "    <tr>\n",
              "      <th>7</th>\n",
              "      <td>0.050771</td>\n",
              "      <td>0.99825</td>\n",
              "      <td>0.112361</td>\n",
              "      <td>0.994</td>\n",
              "    </tr>\n",
              "    <tr>\n",
              "      <th>8</th>\n",
              "      <td>0.041826</td>\n",
              "      <td>0.99850</td>\n",
              "      <td>0.085205</td>\n",
              "      <td>0.997</td>\n",
              "    </tr>\n",
              "    <tr>\n",
              "      <th>9</th>\n",
              "      <td>0.035187</td>\n",
              "      <td>0.99825</td>\n",
              "      <td>0.072944</td>\n",
              "      <td>0.997</td>\n",
              "    </tr>\n",
              "    <tr>\n",
              "      <th>10</th>\n",
              "      <td>0.030183</td>\n",
              "      <td>0.99900</td>\n",
              "      <td>0.058526</td>\n",
              "      <td>0.997</td>\n",
              "    </tr>\n",
              "    <tr>\n",
              "      <th>11</th>\n",
              "      <td>0.026090</td>\n",
              "      <td>0.99950</td>\n",
              "      <td>0.087483</td>\n",
              "      <td>0.991</td>\n",
              "    </tr>\n",
              "    <tr>\n",
              "      <th>12</th>\n",
              "      <td>0.023209</td>\n",
              "      <td>0.99875</td>\n",
              "      <td>0.048554</td>\n",
              "      <td>0.997</td>\n",
              "    </tr>\n",
              "    <tr>\n",
              "      <th>13</th>\n",
              "      <td>0.020617</td>\n",
              "      <td>0.99875</td>\n",
              "      <td>0.048320</td>\n",
              "      <td>0.997</td>\n",
              "    </tr>\n",
              "    <tr>\n",
              "      <th>14</th>\n",
              "      <td>0.018528</td>\n",
              "      <td>0.99925</td>\n",
              "      <td>0.043073</td>\n",
              "      <td>0.997</td>\n",
              "    </tr>\n",
              "    <tr>\n",
              "      <th>15</th>\n",
              "      <td>0.016705</td>\n",
              "      <td>0.99950</td>\n",
              "      <td>0.032261</td>\n",
              "      <td>0.997</td>\n",
              "    </tr>\n",
              "    <tr>\n",
              "      <th>16</th>\n",
              "      <td>0.015238</td>\n",
              "      <td>0.99925</td>\n",
              "      <td>0.035076</td>\n",
              "      <td>0.997</td>\n",
              "    </tr>\n",
              "    <tr>\n",
              "      <th>17</th>\n",
              "      <td>0.013911</td>\n",
              "      <td>0.99925</td>\n",
              "      <td>0.023460</td>\n",
              "      <td>0.998</td>\n",
              "    </tr>\n",
              "    <tr>\n",
              "      <th>18</th>\n",
              "      <td>0.012948</td>\n",
              "      <td>0.99900</td>\n",
              "      <td>0.023236</td>\n",
              "      <td>0.998</td>\n",
              "    </tr>\n",
              "    <tr>\n",
              "      <th>19</th>\n",
              "      <td>0.011847</td>\n",
              "      <td>0.99900</td>\n",
              "      <td>0.029108</td>\n",
              "      <td>0.997</td>\n",
              "    </tr>\n",
              "    <tr>\n",
              "      <th>20</th>\n",
              "      <td>0.010945</td>\n",
              "      <td>0.99950</td>\n",
              "      <td>0.017532</td>\n",
              "      <td>0.998</td>\n",
              "    </tr>\n",
              "    <tr>\n",
              "      <th>21</th>\n",
              "      <td>0.010244</td>\n",
              "      <td>0.99925</td>\n",
              "      <td>0.023862</td>\n",
              "      <td>0.997</td>\n",
              "    </tr>\n",
              "    <tr>\n",
              "      <th>22</th>\n",
              "      <td>0.009589</td>\n",
              "      <td>0.99925</td>\n",
              "      <td>0.015394</td>\n",
              "      <td>0.998</td>\n",
              "    </tr>\n",
              "    <tr>\n",
              "      <th>23</th>\n",
              "      <td>0.009098</td>\n",
              "      <td>0.99900</td>\n",
              "      <td>0.020150</td>\n",
              "      <td>0.997</td>\n",
              "    </tr>\n",
              "    <tr>\n",
              "      <th>24</th>\n",
              "      <td>0.008424</td>\n",
              "      <td>0.99950</td>\n",
              "      <td>0.020168</td>\n",
              "      <td>0.997</td>\n",
              "    </tr>\n",
              "    <tr>\n",
              "      <th>25</th>\n",
              "      <td>0.007859</td>\n",
              "      <td>0.99950</td>\n",
              "      <td>0.010314</td>\n",
              "      <td>0.999</td>\n",
              "    </tr>\n",
              "    <tr>\n",
              "      <th>26</th>\n",
              "      <td>0.007739</td>\n",
              "      <td>0.99925</td>\n",
              "      <td>0.013443</td>\n",
              "      <td>0.998</td>\n",
              "    </tr>\n",
              "    <tr>\n",
              "      <th>27</th>\n",
              "      <td>0.007117</td>\n",
              "      <td>0.99925</td>\n",
              "      <td>0.009101</td>\n",
              "      <td>0.999</td>\n",
              "    </tr>\n",
              "    <tr>\n",
              "      <th>28</th>\n",
              "      <td>0.006663</td>\n",
              "      <td>0.99925</td>\n",
              "      <td>0.013187</td>\n",
              "      <td>0.998</td>\n",
              "    </tr>\n",
              "    <tr>\n",
              "      <th>29</th>\n",
              "      <td>0.006317</td>\n",
              "      <td>0.99950</td>\n",
              "      <td>0.016561</td>\n",
              "      <td>0.997</td>\n",
              "    </tr>\n",
              "    <tr>\n",
              "      <th>30</th>\n",
              "      <td>0.006227</td>\n",
              "      <td>0.99925</td>\n",
              "      <td>0.009430</td>\n",
              "      <td>0.998</td>\n",
              "    </tr>\n",
              "    <tr>\n",
              "      <th>31</th>\n",
              "      <td>0.005804</td>\n",
              "      <td>0.99925</td>\n",
              "      <td>0.008791</td>\n",
              "      <td>0.998</td>\n",
              "    </tr>\n",
              "    <tr>\n",
              "      <th>32</th>\n",
              "      <td>0.005727</td>\n",
              "      <td>0.99950</td>\n",
              "      <td>0.011627</td>\n",
              "      <td>0.998</td>\n",
              "    </tr>\n",
              "    <tr>\n",
              "      <th>33</th>\n",
              "      <td>0.005080</td>\n",
              "      <td>0.99925</td>\n",
              "      <td>0.016441</td>\n",
              "      <td>0.997</td>\n",
              "    </tr>\n",
              "    <tr>\n",
              "      <th>34</th>\n",
              "      <td>0.004827</td>\n",
              "      <td>0.99975</td>\n",
              "      <td>0.006933</td>\n",
              "      <td>0.999</td>\n",
              "    </tr>\n",
              "    <tr>\n",
              "      <th>35</th>\n",
              "      <td>0.004622</td>\n",
              "      <td>0.99950</td>\n",
              "      <td>0.006310</td>\n",
              "      <td>0.999</td>\n",
              "    </tr>\n",
              "    <tr>\n",
              "      <th>36</th>\n",
              "      <td>0.004547</td>\n",
              "      <td>0.99975</td>\n",
              "      <td>0.013922</td>\n",
              "      <td>0.998</td>\n",
              "    </tr>\n",
              "    <tr>\n",
              "      <th>37</th>\n",
              "      <td>0.004380</td>\n",
              "      <td>0.99975</td>\n",
              "      <td>0.013164</td>\n",
              "      <td>0.998</td>\n",
              "    </tr>\n",
              "    <tr>\n",
              "      <th>38</th>\n",
              "      <td>0.003961</td>\n",
              "      <td>0.99975</td>\n",
              "      <td>0.007611</td>\n",
              "      <td>0.999</td>\n",
              "    </tr>\n",
              "    <tr>\n",
              "      <th>39</th>\n",
              "      <td>0.003931</td>\n",
              "      <td>0.99975</td>\n",
              "      <td>0.011315</td>\n",
              "      <td>0.998</td>\n",
              "    </tr>\n",
              "    <tr>\n",
              "      <th>40</th>\n",
              "      <td>0.003727</td>\n",
              "      <td>0.99975</td>\n",
              "      <td>0.010418</td>\n",
              "      <td>0.998</td>\n",
              "    </tr>\n",
              "    <tr>\n",
              "      <th>41</th>\n",
              "      <td>0.003613</td>\n",
              "      <td>0.99975</td>\n",
              "      <td>0.006498</td>\n",
              "      <td>0.999</td>\n",
              "    </tr>\n",
              "    <tr>\n",
              "      <th>42</th>\n",
              "      <td>0.003556</td>\n",
              "      <td>0.99975</td>\n",
              "      <td>0.007054</td>\n",
              "      <td>0.999</td>\n",
              "    </tr>\n",
              "    <tr>\n",
              "      <th>43</th>\n",
              "      <td>0.003067</td>\n",
              "      <td>0.99975</td>\n",
              "      <td>0.010002</td>\n",
              "      <td>0.998</td>\n",
              "    </tr>\n",
              "    <tr>\n",
              "      <th>44</th>\n",
              "      <td>0.002960</td>\n",
              "      <td>0.99975</td>\n",
              "      <td>0.007106</td>\n",
              "      <td>0.999</td>\n",
              "    </tr>\n",
              "    <tr>\n",
              "      <th>45</th>\n",
              "      <td>0.003062</td>\n",
              "      <td>0.99975</td>\n",
              "      <td>0.005954</td>\n",
              "      <td>0.999</td>\n",
              "    </tr>\n",
              "    <tr>\n",
              "      <th>46</th>\n",
              "      <td>0.002905</td>\n",
              "      <td>0.99950</td>\n",
              "      <td>0.003480</td>\n",
              "      <td>0.999</td>\n",
              "    </tr>\n",
              "    <tr>\n",
              "      <th>47</th>\n",
              "      <td>0.002670</td>\n",
              "      <td>0.99975</td>\n",
              "      <td>0.007895</td>\n",
              "      <td>0.998</td>\n",
              "    </tr>\n",
              "    <tr>\n",
              "      <th>48</th>\n",
              "      <td>0.002558</td>\n",
              "      <td>0.99975</td>\n",
              "      <td>0.003975</td>\n",
              "      <td>0.999</td>\n",
              "    </tr>\n",
              "    <tr>\n",
              "      <th>49</th>\n",
              "      <td>0.002651</td>\n",
              "      <td>0.99975</td>\n",
              "      <td>0.005187</td>\n",
              "      <td>0.999</td>\n",
              "    </tr>\n",
              "  </tbody>\n",
              "</table>\n",
              "</div>"
            ],
            "text/plain": [
              "        loss  accuracy  val_loss  val_accuracy\n",
              "0   0.830110   0.62800  1.506226         0.000\n",
              "1   0.382631   0.91175  0.760116         0.508\n",
              "2   0.229158   0.98150  0.623656         0.691\n",
              "3   0.151619   0.99100  0.333221         0.965\n",
              "4   0.107853   0.99600  0.255547         0.977\n",
              "5   0.080527   0.99725  0.235125         0.975\n",
              "6   0.062596   0.99825  0.140596         0.994\n",
              "7   0.050771   0.99825  0.112361         0.994\n",
              "8   0.041826   0.99850  0.085205         0.997\n",
              "9   0.035187   0.99825  0.072944         0.997\n",
              "10  0.030183   0.99900  0.058526         0.997\n",
              "11  0.026090   0.99950  0.087483         0.991\n",
              "12  0.023209   0.99875  0.048554         0.997\n",
              "13  0.020617   0.99875  0.048320         0.997\n",
              "14  0.018528   0.99925  0.043073         0.997\n",
              "15  0.016705   0.99950  0.032261         0.997\n",
              "16  0.015238   0.99925  0.035076         0.997\n",
              "17  0.013911   0.99925  0.023460         0.998\n",
              "18  0.012948   0.99900  0.023236         0.998\n",
              "19  0.011847   0.99900  0.029108         0.997\n",
              "20  0.010945   0.99950  0.017532         0.998\n",
              "21  0.010244   0.99925  0.023862         0.997\n",
              "22  0.009589   0.99925  0.015394         0.998\n",
              "23  0.009098   0.99900  0.020150         0.997\n",
              "24  0.008424   0.99950  0.020168         0.997\n",
              "25  0.007859   0.99950  0.010314         0.999\n",
              "26  0.007739   0.99925  0.013443         0.998\n",
              "27  0.007117   0.99925  0.009101         0.999\n",
              "28  0.006663   0.99925  0.013187         0.998\n",
              "29  0.006317   0.99950  0.016561         0.997\n",
              "30  0.006227   0.99925  0.009430         0.998\n",
              "31  0.005804   0.99925  0.008791         0.998\n",
              "32  0.005727   0.99950  0.011627         0.998\n",
              "33  0.005080   0.99925  0.016441         0.997\n",
              "34  0.004827   0.99975  0.006933         0.999\n",
              "35  0.004622   0.99950  0.006310         0.999\n",
              "36  0.004547   0.99975  0.013922         0.998\n",
              "37  0.004380   0.99975  0.013164         0.998\n",
              "38  0.003961   0.99975  0.007611         0.999\n",
              "39  0.003931   0.99975  0.011315         0.998\n",
              "40  0.003727   0.99975  0.010418         0.998\n",
              "41  0.003613   0.99975  0.006498         0.999\n",
              "42  0.003556   0.99975  0.007054         0.999\n",
              "43  0.003067   0.99975  0.010002         0.998\n",
              "44  0.002960   0.99975  0.007106         0.999\n",
              "45  0.003062   0.99975  0.005954         0.999\n",
              "46  0.002905   0.99950  0.003480         0.999\n",
              "47  0.002670   0.99975  0.007895         0.998\n",
              "48  0.002558   0.99975  0.003975         0.999\n",
              "49  0.002651   0.99975  0.005187         0.999"
            ]
          },
          "metadata": {
            "tags": []
          },
          "execution_count": 17
        }
      ]
    },
    {
      "cell_type": "code",
      "metadata": {
        "id": "ZXee_GBNgkCA",
        "colab": {
          "base_uri": "https://localhost:8080/",
          "height": 285
        },
        "outputId": "ac45e594-1762-4207-f1b2-0a218f81a81b"
      },
      "source": [
        "mlp_history['accuracy'.split()].plot()"
      ],
      "execution_count": null,
      "outputs": [
        {
          "output_type": "execute_result",
          "data": {
            "text/plain": [
              "<matplotlib.axes._subplots.AxesSubplot at 0x7f17448e2a10>"
            ]
          },
          "metadata": {
            "tags": []
          },
          "execution_count": 18
        },
        {
          "output_type": "display_data",
          "data": {
            "image/png": "[encoded data removed]",
            "text/plain": [
              "<Figure size 432x288 with 1 Axes>"
            ]
          },
          "metadata": {
            "tags": [],
            "needs_background": "light"
          }
        }
      ]
    },
    {
      "cell_type": "markdown",
      "metadata": {
        "id": "aZc1B5dLg1JE"
      },
      "source": [
        "## Exercise\n",
        "\n",
        "Take couple of minutes and try to play with the number of layers and the number of parameters in the layers."
      ]
    },
    {
      "cell_type": "markdown",
      "metadata": {
        "id": "GRQSCfdaLAtF"
      },
      "source": [
        "<a name=\"kaggle\"></a>\n",
        "# Kaggle Challenge Data"
      ]
    },
    {
      "cell_type": "markdown",
      "metadata": {
        "id": "bbeKfwkVLAtG"
      },
      "source": [
        ">The Otto Group is one of the world’s biggest e-commerce companies, A consistent analysis of the performance of products is crucial. However, due to diverse global infrastructure, many identical products get classified differently.\n",
        "For this competition, we have provided a dataset with 93 features for more than 200,000 products. The objective is to build a predictive model which is able to distinguish between our main product categories. \n",
        "Each row corresponds to a single product. There are a total of 93 numerical features, which represent counts of different events. All features have been obfuscated and will not be defined any further.\n",
        "\n",
        "https://www.kaggle.com/c/otto-group-product-classification-challenge/data"
      ]
    },
    {
      "cell_type": "markdown",
      "metadata": {
        "id": "ffeZ8QrxLAtK"
      },
      "source": [
        "## Data Preparation"
      ]
    },
    {
      "cell_type": "markdown",
      "metadata": {
        "id": "PdAVJQYmMKtt"
      },
      "source": [
        "### Utility functions\n",
        "\n",
        "Utility functions to load Kaggle Otto Group Challenge Data."
      ]
    },
    {
      "cell_type": "code",
      "metadata": {
        "id": "r0GV97-fMI4B"
      },
      "source": [
        "import pandas as pd\n",
        "import numpy as np\n",
        "from sklearn.preprocessing import StandardScaler\n",
        "from sklearn.preprocessing import LabelEncoder\n",
        "from keras.utils import np_utils\n",
        "\n",
        "\n",
        "def load_data(path, train=True):\n",
        "    \"\"\"Load data from a CSV File\n",
        "    \n",
        "    Parameters\n",
        "    ----------\n",
        "    path: str\n",
        "        The path to the CSV file\n",
        "        \n",
        "    train: bool (default True)\n",
        "        Decide whether or not data are *training data*.\n",
        "        If True, some random shuffling is applied.\n",
        "        \n",
        "    Return\n",
        "    ------\n",
        "    X: numpy.ndarray \n",
        "        The data as a multi dimensional array of floats\n",
        "    ids: numpy.ndarray\n",
        "        A vector of ids for each sample\n",
        "    \"\"\"\n",
        "    text = pd.read_csv(path, encoding = \"ISO-8859-2\")\n",
        "    df = pd.read_csv(path)\n",
        "    X = df.values.copy()\n",
        "    if train:\n",
        "        np.random.shuffle(X)  \n",
        "        X, labels = X[:, 1:-1].astype(np.float32), X[:, -1]\n",
        "        return X, labels\n",
        "    else:\n",
        "        X, ids = X[:, 1:].astype(np.float32), X[:, 0].astype(str)\n",
        "        return X, ids\n",
        "        \n",
        "        \n",
        "def preprocess_data(X, scaler=None):\n",
        "    \"\"\"Preprocess input data by standardise features \n",
        "    by removing the mean and scaling to unit variance\"\"\"\n",
        "    if not scaler:\n",
        "        scaler = StandardScaler()\n",
        "        scaler.fit(X)\n",
        "    X = scaler.transform(X)\n",
        "    return X, scaler\n",
        "\n",
        "\n",
        "def preprocess_labels(labels, encoder=None, categorical=True):\n",
        "    \"\"\"Encode labels with values among 0 and `n-classes-1`\"\"\"\n",
        "    if not encoder:\n",
        "        encoder = LabelEncoder()\n",
        "        encoder.fit(labels)\n",
        "    y = encoder.transform(labels).astype(np.int32)\n",
        "    if categorical:\n",
        "        y = np_utils.to_categorical(y)\n",
        "    return y, encoder"
      ],
      "execution_count": null,
      "outputs": []
    },
    {
      "cell_type": "markdown",
      "metadata": {
        "id": "vaGr3p-HmvNU"
      },
      "source": [
        "## Import data"
      ]
    },
    {
      "cell_type": "code",
      "metadata": {
        "id": "WcwhGx_rLAtU",
        "colab": {
          "base_uri": "https://localhost:8080/"
        },
        "outputId": "49b6a150-40d2-4b6f-cb5b-b3a78f78049e"
      },
      "source": [
        "url_train = 'https://raw.githubusercontent.com/leriomaggio/deep-learning-keras-tensorflow/master/data/kaggle_ottogroup/train.csv'\n",
        "url_test = 'https://raw.githubusercontent.com/leriomaggio/deep-learning-keras-tensorflow/master/data/kaggle_ottogroup/test.csv'\n",
        "X_train, labels = load_data(url_train, train=True)\n",
        "\n",
        "print(\"Training set data\")\n",
        "print(X_train)\n",
        "\n",
        "print(\"Training set labels\")\n",
        "print(labels)"
      ],
      "execution_count": null,
      "outputs": [
        {
          "output_type": "stream",
          "text": [
            "Training set data\n",
            "[[0. 0. 0. ... 0. 0. 0.]\n",
            " [0. 0. 6. ... 0. 0. 1.]\n",
            " [1. 0. 0. ... 0. 2. 0.]\n",
            " ...\n",
            " [0. 0. 0. ... 0. 0. 0.]\n",
            " [0. 0. 0. ... 0. 0. 0.]\n",
            " [0. 0. 0. ... 0. 0. 0.]]\n",
            "Training set labels\n",
            "['Class_8' 'Class_6' 'Class_9' ... 'Class_4' 'Class_8' 'Class_4']\n"
          ],
          "name": "stdout"
        }
      ]
    },
    {
      "cell_type": "markdown",
      "metadata": {
        "id": "MHG7PflKmzeL"
      },
      "source": [
        "## Preprocess data"
      ]
    },
    {
      "cell_type": "code",
      "metadata": {
        "id": "p4huHaAtLAta",
        "colab": {
          "base_uri": "https://localhost:8080/"
        },
        "outputId": "96ec4090-bfb7-4004-a849-cd58238b71e7"
      },
      "source": [
        "X_train, labels = load_data(url_train, train=True)\n",
        "X_train, scaler = preprocess_data(X_train)\n",
        "Y_train, encoder = preprocess_labels(labels)\n",
        "\n",
        "X_test, ids = load_data(url_test, train=False)\n",
        "X_test, _ = preprocess_data(X_test, scaler)\n",
        "\n",
        "nb_classes = Y_train.shape[1]\n",
        "print(nb_classes, 'classes')\n",
        "\n",
        "dims = X_train.shape[1]\n",
        "print(dims, 'dims')"
      ],
      "execution_count": null,
      "outputs": [
        {
          "output_type": "stream",
          "text": [
            "9 classes\n",
            "93 dims\n"
          ],
          "name": "stdout"
        }
      ]
    },
    {
      "cell_type": "code",
      "metadata": {
        "id": "dl6vFpY4LAtg",
        "colab": {
          "base_uri": "https://localhost:8080/"
        },
        "outputId": "960c002d-585b-4b71-ff98-0d7cde2cf48f"
      },
      "source": [
        "help(preprocess_data)\n",
        "help(preprocess_labels)"
      ],
      "execution_count": null,
      "outputs": [
        {
          "output_type": "stream",
          "text": [
            "Help on function preprocess_data in module __main__:\n",
            "\n",
            "preprocess_data(X, scaler=None)\n",
            "    Preprocess input data by standardise features \n",
            "    by removing the mean and scaling to unit variance\n",
            "\n",
            "Help on function preprocess_labels in module __main__:\n",
            "\n",
            "preprocess_labels(labels, encoder=None, categorical=True)\n",
            "    Encode labels with values among 0 and `n-classes-1`\n",
            "\n"
          ],
          "name": "stdout"
        }
      ]
    },
    {
      "cell_type": "code",
      "metadata": {
        "id": "DIQdg3xYLAtq",
        "colab": {
          "base_uri": "https://localhost:8080/"
        },
        "outputId": "411b884c-ec47-4eaa-ca3c-93d4e2fa64f3"
      },
      "source": [
        "np.unique(labels)"
      ],
      "execution_count": null,
      "outputs": [
        {
          "output_type": "execute_result",
          "data": {
            "text/plain": [
              "array(['Class_1', 'Class_2', 'Class_3', 'Class_4', 'Class_5', 'Class_6',\n",
              "       'Class_7', 'Class_8', 'Class_9'], dtype=object)"
            ]
          },
          "metadata": {
            "tags": []
          },
          "execution_count": 23
        }
      ]
    },
    {
      "cell_type": "code",
      "metadata": {
        "id": "Yr8D9bzfLAty",
        "colab": {
          "base_uri": "https://localhost:8080/"
        },
        "outputId": "629f3754-8193-48cd-d741-a30d615275bc"
      },
      "source": [
        "Y_train  # one-hot encoding"
      ],
      "execution_count": null,
      "outputs": [
        {
          "output_type": "execute_result",
          "data": {
            "text/plain": [
              "array([[0., 0., 0., ..., 0., 0., 0.],\n",
              "       [0., 1., 0., ..., 0., 0., 0.],\n",
              "       [0., 1., 0., ..., 0., 0., 0.],\n",
              "       ...,\n",
              "       [0., 0., 0., ..., 0., 0., 1.],\n",
              "       [0., 0., 0., ..., 0., 0., 0.],\n",
              "       [0., 0., 0., ..., 0., 0., 0.]], dtype=float32)"
            ]
          },
          "metadata": {
            "tags": []
          },
          "execution_count": 24
        }
      ]
    },
    {
      "cell_type": "markdown",
      "metadata": {
        "id": "pcLqsyXhLAt5"
      },
      "source": [
        "# Using Keras"
      ]
    },
    {
      "cell_type": "code",
      "metadata": {
        "id": "7yt1I627LAt6"
      },
      "source": [
        "from keras.models import Sequential\n",
        "from keras.layers import Dense, Activation"
      ],
      "execution_count": null,
      "outputs": []
    },
    {
      "cell_type": "markdown",
      "metadata": {
        "id": "2y0mXasYh6Gl"
      },
      "source": [
        "### Perceptron"
      ]
    },
    {
      "cell_type": "code",
      "metadata": {
        "id": "EsSNGNdPLAt_",
        "colab": {
          "base_uri": "https://localhost:8080/"
        },
        "outputId": "cb061c12-bf5c-4404-8540-d53df23150bd"
      },
      "source": [
        "dims = X_train.shape[1]\n",
        "print(dims, 'dims')\n",
        "print(\"Building model...\")\n",
        "\n",
        "nb_classes = Y_train.shape[1]\n",
        "print(nb_classes, 'classes')\n",
        "\n",
        "model = Sequential()\n",
        "model.add(Dense(nb_classes, input_shape=(dims,), activation='sigmoid')) # add layer\n",
        "model.add(Activation('softmax')) # add layer\n",
        "\n",
        "model.compile(optimizer='sgd', loss='categorical_crossentropy')\n",
        "model.fit(X_train, Y_train)"
      ],
      "execution_count": null,
      "outputs": [
        {
          "output_type": "stream",
          "text": [
            "93 dims\n",
            "Building model...\n",
            "9 classes\n",
            "1934/1934 [==============================] - 2s 1ms/step - loss: 2.0772\n"
          ],
          "name": "stdout"
        },
        {
          "output_type": "execute_result",
          "data": {
            "text/plain": [
              "<tensorflow.python.keras.callbacks.History at 0x7f1740ccc350>"
            ]
          },
          "metadata": {
            "tags": []
          },
          "execution_count": 26
        }
      ]
    },
    {
      "cell_type": "markdown",
      "metadata": {
        "id": "FJrsIfW_h22F"
      },
      "source": [
        "### Multi-layer Perceptron"
      ]
    },
    {
      "cell_type": "code",
      "metadata": {
        "id": "PfDN7z7Xh2jn",
        "colab": {
          "base_uri": "https://localhost:8080/"
        },
        "outputId": "d1f2e11c-d446-44bf-9700-16cae8f08391"
      },
      "source": [
        "model = Sequential()\n",
        "model.add(Dense(100, input_shape=(dims,)))\n",
        "model.add(Dense(nb_classes))\n",
        "model.add(Activation('softmax'))\n",
        "model.compile(optimizer='sgd', loss='categorical_crossentropy')\n",
        "model.summary()\n",
        "\n",
        "model.fit(X_train, Y_train, epochs=20, \n",
        "          batch_size=128, verbose=True)"
      ],
      "execution_count": null,
      "outputs": [
        {
          "output_type": "stream",
          "text": [
            "Model: \"sequential_1\"\n",
            "_________________________________________________________________\n",
            "Layer (type)                 Output Shape              Param #   \n",
            "=================================================================\n",
            "dense_1 (Dense)              (None, 100)               9400      \n",
            "_________________________________________________________________\n",
            "dense_2 (Dense)              (None, 9)                 909       \n",
            "_________________________________________________________________\n",
            "activation_1 (Activation)    (None, 9)                 0         \n",
            "=================================================================\n",
            "Total params: 10,309\n",
            "Trainable params: 10,309\n",
            "Non-trainable params: 0\n",
            "_________________________________________________________________\n",
            "Epoch 1/20\n",
            "484/484 [==============================] - 1s 1ms/step - loss: 1.5692\n",
            "Epoch 2/20\n",
            "484/484 [==============================] - 1s 1ms/step - loss: 0.8279\n",
            "Epoch 3/20\n",
            "484/484 [==============================] - 1s 1ms/step - loss: 0.7647\n",
            "Epoch 4/20\n",
            "484/484 [==============================] - 1s 1ms/step - loss: 0.7197\n",
            "Epoch 5/20\n",
            "484/484 [==============================] - 1s 1ms/step - loss: 0.7082\n",
            "Epoch 6/20\n",
            "484/484 [==============================] - 1s 1ms/step - loss: 0.6922\n",
            "Epoch 7/20\n",
            "484/484 [==============================] - 1s 1ms/step - loss: 0.6809\n",
            "Epoch 8/20\n",
            "484/484 [==============================] - 1s 1ms/step - loss: 0.6724\n",
            "Epoch 9/20\n",
            "484/484 [==============================] - 1s 1ms/step - loss: 0.6706\n",
            "Epoch 10/20\n",
            "484/484 [==============================] - 1s 1ms/step - loss: 0.6609\n",
            "Epoch 11/20\n",
            "484/484 [==============================] - 1s 1ms/step - loss: 0.6586\n",
            "Epoch 12/20\n",
            "484/484 [==============================] - 1s 1ms/step - loss: 0.6631\n",
            "Epoch 13/20\n",
            "484/484 [==============================] - 1s 1ms/step - loss: 0.6632\n",
            "Epoch 14/20\n",
            "484/484 [==============================] - 1s 1ms/step - loss: 0.6535\n",
            "Epoch 15/20\n",
            "484/484 [==============================] - 1s 1ms/step - loss: 0.6567\n",
            "Epoch 16/20\n",
            "484/484 [==============================] - 1s 1ms/step - loss: 0.6501\n",
            "Epoch 17/20\n",
            "484/484 [==============================] - 1s 1ms/step - loss: 0.6447\n",
            "Epoch 18/20\n",
            "484/484 [==============================] - 1s 1ms/step - loss: 0.6438\n",
            "Epoch 19/20\n",
            "484/484 [==============================] - 1s 1ms/step - loss: 0.6443\n",
            "Epoch 20/20\n",
            "484/484 [==============================] - 1s 1ms/step - loss: 0.6477\n"
          ],
          "name": "stdout"
        },
        {
          "output_type": "execute_result",
          "data": {
            "text/plain": [
              "<tensorflow.python.keras.callbacks.History at 0x7f1740cb2410>"
            ]
          },
          "metadata": {
            "tags": []
          },
          "execution_count": 27
        }
      ]
    },
    {
      "cell_type": "markdown",
      "metadata": {
        "id": "bSKkN1j8fyRi"
      },
      "source": [
        "# Exercise\n",
        "\n",
        "Try several configuration of the neural network considering also the use of the Dropout regularization."
      ]
    },
    {
      "cell_type": "markdown",
      "metadata": {
        "id": "HQyhcer4dGnC"
      },
      "source": [
        "# Further reading\n",
        "\n",
        "- http://u.cs.biu.ac.il/~yogo/nnlp.pdf (Chapters 1-4)\n",
        "- https://github.com/nyu-dl/NLP_DL_Lecture_Note/blob/master/lecture_note.pdf (Chapters 3, 4)\n",
        "- https://www.coursera.org/learn/machine-learning (Weeks 4, 5)\n",
        "- http://colah.github.io/posts/2014-03-NN-Manifolds-Topology/"
      ]
    }
  ]
}